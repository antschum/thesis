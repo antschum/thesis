{
 "cells": [
  {
   "cell_type": "code",
   "execution_count": 3,
   "id": "acoustic-cisco",
   "metadata": {},
   "outputs": [],
   "source": [
    "import scvelo as scv\n",
    "import scanpy as sc\n",
    "import numpy as np\n",
    "import pandas as pd\n",
    "import random \n",
    "import pickle\n",
    "import os\n",
    "import shutil\n",
    "import matplotlib.pyplot as plt\n",
    "from scipy import stats\n",
    "from sklearn.linear_model import LinearRegression, Lasso, Ridge \n",
    "from sklearn.model_selection import train_test_split, cross_validate, KFold\n",
    "from sklearn.linear_model import Lasso, LassoCV, Ridge, RidgeCV \n",
    "from sklearn.metrics import explained_variance_score, mean_absolute_error, r2_score, mean_squared_error, make_scorer\n"
   ]
  },
  {
   "cell_type": "code",
   "execution_count": 3,
   "id": "reserved-exhibition",
   "metadata": {},
   "outputs": [],
   "source": [
    "# this will play a sound once the cell has finished running\n",
    "from IPython.display import Audio\n",
    "sound_file = 'sound/badaboing.wav'\n",
    "\n",
    "notify=Audio(filename=sound_file, autoplay=True)"
   ]
  },
  {
   "cell_type": "code",
   "execution_count": 2,
   "id": "level-furniture",
   "metadata": {},
   "outputs": [],
   "source": [
    "# Load dataset with velocity values\n",
    "vdata = sc.read_h5ad(\"velocity_adata.h5ad\")"
   ]
  },
  {
   "cell_type": "code",
   "execution_count": 3,
   "id": "indirect-focus",
   "metadata": {},
   "outputs": [],
   "source": [
    "# Scale Ms and velocity layer with zero mean and unit variance \n",
    "    # sc.pp.scale adds most recent mean and std as variables to var\n",
    "\n",
    "sc.pp.scale(vdata, layer='Ms')\n",
    "sc.pp.scale(vdata, layer='velocity')"
   ]
  },
  {
   "cell_type": "code",
   "execution_count": 10,
   "id": "intelligent-basics",
   "metadata": {},
   "outputs": [],
   "source": [
    "# Velocity genes\n",
    "# No Ccl5 included..\n",
    "\n",
    "velocity_genes = vdata.var.index[vdata.var['velocity_genes'] == True].tolist()\n",
    "\n",
    "transcription8 = ['Klf2', 'Mcm3', 'Mcm5', 'Hmgb2', 'Cdk4', 'Hif1a', 'Mcm6', 'Tox']\n",
    "\n"
   ]
  },
  {
   "cell_type": "code",
   "execution_count": 40,
   "id": "pleased-helen",
   "metadata": {},
   "outputs": [
    {
     "data": {
      "text/plain": [
       "305"
      ]
     },
     "execution_count": 40,
     "metadata": {},
     "output_type": "execute_result"
    }
   ],
   "source": [
    "velocity_genes.tolist().index('Mylip')\n"
   ]
  },
  {
   "cell_type": "code",
   "execution_count": 47,
   "id": "religious-greene",
   "metadata": {},
   "outputs": [],
   "source": [
    "predictors = ['Klf2', 'Mcm3', 'Mcm5', 'Hmgb2', 'Cdk4', 'Hif1a', 'Mcm6', 'Tox']\n",
    "X = vdata[:, predictors].layers['Ms']"
   ]
  },
  {
   "cell_type": "code",
   "execution_count": 54,
   "id": "structural-hindu",
   "metadata": {},
   "outputs": [
    {
     "data": {
      "text/plain": [
       "128"
      ]
     },
     "execution_count": 54,
     "metadata": {},
     "output_type": "execute_result"
    }
   ],
   "source": [
    "sys.getsizeof(vdata[:, predictors].layers['Ms'])"
   ]
  },
  {
   "cell_type": "code",
   "execution_count": 55,
   "id": "sunset-backup",
   "metadata": {},
   "outputs": [
    {
     "data": {
      "text/plain": [
       "128"
      ]
     },
     "execution_count": 55,
     "metadata": {},
     "output_type": "execute_result"
    }
   ],
   "source": [
    "sys.getsizeof(vdata[:, 'Ttk'].layers['velocity'])"
   ]
  },
  {
   "cell_type": "code",
   "execution_count": 7,
   "id": "weighted-equality",
   "metadata": {},
   "outputs": [],
   "source": [
    "# load 160 transcriptionfactors\n",
    "open_file = open('data/transcriptionfactors160.pkl', \"rb\")\n",
    "transcription160 = pickle.load(open_file)\n",
    "open_file.close()"
   ]
  },
  {
   "cell_type": "code",
   "execution_count": 8,
   "id": "passive-marine",
   "metadata": {},
   "outputs": [],
   "source": [
    "# remove factors not available in vdata.var_names\n",
    "for x in  ['Junb', 'mt-Nd1', 'Fgl2', 'mt-Co1', 'mt-Nd4', 'Rraga', 'mt-Nd2']:\n",
    "    if x in transcription160:\n",
    "        transcription160.remove(x)"
   ]
  },
  {
   "cell_type": "code",
   "execution_count": 9,
   "id": "major-colonial",
   "metadata": {},
   "outputs": [],
   "source": [
    "def proportion(y, y_pred):\n",
    "    return np.mean(np.log(abs(y_pred-y)/abs(y)))"
   ]
  },
  {
   "cell_type": "code",
   "execution_count": 10,
   "id": "fewer-display",
   "metadata": {},
   "outputs": [],
   "source": [
    "def generating_regressions(model, predictors, targets, n_splits, name):\n",
    "\n",
    "    path = 'data/'+name\n",
    "    if os.path.exists(path):\n",
    "        shutil.rmtree(path)\n",
    "    os.mkdir(path)\n",
    "\n",
    "    for g in targets:\n",
    "        \n",
    "        coefs = pd.DataFrame()\n",
    "\n",
    "        # target\n",
    "        t = [g]\n",
    "\n",
    "        # train and test set\n",
    "        X, y = vdata[:, predictors].layers['Ms'], vdata[:, t].layers['velocity']\n",
    "\n",
    "        # prepare cross validation, data shuffled before split into batches\n",
    "        cv = KFold(n_splits=n_splits, shuffle=True, random_state=42)\n",
    "\n",
    "        # I could define my own scorer object; since error, want to minimize it -> the smaller the values the better. \n",
    "        s = cross_validate(model, X, y, cv=cv, scoring = {'r2': 'r2', 'neg_mean_squared_error':'neg_mean_squared_error', 'proportion': make_scorer(proportion)}, return_train_score=True, return_estimator=True)\n",
    "\n",
    "        for x in s['estimator']:\n",
    "            coefs['predictors'], coefs['coefficients'], coefs['target']= predictors, x.coef_[0], t*len(predictors)\n",
    "        \n",
    "        #store results for each gene at the end of the loop before going on to the next gene. \n",
    "\n",
    "        # removing unnecessary fit and score times\n",
    "        s.pop('fit_time', None)\n",
    "        s.pop('score_time',None)\n",
    "\n",
    "        scores = pd.DataFrame.from_dict(s)\n",
    "        scores['target'] = t*n_splits\n",
    "        \n",
    "        scores.to_pickle(path+'/'+g+'Scores.pkl')\n",
    "        coefs.to_pickle(path+'/'+g+'Coefs.pkl')\n",
    "        \n",
    "    return path"
   ]
  },
  {
   "cell_type": "markdown",
   "id": "faced-savage",
   "metadata": {},
   "source": [
    "I would like for this to run through, but it keeps getting killed before. In Jupyter the kernel keeps restarting and in the terminal it just sais killed. "
   ]
  },
  {
   "cell_type": "code",
   "execution_count": 8,
   "id": "metallic-illustration",
   "metadata": {},
   "outputs": [
    {
     "name": "stdout",
     "output_type": "stream",
     "text": [
      "['Mrpl15Scores.pkl', 'Mrpl15Coefs.pkl', 'Mybl1Scores.pkl', 'Mybl1Coefs.pkl', 'Mcm3Scores.pkl', 'Mcm3Coefs.pkl', 'Smap1Scores.pkl', 'Smap1Coefs.pkl', 'Prim2Scores.pkl', 'Prim2Coefs.pkl', 'Rev1Scores.pkl', 'Rev1Coefs.pkl', 'Aff3Scores.pkl', 'Aff3Coefs.pkl', 'Fhl2Scores.pkl', 'Fhl2Coefs.pkl', 'Nab1Scores.pkl', 'Nab1Coefs.pkl', '1700019D03RikScores.pkl', '1700019D03RikCoefs.pkl', 'Stk17bScores.pkl', 'Stk17bCoefs.pkl', 'Wdr12Scores.pkl', 'Wdr12Coefs.pkl', 'Ikzf2Scores.pkl', 'Ikzf2Coefs.pkl', 'Bard1Scores.pkl', 'Bard1Coefs.pkl', 'PecrScores.pkl', 'PecrCoefs.pkl', 'NclScores.pkl', 'NclCoefs.pkl', 'HjurpScores.pkl', 'HjurpCoefs.pkl', 'PaskScores.pkl', 'PaskCoefs.pkl', 'Pdcd1Scores.pkl', 'Pdcd1Coefs.pkl', 'Bcl2Scores.pkl', 'Bcl2Coefs.pkl', 'Actr3Scores.pkl', 'Actr3Coefs.pkl', 'Tmem163Scores.pkl', 'Tmem163Coefs.pkl', 'Zranb3Scores.pkl', 'Zranb3Coefs.pkl', 'Mcm6Scores.pkl', 'Mcm6Coefs.pkl', 'Cd55Scores.pkl', 'Cd55Coefs.pkl', 'Dyrk3Scores.pkl', 'Dyrk3Coefs.pkl', 'IkbkeScores.pkl', 'IkbkeCoefs.pkl', 'Lax1Scores.pkl', 'Lax1Coefs.pkl', 'Atp2b4Scores.pkl', 'Atp2b4Coefs.pkl', 'Rgs2Scores.pkl', 'Rgs2Coefs.pkl', 'Rgs1Scores.pkl', 'Rgs1Coefs.pkl', 'Tor3aScores.pkl', 'Tor3aCoefs.pkl', 'FaslScores.pkl', 'FaslCoefs.pkl', 'Atp1b1Scores.pkl', 'Atp1b1Coefs.pkl', 'Uck2Scores.pkl', 'Uck2Coefs.pkl', 'Nuf2Scores.pkl', 'Nuf2Coefs.pkl', 'Gm4955Scores.pkl', 'Gm4955Coefs.pkl', 'BC094916Scores.pkl', 'BC094916Coefs.pkl', 'Pydc4Scores.pkl', 'Pydc4Coefs.pkl', 'Ifi204Scores.pkl', 'Ifi204Coefs.pkl', 'MndalScores.pkl', 'MndalCoefs.pkl', 'Capn2Scores.pkl', 'Capn2Coefs.pkl', 'Rrp15Scores.pkl', 'Rrp15Coefs.pkl', 'CenpfScores.pkl', 'CenpfCoefs.pkl', 'Smyd2Scores.pkl', 'Smyd2Coefs.pkl', 'Atf3Scores.pkl', 'Atf3Coefs.pkl', 'DtlScores.pkl', 'DtlCoefs.pkl', 'Hsd11b1Scores.pkl', 'Hsd11b1Coefs.pkl', 'Map4k4Scores.pkl', 'Map4k4Coefs.pkl', 'Il1r2Scores.pkl', 'Il1r2Coefs.pkl', 'Il1rl1Scores.pkl', 'Il1rl1Coefs.pkl', 'Il18r1Scores.pkl', 'Il18r1Coefs.pkl', 'Il18rapScores.pkl', 'Il18rapCoefs.pkl', 'Wdr75Scores.pkl', 'Wdr75Coefs.pkl', 'Stat1Scores.pkl', 'Stat1Coefs.pkl', 'Sgol2aScores.pkl', 'Sgol2aCoefs.pkl', 'Nop58Scores.pkl', 'Nop58Coefs.pkl', 'IcosScores.pkl', 'IcosCoefs.pkl', 'AticScores.pkl', 'AticCoefs.pkl', 'Rqcd1Scores.pkl', 'Rqcd1Coefs.pkl', 'Sp100Scores.pkl', 'Sp100Coefs.pkl', 'Psmd1Scores.pkl', 'Psmd1Coefs.pkl', 'PtmaScores.pkl', 'PtmaCoefs.pkl', 'NifkScores.pkl', 'NifkCoefs.pkl', 'Nucks1Scores.pkl', 'Nucks1Coefs.pkl', 'Chit1Scores.pkl', 'Chit1Coefs.pkl', 'Ube2tScores.pkl', 'Ube2tCoefs.pkl', 'Kif14Scores.pkl', 'Kif14Coefs.pkl', 'AspmScores.pkl', 'AspmCoefs.pkl', 'Uchl5Scores.pkl', 'Uchl5Coefs.pkl', 'Fam129aScores.pkl', 'Fam129aCoefs.pkl', 'Rgs16Scores.pkl', 'Rgs16Coefs.pkl', 'CenplScores.pkl', 'CenplCoefs.pkl', 'Tnfsf4Scores.pkl', 'Tnfsf4Coefs.pkl', 'SellScores.pkl', 'SellCoefs.pkl', 'Gm10522Scores.pkl', 'Gm10522Coefs.pkl', 'Pfdn2Scores.pkl', 'Pfdn2Coefs.pkl', 'Cd244Scores.pkl', 'Cd244Coefs.pkl', 'Cd48Scores.pkl', 'Cd48Coefs.pkl', 'Slamf6Scores.pkl', 'Slamf6Coefs.pkl', 'Tagln2Scores.pkl', 'Tagln2Coefs.pkl', 'Pyhin1Scores.pkl', 'Pyhin1Coefs.pkl', 'Exo1Scores.pkl', 'Exo1Coefs.pkl', 'Desi2Scores.pkl', 'Desi2Coefs.pkl', 'Parp1Scores.pkl', 'Parp1Coefs.pkl', 'EprsScores.pkl', 'EprsCoefs.pkl', 'Nsl1Scores.pkl', 'Nsl1Coefs.pkl', 'Batf3Scores.pkl', 'Batf3Coefs.pkl', 'Fbxo5Scores.pkl', 'Fbxo5Coefs.pkl', 'Ipcef1Scores.pkl', 'Ipcef1Coefs.pkl', 'Phactr2Scores.pkl', 'Phactr2Coefs.pkl', 'MybScores.pkl', 'MybCoefs.pkl', 'Slc16a10Scores.pkl', 'Slc16a10Coefs.pkl', 'Rpf2Scores.pkl', 'Rpf2Coefs.pkl', 'Foxo3Scores.pkl', 'Foxo3Coefs.pkl', 'Prdm1Scores.pkl', 'Prdm1Coefs.pkl', 'Ddx21Scores.pkl', 'Ddx21Coefs.pkl', 'Cdk1Scores.pkl', 'Cdk1Coefs.pkl', 'Adarb1Scores.pkl', 'Adarb1Coefs.pkl', 'Pwp2Scores.pkl', 'Pwp2Coefs.pkl', 'Fzr1Scores.pkl', 'Fzr1Coefs.pkl', 'Gna15Scores.pkl', 'Gna15Coefs.pkl', 'Hsp90b1Scores.pkl', 'Hsp90b1Coefs.pkl', 'ParpbpScores.pkl', 'ParpbpCoefs.pkl', 'Utp20Scores.pkl', 'Utp20Coefs.pkl', 'Gas2l3Scores.pkl', 'Gas2l3Coefs.pkl', 'TmpoScores.pkl', 'TmpoCoefs.pkl', 'Cct2Scores.pkl', 'Cct2Coefs.pkl', 'Nup107Scores.pkl', 'Nup107Coefs.pkl', 'Rap1bScores.pkl', 'Rap1bCoefs.pkl', 'Irak3Scores.pkl', 'Irak3Coefs.pkl', 'Pa2g4Scores.pkl', 'Pa2g4Coefs.pkl', 'DgkaScores.pkl', 'DgkaCoefs.pkl', 'Nup43Scores.pkl', 'Nup43Coefs.pkl', 'Zc3h12dScores.pkl', 'Zc3h12dCoefs.pkl', 'Ifngr1Scores.pkl', 'Ifngr1Coefs.pkl', 'Mtfr2Scores.pkl', 'Mtfr2Coefs.pkl', 'Sgk1Scores.pkl', 'Sgk1Coefs.pkl', 'Samd3Scores.pkl', 'Samd3Coefs.pkl', 'Hdac2Scores.pkl', 'Hdac2Coefs.pkl', 'Tube1Scores.pkl', 'Tube1Coefs.pkl', 'FynScores.pkl', 'FynCoefs.pkl', 'Scml4Scores.pkl', 'Scml4Coefs.pkl', 'PrepScores.pkl', 'PrepCoefs.pkl', 'Lilrb4aScores.pkl', 'Lilrb4aCoefs.pkl', 'Spock2Scores.pkl', 'Spock2Coefs.pkl', 'Dna2Scores.pkl', 'Dna2Coefs.pkl', 'Egr2Scores.pkl', 'Egr2Coefs.pkl', 'Snrpd3Scores.pkl', 'Snrpd3Coefs.pkl', 'Ggt1Scores.pkl', 'Ggt1Coefs.pkl', 'PalmScores.pkl', 'PalmCoefs.pkl', 'Hmha1Scores.pkl', 'Hmha1Coefs.pkl', '1500009L16RikScores.pkl', '1500009L16RikCoefs.pkl', 'Pwp1Scores.pkl', 'Pwp1Coefs.pkl', 'Cep83Scores.pkl', 'Cep83Coefs.pkl', 'Eea1Scores.pkl', 'Eea1Coefs.pkl', 'Atp2b1Scores.pkl', 'Atp2b1Coefs.pkl', 'Ppp1r12aScores.pkl', 'Ppp1r12aCoefs.pkl', 'E2f7Scores.pkl', 'E2f7Coefs.pkl', 'Nap1l1Scores.pkl', 'Nap1l1Coefs.pkl', 'Phlda1Scores.pkl', 'Phlda1Coefs.pkl', 'Mdm1Scores.pkl', 'Mdm1Coefs.pkl', 'Mettl1Scores.pkl', 'Mettl1Coefs.pkl', 'Prim1Scores.pkl', 'Prim1Coefs.pkl', 'Ptges3Scores.pkl', 'Ptges3Coefs.pkl', 'TimelessScores.pkl', 'TimelessCoefs.pkl', 'Stat2Scores.pkl', 'Stat2Coefs.pkl', 'Ddx56Scores.pkl', 'Ddx56Coefs.pkl', 'H2afvScores.pkl', 'H2afvCoefs.pkl', 'Myo1gScores.pkl', 'Myo1gCoefs.pkl', 'Tbrg4Scores.pkl', 'Tbrg4Coefs.pkl', 'RelScores.pkl', 'RelCoefs.pkl', 'Npm1Scores.pkl', 'Npm1Coefs.pkl', 'Dock2Scores.pkl', 'Dock2Coefs.pkl', 'Spdl1Scores.pkl', 'Spdl1Coefs.pkl', 'HmmrScores.pkl', 'HmmrCoefs.pkl', 'CanxScores.pkl', 'CanxCoefs.pkl', 'Tcf7Scores.pkl', 'Tcf7Coefs.pkl', 'Il3Scores.pkl', 'Il3Coefs.pkl', 'Anxa6Scores.pkl', 'Anxa6Coefs.pkl', 'Gemin5Scores.pkl', 'Gemin5Coefs.pkl', 'Shmt1Scores.pkl', 'Shmt1Coefs.pkl', 'Tmem11Scores.pkl', 'Tmem11Coefs.pkl', 'PfasScores.pkl', 'PfasCoefs.pkl', 'Kdm6bScores.pkl', 'Kdm6bCoefs.pkl', 'Pelp1Scores.pkl', 'Pelp1Coefs.pkl', 'Rap1gap2Scores.pkl', 'Rap1gap2Coefs.pkl', 'Fam101bScores.pkl', 'Fam101bCoefs.pkl', 'CpdScores.pkl', 'CpdCoefs.pkl', 'Nle1Scores.pkl', 'Nle1Coefs.pkl', 'Slfn8Scores.pkl', 'Slfn8Coefs.pkl', 'Tada2aScores.pkl', 'Tada2aCoefs.pkl', 'AatfScores.pkl', 'AatfCoefs.pkl', 'Brip1Scores.pkl', 'Brip1Coefs.pkl', 'Prr11Scores.pkl', 'Prr11Coefs.pkl', 'Utp18Scores.pkl', 'Utp18Coefs.pkl', 'Luc7l3Scores.pkl', 'Luc7l3Coefs.pkl', 'Eme1Scores.pkl', 'Eme1Coefs.pkl', 'Abi3Scores.pkl', 'Abi3Coefs.pkl', 'Arl5cScores.pkl', 'Arl5cCoefs.pkl', 'Ikzf3Scores.pkl', 'Ikzf3Coefs.pkl', 'Top2aScores.pkl', 'Top2aCoefs.pkl', 'Dhx58Scores.pkl', 'Dhx58Coefs.pkl', 'Brca1Scores.pkl', 'Brca1Coefs.pkl', 'Mpp2Scores.pkl', 'Mpp2Coefs.pkl', 'Kif18bScores.pkl', 'Kif18bCoefs.pkl', 'Ftsj3Scores.pkl', 'Ftsj3Coefs.pkl', 'Pecam1Scores.pkl', 'Pecam1Coefs.pkl', 'Nol11Scores.pkl', 'Nol11Coefs.pkl', 'Pitpnc1Scores.pkl', 'Pitpnc1Coefs.pkl', 'Galk1Scores.pkl', 'Galk1Coefs.pkl', 'Srsf2Scores.pkl', 'Srsf2Coefs.pkl', 'Tmc6Scores.pkl', 'Tmc6Coefs.pkl', 'Tk1Scores.pkl', 'Tk1Coefs.pkl', 'Timp2Scores.pkl', 'Timp2Coefs.pkl', 'Cbx4Scores.pkl', 'Cbx4Coefs.pkl', 'Pik3ip1Scores.pkl', 'Pik3ip1Coefs.pkl', 'Ccm2Scores.pkl', 'Ccm2Coefs.pkl', 'Xpo1Scores.pkl', 'Xpo1Coefs.pkl', 'Nsg2Scores.pkl', 'Nsg2Coefs.pkl', 'Lcp2Scores.pkl', 'Lcp2Coefs.pkl', 'Adam19Scores.pkl', 'Adam19Coefs.pkl', 'Havcr2Scores.pkl', 'Havcr2Coefs.pkl', 'Slc36a1Scores.pkl', 'Slc36a1Coefs.pkl', 'G3bp1Scores.pkl', 'G3bp1Coefs.pkl', 'Larp1Scores.pkl', 'Larp1Coefs.pkl', 'Tnfrsf13bScores.pkl', 'Tnfrsf13bCoefs.pkl', 'Gas7Scores.pkl', 'Gas7Coefs.pkl', 'Pik3r5Scores.pkl', 'Pik3r5Coefs.pkl', 'AurkbScores.pkl', 'AurkbCoefs.pkl', 'Trappc1Scores.pkl', 'Trappc1Coefs.pkl', 'Clec10aScores.pkl', 'Clec10aCoefs.pkl', 'Fam64aScores.pkl', 'Fam64aCoefs.pkl', 'Xaf1Scores.pkl', 'Xaf1Coefs.pkl', 'CluhScores.pkl', 'CluhCoefs.pkl', 'Mettl16Scores.pkl', 'Mettl16Coefs.pkl', 'Dhrs13Scores.pkl', 'Dhrs13Coefs.pkl', 'Tlcd1Scores.pkl', 'Tlcd1Coefs.pkl', 'Spag5Scores.pkl', 'Spag5Coefs.pkl', 'Suz12Scores.pkl', 'Suz12Coefs.pkl', 'Atad5Scores.pkl', 'Atad5Coefs.pkl', 'Psmd11Scores.pkl', 'Psmd11Coefs.pkl', 'Slfn5Scores.pkl', 'Slfn5Coefs.pkl', 'Slfn1Scores.pkl', 'Slfn1Coefs.pkl', 'AI662270Scores.pkl', 'AI662270Coefs.pkl', 'AcacaScores.pkl', 'AcacaCoefs.pkl', 'Myo19Scores.pkl', 'Myo19Coefs.pkl', 'Ska2Scores.pkl', 'Ska2Coefs.pkl', 'Sept4Scores.pkl', 'Sept4Coefs.pkl', 'Skap1Scores.pkl', 'Skap1Coefs.pkl', 'Lasp1Scores.pkl', 'Lasp1Coefs.pkl', 'Cdc6Scores.pkl', 'Cdc6Coefs.pkl', 'RaraScores.pkl', 'RaraCoefs.pkl', 'Ifi35Scores.pkl', 'Ifi35Coefs.pkl', 'BC030867Scores.pkl', 'BC030867Coefs.pkl', 'Itgb3Scores.pkl', 'Itgb3Coefs.pkl', 'Armc7Scores.pkl', 'Armc7Coefs.pkl', 'Birc5Scores.pkl', 'Birc5Coefs.pkl', 'Rnf213Scores.pkl', 'Rnf213Coefs.pkl', 'MetrnlScores.pkl', 'MetrnlCoefs.pkl', 'Gen1Scores.pkl', 'Gen1Coefs.pkl', 'Ddx1Scores.pkl', 'Ddx1Coefs.pkl', 'Lpin1Scores.pkl', 'Lpin1Coefs.pkl', 'Id2Scores.pkl', 'Id2Coefs.pkl', 'Rsad2Scores.pkl', 'Rsad2Coefs.pkl', 'Dus4lScores.pkl', 'Dus4lCoefs.pkl', 'Bzw2Scores.pkl', 'Bzw2Coefs.pkl', 'Baz1aScores.pkl', 'Baz1aCoefs.pkl', 'NfkbiaScores.pkl', 'NfkbiaCoefs.pkl', 'Mis18bp1Scores.pkl', 'Mis18bp1Coefs.pkl', 'Pole2Scores.pkl', 'Pole2Coefs.pkl', 'Timm9Scores.pkl', 'Timm9Coefs.pkl', 'Zfp36l1Scores.pkl', 'Zfp36l1Coefs.pkl', '2310015A10RikScores.pkl', '2310015A10RikCoefs.pkl', 'Actn1Scores.pkl', 'Actn1Coefs.pkl', 'Cep128Scores.pkl', 'Cep128Coefs.pkl', 'Foxn3Scores.pkl', 'Foxn3Coefs.pkl', 'Efcab11Scores.pkl', 'Efcab11Coefs.pkl', 'Asb2Scores.pkl', 'Asb2Coefs.pkl', 'CinpScores.pkl', 'CinpCoefs.pkl', 'Itgb8Scores.pkl', 'Itgb8Coefs.pkl', 'Smc6Scores.pkl', 'Smc6Coefs.pkl', 'Fam49aScores.pkl', 'Fam49aCoefs.pkl', 'Hpcal1Scores.pkl', 'Hpcal1Coefs.pkl', 'Asap2Scores.pkl', 'Asap2Coefs.pkl', 'Rrm2Scores.pkl', 'Rrm2Coefs.pkl', 'Cmpk2Scores.pkl', 'Cmpk2Coefs.pkl', 'G2e3Scores.pkl', 'G2e3Coefs.pkl', 'Arhgap5Scores.pkl', 'Arhgap5Coefs.pkl', 'Lrr1Scores.pkl', 'Lrr1Coefs.pkl', 'PrkchScores.pkl', 'PrkchCoefs.pkl', 'Hif1aScores.pkl', 'Hif1aCoefs.pkl', 'Mthfd1Scores.pkl', 'Mthfd1Coefs.pkl', 'Plekhg3Scores.pkl', 'Plekhg3Coefs.pkl', 'Eif2s1Scores.pkl', 'Eif2s1Coefs.pkl', 'CipcScores.pkl', 'CipcCoefs.pkl', 'Serpina3fScores.pkl', 'Serpina3fCoefs.pkl', 'EvlScores.pkl', 'EvlCoefs.pkl', 'Crip1Scores.pkl', 'Crip1Coefs.pkl', 'Ncapg2Scores.pkl', 'Ncapg2Coefs.pkl', 'PfkpScores.pkl', 'PfkpCoefs.pkl', 'Gtpbp4Scores.pkl', 'Gtpbp4Coefs.pkl', 'Epdr1Scores.pkl', 'Epdr1Coefs.pkl', 'GmnnScores.pkl', 'GmnnCoefs.pkl', 'Nrn1Scores.pkl', 'Nrn1Coefs.pkl', 'Eef1e1Scores.pkl', 'Eef1e1Coefs.pkl', 'DekScores.pkl', 'DekCoefs.pkl', 'CenppScores.pkl', 'CenppCoefs.pkl', 'Mxd3Scores.pkl', 'Mxd3Coefs.pkl', 'Golm1Scores.pkl', 'Golm1Coefs.pkl', 'Ctla2aScores.pkl', 'Ctla2aCoefs.pkl', 'Trip13Scores.pkl', 'Trip13Coefs.pkl', 'Iqgap2Scores.pkl', 'Iqgap2Coefs.pkl', 'Utp15Scores.pkl', 'Utp15Coefs.pkl', 'Map1bScores.pkl', 'Map1bCoefs.pkl', 'CenphScores.pkl', 'CenphCoefs.pkl', 'Ccnb1Scores.pkl', 'Ccnb1Coefs.pkl', 'GzmkScores.pkl', 'GzmkCoefs.pkl', 'Itga1Scores.pkl', 'Itga1Coefs.pkl', 'Parp8Scores.pkl', 'Parp8Coefs.pkl', 'Trim27Scores.pkl', 'Trim27Coefs.pkl', 'CmahScores.pkl', 'CmahCoefs.pkl', 'Fam65bScores.pkl', 'Fam65bCoefs.pkl', 'Serpinb9Scores.pkl', 'Serpinb9Coefs.pkl', 'Cd83Scores.pkl', 'Cd83Coefs.pkl', 'MylipScores.pkl', 'MylipCoefs.pkl', 'IarsScores.pkl', 'IarsCoefs.pkl', 'Ercc6l2Scores.pkl', 'Ercc6l2Coefs.pkl', 'Pcsk1Scores.pkl', 'Pcsk1Coefs.pkl', 'Ssbp2Scores.pkl', 'Ssbp2Coefs.pkl', 'DhfrScores.pkl', 'DhfrCoefs.pkl', 'ArsbScores.pkl', 'ArsbCoefs.pkl', 'Mrps27Scores.pkl', 'Mrps27Coefs.pkl', 'CenpkScores.pkl', 'CenpkCoefs.pkl', 'Dimt1Scores.pkl', 'Dimt1Coefs.pkl', 'Depdc1bScores.pkl', 'Depdc1bCoefs.pkl', 'Cdc20bScores.pkl', 'Cdc20bCoefs.pkl', 'Esm1Scores.pkl', 'Esm1Coefs.pkl', 'EmbScores.pkl', 'EmbCoefs.pkl', 'Gng2Scores.pkl', 'Gng2Coefs.pkl', 'Dnajc9Scores.pkl', 'Dnajc9Coefs.pkl', 'Cacna1dScores.pkl', 'Cacna1dCoefs.pkl', 'Gnl3Scores.pkl', 'Gnl3Coefs.pkl', 'ColqScores.pkl', 'ColqCoefs.pkl', 'Fam213aScores.pkl', 'Fam213aCoefs.pkl', 'Wdhd1Scores.pkl', 'Wdhd1Coefs.pkl', 'Dlgap5Scores.pkl', 'Dlgap5Coefs.pkl', 'Supt16Scores.pkl', 'Supt16Coefs.pkl', 'Prmt5Scores.pkl', 'Prmt5Coefs.pkl', 'Nedd8Scores.pkl', 'Nedd8Coefs.pkl', 'Ska3Scores.pkl', 'Ska3Coefs.pkl', 'Phf11aScores.pkl', 'Phf11aCoefs.pkl', 'Phf11bScores.pkl', 'Phf11bCoefs.pkl', 'Phf11cScores.pkl', 'Phf11cCoefs.pkl', 'Atp8a2Scores.pkl', 'Atp8a2Coefs.pkl', 'Kpna3Scores.pkl', 'Kpna3Coefs.pkl', 'Esco2Scores.pkl', 'Esco2Coefs.pkl', 'Cdca2Scores.pkl', 'Cdca2Coefs.pkl', 'Gtf2f2Scores.pkl', 'Gtf2f2Coefs.pkl', 'Serp2Scores.pkl', 'Serp2Coefs.pkl', 'Dnajc15Scores.pkl', 'Dnajc15Coefs.pkl', 'Tnfsf11Scores.pkl', 'Tnfsf11Coefs.pkl', 'Diaph3Scores.pkl', 'Diaph3Coefs.pkl', 'Dis3Scores.pkl', 'Dis3Coefs.pkl', 'Tbc1d4Scores.pkl', 'Tbc1d4Coefs.pkl', 'Stk24Scores.pkl', 'Stk24Coefs.pkl', 'Ngly1Scores.pkl', 'Ngly1Coefs.pkl', 'AdkScores.pkl', 'AdkCoefs.pkl', '1810011H11RikScores.pkl', '1810011H11RikCoefs.pkl', 'Psmc6Scores.pkl', 'Psmc6Coefs.pkl', 'Cdkn3Scores.pkl', 'Cdkn3Coefs.pkl', 'Lgals3Scores.pkl', 'Lgals3Coefs.pkl', 'Apex1Scores.pkl', 'Apex1Coefs.pkl', 'Spata13Scores.pkl', 'Spata13Coefs.pkl', 'Rnaseh2bScores.pkl', 'Rnaseh2bCoefs.pkl', 'Pinx1Scores.pkl', 'Pinx1Coefs.pkl', 'PbkScores.pkl', 'PbkCoefs.pkl', 'Nufip1Scores.pkl', 'Nufip1Coefs.pkl', 'Epsti1Scores.pkl', 'Epsti1Coefs.pkl', 'BoraScores.pkl', 'BoraCoefs.pkl', 'Uchl3Scores.pkl', 'Uchl3Coefs.pkl', 'Ipo5Scores.pkl', 'Ipo5Coefs.pkl', 'Il7rScores.pkl', 'Il7rCoefs.pkl', 'Brix1Scores.pkl', 'Brix1Coefs.pkl', 'Fam105aScores.pkl', 'Fam105aCoefs.pkl', 'Cct5Scores.pkl', 'Cct5Coefs.pkl', 'NcaldScores.pkl', 'NcaldCoefs.pkl', 'Klf10Scores.pkl', 'Klf10Coefs.pkl', 'Rad21Scores.pkl', 'Rad21Coefs.pkl', 'Enpp2Scores.pkl', 'Enpp2Coefs.pkl', 'Dscc1Scores.pkl', 'Dscc1Coefs.pkl', 'Atad2Scores.pkl', 'Atad2Coefs.pkl', 'Asap1Scores.pkl', 'Asap1Coefs.pkl', 'Tmem71Scores.pkl', 'Tmem71Coefs.pkl', 'SlaScores.pkl', 'SlaCoefs.pkl', 'Ndrg1Scores.pkl', 'Ndrg1Coefs.pkl', 'Top1mtScores.pkl', 'Top1mtCoefs.pkl', 'Txn2Scores.pkl', 'Txn2Coefs.pkl', 'PdgfbScores.pkl', 'PdgfbCoefs.pkl', 'Rangap1Scores.pkl', 'Rangap1Coefs.pkl', 'Gxylt1Scores.pkl', 'Gxylt1Coefs.pkl', 'Racgap1Scores.pkl', 'Racgap1Coefs.pkl', 'Bin2Scores.pkl', 'Bin2Coefs.pkl', 'Cela1Scores.pkl', 'Cela1Coefs.pkl', 'Galnt6Scores.pkl', 'Galnt6Coefs.pkl', 'Itgb7Scores.pkl', 'Itgb7Coefs.pkl', 'Cbx5Scores.pkl', 'Cbx5Coefs.pkl', 'FybScores.pkl', 'FybCoefs.pkl', 'Nup155Scores.pkl', 'Nup155Coefs.pkl', 'Fam134bScores.pkl', 'Fam134bCoefs.pkl', 'DapScores.pkl', 'DapCoefs.pkl', 'Pop1Scores.pkl', 'Pop1Coefs.pkl', 'MtbpScores.pkl', 'MtbpCoefs.pkl', 'Tbc1d31Scores.pkl', 'Tbc1d31Coefs.pkl', 'MycScores.pkl', 'MycCoefs.pkl', 'Cyth4Scores.pkl', 'Cyth4Coefs.pkl', 'Lgals1Scores.pkl', 'Lgals1Coefs.pkl', 'Nol12Scores.pkl', 'Nol12Coefs.pkl', 'Polr2fScores.pkl', 'Polr2fCoefs.pkl', 'Prr5Scores.pkl', 'Prr5Coefs.pkl', 'Ncaph2Scores.pkl', 'Ncaph2Coefs.pkl', 'TroapScores.pkl', 'TroapCoefs.pkl', 'Larp4Scores.pkl', 'Larp4Coefs.pkl', 'Espl1Scores.pkl', 'Espl1Coefs.pkl', 'Nlrc3Scores.pkl', 'Nlrc3Coefs.pkl', 'LitafScores.pkl', 'LitafCoefs.pkl', 'Gspt1Scores.pkl', 'Gspt1Coefs.pkl', 'Mcm4Scores.pkl', 'Mcm4Coefs.pkl', '2610318N02RikScores.pkl', '2610318N02RikCoefs.pkl', 'Ranbp1Scores.pkl', 'Ranbp1Coefs.pkl', 'Cdc45Scores.pkl', 'Cdc45Coefs.pkl', 'Klhl6Scores.pkl', 'Klhl6Coefs.pkl', 'Rfc4Scores.pkl', 'Rfc4Coefs.pkl', 'Bcl6Scores.pkl', 'Bcl6Coefs.pkl', 'Atp13a3Scores.pkl', 'Atp13a3Coefs.pkl', 'Parp14Scores.pkl', 'Parp14Coefs.pkl', 'Dtx3lScores.pkl', 'Dtx3lCoefs.pkl', 'Fam162aScores.pkl', 'Fam162aCoefs.pkl', 'Cd86Scores.pkl', 'Cd86Coefs.pkl', 'Maats1Scores.pkl', 'Maats1Coefs.pkl', 'Qtrtd1Scores.pkl', 'Qtrtd1Coefs.pkl', 'Sidt1Scores.pkl', 'Sidt1Coefs.pkl', 'Cd200Scores.pkl', 'Cd200Coefs.pkl', 'Cd96Scores.pkl', 'Cd96Coefs.pkl', 'Cmss1Scores.pkl', 'Cmss1Coefs.pkl', 'St3gal6Scores.pkl', 'St3gal6Coefs.pkl', 'Samsn1Scores.pkl', 'Samsn1Coefs.pkl', 'Cct8Scores.pkl', 'Cct8Coefs.pkl', '1110004E09RikScores.pkl', '1110004E09RikCoefs.pkl', 'GartScores.pkl', 'GartCoefs.pkl', 'Hmgn1Scores.pkl', 'Hmgn1Coefs.pkl', 'DscamScores.pkl', 'DscamCoefs.pkl', 'Mx1Scores.pkl', 'Mx1Coefs.pkl', 'YdjcScores.pkl', 'YdjcCoefs.pkl', 'Smpd4Scores.pkl', 'Smpd4Coefs.pkl', 'Eif4g1Scores.pkl', 'Eif4g1Coefs.pkl', 'St6gal1Scores.pkl', 'St6gal1Coefs.pkl', 'Rtp4Scores.pkl', 'Rtp4Coefs.pkl', 'Ccdc50Scores.pkl', 'Ccdc50Coefs.pkl', 'TfrcScores.pkl', 'TfrcCoefs.pkl', 'Tnk2Scores.pkl', 'Tnk2Coefs.pkl', 'Parp9Scores.pkl', 'Parp9Coefs.pkl', 'Ccdc58Scores.pkl', 'Ccdc58Coefs.pkl', 'Ildr1Scores.pkl', 'Ildr1Coefs.pkl', 'PolqScores.pkl', 'PolqCoefs.pkl', 'Zbtb20Scores.pkl', 'Zbtb20Coefs.pkl', 'Naa50Scores.pkl', 'Naa50Coefs.pkl', 'Cd200r1Scores.pkl', 'Cd200r1Coefs.pkl', 'Cd200r4Scores.pkl', 'Cd200r4Coefs.pkl', 'Cd200r2Scores.pkl', 'Cd200r2Coefs.pkl', 'BtlaScores.pkl', 'BtlaCoefs.pkl', 'C330027C09RikScores.pkl', 'C330027C09RikCoefs.pkl', 'Ift57Scores.pkl', 'Ift57Coefs.pkl', 'Cd47Scores.pkl', 'Cd47Coefs.pkl', 'Tomm70aScores.pkl', 'Tomm70aCoefs.pkl', 'Bace2Scores.pkl', 'Bace2Coefs.pkl', 'CcnfScores.pkl', 'CcnfCoefs.pkl', 'Hn1lScores.pkl', 'Hn1lCoefs.pkl', 'Baiap3Scores.pkl', 'Baiap3Coefs.pkl', 'Fkbp5Scores.pkl', 'Fkbp5Coefs.pkl', 'Stk38Scores.pkl', 'Stk38Coefs.pkl', 'Mtch1Scores.pkl', 'Mtch1Coefs.pkl', 'Akap8lScores.pkl', 'Akap8lCoefs.pkl', 'Pglyrp2Scores.pkl', 'Pglyrp2Coefs.pkl', 'Kifc1Scores.pkl', 'Kifc1Coefs.pkl', 'H2-AaScores.pkl', 'H2-AaCoefs.pkl', 'H2-T22Scores.pkl', 'H2-T22Coefs.pkl', 'Cd2apScores.pkl', 'Cd2apCoefs.pkl', 'Spats1Scores.pkl', 'Spats1Coefs.pkl', 'Hsp90ab1Scores.pkl', 'Hsp90ab1Coefs.pkl', 'Rpl7l1Scores.pkl', 'Rpl7l1Coefs.pkl', 'Apobec2Scores.pkl', 'Apobec2Coefs.pkl', 'Satb1Scores.pkl', 'Satb1Coefs.pkl', 'Sgol1Scores.pkl', 'Sgol1Coefs.pkl', 'Dennd1cScores.pkl', 'Dennd1cCoefs.pkl', 'Ankrd12Scores.pkl', 'Ankrd12Coefs.pkl', 'Smchd1Scores.pkl', 'Smchd1Coefs.pkl', 'Ndc80Scores.pkl', 'Ndc80Coefs.pkl', 'XdhScores.pkl', 'XdhCoefs.pkl', 'Dpy30Scores.pkl', 'Dpy30Coefs.pkl', 'Eif2ak2Scores.pkl', 'Eif2ak2Coefs.pkl', 'LrpprcScores.pkl', 'LrpprcCoefs.pkl', 'Sytl3Scores.pkl', 'Sytl3Coefs.pkl', 'Ccr6Scores.pkl', 'Ccr6Coefs.pkl', 'Pde10aScores.pkl', 'Pde10aCoefs.pkl', 'Agpat4Scores.pkl', 'Agpat4Coefs.pkl', 'Tcp1Scores.pkl', 'Tcp1Coefs.pkl', 'Chd1Scores.pkl', 'Chd1Coefs.pkl', 'Rps2Scores.pkl', 'Rps2Coefs.pkl', 'Neurl1bScores.pkl', 'Neurl1bCoefs.pkl', 'Kifc5bScores.pkl', 'Kifc5bCoefs.pkl', 'Pacsin1Scores.pkl', 'Pacsin1Coefs.pkl', 'Cdkn1aScores.pkl', 'Cdkn1aCoefs.pkl', 'Pim1Scores.pkl', 'Pim1Coefs.pkl', 'Abcg1Scores.pkl', 'Abcg1Coefs.pkl', 'Rrp1bScores.pkl', 'Rrp1bCoefs.pkl', 'Myo1fScores.pkl', 'Myo1fCoefs.pkl', 'DaxxScores.pkl', 'DaxxCoefs.pkl', 'H2-Ab1Scores.pkl', 'H2-Ab1Coefs.pkl', 'H2-Eb1Scores.pkl', 'H2-Eb1Coefs.pkl', 'Gm26917Scores.pkl', 'Gm26917Coefs.pkl', 'Chaf1aScores.pkl', 'Chaf1aCoefs.pkl', 'Uhrf1Scores.pkl', 'Uhrf1Coefs.pkl', 'Wdr43Scores.pkl', 'Wdr43Coefs.pkl', 'Ehd3Scores.pkl', 'Ehd3Coefs.pkl', 'Ttc27Scores.pkl', 'Ttc27Coefs.pkl', 'Crim1Scores.pkl', 'Crim1Coefs.pkl', 'Epas1Scores.pkl', 'Epas1Coefs.pkl', 'Usp14Scores.pkl', 'Usp14Coefs.pkl', 'Celf4Scores.pkl', 'Celf4Coefs.pkl', 'Reep5Scores.pkl', 'Reep5Coefs.pkl', 'Cdc25cScores.pkl', 'Cdc25cCoefs.pkl', 'Etf1Scores.pkl', 'Etf1Coefs.pkl', 'Hspa9Scores.pkl', 'Hspa9Coefs.pkl', 'LarsScores.pkl', 'LarsCoefs.pkl', 'Tcof1Scores.pkl', 'Tcof1Coefs.pkl', 'NarsScores.pkl', 'NarsCoefs.pkl', 'Lman1Scores.pkl', 'Lman1Coefs.pkl', 'Spire1Scores.pkl', 'Spire1Coefs.pkl', 'Ska1Scores.pkl', 'Ska1Coefs.pkl', 'Rnf165Scores.pkl', 'Rnf165Coefs.pkl', 'Setbp1Scores.pkl', 'Setbp1Coefs.pkl', 'Snrpd1Scores.pkl', 'Snrpd1Coefs.pkl', 'Rbbp8Scores.pkl', 'Rbbp8Coefs.pkl', 'Wdr36Scores.pkl', 'Wdr36Coefs.pkl', 'Kif20aScores.pkl', 'Kif20aCoefs.pkl', 'Cxxc5Scores.pkl', 'Cxxc5Coefs.pkl', 'Tcerg1Scores.pkl', 'Tcerg1Coefs.pkl', 'Eif1aScores.pkl', 'Eif1aCoefs.pkl', 'Gramd3Scores.pkl', 'Gramd3Coefs.pkl', 'Gm4951Scores.pkl', 'Gm4951Coefs.pkl', 'Iigp1Scores.pkl', 'Iigp1Coefs.pkl', 'Cd74Scores.pkl', 'Cd74Coefs.pkl', 'Pmaip1Scores.pkl', 'Pmaip1Coefs.pkl', 'Impa2Scores.pkl', 'Impa2Coefs.pkl', 'Smad7Scores.pkl', 'Smad7Coefs.pkl', 'Cd226Scores.pkl', 'Cd226Coefs.pkl', 'Malat1Scores.pkl', 'Malat1Coefs.pkl', 'Pola2Scores.pkl', 'Pola2Coefs.pkl', 'Stip1Scores.pkl', 'Stip1Coefs.pkl', 'IncenpScores.pkl', 'IncenpCoefs.pkl', 'Cd6Scores.pkl', 'Cd6Coefs.pkl', 'Psat1Scores.pkl', 'Psat1Coefs.pkl', 'Pum3Scores.pkl', 'Pum3Coefs.pkl', 'Ifit1bl1Scores.pkl', 'Ifit1bl1Coefs.pkl', 'Noc3lScores.pkl', 'Noc3lCoefs.pkl', 'Pdlim1Scores.pkl', 'Pdlim1Coefs.pkl', 'Arhgap19Scores.pkl', 'Arhgap19Coefs.pkl', 'Rrp12Scores.pkl', 'Rrp12Coefs.pkl', 'Exosc1Scores.pkl', 'Exosc1Coefs.pkl', 'Ablim1Scores.pkl', 'Ablim1Coefs.pkl', 'Eif3aScores.pkl', 'Eif3aCoefs.pkl', 'Cdca5Scores.pkl', 'Cdca5Coefs.pkl', 'Rasgrp2Scores.pkl', 'Rasgrp2Coefs.pkl', 'Wdr74Scores.pkl', 'Wdr74Coefs.pkl', 'AhnakScores.pkl', 'AhnakCoefs.pkl', 'Ms4a4cScores.pkl', 'Ms4a4cCoefs.pkl', 'Ms4a4bScores.pkl', 'Ms4a4bCoefs.pkl', 'Gna14Scores.pkl', 'Gna14Coefs.pkl', 'Trpm6Scores.pkl', 'Trpm6Coefs.pkl', 'Rcl1Scores.pkl', 'Rcl1Coefs.pkl', 'Ifit2Scores.pkl', 'Ifit2Coefs.pkl', 'Ifit3Scores.pkl', 'Ifit3Coefs.pkl', 'Ifit1Scores.pkl', 'Ifit1Coefs.pkl', 'Kif20bScores.pkl', 'Kif20bCoefs.pkl', 'Rpp30Scores.pkl', 'Rpp30Coefs.pkl', 'Kif11Scores.pkl', 'Kif11Coefs.pkl', 'Cep55Scores.pkl', 'Cep55Coefs.pkl', 'HellsScores.pkl', 'HellsCoefs.pkl', 'Entpd1Scores.pkl', 'Entpd1Coefs.pkl', 'Pprc1Scores.pkl', 'Pprc1Coefs.pkl', 'Nolc1Scores.pkl', 'Nolc1Coefs.pkl', 'As3mtScores.pkl', 'As3mtCoefs.pkl', 'Pdcd11Scores.pkl', 'Pdcd11Coefs.pkl', 'Add3Scores.pkl', 'Add3Coefs.pkl', 'Dusp5Scores.pkl', 'Dusp5Coefs.pkl', 'Pdcd4Scores.pkl', 'Pdcd4Coefs.pkl', 'Hspa14Scores.pkl', 'Hspa14Coefs.pkl', 'Mcm10Scores.pkl', 'Mcm10Coefs.pkl', 'Hacd1Scores.pkl', 'Hacd1Coefs.pkl', 'NeblScores.pkl', 'NeblCoefs.pkl', 'MastlScores.pkl', 'MastlCoefs.pkl', 'D2Wsu81eScores.pkl', 'D2Wsu81eCoefs.pkl', 'Traf1Scores.pkl', 'Traf1Coefs.pkl', 'Zeb2Scores.pkl', 'Zeb2Coefs.pkl', 'NmiScores.pkl', 'NmiCoefs.pkl', 'Prpf40aScores.pkl', 'Prpf40aCoefs.pkl', 'Nr4a2Scores.pkl', 'Nr4a2Coefs.pkl', 'Dpp4Scores.pkl', 'Dpp4Coefs.pkl', 'Ifih1Scores.pkl', 'Ifih1Coefs.pkl', 'Galnt3Scores.pkl', 'Galnt3Coefs.pkl', 'Spc25Scores.pkl', 'Spc25Coefs.pkl', 'Ola1Scores.pkl', 'Ola1Coefs.pkl', '2700094K13RikScores.pkl', '2700094K13RikCoefs.pkl', 'Cd82Scores.pkl', 'Cd82Coefs.pkl', 'Hsd17b12Scores.pkl', 'Hsd17b12Coefs.pkl', 'Prr5lScores.pkl', 'Prr5lCoefs.pkl', 'Cd44Scores.pkl', 'Cd44Coefs.pkl', 'Arhgap11aScores.pkl', 'Arhgap11aCoefs.pkl', 'Oip5Scores.pkl', 'Oip5Coefs.pkl', 'NcaphScores.pkl', 'NcaphCoefs.pkl', 'Kcnip3Scores.pkl', 'Kcnip3Coefs.pkl', 'Bub1Scores.pkl', 'Bub1Coefs.pkl', 'Ckap2lScores.pkl', 'Ckap2lCoefs.pkl', 'Trmt6Scores.pkl', 'Trmt6Coefs.pkl', 'Snx5Scores.pkl', 'Snx5Coefs.pkl', 'Ovol2Scores.pkl', 'Ovol2Coefs.pkl', 'Bcl2l1Scores.pkl', 'Bcl2l1Coefs.pkl', 'E2f1Scores.pkl', 'E2f1Coefs.pkl', 'Eif2s2Scores.pkl', 'Eif2s2Coefs.pkl', 'Dsn1Scores.pkl', 'Dsn1Coefs.pkl', 'Samhd1Scores.pkl', 'Samhd1Coefs.pkl', 'Rbl1Scores.pkl', 'Rbl1Coefs.pkl', 'Chd6Scores.pkl', 'Chd6Coefs.pkl', 'Serinc3Scores.pkl', 'Serinc3Coefs.pkl', 'Prex1Scores.pkl', 'Prex1Coefs.pkl', 'AurkaScores.pkl', 'AurkaCoefs.pkl', 'Zbp1Scores.pkl', 'Zbp1Coefs.pkl', 'Itih5Scores.pkl', 'Itih5Coefs.pkl', 'PrkcqScores.pkl', 'PrkcqCoefs.pkl', 'Il2raScores.pkl', 'Il2raCoefs.pkl', 'Plxdc2Scores.pkl', 'Plxdc2Coefs.pkl', 'Apbb1ipScores.pkl', 'Apbb1ipCoefs.pkl', 'Pdss1Scores.pkl', 'Pdss1Coefs.pkl', 'Fam102aScores.pkl', 'Fam102aCoefs.pkl', 'Sh2d3cScores.pkl', 'Sh2d3cCoefs.pkl', 'Fam129bScores.pkl', 'Fam129bCoefs.pkl', 'Hspa5Scores.pkl', 'Hspa5Coefs.pkl', 'Nek6Scores.pkl', 'Nek6Coefs.pkl', 'Rif1Scores.pkl', 'Rif1Coefs.pkl', 'Gpd2Scores.pkl', 'Gpd2Coefs.pkl', 'Dapl1Scores.pkl', 'Dapl1Coefs.pkl', 'Hat1Scores.pkl', 'Hat1Coefs.pkl', 'Rapgef4Scores.pkl', 'Rapgef4Coefs.pkl', 'Cdca7Scores.pkl', 'Cdca7Coefs.pkl', 'Mtx2Scores.pkl', 'Mtx2Coefs.pkl', 'Itga4Scores.pkl', 'Itga4Coefs.pkl', 'Zc3h15Scores.pkl', 'Zc3h15Coefs.pkl', 'Slc43a3Scores.pkl', 'Slc43a3Coefs.pkl', 'Ssrp1Scores.pkl', 'Ssrp1Coefs.pkl', 'Ckap5Scores.pkl', 'Ckap5Coefs.pkl', 'Ccdc34Scores.pkl', 'Ccdc34Coefs.pkl', 'Bub1bScores.pkl', 'Bub1bCoefs.pkl', 'KnstrnScores.pkl', 'KnstrnCoefs.pkl', 'Nusap1Scores.pkl', 'Nusap1Coefs.pkl', 'Wdr76Scores.pkl', 'Wdr76Coefs.pkl', 'Eif3j1Scores.pkl', 'Eif3j1Coefs.pkl', 'Slc28a2Scores.pkl', 'Slc28a2Coefs.pkl', 'DutScores.pkl', 'DutCoefs.pkl', 'Bcl2l11Scores.pkl', 'Bcl2l11Coefs.pkl', 'Polr1bScores.pkl', 'Polr1bCoefs.pkl', 'Nop56Scores.pkl', 'Nop56Coefs.pkl', 'Cdc25bScores.pkl', 'Cdc25bCoefs.pkl', 'Mcm8Scores.pkl', 'Mcm8Coefs.pkl', 'Xrn2Scores.pkl', 'Xrn2Coefs.pkl', 'Gins1Scores.pkl', 'Gins1Coefs.pkl', 'Tpx2Scores.pkl', 'Tpx2Coefs.pkl', 'Fam83dScores.pkl', 'Fam83dCoefs.pkl', 'Mybl2Scores.pkl', 'Mybl2Coefs.pkl', 'Tox2Scores.pkl', 'Tox2Coefs.pkl', 'PkigScores.pkl', 'PkigCoefs.pkl', 'Stk4Scores.pkl', 'Stk4Coefs.pkl', 'Cse1lScores.pkl', 'Cse1lCoefs.pkl', 'Ddx27Scores.pkl', 'Ddx27Coefs.pkl', 'Tshz2Scores.pkl', 'Tshz2Coefs.pkl', 'Pfdn4Scores.pkl', 'Pfdn4Coefs.pkl', 'Zfp831Scores.pkl', 'Zfp831Coefs.pkl', 'Mrps28Scores.pkl', 'Mrps28Coefs.pkl', 'Pag1Scores.pkl', 'Pag1Coefs.pkl', 'Pde7aScores.pkl', 'Pde7aCoefs.pkl', 'Ect2Scores.pkl', 'Ect2Coefs.pkl', 'Il21Scores.pkl', 'Il21Coefs.pkl', 'Gucy1a3Scores.pkl', 'Gucy1a3Coefs.pkl', 'Mnd1Scores.pkl', 'Mnd1Coefs.pkl', 'Fam160a1Scores.pkl', 'Fam160a1Coefs.pkl', 'Pmf1Scores.pkl', 'Pmf1Coefs.pkl', 'Il6raScores.pkl', 'Il6raCoefs.pkl', 'Cd160Scores.pkl', 'Cd160Coefs.pkl', 'Cd101Scores.pkl', 'Cd101Coefs.pkl', 'Csf1Scores.pkl', 'Csf1Coefs.pkl', 'Gpsm2Scores.pkl', 'Gpsm2Coefs.pkl', 'S1pr1Scores.pkl', 'S1pr1Coefs.pkl', '5730508B09RikScores.pkl', '5730508B09RikCoefs.pkl', 'Ifi44Scores.pkl', 'Ifi44Coefs.pkl', 'RabggtbScores.pkl', 'RabggtbCoefs.pkl', 'Car2Scores.pkl', 'Car2Coefs.pkl', 'Plk4Scores.pkl', 'Plk4Coefs.pkl', 'Larp1bScores.pkl', 'Larp1bCoefs.pkl', 'Naa15Scores.pkl', 'Naa15Coefs.pkl', 'Dclk1Scores.pkl', 'Dclk1Coefs.pkl', 'Eif2aScores.pkl', 'Eif2aCoefs.pkl', 'Mbnl1Scores.pkl', 'Mbnl1Coefs.pkl', 'GmpsScores.pkl', 'GmpsCoefs.pkl', 'Smc4Scores.pkl', 'Smc4Coefs.pkl', 'Serpini1Scores.pkl', 'Serpini1Coefs.pkl', 'Gpatch4Scores.pkl', 'Gpatch4Coefs.pkl', 'Cct3Scores.pkl', 'Cct3Coefs.pkl', 'PmvkScores.pkl', 'PmvkCoefs.pkl', 'S100a6Scores.pkl', 'S100a6Coefs.pkl', 'Anp32eScores.pkl', 'Anp32eCoefs.pkl', 'Ptpn22Scores.pkl', 'Ptpn22Coefs.pkl', 'Rsbn1Scores.pkl', 'Rsbn1Coefs.pkl', 'Gm42722Scores.pkl', 'Gm42722Coefs.pkl', 'Sass6Scores.pkl', 'Sass6Coefs.pkl', 'Cnn3Scores.pkl', 'Cnn3Coefs.pkl', 'Lef1Scores.pkl', 'Lef1Coefs.pkl', 'CenpeScores.pkl', 'CenpeCoefs.pkl', 'Eif4eScores.pkl', 'Eif4eCoefs.pkl', 'Gbp7Scores.pkl', 'Gbp7Coefs.pkl', 'Depdc1aScores.pkl', 'Depdc1aCoefs.pkl', 'PenkScores.pkl', 'PenkCoefs.pkl', 'NsmafScores.pkl', 'NsmafCoefs.pkl', 'ToxScores.pkl', 'ToxCoefs.pkl', 'Decr1Scores.pkl', 'Decr1Coefs.pkl', 'Cpne3Scores.pkl', 'Cpne3Coefs.pkl', 'Ddx58Scores.pkl', 'Ddx58Coefs.pkl', 'Ubap2Scores.pkl', 'Ubap2Coefs.pkl', 'Tnfsf8Scores.pkl', 'Tnfsf8Coefs.pkl', 'Cdkn2aScores.pkl', 'Cdkn2aCoefs.pkl', 'Jak1Scores.pkl', 'Jak1Coefs.pkl', 'Cdkn2cScores.pkl', 'Cdkn2cCoefs.pkl', 'Rad54lScores.pkl', 'Rad54lCoefs.pkl', 'NaspScores.pkl', 'NaspCoefs.pkl', 'Kif2cScores.pkl', 'Kif2cCoefs.pkl', 'Cdc20Scores.pkl', 'Cdc20Coefs.pkl', 'Ybx1Scores.pkl', 'Ybx1Coefs.pkl', 'PpihScores.pkl', 'PpihCoefs.pkl', 'CtpsScores.pkl', 'CtpsCoefs.pkl', 'Cdca8Scores.pkl', 'Cdca8Coefs.pkl', 'Rbbp4Scores.pkl', 'Rbbp4Coefs.pkl', 'LckScores.pkl', 'LckCoefs.pkl', 'Ccdc28bScores.pkl', 'Ccdc28bCoefs.pkl', 'Rcc1Scores.pkl', 'Rcc1Coefs.pkl', 'Smpdl3bScores.pkl', 'Smpdl3bCoefs.pkl', 'NudcScores.pkl', 'NudcCoefs.pkl', 'Rps6ka1Scores.pkl', 'Rps6ka1Coefs.pkl', 'Hmgn2Scores.pkl', 'Hmgn2Coefs.pkl', 'Srrm1Scores.pkl', 'Srrm1Coefs.pkl', 'Tnfrsf1bScores.pkl', 'Tnfrsf1bCoefs.pkl', 'Apitd1Scores.pkl', 'Apitd1Coefs.pkl', 'Kif1bScores.pkl', 'Kif1bCoefs.pkl', 'Pik3cdScores.pkl', 'Pik3cdCoefs.pkl', 'Park7Scores.pkl', 'Park7Coefs.pkl', 'Thap3Scores.pkl', 'Thap3Coefs.pkl', 'Atad3aScores.pkl', 'Atad3aCoefs.pkl', 'Ccne2Scores.pkl', 'Ccne2Coefs.pkl', 'Rad54bScores.pkl', 'Rad54bCoefs.pkl', 'GemScores.pkl', 'GemCoefs.pkl', 'Mms22lScores.pkl', 'Mms22lCoefs.pkl', 'Ndufaf4Scores.pkl', 'Ndufaf4Coefs.pkl', 'Bach2Scores.pkl', 'Bach2Coefs.pkl', 'Mdn1Scores.pkl', 'Mdn1Coefs.pkl', 'Glipr2Scores.pkl', 'Glipr2Coefs.pkl', 'MelkScores.pkl', 'MelkCoefs.pkl', 'Anp32bScores.pkl', 'Anp32bCoefs.pkl', 'Nr4a3Scores.pkl', 'Nr4a3Coefs.pkl', 'Smc2Scores.pkl', 'Smc2Coefs.pkl', 'MtapScores.pkl', 'MtapCoefs.pkl', 'Ndc1Scores.pkl', 'Ndc1Coefs.pkl', 'Orc1Scores.pkl', 'Orc1Coefs.pkl', 'StilScores.pkl', 'StilCoefs.pkl', 'Eif2b3Scores.pkl', 'Eif2b3Coefs.pkl', 'Hivep3Scores.pkl', 'Hivep3Coefs.pkl', 'Sf3a3Scores.pkl', 'Sf3a3Coefs.pkl', 'ClspnScores.pkl', 'ClspnCoefs.pkl', 'Ak2Scores.pkl', 'Ak2Coefs.pkl', 'YarsScores.pkl', 'YarsCoefs.pkl', 'Snhg12Scores.pkl', 'Snhg12Coefs.pkl', 'Stmn1Scores.pkl', 'Stmn1Coefs.pkl', 'AunipScores.pkl', 'AunipCoefs.pkl', 'Rsrp1Scores.pkl', 'Rsrp1Coefs.pkl', 'Id3Scores.pkl', 'Id3Coefs.pkl', 'E2f2Scores.pkl', 'E2f2Coefs.pkl', 'Luzp1Scores.pkl', 'Luzp1Coefs.pkl', 'Hp1bp3Scores.pkl', 'Hp1bp3Coefs.pkl', 'Rcc2Scores.pkl', 'Rcc2Coefs.pkl', 'Padi2Scores.pkl', 'Padi2Coefs.pkl', 'Tnfrsf9Scores.pkl', 'Tnfrsf9Coefs.pkl', 'Tnfrsf25Scores.pkl', 'Tnfrsf25Coefs.pkl', 'Mrpl20Scores.pkl', 'Mrpl20Coefs.pkl', 'Tnfrsf4Scores.pkl', 'Tnfrsf4Coefs.pkl', 'Noc2lScores.pkl', 'Noc2lCoefs.pkl', 'Dbf4Scores.pkl', 'Dbf4Coefs.pkl', 'Dnajc2Scores.pkl', 'Dnajc2Coefs.pkl', 'Pus7Scores.pkl', 'Pus7Coefs.pkl', 'TymsScores.pkl', 'TymsCoefs.pkl', 'Ppm1gScores.pkl', 'Ppm1gCoefs.pkl', 'Arap2Scores.pkl', 'Arap2Coefs.pkl', 'Rfc1Scores.pkl', 'Rfc1Coefs.pkl', 'TxkScores.pkl', 'TxkCoefs.pkl', 'Ociad2Scores.pkl', 'Ociad2Coefs.pkl', 'PpatScores.pkl', 'PpatCoefs.pkl', 'HopxScores.pkl', 'HopxCoefs.pkl', 'Noa1Scores.pkl', 'Noa1Coefs.pkl', 'Cenpc1Scores.pkl', 'Cenpc1Coefs.pkl', 'Sdad1Scores.pkl', 'Sdad1Coefs.pkl', 'Cxcl10Scores.pkl', 'Cxcl10Coefs.pkl', 'HnrnpdScores.pkl', 'HnrnpdCoefs.pkl', 'HnrnpdlScores.pkl', 'HnrnpdlCoefs.pkl', 'Plac8Scores.pkl', 'Plac8Coefs.pkl', 'Gbp8Scores.pkl', 'Gbp8Coefs.pkl', '2900026A02RikScores.pkl', '2900026A02RikCoefs.pkl', 'SelplgScores.pkl', 'SelplgCoefs.pkl', 'Ssh1Scores.pkl', 'Ssh1Coefs.pkl', 'Dtx1Scores.pkl', 'Dtx1Coefs.pkl', 'Oas1aScores.pkl', 'Oas1aCoefs.pkl', 'Ptpn11Scores.pkl', 'Ptpn11Coefs.pkl', 'Trafd1Scores.pkl', 'Trafd1Coefs.pkl', 'Vps37bScores.pkl', 'Vps37bCoefs.pkl', 'Abcb9Scores.pkl', 'Abcb9Coefs.pkl', 'Rilpl2Scores.pkl', 'Rilpl2Coefs.pkl', 'Scarb1Scores.pkl', 'Scarb1Coefs.pkl', 'UbcScores.pkl', 'UbcCoefs.pkl', 'Lat2Scores.pkl', 'Lat2Coefs.pkl', 'Agfg2Scores.pkl', 'Agfg2Coefs.pkl', 'Mcm7Scores.pkl', 'Mcm7Coefs.pkl', 'Slc7a1Scores.pkl', 'Slc7a1Coefs.pkl', 'N4bp2l1Scores.pkl', 'N4bp2l1Coefs.pkl', 'Rfc3Scores.pkl', 'Rfc3Coefs.pkl', 'Cdk6Scores.pkl', 'Cdk6Coefs.pkl', 'Abcb1aScores.pkl', 'Abcb1aCoefs.pkl', 'Tacc3Scores.pkl', 'Tacc3Coefs.pkl', 'Whsc1Scores.pkl', 'Whsc1Coefs.pkl', 'Add1Scores.pkl', 'Add1Coefs.pkl', 'Crmp1Scores.pkl', 'Crmp1Coefs.pkl', 'LyarScores.pkl', 'LyarCoefs.pkl', 'Cd38Scores.pkl', 'Cd38Coefs.pkl', 'NcapgScores.pkl', 'NcapgCoefs.pkl', 'Dthd1Scores.pkl', 'Dthd1Coefs.pkl', 'Klf3Scores.pkl', 'Klf3Coefs.pkl', 'Ube2kScores.pkl', 'Ube2kCoefs.pkl', 'KitScores.pkl', 'KitCoefs.pkl', 'DckScores.pkl', 'DckCoefs.pkl', 'Art3Scores.pkl', 'Art3Coefs.pkl', 'Sept11Scores.pkl', 'Sept11Coefs.pkl', 'Mrpl1Scores.pkl', 'Mrpl1Coefs.pkl', 'Lrrc8cScores.pkl', 'Lrrc8cCoefs.pkl', 'Ccdc18Scores.pkl', 'Ccdc18Coefs.pkl', 'PoleScores.pkl', 'PoleCoefs.pkl', 'Tpst2Scores.pkl', 'Tpst2Coefs.pkl', 'Oasl2Scores.pkl', 'Oasl2Coefs.pkl', 'Oasl1Scores.pkl', 'Oasl1Coefs.pkl', 'Pop5Scores.pkl', 'Pop5Coefs.pkl', 'CitScores.pkl', 'CitCoefs.pkl', 'Naa25Scores.pkl', 'Naa25Coefs.pkl', 'P2rx7Scores.pkl', 'P2rx7Coefs.pkl', 'Kntc1Scores.pkl', 'Kntc1Coefs.pkl', 'Arl6ip4Scores.pkl', 'Arl6ip4Coefs.pkl', 'Atp6v0a2Scores.pkl', 'Atp6v0a2Coefs.pkl', 'Rfc2Scores.pkl', 'Rfc2Coefs.pkl', 'Baz1bScores.pkl', 'Baz1bCoefs.pkl', 'Hspb1Scores.pkl', 'Hspb1Coefs.pkl', 'Wdr95Scores.pkl', 'Wdr95Coefs.pkl', 'Brca2Scores.pkl', 'Brca2Coefs.pkl', 'Samd9lScores.pkl', 'Samd9lCoefs.pkl', 'Slc25a13Scores.pkl', 'Slc25a13Coefs.pkl', 'Ica1Scores.pkl', 'Ica1Coefs.pkl', 'Ube2hScores.pkl', 'Ube2hCoefs.pkl', 'Parp12Scores.pkl', 'Parp12Coefs.pkl', 'Ezh2Scores.pkl', 'Ezh2Coefs.pkl', 'Gimap6Scores.pkl', 'Gimap6Coefs.pkl', 'Osbpl3Scores.pkl', 'Osbpl3Coefs.pkl', 'Nod1Scores.pkl', 'Nod1Coefs.pkl', 'Il12rb2Scores.pkl', 'Il12rb2Coefs.pkl', 'Il23rScores.pkl', 'Il23rCoefs.pkl', 'Hk2Scores.pkl', 'Hk2Coefs.pkl', 'CnbpScores.pkl', 'CnbpCoefs.pkl', 'Chchd6Scores.pkl', 'Chchd6Coefs.pkl', 'Chchd4Scores.pkl', 'Chchd4Coefs.pkl', 'Lrig1Scores.pkl', 'Lrig1Coefs.pkl', 'Shq1Scores.pkl', 'Shq1Coefs.pkl', 'Atp2b2Scores.pkl', 'Atp2b2Coefs.pkl', 'Klrg1Scores.pkl', 'Klrg1Coefs.pkl', 'Ptpn6Scores.pkl', 'Ptpn6Coefs.pkl', 'Lag3Scores.pkl', 'Lag3Coefs.pkl', 'Ncapd2Scores.pkl', 'Ncapd2Coefs.pkl', 'Cd9Scores.pkl', 'Cd9Coefs.pkl', 'Rad51ap1Scores.pkl', 'Rad51ap1Coefs.pkl', 'Ccnd2Scores.pkl', 'Ccnd2Coefs.pkl', 'BC035044Scores.pkl', 'BC035044Coefs.pkl', '2310001H17RikScores.pkl', '2310001H17RikCoefs.pkl', 'Klrk1Scores.pkl', 'Klrk1Coefs.pkl', 'Klrc1Scores.pkl', 'Klrc1Coefs.pkl', 'Klra5Scores.pkl', 'Klra5Coefs.pkl', 'Klra8Scores.pkl', 'Klra8Coefs.pkl', 'Klra9Scores.pkl', 'Klra9Coefs.pkl', 'Klra7Scores.pkl', 'Klra7Coefs.pkl', 'Klra3Scores.pkl', 'Klra3Coefs.pkl', 'Ybx3Scores.pkl', 'Ybx3Coefs.pkl', 'Bcat1Scores.pkl', 'Bcat1Coefs.pkl', 'Itpr2Scores.pkl', 'Itpr2Coefs.pkl', 'Tmem140Scores.pkl', 'Tmem140Coefs.pkl', 'Nup205Scores.pkl', 'Nup205Coefs.pkl', 'Rab19Scores.pkl', 'Rab19Coefs.pkl', 'Prss2Scores.pkl', 'Prss2Coefs.pkl', 'Gimap8Scores.pkl', 'Gimap8Coefs.pkl', 'Mpp6Scores.pkl', 'Mpp6Coefs.pkl', 'Snx10Scores.pkl', 'Snx10Coefs.pkl', 'Chn2Scores.pkl', 'Chn2Coefs.pkl', 'Wipf3Scores.pkl', 'Wipf3Coefs.pkl', 'Herc6Scores.pkl', 'Herc6Coefs.pkl', 'Mad2l1Scores.pkl', 'Mad2l1Coefs.pkl', 'Gng12Scores.pkl', 'Gng12Coefs.pkl', 'Serbp1Scores.pkl', 'Serbp1Coefs.pkl', 'Vax2Scores.pkl', 'Vax2Coefs.pkl', 'Arl6ip5Scores.pkl', 'Arl6ip5Coefs.pkl', 'Bhlhe40Scores.pkl', 'Bhlhe40Coefs.pkl', 'Fancd2Scores.pkl', 'Fancd2Coefs.pkl', 'Tsen2Scores.pkl', 'Tsen2Coefs.pkl', 'Il17raScores.pkl', 'Il17raCoefs.pkl', 'Usp18Scores.pkl', 'Usp18Coefs.pkl', 'AicdaScores.pkl', 'AicdaCoefs.pkl', 'Chd4Scores.pkl', 'Chd4Coefs.pkl', 'Nop2Scores.pkl', 'Nop2Coefs.pkl', 'Clec2iScores.pkl', 'Clec2iCoefs.pkl', 'Klre1Scores.pkl', 'Klre1Coefs.pkl', 'Klrd1Scores.pkl', 'Klrd1Coefs.pkl', 'LockdScores.pkl', 'LockdCoefs.pkl', 'Lair1Scores.pkl', 'Lair1Coefs.pkl', 'Calm3Scores.pkl', 'Calm3Coefs.pkl', 'Ppp5cScores.pkl', 'Ppp5cCoefs.pkl', 'FosbScores.pkl', 'FosbCoefs.pkl', 'Tomm40Scores.pkl', 'Tomm40Coefs.pkl', 'Pou2f2Scores.pkl', 'Pou2f2Coefs.pkl', 'Cd22Scores.pkl', 'Cd22Coefs.pkl', 'Fxyd5Scores.pkl', 'Fxyd5Coefs.pkl', 'Uba2Scores.pkl', 'Uba2Coefs.pkl', 'Plekhf1Scores.pkl', 'Plekhf1Coefs.pkl', 'Prmt1Scores.pkl', 'Prmt1Coefs.pkl', 'FcgrtScores.pkl', 'FcgrtCoefs.pkl', 'Ruvbl2Scores.pkl', 'Ruvbl2Coefs.pkl', 'Grwd1Scores.pkl', 'Grwd1Coefs.pkl', 'E2f8Scores.pkl', 'E2f8Coefs.pkl', 'Klf13Scores.pkl', 'Klf13Coefs.pkl', 'AU020206Scores.pkl', 'AU020206Coefs.pkl', 'FurinScores.pkl', 'FurinCoefs.pkl', 'BlmScores.pkl', 'BlmCoefs.pkl', 'Abhd17cScores.pkl', 'Abhd17cCoefs.pkl', 'Gm26522Scores.pkl', 'Gm26522Coefs.pkl', 'Tmem135Scores.pkl', 'Tmem135Coefs.pkl', 'EedScores.pkl', 'EedCoefs.pkl', 'Pold3Scores.pkl', 'Pold3Coefs.pkl', 'Trim5Scores.pkl', 'Trim5Coefs.pkl', 'Trim12aScores.pkl', 'Trim12aCoefs.pkl', 'Trim12cScores.pkl', 'Trim12cCoefs.pkl', 'Trim30dScores.pkl', 'Trim30dCoefs.pkl', 'Dkk3Scores.pkl', 'Dkk3Coefs.pkl', 'Psma1Scores.pkl', 'Psma1Coefs.pkl', 'Arl6ip1Scores.pkl', 'Arl6ip1Coefs.pkl', 'Gga2Scores.pkl', 'Gga2Coefs.pkl', 'Kif22Scores.pkl', 'Kif22Coefs.pkl', 'PycardScores.pkl', 'PycardCoefs.pkl', 'Rgs10Scores.pkl', 'Rgs10Coefs.pkl', 'Mki67Scores.pkl', 'Mki67Coefs.pkl', 'HrasScores.pkl', 'HrasCoefs.pkl', 'CarsScores.pkl', 'CarsCoefs.pkl', 'Lig1Scores.pkl', 'Lig1Coefs.pkl', 'Kcnn4Scores.pkl', 'Kcnn4Coefs.pkl', 'Cep89Scores.pkl', 'Cep89Coefs.pkl', '1600014C10RikScores.pkl', '1600014C10RikCoefs.pkl', 'Chsy1Scores.pkl', 'Chsy1Coefs.pkl', 'Igf1rScores.pkl', 'Igf1rCoefs.pkl', 'Isg20Scores.pkl', 'Isg20Coefs.pkl', 'FanciScores.pkl', 'FanciCoefs.pkl', 'TicrrScores.pkl', 'TicrrCoefs.pkl', 'Prc1Scores.pkl', 'Prc1Coefs.pkl', 'Tm6sf1Scores.pkl', 'Tm6sf1Coefs.pkl', 'Sytl2Scores.pkl', 'Sytl2Coefs.pkl', 'Alg8Scores.pkl', 'Alg8Coefs.pkl', 'PrkrirScores.pkl', 'PrkrirCoefs.pkl', 'Rrm1Scores.pkl', 'Rrm1Coefs.pkl', 'Ipo7Scores.pkl', 'Ipo7Coefs.pkl', 'CalcbScores.pkl', 'CalcbCoefs.pkl', 'Plk1Scores.pkl', 'Plk1Coefs.pkl', 'Il21rScores.pkl', 'Il21rCoefs.pkl', 'Hirip3Scores.pkl', 'Hirip3Coefs.pkl', 'ItgalScores.pkl', 'ItgalCoefs.pkl', 'ItgaxScores.pkl', 'ItgaxCoefs.pkl', 'Plekha1Scores.pkl', 'Plekha1Coefs.pkl', 'Glrx3Scores.pkl', 'Glrx3Coefs.pkl', 'Psmd13Scores.pkl', 'Psmd13Coefs.pkl', 'Lsp1Scores.pkl', 'Lsp1Coefs.pkl', 'Tspan32Scores.pkl', 'Tspan32Coefs.pkl', 'Shcbp1Scores.pkl', 'Shcbp1Coefs.pkl', 'Rasa3Scores.pkl', 'Rasa3Coefs.pkl', 'Ckap2Scores.pkl', 'Ckap2Coefs.pkl', 'HgsnatScores.pkl', 'HgsnatCoefs.pkl', 'Mak16Scores.pkl', 'Mak16Coefs.pkl', 'Eri1Scores.pkl', 'Eri1Coefs.pkl', 'Neil3Scores.pkl', 'Neil3Coefs.pkl', 'Tma16Scores.pkl', 'Tma16Coefs.pkl', 'Bst2Scores.pkl', 'Bst2Coefs.pkl', 'Rbmxl1Scores.pkl', 'Rbmxl1Coefs.pkl', 'Abce1Scores.pkl', 'Abce1Coefs.pkl', 'Adgre5Scores.pkl', 'Adgre5Coefs.pkl', 'Neto2Scores.pkl', 'Neto2Coefs.pkl', 'N4bp1Scores.pkl', 'N4bp1Coefs.pkl', 'Tppp3Scores.pkl', 'Tppp3Coefs.pkl', 'Nob1Scores.pkl', 'Nob1Coefs.pkl', 'Psmd7Scores.pkl', 'Psmd7Coefs.pkl', 'Sf3b3Scores.pkl', 'Sf3b3Coefs.pkl', 'Rfwd3Scores.pkl', 'Rfwd3Coefs.pkl', 'Slc7a5Scores.pkl', 'Slc7a5Coefs.pkl', 'Rnf166Scores.pkl', 'Rnf166Coefs.pkl', 'Nup133Scores.pkl', 'Nup133Coefs.pkl', '2810004N23RikScores.pkl', '2810004N23RikCoefs.pkl', 'Arhgef18Scores.pkl', 'Arhgef18Coefs.pkl', 'Cers4Scores.pkl', 'Cers4Coefs.pkl', 'Agpat5Scores.pkl', 'Agpat5Coefs.pkl', 'Mfhas1Scores.pkl', 'Mfhas1Coefs.pkl', 'CenpuScores.pkl', 'CenpuCoefs.pkl', 'Irf2Scores.pkl', 'Irf2Coefs.pkl', '2700029M09RikScores.pkl', '2700029M09RikCoefs.pkl', 'Ddx60Scores.pkl', 'Ddx60Coefs.pkl', 'Naf1Scores.pkl', 'Naf1Coefs.pkl', 'Ankle1Scores.pkl', 'Ankle1Coefs.pkl', 'Inpp4bScores.pkl', 'Inpp4bCoefs.pkl', 'Dnajb1Scores.pkl', 'Dnajb1Coefs.pkl', 'Ddx39Scores.pkl', 'Ddx39Coefs.pkl', 'Asf1bScores.pkl', 'Asf1bCoefs.pkl', 'Orc6Scores.pkl', 'Orc6Coefs.pkl', 'Heatr3Scores.pkl', 'Heatr3Coefs.pkl', 'Rbl2Scores.pkl', 'Rbl2Coefs.pkl', 'Nup93Scores.pkl', 'Nup93Coefs.pkl', 'Adgrg1Scores.pkl', 'Adgrg1Coefs.pkl', 'Prmt7Scores.pkl', 'Prmt7Coefs.pkl', 'Cirh1aScores.pkl', 'Cirh1aCoefs.pkl', 'Nip7Scores.pkl', 'Nip7Coefs.pkl', 'AarsScores.pkl', 'AarsCoefs.pkl', 'CenpnScores.pkl', 'CenpnCoefs.pkl', 'Osgin1Scores.pkl', 'Osgin1Coefs.pkl', 'Usp10Scores.pkl', 'Usp10Coefs.pkl', 'Cdt1Scores.pkl', 'Cdt1Coefs.pkl', 'Nrp1Scores.pkl', 'Nrp1Coefs.pkl', 'Itgb1Scores.pkl', 'Itgb1Coefs.pkl', 'Dnmt1Scores.pkl', 'Dnmt1Coefs.pkl', 'Spc24Scores.pkl', 'Spc24Coefs.pkl', 'AnlnScores.pkl', 'AnlnCoefs.pkl', 'Aplp2Scores.pkl', 'Aplp2Coefs.pkl', 'NrgnScores.pkl', 'NrgnCoefs.pkl', 'CrtamScores.pkl', 'CrtamCoefs.pkl', 'Ubash3bScores.pkl', 'Ubash3bCoefs.pkl', 'Sorl1Scores.pkl', 'Sorl1Coefs.pkl', 'Cxcr5Scores.pkl', 'Cxcr5Coefs.pkl', 'Cd3gScores.pkl', 'Cd3gCoefs.pkl', 'Cd3eScores.pkl', 'Cd3eCoefs.pkl', 'Rexo2Scores.pkl', 'Rexo2Coefs.pkl', 'Ddx10Scores.pkl', 'Ddx10Coefs.pkl', 'Acsbg1Scores.pkl', 'Acsbg1Coefs.pkl', 'Tspan3Scores.pkl', 'Tspan3Coefs.pkl', '1700017B05RikScores.pkl', '1700017B05RikCoefs.pkl', 'PmlScores.pkl', 'PmlCoefs.pkl', 'Kif23Scores.pkl', 'Kif23Coefs.pkl', 'ZwilchScores.pkl', 'ZwilchCoefs.pkl', 'Fam81aScores.pkl', 'Fam81aCoefs.pkl', 'Ccnb2Scores.pkl', 'Ccnb2Coefs.pkl', 'Mb21d1Scores.pkl', 'Mb21d1Coefs.pkl', 'Filip1Scores.pkl', 'Filip1Coefs.pkl', 'Ube2cbpScores.pkl', 'Ube2cbpCoefs.pkl', 'Atp1b3Scores.pkl', 'Atp1b3Coefs.pkl', 'Zbtb38Scores.pkl', 'Zbtb38Coefs.pkl', 'Cdv3Scores.pkl', 'Cdv3Coefs.pkl', 'Cmtm7Scores.pkl', 'Cmtm7Coefs.pkl', 'Casp4Scores.pkl', 'Casp4Coefs.pkl', 'Sesn3Scores.pkl', 'Sesn3Coefs.pkl', 'Taf1dScores.pkl', 'Taf1dCoefs.pkl', 'Thyn1Scores.pkl', 'Thyn1Coefs.pkl', 'Ncapd3Scores.pkl', 'Ncapd3Coefs.pkl', 'Ets1Scores.pkl', 'Ets1Coefs.pkl', 'Mpzl2Scores.pkl', 'Mpzl2Coefs.pkl', 'Amica1Scores.pkl', 'Amica1Coefs.pkl', 'Anp32aScores.pkl', 'Anp32aCoefs.pkl', 'TipinScores.pkl', 'TipinCoefs.pkl', 'Pif1Scores.pkl', 'Pif1Coefs.pkl', '2810417H13RikScores.pkl', '2810417H13RikCoefs.pkl', 'Dapk2Scores.pkl', 'Dapk2Coefs.pkl', 'Car12Scores.pkl', 'Car12Coefs.pkl', 'Anxa2Scores.pkl', 'Anxa2Coefs.pkl', 'Ddx43Scores.pkl', 'Ddx43Coefs.pkl', 'Irak1bp1Scores.pkl', 'Irak1bp1Coefs.pkl', 'TtkScores.pkl', 'TtkCoefs.pkl', 'Nt5eScores.pkl', 'Nt5eCoefs.pkl', 'Topbp1Scores.pkl', 'Topbp1Coefs.pkl', 'Poc1aScores.pkl', 'Poc1aCoefs.pkl', 'Ifrd2Scores.pkl', 'Ifrd2Coefs.pkl', 'TraipScores.pkl', 'TraipCoefs.pkl', 'Impdh2Scores.pkl', 'Impdh2Coefs.pkl', 'Cdc25aScores.pkl', 'Cdc25aCoefs.pkl', 'Smarcc1Scores.pkl', 'Smarcc1Coefs.pkl', 'Gm26614Scores.pkl', 'Gm26614Coefs.pkl', 'EomesScores.pkl', 'EomesCoefs.pkl', 'Kif15Scores.pkl', 'Kif15Coefs.pkl', 'Cxcr6Scores.pkl', 'Cxcr6Coefs.pkl', 'Ccr2Scores.pkl', 'Ccr2Coefs.pkl', 'PISDScores.pkl', 'PISDCoefs.pkl', 'Mbnl3Scores.pkl', 'Mbnl3Coefs.pkl', 'Pola1Scores.pkl', 'Pola1Coefs.pkl', 'Sat1Scores.pkl', 'Sat1Coefs.pkl', 'Prdx4Scores.pkl', 'Prdx4Coefs.pkl', 'Car5bScores.pkl', 'Car5bCoefs.pkl', 'Tlr7Scores.pkl', 'Tlr7Coefs.pkl', 'MaoaScores.pkl', 'MaoaCoefs.pkl', 'Utp14aScores.pkl', 'Utp14aCoefs.pkl', 'Dkc1Scores.pkl', 'Dkc1Coefs.pkl', 'Kif4Scores.pkl', 'Kif4Coefs.pkl', 'CenpiScores.pkl', 'CenpiCoefs.pkl', 'Smc1aScores.pkl', 'Smc1aCoefs.pkl', 'Gpm6bScores.pkl', 'Gpm6bCoefs.pkl', 'Erdr1Scores.pkl', 'Erdr1Coefs.pkl']\n"
     ]
    }
   ],
   "source": [
    "# recover files. \n",
    "path = './linear160'\n",
    "\n",
    "scores = pd.DataFrame()\n",
    "coefs = pd.DataFrame()\n",
    "\n",
    "for (dirpath, dirnames, filenames) in os.walk(path):\n",
    "    print(filenames)\n",
    "    for name in filenames:\n",
    "        with open(path+'/'+name, 'rb') as f:\n",
    "            df = pickle.load(f)\n",
    "        # diff between score and coefs. find out. \n",
    "        if 'Scores' in name:\n",
    "            scores = pd.concat([scores, df])\n",
    "        elif 'Coefs' in name:\n",
    "            coefs = pd.concat([coefs, df])\n",
    "        else: print(name)\n",
    "\n"
   ]
  },
  {
   "cell_type": "code",
   "execution_count": 10,
   "id": "simple-editing",
   "metadata": {},
   "outputs": [
    {
     "data": {
      "text/html": [
       "<div>\n",
       "<style scoped>\n",
       "    .dataframe tbody tr th:only-of-type {\n",
       "        vertical-align: middle;\n",
       "    }\n",
       "\n",
       "    .dataframe tbody tr th {\n",
       "        vertical-align: top;\n",
       "    }\n",
       "\n",
       "    .dataframe thead th {\n",
       "        text-align: right;\n",
       "    }\n",
       "</style>\n",
       "<table border=\"1\" class=\"dataframe\">\n",
       "  <thead>\n",
       "    <tr style=\"text-align: right;\">\n",
       "      <th></th>\n",
       "      <th>estimator</th>\n",
       "      <th>test_r2</th>\n",
       "      <th>train_r2</th>\n",
       "      <th>test_neg_mean_squared_error</th>\n",
       "      <th>train_neg_mean_squared_error</th>\n",
       "      <th>test_proportion</th>\n",
       "      <th>train_proportion</th>\n",
       "      <th>target</th>\n",
       "    </tr>\n",
       "  </thead>\n",
       "  <tbody>\n",
       "    <tr>\n",
       "      <th>0</th>\n",
       "      <td>LinearRegression()</td>\n",
       "      <td>0.217593</td>\n",
       "      <td>0.217910</td>\n",
       "      <td>-0.852493</td>\n",
       "      <td>-0.774070</td>\n",
       "      <td>-0.053228</td>\n",
       "      <td>-0.051912</td>\n",
       "      <td>Mrpl15</td>\n",
       "    </tr>\n",
       "    <tr>\n",
       "      <th>1</th>\n",
       "      <td>LinearRegression()</td>\n",
       "      <td>0.215769</td>\n",
       "      <td>0.218777</td>\n",
       "      <td>-0.758565</td>\n",
       "      <td>-0.783995</td>\n",
       "      <td>-0.072167</td>\n",
       "      <td>-0.050972</td>\n",
       "      <td>Mrpl15</td>\n",
       "    </tr>\n",
       "    <tr>\n",
       "      <th>2</th>\n",
       "      <td>LinearRegression()</td>\n",
       "      <td>0.213166</td>\n",
       "      <td>0.219032</td>\n",
       "      <td>-0.708356</td>\n",
       "      <td>-0.789409</td>\n",
       "      <td>-0.003588</td>\n",
       "      <td>-0.059168</td>\n",
       "      <td>Mrpl15</td>\n",
       "    </tr>\n",
       "    <tr>\n",
       "      <th>3</th>\n",
       "      <td>LinearRegression()</td>\n",
       "      <td>0.173296</td>\n",
       "      <td>0.223257</td>\n",
       "      <td>-0.775271</td>\n",
       "      <td>-0.782051</td>\n",
       "      <td>-0.023435</td>\n",
       "      <td>-0.059516</td>\n",
       "      <td>Mrpl15</td>\n",
       "    </tr>\n",
       "    <tr>\n",
       "      <th>4</th>\n",
       "      <td>LinearRegression()</td>\n",
       "      <td>0.214438</td>\n",
       "      <td>0.218987</td>\n",
       "      <td>-0.824545</td>\n",
       "      <td>-0.776635</td>\n",
       "      <td>-0.048081</td>\n",
       "      <td>-0.060846</td>\n",
       "      <td>Mrpl15</td>\n",
       "    </tr>\n",
       "    <tr>\n",
       "      <th>...</th>\n",
       "      <td>...</td>\n",
       "      <td>...</td>\n",
       "      <td>...</td>\n",
       "      <td>...</td>\n",
       "      <td>...</td>\n",
       "      <td>...</td>\n",
       "      <td>...</td>\n",
       "      <td>...</td>\n",
       "    </tr>\n",
       "    <tr>\n",
       "      <th>5</th>\n",
       "      <td>LinearRegression()</td>\n",
       "      <td>0.604460</td>\n",
       "      <td>0.591539</td>\n",
       "      <td>-0.405958</td>\n",
       "      <td>-0.407230</td>\n",
       "      <td>-0.401877</td>\n",
       "      <td>-0.375668</td>\n",
       "      <td>Erdr1</td>\n",
       "    </tr>\n",
       "    <tr>\n",
       "      <th>6</th>\n",
       "      <td>LinearRegression()</td>\n",
       "      <td>0.608325</td>\n",
       "      <td>0.591011</td>\n",
       "      <td>-0.405212</td>\n",
       "      <td>-0.407356</td>\n",
       "      <td>-0.409564</td>\n",
       "      <td>-0.367290</td>\n",
       "      <td>Erdr1</td>\n",
       "    </tr>\n",
       "    <tr>\n",
       "      <th>7</th>\n",
       "      <td>LinearRegression()</td>\n",
       "      <td>0.593695</td>\n",
       "      <td>0.592771</td>\n",
       "      <td>-0.391349</td>\n",
       "      <td>-0.408850</td>\n",
       "      <td>-0.373567</td>\n",
       "      <td>-0.370174</td>\n",
       "      <td>Erdr1</td>\n",
       "    </tr>\n",
       "    <tr>\n",
       "      <th>8</th>\n",
       "      <td>LinearRegression()</td>\n",
       "      <td>0.549704</td>\n",
       "      <td>0.597355</td>\n",
       "      <td>-0.435753</td>\n",
       "      <td>-0.404028</td>\n",
       "      <td>-0.290597</td>\n",
       "      <td>-0.381290</td>\n",
       "      <td>Erdr1</td>\n",
       "    </tr>\n",
       "    <tr>\n",
       "      <th>9</th>\n",
       "      <td>LinearRegression()</td>\n",
       "      <td>0.559311</td>\n",
       "      <td>0.595866</td>\n",
       "      <td>-0.397333</td>\n",
       "      <td>-0.408350</td>\n",
       "      <td>-0.396521</td>\n",
       "      <td>-0.368565</td>\n",
       "      <td>Erdr1</td>\n",
       "    </tr>\n",
       "  </tbody>\n",
       "</table>\n",
       "<p>11090 rows × 8 columns</p>\n",
       "</div>"
      ],
      "text/plain": [
       "             estimator   test_r2  train_r2  test_neg_mean_squared_error  \\\n",
       "0   LinearRegression()  0.217593  0.217910                    -0.852493   \n",
       "1   LinearRegression()  0.215769  0.218777                    -0.758565   \n",
       "2   LinearRegression()  0.213166  0.219032                    -0.708356   \n",
       "3   LinearRegression()  0.173296  0.223257                    -0.775271   \n",
       "4   LinearRegression()  0.214438  0.218987                    -0.824545   \n",
       "..                 ...       ...       ...                          ...   \n",
       "5   LinearRegression()  0.604460  0.591539                    -0.405958   \n",
       "6   LinearRegression()  0.608325  0.591011                    -0.405212   \n",
       "7   LinearRegression()  0.593695  0.592771                    -0.391349   \n",
       "8   LinearRegression()  0.549704  0.597355                    -0.435753   \n",
       "9   LinearRegression()  0.559311  0.595866                    -0.397333   \n",
       "\n",
       "    train_neg_mean_squared_error  test_proportion  train_proportion  target  \n",
       "0                      -0.774070        -0.053228         -0.051912  Mrpl15  \n",
       "1                      -0.783995        -0.072167         -0.050972  Mrpl15  \n",
       "2                      -0.789409        -0.003588         -0.059168  Mrpl15  \n",
       "3                      -0.782051        -0.023435         -0.059516  Mrpl15  \n",
       "4                      -0.776635        -0.048081         -0.060846  Mrpl15  \n",
       "..                           ...              ...               ...     ...  \n",
       "5                      -0.407230        -0.401877         -0.375668   Erdr1  \n",
       "6                      -0.407356        -0.409564         -0.367290   Erdr1  \n",
       "7                      -0.408850        -0.373567         -0.370174   Erdr1  \n",
       "8                      -0.404028        -0.290597         -0.381290   Erdr1  \n",
       "9                      -0.408350        -0.396521         -0.368565   Erdr1  \n",
       "\n",
       "[11090 rows x 8 columns]"
      ]
     },
     "execution_count": 10,
     "metadata": {},
     "output_type": "execute_result"
    }
   ],
   "source": [
    "scores"
   ]
  },
  {
   "cell_type": "code",
   "execution_count": 11,
   "id": "promotional-tiffany",
   "metadata": {},
   "outputs": [],
   "source": [
    "coefs.to_pickle('linearCoefs160.pkl')\n",
    "scores.to_pickle('linearScores160.pkl')"
   ]
  },
  {
   "cell_type": "code",
   "execution_count": 1,
   "id": "seasonal-posting",
   "metadata": {},
   "outputs": [
    {
     "ename": "NameError",
     "evalue": "name 'velocity_genes' is not defined",
     "output_type": "error",
     "traceback": [
      "\u001b[0;31m---------------------------------------------------------------------------\u001b[0m",
      "\u001b[0;31mNameError\u001b[0m                                 Traceback (most recent call last)",
      "\u001b[0;32m<ipython-input-1-89914f9779c6>\u001b[0m in \u001b[0;36m<module>\u001b[0;34m\u001b[0m\n\u001b[1;32m      1\u001b[0m \u001b[0;31m# Dataset predicting velocity genes, with 8 coefficients from 10 fold cross validation\u001b[0m\u001b[0;34m\u001b[0m\u001b[0;34m\u001b[0m\u001b[0;34m\u001b[0m\u001b[0m\n\u001b[1;32m      2\u001b[0m \u001b[0mpredictors\u001b[0m \u001b[0;34m=\u001b[0m \u001b[0;34m[\u001b[0m\u001b[0;34m'Klf2'\u001b[0m\u001b[0;34m,\u001b[0m \u001b[0;34m'Mcm3'\u001b[0m\u001b[0;34m,\u001b[0m \u001b[0;34m'Mcm5'\u001b[0m\u001b[0;34m,\u001b[0m \u001b[0;34m'Hmgb2'\u001b[0m\u001b[0;34m,\u001b[0m \u001b[0;34m'Cdk4'\u001b[0m\u001b[0;34m,\u001b[0m \u001b[0;34m'Hif1a'\u001b[0m\u001b[0;34m,\u001b[0m \u001b[0;34m'Mcm6'\u001b[0m\u001b[0;34m,\u001b[0m \u001b[0;34m'Tox'\u001b[0m\u001b[0;34m]\u001b[0m\u001b[0;34m\u001b[0m\u001b[0;34m\u001b[0m\u001b[0m\n\u001b[0;32m----> 3\u001b[0;31m \u001b[0mtargets\u001b[0m \u001b[0;34m=\u001b[0m \u001b[0mvelocity_genes\u001b[0m\u001b[0;34m\u001b[0m\u001b[0;34m\u001b[0m\u001b[0m\n\u001b[0m\u001b[1;32m      4\u001b[0m \u001b[0mmodel\u001b[0m \u001b[0;34m=\u001b[0m \u001b[0mLasso\u001b[0m\u001b[0;34m(\u001b[0m\u001b[0malpha\u001b[0m\u001b[0;34m=\u001b[0m\u001b[0;36m0.000013\u001b[0m\u001b[0;34m)\u001b[0m\u001b[0;34m\u001b[0m\u001b[0;34m\u001b[0m\u001b[0m\n\u001b[1;32m      5\u001b[0m \u001b[0;34m\u001b[0m\u001b[0m\n",
      "\u001b[0;31mNameError\u001b[0m: name 'velocity_genes' is not defined"
     ]
    }
   ],
   "source": [
    "# Dataset predicting velocity genes, with 8 coefficients from 10 fold cross validation\n",
    "predictors = ['Klf2', 'Mcm3', 'Mcm5', 'Hmgb2', 'Cdk4', 'Hif1a', 'Mcm6', 'Tox']\n",
    "targets = velocity_genes\n",
    "model = Lasso(alpha=0.000013)\n",
    "\n",
    "dd, d = generating_regressions(model, predictors, targets, 10, 'lasso000013')\n",
    "#d.to_pickle('lasso0_01Regression8.pkl')\n",
    "#dd.to_pickle('lasso0_01RegressionScores8.pkl')\n",
    "notify"
   ]
  },
  {
   "cell_type": "code",
   "execution_count": null,
   "id": "other-farming",
   "metadata": {},
   "outputs": [],
   "source": [
    "d.to_pickle('lasso0_000013Regression8.pkl')\n",
    "dd.to_pickle('lasso0_000013RegressionScores8.pkl')"
   ]
  },
  {
   "cell_type": "markdown",
   "id": "musical-budget",
   "metadata": {},
   "source": [
    "# Cross validation - Lasso regression\n",
    "Plot coefficients against alphas for example."
   ]
  },
  {
   "cell_type": "code",
   "execution_count": 18,
   "id": "arbitrary-democracy",
   "metadata": {},
   "outputs": [
    {
     "data": {
      "text/plain": [
       "(50, 8)"
      ]
     },
     "execution_count": 18,
     "metadata": {},
     "output_type": "execute_result"
    }
   ],
   "source": [
    "lasso = Lasso(max_iter=10000, normalize=True)\n",
    "alphas = 10**np.linspace(-1,-6,50)*0.5\n",
    "\n",
    "\n",
    "coefs = []\n",
    "        # target\n",
    "t = ['Rasgrp2']\n",
    "\n",
    "        # train and test set\n",
    "X, y = vdata[:, transcription8].layers['Ms'], vdata[:, t].layers['velocity']\n",
    "\n",
    "\n",
    "for a in alphas:\n",
    "    lasso.set_params(alpha=a)\n",
    "    lasso.fit(X, y)\n",
    "    coefs.append(lasso.coef_)\n",
    "    \n",
    "np.shape(coefs)"
   ]
  },
  {
   "cell_type": "code",
   "execution_count": 19,
   "id": "extraordinary-astrology",
   "metadata": {},
   "outputs": [
    {
     "data": {
      "text/plain": [
       "Text(0.5, 1.0, \"['Rasgrp2']\")"
      ]
     },
     "execution_count": 19,
     "metadata": {},
     "output_type": "execute_result"
    },
    {
     "data": {
      "image/png": "[encoded data removed]",
      "text/plain": [
       "<Figure size 432x288 with 1 Axes>"
      ]
     },
     "metadata": {
      "needs_background": "light"
     },
     "output_type": "display_data"
    }
   ],
   "source": [
    "ax = plt.gca()\n",
    "ax.plot(alphas, coefs)\n",
    "ax.set_xscale('log')\n",
    "plt.axis('tight')\n",
    "plt.xlabel('alpha')\n",
    "plt.ylabel('weights')\n",
    "ax.set_title(str(t))"
   ]
  },
  {
   "cell_type": "markdown",
   "id": "sunrise-heavy",
   "metadata": {},
   "source": [
    "### Plot coefficients against alphas for all velocity genes"
   ]
  },
  {
   "cell_type": "code",
   "execution_count": null,
   "id": "indie-twins",
   "metadata": {},
   "outputs": [],
   "source": [
    "lasso = Lasso(max_iter=10000, normalize=True)\n",
    "alphas = 10**np.linspace(-1,-6,50)*0.5\n",
    "\n",
    "targets = velocity_genes\n",
    "predictors = transcription8\n",
    "\n",
    "all_coefs = {'alpha': alphas}\n",
    "\n",
    "for g in targets:\n",
    "\n",
    "    coefs = []\n",
    "    # target\n",
    "    t = [g]\n",
    "\n",
    "    # train and test set\n",
    "    X, y = vdata[:, predictors].layers['Ms'], vdata[:, t].layers['velocity']\n",
    "\n",
    "\n",
    "    for a in alphas:\n",
    "        lasso.set_params(alpha=a)\n",
    "        lasso.fit(X, y)\n",
    "        coefs.append(lasso.coef_)\n",
    "      \n",
    "    \n",
    "    all_coefs[g]=coefs\n",
    "    #a = pd.DataFrame(np.hstack((alphas.reshape(-1,1), coefs, len(alphas)*[t])), columns=['alpha']+predictors+['target'])\n",
    "    #all_coefs = all_coefs.append([all_coefs, a])\n",
    "    \n",
    "np.shape(coefs)"
   ]
  },
  {
   "cell_type": "code",
   "execution_count": null,
   "id": "tested-nation",
   "metadata": {},
   "outputs": [],
   "source": [
    "from cycler import cycler"
   ]
  },
  {
   "cell_type": "code",
   "execution_count": null,
   "id": "bigger-creativity",
   "metadata": {},
   "outputs": [],
   "source": [
    "ax = plt.gca()\n",
    "a = all_coefs['alpha']\n",
    "#ax.set_color_cycle(['b', 'g', 'r', 'c', 'm', 'y', 'lightgreen', 'orange'])\n",
    "\n",
    "for t in targets: \n",
    "    \n",
    "    c = all_coefs[t][t]\n",
    "    \n",
    "    ax.plot(a, c)\n",
    "    ax.set_xscale('log')\n",
    "    ax.set_prop_cycle(cycler(color=['blue', 'green', 'red', 'cyan', 'magenta', 'yellow', 'black', 'purple']))\n",
    "    plt.axis('tight')\n",
    "    plt.xlabel('alpha')\n",
    "    plt.ylabel('weights')\n",
    "    ax.set_title(str(t))"
   ]
  },
  {
   "cell_type": "markdown",
   "id": "psychological-webmaster",
   "metadata": {},
   "source": [
    "# Look at finding the best alpha for ridge and lasso. Mainly lasso."
   ]
  },
  {
   "cell_type": "markdown",
   "id": "capable-editor",
   "metadata": {},
   "source": [
    "this is based on: https://www.kaggle.com/floser/aw6-the-lasso-cross-validated"
   ]
  },
  {
   "cell_type": "code",
   "execution_count": null,
   "id": "urban-plate",
   "metadata": {},
   "outputs": [],
   "source": [
    "alpha = []\n",
    "\n",
    "for t in velocity_genes:\n",
    "    \n",
    "    target= t\n",
    "    lasso = Lasso()\n",
    "\n",
    "    X, y = vdata[:, transcription8].layers['Ms'], vdata[:, target].layers['velocity']\n",
    "\n",
    "    X_train, X_test , y_train, y_test = train_test_split(X, y, test_size=0.5, random_state=1)\n",
    "\n",
    "    lassocv = LassoCV(alphas=None, cv=5, max_iter=100000, normalize=True)\n",
    "    lassocv.fit(X_train, y_train)\n",
    "    lasso.set_params(alpha=lassocv.alpha_)\n",
    "    #print(\"Alpha=\", lassocv.alpha_)\n",
    "    lasso.fit(X_train, y_train)\n",
    "    #print(\"mse = \",mean_squared_error(y_test, lasso.predict(X_test)))\n",
    "    #print(\"best model coefficients:\")\n",
    "    #pd.Series(lasso.coef_, index=X.columns)\n",
    "    alpha+= [lassocv.alpha_]"
   ]
  },
  {
   "cell_type": "code",
   "execution_count": null,
   "id": "alternative-jurisdiction",
   "metadata": {},
   "outputs": [],
   "source": [
    "pd.DataFrame(alpha).to_pickle('best_alphas_lasso.pkl')"
   ]
  },
  {
   "cell_type": "code",
   "execution_count": 5,
   "id": "auburn-photograph",
   "metadata": {},
   "outputs": [],
   "source": [
    "# since this takes forever to run, I save the ones from the last one that finally ran through\n",
    "\n",
    "open_file = open('best_alphas_lasso.pkl', \"rb\")\n",
    "alpha = pickle.load(open_file)\n",
    "open_file.close()"
   ]
  },
  {
   "cell_type": "code",
   "execution_count": 6,
   "id": "fitting-disclaimer",
   "metadata": {},
   "outputs": [
    {
     "data": {
      "text/plain": [
       "0    0.000013\n",
       "dtype: float64"
      ]
     },
     "execution_count": 6,
     "metadata": {},
     "output_type": "execute_result"
    }
   ],
   "source": [
    "np.mean(pd.DataFrame(alpha))"
   ]
  },
  {
   "cell_type": "code",
   "execution_count": 7,
   "id": "brilliant-invitation",
   "metadata": {},
   "outputs": [
    {
     "data": {
      "text/plain": [
       "(array([749., 163.,  72.,  30.,  32.,  16.,  15.,   6.,   6.,   6.,   4.,\n",
       "          4.,   0.,   0.,   2.,   0.,   1.,   0.,   1.,   0.,   1.,   0.,\n",
       "          0.,   0.,   0.,   0.,   0.,   0.,   0.,   1.]),\n",
       " array([6.78096006e-07, 1.04815060e-05, 2.02849161e-05, 3.00883261e-05,\n",
       "        3.98917362e-05, 4.96951462e-05, 5.94985562e-05, 6.93019663e-05,\n",
       "        7.91053763e-05, 8.89087863e-05, 9.87121964e-05, 1.08515606e-04,\n",
       "        1.18319016e-04, 1.28122426e-04, 1.37925837e-04, 1.47729247e-04,\n",
       "        1.57532657e-04, 1.67336067e-04, 1.77139477e-04, 1.86942887e-04,\n",
       "        1.96746297e-04, 2.06549707e-04, 2.16353117e-04, 2.26156527e-04,\n",
       "        2.35959937e-04, 2.45763347e-04, 2.55566757e-04, 2.65370167e-04,\n",
       "        2.75173577e-04, 2.84976987e-04, 2.94780397e-04]),\n",
       " <BarContainer object of 30 artists>)"
      ]
     },
     "execution_count": 7,
     "metadata": {},
     "output_type": "execute_result"
    },
    {
     "data": {
      "image/png": "[encoded data removed]",
      "text/plain": [
       "<Figure size 432x288 with 1 Axes>"
      ]
     },
     "metadata": {
      "needs_background": "light"
     },
     "output_type": "display_data"
    }
   ],
   "source": [
    "plt.hist(alpha, bins=30)"
   ]
  },
  {
   "cell_type": "markdown",
   "id": "quick-stream",
   "metadata": {},
   "source": [
    "# Cross validation - Ridge\n",
    "Cross validation with lasso regression; finding the best alpha"
   ]
  },
  {
   "cell_type": "code",
   "execution_count": null,
   "id": "useful-constraint",
   "metadata": {},
   "outputs": [],
   "source": [
    "ridge = Ridge(max_iter=10000, normalize=True)\n",
    "alphas = 10**np.linspace(5,-4,50)*0.5\n",
    "\n",
    "predictors = ['Klf2', 'Mcm3', 'Mcm5', 'Hmgb2', 'Cdk4', 'Hif1a', 'Mcm6', 'Tox']\n",
    "\n",
    "coefs = []\n",
    "        # target\n",
    "t = ['Tox']\n",
    "\n",
    "        # train and test set\n",
    "X, y = vdata[:, predictors].layers['Ms'], vdata[:, t].layers['velocity']\n",
    "\n",
    "\n",
    "for a in alphas:\n",
    "    ridge.set_params(alpha=a)\n",
    "    ridge.fit(X, y)\n",
    "    coefs.append(ridge.coef_.reshape(8,))\n",
    "    \n",
    "np.shape(coefs)"
   ]
  },
  {
   "cell_type": "code",
   "execution_count": null,
   "id": "lonely-compromise",
   "metadata": {},
   "outputs": [],
   "source": [
    "coefs[1].reshape(8,)"
   ]
  },
  {
   "cell_type": "code",
   "execution_count": null,
   "id": "derived-market",
   "metadata": {},
   "outputs": [],
   "source": [
    "np.shape(ridge.coef_.reshape(50,8))"
   ]
  },
  {
   "cell_type": "code",
   "execution_count": null,
   "id": "collectible-cache",
   "metadata": {},
   "outputs": [],
   "source": [
    "ax = plt.gca()\n",
    "ax.plot(alphas, coefs)\n",
    "ax.set_xscale('log')\n",
    "plt.axis('tight')\n",
    "plt.xlabel('alpha')\n",
    "plt.ylabel('weights')\n",
    "ax.set_title(str(t))"
   ]
  },
  {
   "cell_type": "markdown",
   "id": "broad-fitness",
   "metadata": {},
   "source": [
    "### Find best alpha for ridge regression\n",
    "This is not running through. It keeps getting killed. "
   ]
  },
  {
   "cell_type": "code",
   "execution_count": null,
   "id": "superb-blackberry",
   "metadata": {},
   "outputs": [],
   "source": [
    "alpha = []\n",
    "alphas = 10**np.linspace(5,-4,50)*0.5\n",
    "\n",
    "for t in velocity_genes:\n",
    "    \n",
    "    target= t\n",
    "    ridge = Ridge()\n",
    "\n",
    "    X, y = vdata[:, transcription8].layers['Ms'], vdata[:, target].layers['velocity']\n",
    "\n",
    "    X_train, X_test , y_train, y_test = train_test_split(X, y, test_size=0.5, random_state=1)\n",
    "\n",
    "    ridgecv = RidgeCV(alphas=alphas, cv=5, normalize=True)\n",
    "    ridgecv.fit(X_train, y_train)\n",
    "    ridge.set_params(alpha=ridgecv.alpha_)\n",
    "    #print(\"Alpha=\", ridgecv.alpha_)\n",
    "    ridge.fit(X_train, y_train)\n",
    "    #print(\"mse = \",mean_squared_error(y_test, ridge.predict(X_test)))\n",
    "    #print(\"best model coefficients:\")\n",
    "    #pd.Series(ridge.coef_, index=X.columns)\n",
    "    alpha+= [ridgecv.alpha_]"
   ]
  },
  {
   "cell_type": "code",
   "execution_count": null,
   "id": "industrial-general",
   "metadata": {},
   "outputs": [],
   "source": [
    "pd.DataFrame(alpha).to_pickle('best_alphas_ridge.pkl')"
   ]
  },
  {
   "cell_type": "code",
   "execution_count": null,
   "id": "convertible-tattoo",
   "metadata": {},
   "outputs": [],
   "source": [
    "np.mean(pd.DataFrame(alpha))"
   ]
  },
  {
   "cell_type": "markdown",
   "id": "sweet-clinic",
   "metadata": {},
   "source": [
    "# Generating regression data\n",
    "This is how i generated all the regression data saved."
   ]
  },
  {
   "cell_type": "code",
   "execution_count": null,
   "id": "alive-carol",
   "metadata": {},
   "outputs": [],
   "source": [
    "# Dataset containing first 10 velocity genes, with 160 coefficients from 10 fold cross validation\n",
    "\n",
    "predictors = transcription160\n",
    "targets = velocity_genes\n",
    "\n",
    "dd, d = generating_regressions(predictors, targets, 10)\n",
    "d.to_pickle('velocityRegression160.pkl')\n",
    "dd.to_pickle('velocityRegressionScores160.pkl')\n"
   ]
  },
  {
   "cell_type": "code",
   "execution_count": null,
   "id": "curious-manufacturer",
   "metadata": {},
   "outputs": [],
   "source": [
    "# Dataset predicting velocity genes, with 8 coefficients from 10 fold cross validation\n",
    "predictors = ['Klf2', 'Mcm3', 'Mcm5', 'Hmgb2', 'Cdk4', 'Hif1a', 'Mcm6', 'Tox']\n",
    "targets = velocity_genes\n",
    "model = LinearRegression()\n",
    "\n",
    "dd, d = generating_regressions(model, predictors, targets, 10)\n",
    "#d.to_pickle('velocityRegression8.pkl')\n",
    "#dd.to_pickle('velocityRegressionScores8.pkl')\n",
    "notify"
   ]
  },
  {
   "cell_type": "code",
   "execution_count": null,
   "id": "standing-florida",
   "metadata": {},
   "outputs": [],
   "source": [
    "d.to_pickle('velocityRegression8.pkl')\n",
    "dd.to_pickle('velocityRegressionScores8.pkl')\n"
   ]
  },
  {
   "cell_type": "code",
   "execution_count": null,
   "id": "sunrise-delicious",
   "metadata": {},
   "outputs": [],
   "source": [
    "# Dataset predicting velocity genes, with 8 coefficients from 10 fold cross validation\n",
    "predictors = ['Klf2', 'Mcm3', 'Mcm5', 'Hmgb2', 'Cdk4', 'Hif1a', 'Mcm6', 'Tox']\n",
    "targets = velocity_genes\n",
    "model = Ridge()\n",
    "\n",
    "dd, d = generating_regressions(model, predictors, targets, 10)\n",
    "#d.to_pickle('ridgeRegression8.pkl')\n",
    "#dd.to_pickle('ridgeRegressionScores8.pkl')\n",
    "notify"
   ]
  },
  {
   "cell_type": "code",
   "execution_count": null,
   "id": "bearing-saturday",
   "metadata": {},
   "outputs": [],
   "source": [
    "d.to_pickle('ridgeRegression8.pkl')\n",
    "dd.to_pickle('ridgeRegressionScores8.pkl')"
   ]
  },
  {
   "cell_type": "code",
   "execution_count": null,
   "id": "stylish-buddy",
   "metadata": {},
   "outputs": [],
   "source": [
    "# test the residual function. \n",
    "predictors = ['Klf2', 'Mcm3', 'Mcm5', 'Hmgb2', 'Cdk4', 'Hif1a', 'Mcm6', 'Tox']\n",
    "targets = velocity_genes\n",
    "model = Lasso(0.1)\n",
    "\n",
    "dd, d = generating_regressions(model, predictors, targets, 10)\n",
    "#d.to_pickle('velocityRegression8.pkl')\n",
    "#dd.to_pickle('velocityRegressionScores8.pkl')\n"
   ]
  },
  {
   "cell_type": "code",
   "execution_count": null,
   "id": "complex-characterization",
   "metadata": {},
   "outputs": [],
   "source": [
    "d.to_pickle('lassoRegression8.pkl')\n",
    "dd.to_pickle('lassoRegressionScores8.pkl')"
   ]
  },
  {
   "cell_type": "markdown",
   "id": "promising-crawford",
   "metadata": {},
   "source": [
    "## Dataset predicting velocity genes, with 8 coefficients from 10 fold cross validation\n",
    "predictors = ['Klf2', 'Mcm3', 'Mcm5', 'Hmgb2', 'Cdk4', 'Hif1a', 'Mcm6', 'Tox']\n",
    "targets = velocity_genes\n",
    "\n",
    "model = Ridge()\n",
    "\n",
    "scores, coefs = generating_regressions(model, predictors, targets, 10)\n",
    "\n",
    "coefs.to_pickle('ridgeRegression8.pkl')\n",
    "scores.to_pickle('ridgeRegressionScores8.pkl')"
   ]
  },
  {
   "cell_type": "code",
   "execution_count": null,
   "id": "small-straight",
   "metadata": {},
   "outputs": [],
   "source": []
  },
  {
   "cell_type": "markdown",
   "id": "ecological-antenna",
   "metadata": {},
   "source": [
    "irgendwas functionier hier nicht. anschienend sind die werte nicht mehr in trnascription 160 aber es läuft trotzdem nicht. so ein mist. komisch. "
   ]
  },
  {
   "cell_type": "markdown",
   "id": "confirmed-liabilities",
   "metadata": {},
   "source": [
    "####Saved Data\n",
    "\n",
    "`velocityGenes.pkl` and `velocityGenesScores.pkl` \n",
    "\n",
    "predictors: `['Klf2', 'Mcm3', 'Mcm5', 'Hmgb2', 'Cdk4', 'Hif1a', 'Mcm6', 'Tox']`\n",
    "\n",
    "targets: velocity genes\n",
    "\n",
    "\n",
    "\n",
    "`velocityGenes160.pkl` and `velocityGenesScores160.pkl` \n",
    "\n",
    "predictors: `transcription160` without `['Junb', 'mt-Nd1', 'Fgl2', 'mt-Co1', 'mt-Nd4', 'Rraga', 'mt-Nd2']`\n",
    "\n",
    "targets: velocity genes\n",
    "\n",
    "\n",
    "\n",
    "\n",
    "\n"
   ]
  },
  {
   "cell_type": "code",
   "execution_count": null,
   "id": "smart-shoot",
   "metadata": {},
   "outputs": [],
   "source": []
  },
  {
   "cell_type": "markdown",
   "id": "turned-intersection",
   "metadata": {},
   "source": [
    "Also, mit 8 faktoren ist der r2 viel kleiner"
   ]
  },
  {
   "cell_type": "code",
   "execution_count": null,
   "id": "rotary-poultry",
   "metadata": {},
   "outputs": [],
   "source": [
    "dd"
   ]
  },
  {
   "cell_type": "code",
   "execution_count": null,
   "id": "banned-michael",
   "metadata": {
    "scrolled": true
   },
   "outputs": [],
   "source": [
    "d"
   ]
  },
  {
   "cell_type": "code",
   "execution_count": null,
   "id": "strategic-sentence",
   "metadata": {
    "scrolled": false
   },
   "outputs": [],
   "source": [
    "dd.groupby('target').get_group('Mcm3')"
   ]
  },
  {
   "cell_type": "code",
   "execution_count": null,
   "id": "packed-immune",
   "metadata": {},
   "outputs": [],
   "source": [
    "grouped = dd.groupby('target')['test_r2', 'train_r2', 'test_neg_mean_squared_error', 'train_neg_mean_squared_error'].mean()\n",
    "grouped[:20]"
   ]
  },
  {
   "cell_type": "code",
   "execution_count": null,
   "id": "understanding-questionnaire",
   "metadata": {
    "scrolled": true
   },
   "outputs": [],
   "source": [
    "dd.groupby('target').get_group('Mcm3')"
   ]
  },
  {
   "cell_type": "markdown",
   "id": "offshore-priest",
   "metadata": {},
   "source": [
    "Sometimes the training error is larger than the test error. In class this was the case, since some where harder to match than others. the split is at fault."
   ]
  },
  {
   "cell_type": "code",
   "execution_count": null,
   "id": "spatial-import",
   "metadata": {},
   "outputs": [],
   "source": [
    "# r2 values accross all regressions\n",
    "plt.hist([dd.groupby('target')['test_r2'].mean(), dd.groupby('target')['train_r2'].mean()], label = ['test_r2', 'train_r2'])\n",
    "\n",
    "# plot labels\n",
    "plt.title('train and test r2 values')\n",
    "plt.xlabel('r2')\n",
    "plt.ylabel('frequency')\n",
    "plt.legend()"
   ]
  },
  {
   "cell_type": "code",
   "execution_count": null,
   "id": "selected-district",
   "metadata": {},
   "outputs": [],
   "source": [
    "dd.groupby('target').get_group('Mcm3')['estimator'][0].coef_"
   ]
  },
  {
   "cell_type": "code",
   "execution_count": null,
   "id": "internal-color",
   "metadata": {
    "scrolled": true
   },
   "outputs": [],
   "source": [
    "# this is super low. I had better scores with Rasgrp2.\n",
    "# but htis one was also the most significant of all...\n",
    "plt.hist([dd['test_score'], dd['train_score']])"
   ]
  },
  {
   "cell_type": "code",
   "execution_count": null,
   "id": "opened-campaign",
   "metadata": {
    "scrolled": true
   },
   "outputs": [],
   "source": [
    "d = pd.DataFrame()\n",
    "a = pd.DataFrame()\n",
    "\n",
    "for x in scores['estimator']:\n",
    "    a['predictors'], a['coeffecients'], a['target']= predictors, x.coef_[0], target*len(predictors)\n",
    "    d = pd.concat([a,d])\n",
    "d"
   ]
  },
  {
   "cell_type": "code",
   "execution_count": null,
   "id": "deadly-washington",
   "metadata": {},
   "outputs": [],
   "source": [
    "df = pd.DataFrame.from_dict(scores)\n",
    "df"
   ]
  }
 ],
 "metadata": {
  "kernelspec": {
   "display_name": "Python 3",
   "language": "python",
   "name": "python3"
  },
  "language_info": {
   "codemirror_mode": {
    "name": "ipython",
    "version": 3
   },
   "file_extension": ".py",
   "mimetype": "text/x-python",
   "name": "python",
   "nbconvert_exporter": "python",
   "pygments_lexer": "ipython3",
   "version": "3.8.5"
  }
 },
 "nbformat": 4,
 "nbformat_minor": 5
}
