{
 "cells": [
  {
   "cell_type": "code",
   "execution_count": 21,
   "id": "acoustic-cisco",
   "metadata": {},
   "outputs": [],
   "source": [
    "import scvelo as scv\n",
    "import scanpy as sc\n",
    "import numpy as np\n",
    "import pandas as pd\n",
    "import random \n",
    "import matplotlib.pyplot as plt\n",
    "from scipy import stats\n",
    "from sklearn.linear_model import LinearRegression, Lasso\n",
    "from sklearn.model_selection import train_test_split, cross_validate, KFold\n",
    "from sklearn.metrics import explained_variance_score, mean_absolute_error, r2_score, mean_squared_error\n",
    "\n"
   ]
  },
  {
   "cell_type": "code",
   "execution_count": 22,
   "id": "level-furniture",
   "metadata": {},
   "outputs": [],
   "source": [
    "# Load dataset with velocity values\n",
    "vdata = sc.read_h5ad(\"velocity_adata.h5ad\")"
   ]
  },
  {
   "cell_type": "code",
   "execution_count": 23,
   "id": "indirect-focus",
   "metadata": {},
   "outputs": [],
   "source": [
    "# Scale Ms and velocity layer with zero mean and unit variance \n",
    "    # sc.pp.scale adds most recent mean and std as variables to var\n",
    "\n",
    "sc.pp.scale(vdata, layer='Ms')\n",
    "sc.pp.scale(vdata, layer='velocity')"
   ]
  },
  {
   "cell_type": "code",
   "execution_count": 24,
   "id": "periodic-philadelphia",
   "metadata": {},
   "outputs": [],
   "source": [
    "#Split data into train and test\n",
    "    # watch out for time-ordering, randomly choose cells\n",
    "\n",
    "test, train = train_test_split(vdata, test_size=0.5)"
   ]
  },
  {
   "cell_type": "code",
   "execution_count": 25,
   "id": "intelligent-basics",
   "metadata": {},
   "outputs": [],
   "source": [
    "##### Velocity genes\n",
    "# No Ccl5 included, might be nice to check..\n",
    "\n",
    "velocity_genes = vdata.var.index[vdata.var['velocity_genes'] == True].tolist()"
   ]
  },
  {
   "cell_type": "code",
   "execution_count": 26,
   "id": "distant-connecticut",
   "metadata": {},
   "outputs": [],
   "source": [
    "# independent variables \n",
    "    #transcription factors\n",
    "    \n",
    "predictors = ['Klf2', 'Mcm3', 'Mcm5', 'Hmgb2', 'Cdk4', 'Hif1a', 'Mcm6', 'Tox']"
   ]
  },
  {
   "cell_type": "code",
   "execution_count": 49,
   "id": "excessive-kitty",
   "metadata": {},
   "outputs": [],
   "source": [
    "# target\n",
    "target = ['Rasgrp2']\n",
    "#target = velocity_genes"
   ]
  },
  {
   "cell_type": "code",
   "execution_count": 50,
   "id": "tamil-poverty",
   "metadata": {},
   "outputs": [],
   "source": [
    "# train and test set\n",
    "X_train, y_train= train[:, predictors].layers['Ms'], train[:, target].layers['velocity']\n",
    "X_test, y_test = test[:, predictors].layers['Ms'], test[:, target].layers['velocity']"
   ]
  },
  {
   "cell_type": "code",
   "execution_count": 51,
   "id": "resident-retreat",
   "metadata": {},
   "outputs": [],
   "source": [
    "# simple linear regression\n",
    "lin = LinearRegression()\n",
    "# prepare cross validation, data shuffled before split into batches\n",
    "cv = KFold(n_splits=10, shuffle=True, random_state=42)\n",
    "\n",
    "scores = cross_validate(lin, X_train, y_train, cv=10, return_train_score=True, return_estimator=True)"
   ]
  },
  {
   "cell_type": "code",
   "execution_count": 76,
   "id": "ordered-journalism",
   "metadata": {},
   "outputs": [
    {
     "data": {
      "text/plain": [
       "-0.6617897"
      ]
     },
     "execution_count": 76,
     "metadata": {},
     "output_type": "execute_result"
    }
   ],
   "source": [
    "scores['estimator'][0].coef_[0]"
   ]
  },
  {
   "cell_type": "raw",
   "id": "lined-valve",
   "metadata": {},
   "source": []
  },
  {
   "cell_type": "code",
   "execution_count": 72,
   "id": "million-recorder",
   "metadata": {},
   "outputs": [
    {
     "ename": "TypeError",
     "evalue": "'LinearRegression' object is not subscriptable",
     "output_type": "error",
     "traceback": [
      "\u001b[0;31m---------------------------------------------------------------------------\u001b[0m",
      "\u001b[0;31mTypeError\u001b[0m                                 Traceback (most recent call last)",
      "\u001b[0;32m<ipython-input-72-1c4847c275d6>\u001b[0m in \u001b[0;36m<module>\u001b[0;34m\u001b[0m\n\u001b[0;32m----> 1\u001b[0;31m \u001b[0mx\u001b[0m\u001b[0;34m[\u001b[0m\u001b[0;36m0\u001b[0m\u001b[0;34m]\u001b[0m\u001b[0;34m.\u001b[0m\u001b[0mcoef_\u001b[0m\u001b[0;34m\u001b[0m\u001b[0;34m\u001b[0m\u001b[0m\n\u001b[0m",
      "\u001b[0;31mTypeError\u001b[0m: 'LinearRegression' object is not subscriptable"
     ]
    }
   ],
   "source": [
    "x"
   ]
  },
  {
   "cell_type": "code",
   "execution_count": 78,
   "id": "opened-campaign",
   "metadata": {},
   "outputs": [
    {
     "data": {
      "text/html": [
       "<div>\n",
       "<style scoped>\n",
       "    .dataframe tbody tr th:only-of-type {\n",
       "        vertical-align: middle;\n",
       "    }\n",
       "\n",
       "    .dataframe tbody tr th {\n",
       "        vertical-align: top;\n",
       "    }\n",
       "\n",
       "    .dataframe thead th {\n",
       "        text-align: right;\n",
       "    }\n",
       "</style>\n",
       "<table border=\"1\" class=\"dataframe\">\n",
       "  <thead>\n",
       "    <tr style=\"text-align: right;\">\n",
       "      <th></th>\n",
       "      <th>predictors</th>\n",
       "      <th>coeffecients</th>\n",
       "      <th>target</th>\n",
       "    </tr>\n",
       "  </thead>\n",
       "  <tbody>\n",
       "    <tr>\n",
       "      <th>0</th>\n",
       "      <td>Klf2</td>\n",
       "      <td>-0.675841</td>\n",
       "      <td>Rasgrp2</td>\n",
       "    </tr>\n",
       "    <tr>\n",
       "      <th>1</th>\n",
       "      <td>Mcm3</td>\n",
       "      <td>0.061999</td>\n",
       "      <td>Rasgrp2</td>\n",
       "    </tr>\n",
       "    <tr>\n",
       "      <th>2</th>\n",
       "      <td>Mcm5</td>\n",
       "      <td>0.368303</td>\n",
       "      <td>Rasgrp2</td>\n",
       "    </tr>\n",
       "    <tr>\n",
       "      <th>3</th>\n",
       "      <td>Hmgb2</td>\n",
       "      <td>-0.106418</td>\n",
       "      <td>Rasgrp2</td>\n",
       "    </tr>\n",
       "    <tr>\n",
       "      <th>4</th>\n",
       "      <td>Cdk4</td>\n",
       "      <td>0.021830</td>\n",
       "      <td>Rasgrp2</td>\n",
       "    </tr>\n",
       "    <tr>\n",
       "      <th>5</th>\n",
       "      <td>Hif1a</td>\n",
       "      <td>0.141057</td>\n",
       "      <td>Rasgrp2</td>\n",
       "    </tr>\n",
       "    <tr>\n",
       "      <th>6</th>\n",
       "      <td>Mcm6</td>\n",
       "      <td>-0.273151</td>\n",
       "      <td>Rasgrp2</td>\n",
       "    </tr>\n",
       "    <tr>\n",
       "      <th>7</th>\n",
       "      <td>Tox</td>\n",
       "      <td>-0.128748</td>\n",
       "      <td>Rasgrp2</td>\n",
       "    </tr>\n",
       "  </tbody>\n",
       "</table>\n",
       "</div>"
      ],
      "text/plain": [
       "  predictors  coeffecients   target\n",
       "0       Klf2     -0.675841  Rasgrp2\n",
       "1       Mcm3      0.061999  Rasgrp2\n",
       "2       Mcm5      0.368303  Rasgrp2\n",
       "3      Hmgb2     -0.106418  Rasgrp2\n",
       "4       Cdk4      0.021830  Rasgrp2\n",
       "5      Hif1a      0.141057  Rasgrp2\n",
       "6       Mcm6     -0.273151  Rasgrp2\n",
       "7        Tox     -0.128748  Rasgrp2"
      ]
     },
     "execution_count": 78,
     "metadata": {},
     "output_type": "execute_result"
    }
   ],
   "source": [
    "d = pd.DataFrame()\n",
    "for x in scores['estimator']:\n",
    "    d['predictors'], d['coeffecients'], d['target']= predictors, x.coef_[0], target*len(predictors)\n",
    "d"
   ]
  },
  {
   "cell_type": "code",
   "execution_count": 44,
   "id": "deadly-washington",
   "metadata": {},
   "outputs": [
    {
     "data": {
      "text/html": [
       "<div>\n",
       "<style scoped>\n",
       "    .dataframe tbody tr th:only-of-type {\n",
       "        vertical-align: middle;\n",
       "    }\n",
       "\n",
       "    .dataframe tbody tr th {\n",
       "        vertical-align: top;\n",
       "    }\n",
       "\n",
       "    .dataframe thead th {\n",
       "        text-align: right;\n",
       "    }\n",
       "</style>\n",
       "<table border=\"1\" class=\"dataframe\">\n",
       "  <thead>\n",
       "    <tr style=\"text-align: right;\">\n",
       "      <th></th>\n",
       "      <th>fit_time</th>\n",
       "      <th>score_time</th>\n",
       "      <th>estimator</th>\n",
       "      <th>test_score</th>\n",
       "      <th>train_score</th>\n",
       "    </tr>\n",
       "  </thead>\n",
       "  <tbody>\n",
       "    <tr>\n",
       "      <th>0</th>\n",
       "      <td>0.011511</td>\n",
       "      <td>0.001817</td>\n",
       "      <td>LinearRegression()</td>\n",
       "      <td>0.463953</td>\n",
       "      <td>0.465921</td>\n",
       "    </tr>\n",
       "    <tr>\n",
       "      <th>1</th>\n",
       "      <td>0.011618</td>\n",
       "      <td>0.001018</td>\n",
       "      <td>LinearRegression()</td>\n",
       "      <td>0.474662</td>\n",
       "      <td>0.464682</td>\n",
       "    </tr>\n",
       "    <tr>\n",
       "      <th>2</th>\n",
       "      <td>0.008431</td>\n",
       "      <td>0.000993</td>\n",
       "      <td>LinearRegression()</td>\n",
       "      <td>0.483006</td>\n",
       "      <td>0.463743</td>\n",
       "    </tr>\n",
       "    <tr>\n",
       "      <th>3</th>\n",
       "      <td>0.003038</td>\n",
       "      <td>0.000957</td>\n",
       "      <td>LinearRegression()</td>\n",
       "      <td>0.429439</td>\n",
       "      <td>0.469900</td>\n",
       "    </tr>\n",
       "    <tr>\n",
       "      <th>4</th>\n",
       "      <td>0.002970</td>\n",
       "      <td>0.000837</td>\n",
       "      <td>LinearRegression()</td>\n",
       "      <td>0.443382</td>\n",
       "      <td>0.468335</td>\n",
       "    </tr>\n",
       "    <tr>\n",
       "      <th>5</th>\n",
       "      <td>0.002816</td>\n",
       "      <td>0.000867</td>\n",
       "      <td>LinearRegression()</td>\n",
       "      <td>0.454684</td>\n",
       "      <td>0.467109</td>\n",
       "    </tr>\n",
       "    <tr>\n",
       "      <th>6</th>\n",
       "      <td>0.002733</td>\n",
       "      <td>0.000780</td>\n",
       "      <td>LinearRegression()</td>\n",
       "      <td>0.498337</td>\n",
       "      <td>0.462133</td>\n",
       "    </tr>\n",
       "    <tr>\n",
       "      <th>7</th>\n",
       "      <td>0.002645</td>\n",
       "      <td>0.000755</td>\n",
       "      <td>LinearRegression()</td>\n",
       "      <td>0.456556</td>\n",
       "      <td>0.466699</td>\n",
       "    </tr>\n",
       "    <tr>\n",
       "      <th>8</th>\n",
       "      <td>0.002493</td>\n",
       "      <td>0.000733</td>\n",
       "      <td>LinearRegression()</td>\n",
       "      <td>0.488514</td>\n",
       "      <td>0.463152</td>\n",
       "    </tr>\n",
       "    <tr>\n",
       "      <th>9</th>\n",
       "      <td>0.002509</td>\n",
       "      <td>0.000731</td>\n",
       "      <td>LinearRegression()</td>\n",
       "      <td>0.443097</td>\n",
       "      <td>0.468058</td>\n",
       "    </tr>\n",
       "  </tbody>\n",
       "</table>\n",
       "</div>"
      ],
      "text/plain": [
       "   fit_time  score_time           estimator  test_score  train_score\n",
       "0  0.011511    0.001817  LinearRegression()    0.463953     0.465921\n",
       "1  0.011618    0.001018  LinearRegression()    0.474662     0.464682\n",
       "2  0.008431    0.000993  LinearRegression()    0.483006     0.463743\n",
       "3  0.003038    0.000957  LinearRegression()    0.429439     0.469900\n",
       "4  0.002970    0.000837  LinearRegression()    0.443382     0.468335\n",
       "5  0.002816    0.000867  LinearRegression()    0.454684     0.467109\n",
       "6  0.002733    0.000780  LinearRegression()    0.498337     0.462133\n",
       "7  0.002645    0.000755  LinearRegression()    0.456556     0.466699\n",
       "8  0.002493    0.000733  LinearRegression()    0.488514     0.463152\n",
       "9  0.002509    0.000731  LinearRegression()    0.443097     0.468058"
      ]
     },
     "execution_count": 44,
     "metadata": {},
     "output_type": "execute_result"
    }
   ],
   "source": [
    "df = pd.DataFrame.from_dict(scores)\n",
    "df"
   ]
  }
 ],
 "metadata": {
  "kernelspec": {
   "display_name": "Python 3",
   "language": "python",
   "name": "python3"
  },
  "language_info": {
   "codemirror_mode": {
    "name": "ipython",
    "version": 3
   },
   "file_extension": ".py",
   "mimetype": "text/x-python",
   "name": "python",
   "nbconvert_exporter": "python",
   "pygments_lexer": "ipython3",
   "version": "3.8.5"
  }
 },
 "nbformat": 4,
 "nbformat_minor": 5
}
