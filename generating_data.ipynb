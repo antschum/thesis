{
 "cells": [
  {
   "cell_type": "code",
   "execution_count": 1,
   "id": "acoustic-cisco",
   "metadata": {},
   "outputs": [],
   "source": [
    "import scvelo as scv\n",
    "import scanpy as sc\n",
    "import numpy as np\n",
    "import pandas as pd\n",
    "import random \n",
    "import pickle\n",
    "import matplotlib.pyplot as plt\n",
    "from scipy import stats\n",
    "from sklearn.linear_model import LinearRegression, Lasso, Ridge \n",
    "from sklearn.model_selection import train_test_split, cross_validate, KFold\n",
    "from sklearn.linear_model import Lasso, LassoCV, Ridge, RidgeCV \n",
    "from sklearn.metrics import explained_variance_score, mean_absolute_error, r2_score, mean_squared_error, make_scorer\n"
   ]
  },
  {
   "cell_type": "code",
   "execution_count": 2,
   "id": "reserved-exhibition",
   "metadata": {},
   "outputs": [],
   "source": [
    "# this will play a sound once the cell has finished running\n",
    "from IPython.display import Audio\n",
    "sound_file = 'sound/badaboing.wav'\n",
    "\n",
    "notify=Audio(filename=sound_file, autoplay=True)"
   ]
  },
  {
   "cell_type": "code",
   "execution_count": 3,
   "id": "level-furniture",
   "metadata": {},
   "outputs": [],
   "source": [
    "# Load dataset with velocity values\n",
    "vdata = sc.read_h5ad(\"velocity_adata.h5ad\")"
   ]
  },
  {
   "cell_type": "code",
   "execution_count": 4,
   "id": "indirect-focus",
   "metadata": {},
   "outputs": [],
   "source": [
    "# Scale Ms and velocity layer with zero mean and unit variance \n",
    "    # sc.pp.scale adds most recent mean and std as variables to var\n",
    "\n",
    "sc.pp.scale(vdata, layer='Ms')\n",
    "sc.pp.scale(vdata, layer='velocity')"
   ]
  },
  {
   "cell_type": "code",
   "execution_count": 5,
   "id": "intelligent-basics",
   "metadata": {},
   "outputs": [],
   "source": [
    "# Velocity genes\n",
    "# No Ccl5 included..\n",
    "\n",
    "velocity_genes = vdata.var.index[vdata.var['velocity_genes'] == True].tolist()\n",
    "\n",
    "transcription8 = ['Klf2', 'Mcm3', 'Mcm5', 'Hmgb2', 'Cdk4', 'Hif1a', 'Mcm6', 'Tox']\n",
    "\n"
   ]
  },
  {
   "cell_type": "code",
   "execution_count": 6,
   "id": "weighted-equality",
   "metadata": {},
   "outputs": [],
   "source": [
    "# load 160 transcriptionfactors\n",
    "open_file = open('transcriptionfactors160.pkl', \"rb\")\n",
    "transcription160 = pickle.load(open_file)\n",
    "open_file.close()"
   ]
  },
  {
   "cell_type": "code",
   "execution_count": 7,
   "id": "passive-marine",
   "metadata": {},
   "outputs": [],
   "source": [
    "# remove factors not available in vdata.var_names\n",
    "for x in  ['Junb', 'mt-Nd1', 'Fgl2', 'mt-Co1', 'mt-Nd4', 'Rraga', 'mt-Nd2']:\n",
    "    if x in transcription160:\n",
    "        transcription160.remove(x)"
   ]
  },
  {
   "cell_type": "code",
   "execution_count": 8,
   "id": "major-colonial",
   "metadata": {},
   "outputs": [],
   "source": [
    "def proportion(y, y_pred):\n",
    "    return abs(y_pred-y).sum()/abs(y).sum()"
   ]
  },
  {
   "cell_type": "code",
   "execution_count": 9,
   "id": "fewer-display",
   "metadata": {},
   "outputs": [],
   "source": [
    "def generating_regressions(model, predictors, targets, n_splits):\n",
    "\n",
    "    coefs = pd.DataFrame()\n",
    "    temp = pd.DataFrame()\n",
    "    scores = pd.DataFrame()\n",
    "\n",
    "    #paralization\n",
    "    for g in targets:\n",
    "\n",
    "        # target\n",
    "        t = [g]\n",
    "\n",
    "        # train and test set\n",
    "        X, y = vdata[:, predictors].layers['Ms'], vdata[:, t].layers['velocity']\n",
    "\n",
    "        # prepare cross validation, data shuffled before split into batches\n",
    "        cv = KFold(n_splits=n_splits, shuffle=True, random_state=42)\n",
    "\n",
    "        # I could define my own scorer object; since error, want to minimize it -> the smaller the values the better. \n",
    "        s = cross_validate(model, X, y, cv=cv, scoring = {'r2': 'r2', 'neg_mean_squared_error':'neg_mean_squared_error', 'proportion': make_scorer(proportion)}, return_train_score=True, return_estimator=True, n_jobs=-1)\n",
    "\n",
    "        for x in s['estimator']:\n",
    "            temp['predictors'], temp['coefficients'], temp['target']= predictors, x.coef_[0], t*len(predictors)\n",
    "            coefs = pd.concat([temp,coefs])\n",
    "        \n",
    "        #store results for each gene at the end of the loop before going on to the next gene. \n",
    "\n",
    "        # removing unnecessary fit and score times\n",
    "        s.pop('fit_time', None)\n",
    "        s.pop('score_time',None)\n",
    "\n",
    "        df = pd.DataFrame.from_dict(s)\n",
    "        df['target'] = t*n_splits\n",
    "        scores = pd.concat([df, scores])\n",
    "    return scores, coefs"
   ]
  },
  {
   "cell_type": "markdown",
   "id": "peaceful-desire",
   "metadata": {},
   "source": [
    "I would like for this to run through, but it keeps getting killed before. In Jupyter the kernel keeps restarting and in the terminal it just sais killed. "
   ]
  },
  {
   "cell_type": "code",
   "execution_count": null,
   "id": "seasonal-posting",
   "metadata": {},
   "outputs": [],
   "source": [
    "# Dataset predicting velocity genes, with 8 coefficients from 10 fold cross validation\n",
    "predictors = ['Klf2', 'Mcm3', 'Mcm5', 'Hmgb2', 'Cdk4', 'Hif1a', 'Mcm6', 'Tox']\n",
    "targets = velocity_genes[:300]\n",
    "model = Lasso(alpha=0.000013)\n",
    "\n",
    "dd, d = generating_regressions(model, predictors, targets, 10)\n",
    "#d.to_pickle('lasso0_01Regression8.pkl')\n",
    "#dd.to_pickle('lasso0_01RegressionScores8.pkl')\n",
    "notify"
   ]
  },
  {
   "cell_type": "code",
   "execution_count": null,
   "id": "other-farming",
   "metadata": {},
   "outputs": [],
   "source": [
    "d.to_pickle('lasso0_000013Regression8.pkl')\n",
    "dd.to_pickle('lasso0_000013RegressionScores8.pkl')"
   ]
  },
  {
   "cell_type": "markdown",
   "id": "concrete-skirt",
   "metadata": {},
   "source": [
    "# Cross validation - Lasso regression\n",
    "Plot coefficients against alphas for example."
   ]
  },
  {
   "cell_type": "code",
   "execution_count": 18,
   "id": "extended-scout",
   "metadata": {},
   "outputs": [
    {
     "data": {
      "text/plain": [
       "(50, 8)"
      ]
     },
     "execution_count": 18,
     "metadata": {},
     "output_type": "execute_result"
    }
   ],
   "source": [
    "lasso = Lasso(max_iter=10000, normalize=True)\n",
    "alphas = 10**np.linspace(-1,-6,50)*0.5\n",
    "\n",
    "\n",
    "coefs = []\n",
    "        # target\n",
    "t = ['Rasgrp2']\n",
    "\n",
    "        # train and test set\n",
    "X, y = vdata[:, transcription8].layers['Ms'], vdata[:, t].layers['velocity']\n",
    "\n",
    "\n",
    "for a in alphas:\n",
    "    lasso.set_params(alpha=a)\n",
    "    lasso.fit(X, y)\n",
    "    coefs.append(lasso.coef_)\n",
    "    \n",
    "np.shape(coefs)"
   ]
  },
  {
   "cell_type": "code",
   "execution_count": 19,
   "id": "accepting-elite",
   "metadata": {},
   "outputs": [
    {
     "data": {
      "text/plain": [
       "Text(0.5, 1.0, \"['Rasgrp2']\")"
      ]
     },
     "execution_count": 19,
     "metadata": {},
     "output_type": "execute_result"
    },
    {
     "data": {
      "image/png": "[encoded data removed]",
      "text/plain": [
       "<Figure size 432x288 with 1 Axes>"
      ]
     },
     "metadata": {
      "needs_background": "light"
     },
     "output_type": "display_data"
    }
   ],
   "source": [
    "ax = plt.gca()\n",
    "ax.plot(alphas, coefs)\n",
    "ax.set_xscale('log')\n",
    "plt.axis('tight')\n",
    "plt.xlabel('alpha')\n",
    "plt.ylabel('weights')\n",
    "ax.set_title(str(t))"
   ]
  },
  {
   "cell_type": "markdown",
   "id": "global-beach",
   "metadata": {},
   "source": [
    "### Plot coefficients against alphas for all velocity genes"
   ]
  },
  {
   "cell_type": "code",
   "execution_count": null,
   "id": "demographic-infrared",
   "metadata": {},
   "outputs": [],
   "source": [
    "lasso = Lasso(max_iter=10000, normalize=True)\n",
    "alphas = 10**np.linspace(-1,-6,50)*0.5\n",
    "\n",
    "targets = velocity_genes\n",
    "predictors = transcription8\n",
    "\n",
    "all_coefs = {'alpha': alphas}\n",
    "\n",
    "for g in targets:\n",
    "\n",
    "    coefs = []\n",
    "    # target\n",
    "    t = [g]\n",
    "\n",
    "    # train and test set\n",
    "    X, y = vdata[:, predictors].layers['Ms'], vdata[:, t].layers['velocity']\n",
    "\n",
    "\n",
    "    for a in alphas:\n",
    "        lasso.set_params(alpha=a)\n",
    "        lasso.fit(X, y)\n",
    "        coefs.append(lasso.coef_)\n",
    "      \n",
    "    \n",
    "    all_coefs[g]=coefs\n",
    "    #a = pd.DataFrame(np.hstack((alphas.reshape(-1,1), coefs, len(alphas)*[t])), columns=['alpha']+predictors+['target'])\n",
    "    #all_coefs = all_coefs.append([all_coefs, a])\n",
    "    \n",
    "np.shape(coefs)"
   ]
  },
  {
   "cell_type": "code",
   "execution_count": null,
   "id": "empty-tooth",
   "metadata": {},
   "outputs": [],
   "source": [
    "from cycler import cycler"
   ]
  },
  {
   "cell_type": "code",
   "execution_count": null,
   "id": "atlantic-outdoors",
   "metadata": {},
   "outputs": [],
   "source": [
    "ax = plt.gca()\n",
    "a = all_coefs['alpha']\n",
    "#ax.set_color_cycle(['b', 'g', 'r', 'c', 'm', 'y', 'lightgreen', 'orange'])\n",
    "\n",
    "for t in targets: \n",
    "    \n",
    "    c = all_coefs[t][t]\n",
    "    \n",
    "    ax.plot(a, c)\n",
    "    ax.set_xscale('log')\n",
    "    ax.set_prop_cycle(cycler(color=['blue', 'green', 'red', 'cyan', 'magenta', 'yellow', 'black', 'purple']))\n",
    "    plt.axis('tight')\n",
    "    plt.xlabel('alpha')\n",
    "    plt.ylabel('weights')\n",
    "    ax.set_title(str(t))"
   ]
  },
  {
   "cell_type": "markdown",
   "id": "upper-manufacturer",
   "metadata": {},
   "source": [
    "## Finding the best alpha lasso"
   ]
  },
  {
   "cell_type": "markdown",
   "id": "million-longitude",
   "metadata": {},
   "source": [
    "this is based on: https://www.kaggle.com/floser/aw6-the-lasso-cross-validated"
   ]
  },
  {
   "cell_type": "code",
   "execution_count": null,
   "id": "interpreted-conducting",
   "metadata": {},
   "outputs": [],
   "source": [
    "alpha = []\n",
    "\n",
    "for t in velocity_genes:\n",
    "    \n",
    "    target= t\n",
    "    lasso = Lasso()\n",
    "\n",
    "    X, y = vdata[:, transcription8].layers['Ms'], vdata[:, target].layers['velocity']\n",
    "\n",
    "    X_train, X_test , y_train, y_test = train_test_split(X, y, test_size=0.5, random_state=1)\n",
    "\n",
    "    lassocv = LassoCV(alphas=None, cv=5, max_iter=100000, normalize=True)\n",
    "    lassocv.fit(X_train, y_train)\n",
    "    lasso.set_params(alpha=lassocv.alpha_)\n",
    "    #print(\"Alpha=\", lassocv.alpha_)\n",
    "    lasso.fit(X_train, y_train)\n",
    "    #print(\"mse = \",mean_squared_error(y_test, lasso.predict(X_test)))\n",
    "    #print(\"best model coefficients:\")\n",
    "    #pd.Series(lasso.coef_, index=X.columns)\n",
    "    alpha+= [lassocv.alpha_]"
   ]
  },
  {
   "cell_type": "code",
   "execution_count": null,
   "id": "experimental-tenant",
   "metadata": {},
   "outputs": [],
   "source": [
    "pd.DataFrame(alpha).to_pickle('best_alphas_lasso.pkl')"
   ]
  },
  {
   "cell_type": "code",
   "execution_count": 5,
   "id": "european-newark",
   "metadata": {},
   "outputs": [],
   "source": [
    "# since this takes forever to run, I save the ones from the last one that finally ran through\n",
    "\n",
    "open_file = open('best_alphas_lasso.pkl', \"rb\")\n",
    "alpha = pickle.load(open_file)\n",
    "open_file.close()"
   ]
  },
  {
   "cell_type": "code",
   "execution_count": 6,
   "id": "removed-warner",
   "metadata": {},
   "outputs": [
    {
     "data": {
      "text/plain": [
       "0    0.000013\n",
       "dtype: float64"
      ]
     },
     "execution_count": 6,
     "metadata": {},
     "output_type": "execute_result"
    }
   ],
   "source": [
    "np.mean(pd.DataFrame(alpha))"
   ]
  },
  {
   "cell_type": "code",
   "execution_count": 7,
   "id": "equipped-finding",
   "metadata": {},
   "outputs": [
    {
     "data": {
      "text/plain": [
       "(array([749., 163.,  72.,  30.,  32.,  16.,  15.,   6.,   6.,   6.,   4.,\n",
       "          4.,   0.,   0.,   2.,   0.,   1.,   0.,   1.,   0.,   1.,   0.,\n",
       "          0.,   0.,   0.,   0.,   0.,   0.,   0.,   1.]),\n",
       " array([6.78096006e-07, 1.04815060e-05, 2.02849161e-05, 3.00883261e-05,\n",
       "        3.98917362e-05, 4.96951462e-05, 5.94985562e-05, 6.93019663e-05,\n",
       "        7.91053763e-05, 8.89087863e-05, 9.87121964e-05, 1.08515606e-04,\n",
       "        1.18319016e-04, 1.28122426e-04, 1.37925837e-04, 1.47729247e-04,\n",
       "        1.57532657e-04, 1.67336067e-04, 1.77139477e-04, 1.86942887e-04,\n",
       "        1.96746297e-04, 2.06549707e-04, 2.16353117e-04, 2.26156527e-04,\n",
       "        2.35959937e-04, 2.45763347e-04, 2.55566757e-04, 2.65370167e-04,\n",
       "        2.75173577e-04, 2.84976987e-04, 2.94780397e-04]),\n",
       " <BarContainer object of 30 artists>)"
      ]
     },
     "execution_count": 7,
     "metadata": {},
     "output_type": "execute_result"
    },
    {
     "data": {
      "image/png": "[encoded data removed]",
      "text/plain": [
       "<Figure size 432x288 with 1 Axes>"
      ]
     },
     "metadata": {
      "needs_background": "light"
     },
     "output_type": "display_data"
    }
   ],
   "source": [
    "plt.hist(alpha, bins=30)"
   ]
  },
  {
   "cell_type": "markdown",
   "id": "continued-suggestion",
   "metadata": {},
   "source": [
    "# Cross validation - Ridge\n",
    "Cross validation with lasso regression; finding the best alpha"
   ]
  },
  {
   "cell_type": "code",
   "execution_count": 10,
   "id": "faced-crisis",
   "metadata": {},
   "outputs": [
    {
     "data": {
      "text/plain": [
       "(50, 8)"
      ]
     },
     "execution_count": 10,
     "metadata": {},
     "output_type": "execute_result"
    }
   ],
   "source": [
    "ridge = Ridge(max_iter=10000, normalize=True)\n",
    "alphas = 10**np.linspace(5,-4,50)*0.5\n",
    "\n",
    "predictors = ['Klf2', 'Mcm3', 'Mcm5', 'Hmgb2', 'Cdk4', 'Hif1a', 'Mcm6', 'Tox']\n",
    "\n",
    "coefs = []\n",
    "# target\n",
    "\n",
    "t = ['Tox']\n",
    "\n",
    "# train and test set\n",
    "X, y = vdata[:, predictors].layers['Ms'], vdata[:, t].layers['velocity']\n",
    "\n",
    "\n",
    "for a in alphas:\n",
    "    ridge.set_params(alpha=a)\n",
    "    ridge.fit(X, y)\n",
    "    coefs.append(ridge.coef_.reshape(8,))\n",
    "    \n",
    "np.shape(coefs)"
   ]
  },
  {
   "cell_type": "code",
   "execution_count": 12,
   "id": "hungarian-italy",
   "metadata": {},
   "outputs": [
    {
     "data": {
      "text/plain": [
       "Text(0.5, 1.0, \"['Tox']\")"
      ]
     },
     "execution_count": 12,
     "metadata": {},
     "output_type": "execute_result"
    },
    {
     "data": {
      "image/png": "[encoded data removed]",
      "text/plain": [
       "<Figure size 432x288 with 1 Axes>"
      ]
     },
     "metadata": {
      "needs_background": "light"
     },
     "output_type": "display_data"
    }
   ],
   "source": [
    "ax = plt.gca()\n",
    "ax.plot(alphas, coefs)\n",
    "ax.set_xscale('log')\n",
    "plt.axis('tight')\n",
    "plt.xlabel('alpha')\n",
    "plt.ylabel('weights')\n",
    "ax.set_title(str(t))"
   ]
  },
  {
   "cell_type": "markdown",
   "id": "nonprofit-voluntary",
   "metadata": {},
   "source": [
    "## Find best alpha for ridge regression\n",
    "This is not running through. The kernel for jupyter notebook keeps restarting. "
   ]
  },
  {
   "cell_type": "code",
   "execution_count": null,
   "id": "selected-parade",
   "metadata": {},
   "outputs": [],
   "source": [
    "alpha = []\n",
    "alphas = 10**np.linspace(5,-4,50)*0.5\n",
    "\n",
    "for t in velocity_genes:\n",
    "    \n",
    "    target= t\n",
    "    ridge = Ridge()\n",
    "\n",
    "    X, y = vdata[:, transcription8].layers['Ms'], vdata[:, target].layers['velocity']\n",
    "\n",
    "    X_train, X_test , y_train, y_test = train_test_split(X, y, test_size=0.5, random_state=1)\n",
    "\n",
    "    ridgecv = RidgeCV(alphas=alphas, cv=5, normalize=True)\n",
    "    ridgecv.fit(X_train, y_train)\n",
    "    ridge.set_params(alpha=ridgecv.alpha_)\n",
    "    #print(\"Alpha=\", ridgecv.alpha_)\n",
    "    ridge.fit(X_train, y_train)\n",
    "    #print(\"mse = \",mean_squared_error(y_test, ridge.predict(X_test)))\n",
    "    #print(\"best model coefficients:\")\n",
    "    #pd.Series(ridge.coef_, index=X.columns)\n",
    "    alpha+= [ridgecv.alpha_]"
   ]
  },
  {
   "cell_type": "code",
   "execution_count": null,
   "id": "opponent-detective",
   "metadata": {},
   "outputs": [],
   "source": [
    "pd.DataFrame(alpha).to_pickle('best_alphas_ridge.pkl')"
   ]
  },
  {
   "cell_type": "code",
   "execution_count": null,
   "id": "correct-masters",
   "metadata": {},
   "outputs": [],
   "source": [
    "np.mean(pd.DataFrame(alpha))"
   ]
  },
  {
   "cell_type": "markdown",
   "id": "answering-shelter",
   "metadata": {},
   "source": [
    "# Generating regression data\n",
    "This is how i generated all the regression data saved."
   ]
  },
  {
   "cell_type": "code",
   "execution_count": null,
   "id": "sitting-moisture",
   "metadata": {},
   "outputs": [],
   "source": [
    "# Dataset containing first 10 velocity genes, with 160 coefficients from 10 fold cross validation\n",
    "\n",
    "predictors = transcription160\n",
    "targets = velocity_genes\n",
    "\n",
    "dd, d = generating_regressions(predictors, targets, 10)\n",
    "d.to_pickle('velocityRegression160.pkl')\n",
    "dd.to_pickle('velocityRegressionScores160.pkl')\n"
   ]
  },
  {
   "cell_type": "code",
   "execution_count": null,
   "id": "curious-manufacturer",
   "metadata": {},
   "outputs": [],
   "source": [
    "# Dataset predicting velocity genes, with 8 coefficients from 10 fold cross validation\n",
    "predictors = ['Klf2', 'Mcm3', 'Mcm5', 'Hmgb2', 'Cdk4', 'Hif1a', 'Mcm6', 'Tox']\n",
    "targets = velocity_genes\n",
    "model = LinearRegression()\n",
    "\n",
    "dd, d = generating_regressions(model, predictors, targets, 10)\n",
    "#d.to_pickle('velocityRegression8.pkl')\n",
    "#dd.to_pickle('velocityRegressionScores8.pkl')\n",
    "notify"
   ]
  },
  {
   "cell_type": "code",
   "execution_count": null,
   "id": "standing-florida",
   "metadata": {},
   "outputs": [],
   "source": [
    "d.to_pickle('velocityRegression8.pkl')\n",
    "dd.to_pickle('velocityRegressionScores8.pkl')\n"
   ]
  },
  {
   "cell_type": "code",
   "execution_count": null,
   "id": "sunrise-delicious",
   "metadata": {},
   "outputs": [],
   "source": [
    "# Dataset predicting velocity genes, with 8 coefficients from 10 fold cross validation\n",
    "predictors = ['Klf2', 'Mcm3', 'Mcm5', 'Hmgb2', 'Cdk4', 'Hif1a', 'Mcm6', 'Tox']\n",
    "targets = velocity_genes\n",
    "model = Ridge()\n",
    "\n",
    "dd, d = generating_regressions(model, predictors, targets, 10)\n",
    "#d.to_pickle('ridgeRegression8.pkl')\n",
    "#dd.to_pickle('ridgeRegressionScores8.pkl')\n",
    "notify"
   ]
  },
  {
   "cell_type": "code",
   "execution_count": null,
   "id": "bearing-saturday",
   "metadata": {},
   "outputs": [],
   "source": [
    "d.to_pickle('ridgeRegression8.pkl')\n",
    "dd.to_pickle('ridgeRegressionScores8.pkl')"
   ]
  },
  {
   "cell_type": "code",
   "execution_count": null,
   "id": "stylish-buddy",
   "metadata": {},
   "outputs": [],
   "source": [
    "# test the residual function. \n",
    "predictors = ['Klf2', 'Mcm3', 'Mcm5', 'Hmgb2', 'Cdk4', 'Hif1a', 'Mcm6', 'Tox']\n",
    "targets = velocity_genes\n",
    "model = Lasso(0.1)\n",
    "\n",
    "dd, d = generating_regressions(model, predictors, targets, 10)\n",
    "#d.to_pickle('velocityRegression8.pkl')\n",
    "#dd.to_pickle('velocityRegressionScores8.pkl')\n"
   ]
  },
  {
   "cell_type": "code",
   "execution_count": null,
   "id": "complex-characterization",
   "metadata": {},
   "outputs": [],
   "source": [
    "d.to_pickle('lassoRegression8.pkl')\n",
    "dd.to_pickle('lassoRegressionScores8.pkl')"
   ]
  },
  {
   "cell_type": "markdown",
   "id": "promising-crawford",
   "metadata": {},
   "source": [
    "## Dataset predicting velocity genes, with 8 coefficients from 10 fold cross validation\n",
    "predictors = ['Klf2', 'Mcm3', 'Mcm5', 'Hmgb2', 'Cdk4', 'Hif1a', 'Mcm6', 'Tox']\n",
    "targets = velocity_genes\n",
    "\n",
    "model = Ridge()\n",
    "\n",
    "scores, coefs = generating_regressions(model, predictors, targets, 10)\n",
    "\n",
    "coefs.to_pickle('ridgeRegression8.pkl')\n",
    "scores.to_pickle('ridgeRegressionScores8.pkl')"
   ]
  },
  {
   "cell_type": "code",
   "execution_count": null,
   "id": "small-straight",
   "metadata": {},
   "outputs": [],
   "source": []
  },
  {
   "cell_type": "markdown",
   "id": "ecological-antenna",
   "metadata": {},
   "source": [
    "irgendwas functionier hier nicht. anschienend sind die werte nicht mehr in trnascription 160 aber es läuft trotzdem nicht. so ein mist. komisch. "
   ]
  },
  {
   "cell_type": "markdown",
   "id": "confirmed-liabilities",
   "metadata": {},
   "source": [
    "####Saved Data\n",
    "\n",
    "`velocityGenes.pkl` and `velocityGenesScores.pkl` \n",
    "\n",
    "predictors: `['Klf2', 'Mcm3', 'Mcm5', 'Hmgb2', 'Cdk4', 'Hif1a', 'Mcm6', 'Tox']`\n",
    "\n",
    "targets: velocity genes\n",
    "\n",
    "\n",
    "\n",
    "`velocityGenes160.pkl` and `velocityGenesScores160.pkl` \n",
    "\n",
    "predictors: `transcription160` without `['Junb', 'mt-Nd1', 'Fgl2', 'mt-Co1', 'mt-Nd4', 'Rraga', 'mt-Nd2']`\n",
    "\n",
    "targets: velocity genes\n",
    "\n",
    "\n",
    "\n",
    "\n",
    "\n"
   ]
  },
  {
   "cell_type": "code",
   "execution_count": null,
   "id": "smart-shoot",
   "metadata": {},
   "outputs": [],
   "source": []
  },
  {
   "cell_type": "markdown",
   "id": "turned-intersection",
   "metadata": {},
   "source": [
    "Also, mit 8 faktoren ist der r2 viel kleiner"
   ]
  },
  {
   "cell_type": "code",
   "execution_count": null,
   "id": "rotary-poultry",
   "metadata": {},
   "outputs": [],
   "source": [
    "dd"
   ]
  },
  {
   "cell_type": "code",
   "execution_count": null,
   "id": "banned-michael",
   "metadata": {
    "scrolled": true
   },
   "outputs": [],
   "source": [
    "d"
   ]
  },
  {
   "cell_type": "code",
   "execution_count": null,
   "id": "strategic-sentence",
   "metadata": {
    "scrolled": false
   },
   "outputs": [],
   "source": [
    "dd.groupby('target').get_group('Mcm3')"
   ]
  },
  {
   "cell_type": "code",
   "execution_count": null,
   "id": "packed-immune",
   "metadata": {},
   "outputs": [],
   "source": [
    "grouped = dd.groupby('target')['test_r2', 'train_r2', 'test_neg_mean_squared_error', 'train_neg_mean_squared_error'].mean()\n",
    "grouped[:20]"
   ]
  },
  {
   "cell_type": "code",
   "execution_count": null,
   "id": "understanding-questionnaire",
   "metadata": {
    "scrolled": true
   },
   "outputs": [],
   "source": [
    "dd.groupby('target').get_group('Mcm3')"
   ]
  },
  {
   "cell_type": "markdown",
   "id": "offshore-priest",
   "metadata": {},
   "source": [
    "Sometimes the training error is larger than the test error. In class this was the case, since some where harder to match than others. the split is at fault."
   ]
  },
  {
   "cell_type": "code",
   "execution_count": null,
   "id": "spatial-import",
   "metadata": {},
   "outputs": [],
   "source": [
    "# r2 values accross all regressions\n",
    "plt.hist([dd.groupby('target')['test_r2'].mean(), dd.groupby('target')['train_r2'].mean()], label = ['test_r2', 'train_r2'])\n",
    "\n",
    "# plot labels\n",
    "plt.title('train and test r2 values')\n",
    "plt.xlabel('r2')\n",
    "plt.ylabel('frequency')\n",
    "plt.legend()"
   ]
  },
  {
   "cell_type": "code",
   "execution_count": null,
   "id": "selected-district",
   "metadata": {},
   "outputs": [],
   "source": [
    "dd.groupby('target').get_group('Mcm3')['estimator'][0].coef_"
   ]
  },
  {
   "cell_type": "code",
   "execution_count": null,
   "id": "internal-color",
   "metadata": {
    "scrolled": true
   },
   "outputs": [],
   "source": [
    "# this is super low. I had better scores with Rasgrp2.\n",
    "# but htis one was also the most significant of all...\n",
    "plt.hist([dd['test_score'], dd['train_score']])"
   ]
  },
  {
   "cell_type": "code",
   "execution_count": null,
   "id": "opened-campaign",
   "metadata": {
    "scrolled": true
   },
   "outputs": [],
   "source": [
    "d = pd.DataFrame()\n",
    "a = pd.DataFrame()\n",
    "\n",
    "for x in scores['estimator']:\n",
    "    a['predictors'], a['coeffecients'], a['target']= predictors, x.coef_[0], target*len(predictors)\n",
    "    d = pd.concat([a,d])\n",
    "d"
   ]
  },
  {
   "cell_type": "code",
   "execution_count": null,
   "id": "deadly-washington",
   "metadata": {},
   "outputs": [],
   "source": [
    "df = pd.DataFrame.from_dict(scores)\n",
    "df"
   ]
  }
 ],
 "metadata": {
  "kernelspec": {
   "display_name": "Python 3",
   "language": "python",
   "name": "python3"
  },
  "language_info": {
   "codemirror_mode": {
    "name": "ipython",
    "version": 3
   },
   "file_extension": ".py",
   "mimetype": "text/x-python",
   "name": "python",
   "nbconvert_exporter": "python",
   "pygments_lexer": "ipython3",
   "version": "3.8.5"
  }
 },
 "nbformat": 4,
 "nbformat_minor": 5
}
