{
 "cells": [
  {
   "cell_type": "code",
   "execution_count": 9,
   "id": "acoustic-cisco",
   "metadata": {},
   "outputs": [],
   "source": [
    "import scvelo as scv\n",
    "import scanpy as sc\n",
    "import numpy as np\n",
    "import pandas as pd\n",
    "import random \n",
    "import pickle\n",
    "import os\n",
    "import shutil\n",
    "import matplotlib.pyplot as plt\n",
    "from scipy import stats\n",
    "from sklearn.linear_model import LinearRegression, Lasso, Ridge \n",
    "from sklearn.model_selection import train_test_split, cross_validate, KFold\n",
    "from sklearn.linear_model import Lasso, LassoCV, Ridge, RidgeCV \n",
    "from sklearn.metrics import explained_variance_score, mean_absolute_error, r2_score, mean_squared_error, make_scorer\n"
   ]
  },
  {
   "cell_type": "code",
   "execution_count": 3,
   "id": "reserved-exhibition",
   "metadata": {},
   "outputs": [],
   "source": [
    "# this will play a sound once the cell has finished running\n",
    "from IPython.display import Audio\n",
    "sound_file = 'sound/badaboing.wav'\n",
    "\n",
    "notify=Audio(filename=sound_file, autoplay=True)"
   ]
  },
  {
   "cell_type": "code",
   "execution_count": 2,
   "id": "level-furniture",
   "metadata": {},
   "outputs": [],
   "source": [
    "# Load dataset with velocity values\n",
    "vdata = sc.read_h5ad(\"velocity_adata.h5ad\")"
   ]
  },
  {
   "cell_type": "code",
   "execution_count": 3,
   "id": "indirect-focus",
   "metadata": {},
   "outputs": [],
   "source": [
    "# Scale Ms and velocity layer with zero mean and unit variance \n",
    "    # sc.pp.scale adds most recent mean and std as variables to var\n",
    "\n",
    "sc.pp.scale(vdata, layer='Ms')\n",
    "sc.pp.scale(vdata, layer='velocity')"
   ]
  },
  {
   "cell_type": "code",
   "execution_count": 10,
   "id": "intelligent-basics",
   "metadata": {},
   "outputs": [],
   "source": [
    "# Velocity genes\n",
    "# No Ccl5 included..\n",
    "\n",
    "velocity_genes = vdata.var.index[vdata.var['velocity_genes'] == True].tolist()\n",
    "\n",
    "transcription8 = ['Klf2', 'Mcm3', 'Mcm5', 'Hmgb2', 'Cdk4', 'Hif1a', 'Mcm6', 'Tox']\n",
    "\n"
   ]
  },
  {
   "cell_type": "code",
   "execution_count": 29,
   "id": "eastern-default",
   "metadata": {},
   "outputs": [
    {
     "name": "stdout",
     "output_type": "stream",
     "text": [
      "69060\n"
     ]
    },
    {
     "data": {
      "text/plain": [
       "4120"
      ]
     },
     "execution_count": 29,
     "metadata": {},
     "output_type": "execute_result"
    }
   ],
   "source": [
    "import sys\n",
    "velocity_genes = vdata.var.index[vdata.var['velocity_genes'] == True]\n",
    "print(sys.getsizeof(velocity_genes))\n",
    "sys.getsizeof(velocity_genes.tolist()[600:1108])"
   ]
  },
  {
   "cell_type": "code",
   "execution_count": 40,
   "id": "pleased-helen",
   "metadata": {},
   "outputs": [
    {
     "data": {
      "text/plain": [
       "305"
      ]
     },
     "execution_count": 40,
     "metadata": {},
     "output_type": "execute_result"
    }
   ],
   "source": [
    "velocity_genes.tolist().index('Mylip')\n"
   ]
  },
  {
   "cell_type": "code",
   "execution_count": 47,
   "id": "religious-greene",
   "metadata": {},
   "outputs": [],
   "source": [
    "predictors = ['Klf2', 'Mcm3', 'Mcm5', 'Hmgb2', 'Cdk4', 'Hif1a', 'Mcm6', 'Tox']\n",
    "X = vdata[:, predictors].layers['Ms']"
   ]
  },
  {
   "cell_type": "code",
   "execution_count": 54,
   "id": "structural-hindu",
   "metadata": {},
   "outputs": [
    {
     "data": {
      "text/plain": [
       "128"
      ]
     },
     "execution_count": 54,
     "metadata": {},
     "output_type": "execute_result"
    }
   ],
   "source": [
    "sys.getsizeof(vdata[:, predictors].layers['Ms'])"
   ]
  },
  {
   "cell_type": "code",
   "execution_count": 55,
   "id": "sunset-backup",
   "metadata": {},
   "outputs": [
    {
     "data": {
      "text/plain": [
       "128"
      ]
     },
     "execution_count": 55,
     "metadata": {},
     "output_type": "execute_result"
    }
   ],
   "source": [
    "sys.getsizeof(vdata[:, 'Ttk'].layers['velocity'])"
   ]
  },
  {
   "cell_type": "code",
   "execution_count": 7,
   "id": "weighted-equality",
   "metadata": {},
   "outputs": [],
   "source": [
    "# load 160 transcriptionfactors\n",
    "open_file = open('data/transcriptionfactors160.pkl', \"rb\")\n",
    "transcription160 = pickle.load(open_file)\n",
    "open_file.close()"
   ]
  },
  {
   "cell_type": "code",
   "execution_count": 8,
   "id": "passive-marine",
   "metadata": {},
   "outputs": [],
   "source": [
    "# remove factors not available in vdata.var_names\n",
    "for x in  ['Junb', 'mt-Nd1', 'Fgl2', 'mt-Co1', 'mt-Nd4', 'Rraga', 'mt-Nd2']:\n",
    "    if x in transcription160:\n",
    "        transcription160.remove(x)"
   ]
  },
  {
   "cell_type": "code",
   "execution_count": 9,
   "id": "major-colonial",
   "metadata": {},
   "outputs": [],
   "source": [
    "def proportion(y, y_pred):\n",
    "    return np.mean(np.log(abs(y_pred-y)/abs(y)))"
   ]
  },
  {
   "cell_type": "code",
   "execution_count": 10,
   "id": "fewer-display",
   "metadata": {},
   "outputs": [],
   "source": [
    "def generating_regressions(model, predictors, targets, n_splits, name):\n",
    "\n",
    "    path = 'data/'+name\n",
    "    if os.path.exists(path):\n",
    "        shutil.rmtree(path)\n",
    "    os.mkdir(path)\n",
    "\n",
    "    for g in targets:\n",
    "        \n",
    "        coefs = pd.DataFrame()\n",
    "\n",
    "        # target\n",
    "        t = [g]\n",
    "\n",
    "        # train and test set\n",
    "        X, y = vdata[:, predictors].layers['Ms'], vdata[:, t].layers['velocity']\n",
    "\n",
    "        # prepare cross validation, data shuffled before split into batches\n",
    "        cv = KFold(n_splits=n_splits, shuffle=True, random_state=42)\n",
    "\n",
    "        # I could define my own scorer object; since error, want to minimize it -> the smaller the values the better. \n",
    "        s = cross_validate(model, X, y, cv=cv, scoring = {'r2': 'r2', 'neg_mean_squared_error':'neg_mean_squared_error', 'proportion': make_scorer(proportion)}, return_train_score=True, return_estimator=True)\n",
    "\n",
    "        for x in s['estimator']:\n",
    "            coefs['predictors'], coefs['coefficients'], coefs['target']= predictors, x.coef_[0], t*len(predictors)\n",
    "        \n",
    "        #store results for each gene at the end of the loop before going on to the next gene. \n",
    "\n",
    "        # removing unnecessary fit and score times\n",
    "        s.pop('fit_time', None)\n",
    "        s.pop('score_time',None)\n",
    "\n",
    "        scores = pd.DataFrame.from_dict(s)\n",
    "        scores['target'] = t*n_splits\n",
    "        \n",
    "        scores.to_pickle(path+'/'+g+'Scores.pkl')\n",
    "        coefs.to_pickle(path+'/'+g+'Coefs.pkl')\n",
    "        \n",
    "    return path"
   ]
  },
  {
   "cell_type": "markdown",
   "id": "faced-savage",
   "metadata": {},
   "source": [
    "I would like for this to run through, but it keeps getting killed before. In Jupyter the kernel keeps restarting and in the terminal it just sais killed. "
   ]
  },
  {
   "cell_type": "code",
   "execution_count": 59,
   "id": "metallic-illustration",
   "metadata": {},
   "outputs": [
    {
     "name": "stdout",
     "output_type": "stream",
     "text": [
      "['1700019D03RikCoefs.pkl', 'Smap1Coefs.pkl', 'Mrpl15Coefs.pkl', 'Aff3Scores.pkl', 'Rev1Coefs.pkl', 'Nab1Scores.pkl', 'Smap1Scores.pkl', 'Rev1Scores.pkl', 'Mcm3Scores.pkl', 'Nab1Coefs.pkl', 'Mcm3Coefs.pkl', 'Mybl1Scores.pkl', '1700019D03RikScores.pkl', 'Prim2Coefs.pkl', 'Aff3Coefs.pkl', 'Mybl1Coefs.pkl', 'Fhl2Coefs.pkl', 'Prim2Scores.pkl', 'Mrpl15Scores.pkl', 'Fhl2Scores.pkl', 'Hsd17b12Coefs.pkl', 'PtmaScores.pkl', 'Tmem140Scores.pkl', 'BlmCoefs.pkl', 'Smpdl3bScores.pkl', 'Gbp7Scores.pkl', 'Clec2iCoefs.pkl', 'LckCoefs.pkl', 'PbkCoefs.pkl', 'Atp2b4Coefs.pkl', 'Prdm1Coefs.pkl', 'SelplgCoefs.pkl', 'Orc6Coefs.pkl', 'Eif2ak2Coefs.pkl', 'Dsn1Scores.pkl', 'Sidt1Scores.pkl', 'Itgb1Coefs.pkl', '2700094K13RikCoefs.pkl', 'Rnaseh2bScores.pkl', 'Atp6v0a2Coefs.pkl', 'Samd9lScores.pkl', 'Klf10Scores.pkl', 'Smpd4Scores.pkl', 'Xpo1Scores.pkl', 'Nol11Scores.pkl', 'Cxxc5Scores.pkl', 'Ipo5Scores.pkl', 'Rbl1Scores.pkl', 'Dsn1Coefs.pkl', 'Cct2Scores.pkl', 'TxkCoefs.pkl', 'Cdkn1aCoefs.pkl', 'Kif15Scores.pkl', 'Dpy30Scores.pkl', 'Il2raCoefs.pkl', 'PmvkCoefs.pkl', 'Rgs10Coefs.pkl', 'Prim1Scores.pkl', 'Hsp90ab1Scores.pkl', 'Psmd11Scores.pkl', 'Cdca8Scores.pkl', 'Csf1Coefs.pkl', 'Slc43a3Coefs.pkl', 'TroapScores.pkl', 'GemScores.pkl', 'Rap1bScores.pkl', 'Lag3Scores.pkl', 'Ube2hScores.pkl', 'Anp32aCoefs.pkl', 'KnstrnCoefs.pkl', 'PmvkScores.pkl', 'Tcerg1Scores.pkl', 'MtbpScores.pkl', 'Ola1Scores.pkl', 'ArsbCoefs.pkl', 'Dnajc2Coefs.pkl', 'Golm1Scores.pkl', 'Pdcd4Coefs.pkl', 'Lman1Scores.pkl', 'MndalScores.pkl', 'CmahScores.pkl', 'Dnajc15Coefs.pkl', 'Mrps28Coefs.pkl', 'Gm26917Scores.pkl', 'Fam160a1Coefs.pkl', 'Apobec2Scores.pkl', 'Parp14Scores.pkl', 'Ms4a4bCoefs.pkl', 'Pola2Coefs.pkl', 'ZwilchCoefs.pkl', 'Mybl2Coefs.pkl', 'Bcl2l1Scores.pkl', 'AarsScores.pkl', 'Rad21Coefs.pkl', 'Ms4a4cCoefs.pkl', 'Gspt1Coefs.pkl', 'DekCoefs.pkl', 'Cirh1aScores.pkl', 'NaspCoefs.pkl', 'Baiap3Coefs.pkl', 'Mrpl20Coefs.pkl', 'Dnajc15Scores.pkl', 'Il2raScores.pkl', 'Uck2Scores.pkl', 'Pwp2Scores.pkl', 'Stat2Scores.pkl', 'Arl6ip1Scores.pkl', 'Ddx56Scores.pkl', 'Cdc6Coefs.pkl', 'Utp20Coefs.pkl', 'Ccnb2Scores.pkl', 'Mpp2Scores.pkl', 'Cd2apCoefs.pkl', 'Oas1aScores.pkl', 'Chd4Scores.pkl', 'SlaScores.pkl', 'St6gal1Coefs.pkl', 'Prss2Coefs.pkl', 'Trim5Coefs.pkl', 'Prmt5Coefs.pkl', 'Whsc1Scores.pkl', 'Srsf2Scores.pkl', 'DscamScores.pkl', 'Aplp2Coefs.pkl', 'Hat1Coefs.pkl', 'Klrk1Scores.pkl', '2810004N23RikScores.pkl', 'Parp12Coefs.pkl', '1600014C10RikCoefs.pkl', 'Lcp2Scores.pkl', 'ParpbpCoefs.pkl', 'Diaph3Scores.pkl', 'Cd83Scores.pkl', 'Dthd1Coefs.pkl', 'Psmd13Coefs.pkl', 'Gpm6bScores.pkl', 'Serbp1Coefs.pkl', 'Nolc1Coefs.pkl', 'Ccr2Coefs.pkl', 'IarsCoefs.pkl', 'Dpp4Coefs.pkl', 'SelplgScores.pkl', 'Slfn8Scores.pkl', 'Tomm40Coefs.pkl', 'Hif1aCoefs.pkl', 'Gtf2f2Coefs.pkl', 'Eif4g1Coefs.pkl', 'LrpprcScores.pkl', 'ParpbpScores.pkl', 'Tnfsf11Coefs.pkl', 'Ifit3Scores.pkl', 'Psmd7Scores.pkl', 'Smc2Coefs.pkl', 'Rad54lCoefs.pkl', 'Snx10Scores.pkl', 'Atf3Coefs.pkl', 'Ankrd12Scores.pkl', 'Nup155Scores.pkl', 'Itih5Scores.pkl', 'CenpiCoefs.pkl', 'Serp2Coefs.pkl', 'Adarb1Scores.pkl', 'Itgb7Scores.pkl', 'Eea1Coefs.pkl', 'CenphCoefs.pkl', 'Racgap1Coefs.pkl', 'Gemin5Scores.pkl', 'Prr5Coefs.pkl', 'Rsad2Scores.pkl', 'Nap1l1Coefs.pkl', 'Tube1Coefs.pkl', 'Phf11cCoefs.pkl', 'Phf11bCoefs.pkl', 'Pitpnc1Scores.pkl', 'Mthfd1Scores.pkl', 'Mxd3Coefs.pkl', 'Psma1Scores.pkl', 'Dnajc9Coefs.pkl', 'Ddx58Coefs.pkl', 'Ruvbl2Scores.pkl', 'Ifih1Coefs.pkl', 'AurkaScores.pkl', 'Foxo3Coefs.pkl', 'Qtrtd1Coefs.pkl', 'Cdc20bCoefs.pkl', 'Mnd1Scores.pkl', 'Adgrg1Scores.pkl', 'H2afvScores.pkl', 'YdjcScores.pkl', 'NcapgScores.pkl', 'PfasCoefs.pkl', 'Dusp5Coefs.pkl', 'Mad2l1Coefs.pkl', 'Utp15Coefs.pkl', 'PaskScores.pkl', 'DapScores.pkl', 'Depdc1aScores.pkl', 'Tomm70aScores.pkl', 'Fkbp5Coefs.pkl', 'Snhg12Coefs.pkl', 'Cdca7Coefs.pkl', 'Cdca5Scores.pkl', 'Adgrg1Coefs.pkl', 'Serp2Scores.pkl', 'Ncapg2Scores.pkl', 'Ppp1r12aCoefs.pkl', 'Apex1Scores.pkl', 'Kifc1Scores.pkl', 'Gpd2Scores.pkl', 'Lag3Coefs.pkl', 'Sidt1Coefs.pkl', 'Prim1Coefs.pkl', 'BC094916Scores.pkl', 'Tpx2Scores.pkl', 'GzmkScores.pkl', 'Sept11Coefs.pkl', 'FosbCoefs.pkl', 'Jak1Scores.pkl', 'Gimap8Scores.pkl', 'Cd160Scores.pkl', 'Gna14Coefs.pkl', 'Gna15Coefs.pkl', 'Ddx10Coefs.pkl', 'Prr5lScores.pkl', 'Mdn1Scores.pkl', 'Cdc45Coefs.pkl', 'Erdr1Coefs.pkl', 'Cxcr6Scores.pkl', 'Rnf166Scores.pkl', 'CitCoefs.pkl', 'Plekha1Coefs.pkl', 'Rfc4Coefs.pkl', 'Mpzl2Scores.pkl', 'Wdhd1Coefs.pkl', 'Ddx21Scores.pkl', 'Gna14Scores.pkl', 'ColqCoefs.pkl', 'Spire1Coefs.pkl', 'Tnfrsf13bCoefs.pkl', 'Vax2Scores.pkl', 'Kif11Coefs.pkl', 'Ptpn11Coefs.pkl', 'Ndufaf4Coefs.pkl', 'Osbpl3Coefs.pkl', 'PoleCoefs.pkl', 'Sytl2Coefs.pkl', 'Sytl3Coefs.pkl', 'Hk2Coefs.pkl', 'Mak16Scores.pkl', 'CenplScores.pkl', 'CmahCoefs.pkl', 'Ifit2Coefs.pkl', 'Myo19Scores.pkl', 'Cenpc1Coefs.pkl', 'Rrp12Scores.pkl', 'Ifit3Coefs.pkl', 'Desi2Scores.pkl', 'Dimt1Coefs.pkl', 'Prr5Scores.pkl', 'Mtx2Coefs.pkl', 'Car2Scores.pkl', 'Cd200r2Coefs.pkl', 'Slfn5Scores.pkl', 'YarsScores.pkl', 'Rfc2Scores.pkl', 'Eif4eScores.pkl', 'Chaf1aCoefs.pkl', 'Snrpd3Coefs.pkl', 'Cd47Scores.pkl', 'Wdr95Coefs.pkl', 'Tbrg4Coefs.pkl', 'Slc16a10Coefs.pkl', 'Ckap5Coefs.pkl', 'Topbp1Scores.pkl', 'KnstrnScores.pkl', 'Slc25a13Coefs.pkl', 'Filip1Scores.pkl', 'MtbpCoefs.pkl', 'Lilrb4aScores.pkl', 'Fam102aCoefs.pkl', 'Slc7a5Scores.pkl', 'Ckap5Scores.pkl', 'StilCoefs.pkl', 'Itga4Coefs.pkl', 'Tox2Scores.pkl', 'Tmem163Coefs.pkl', 'Ube2kCoefs.pkl', 'PdgfbScores.pkl', 'Baiap3Scores.pkl', 'Prr11Coefs.pkl', 'Ipcef1Scores.pkl', 'Cbx4Scores.pkl', 'Mcm7Scores.pkl', 'Smad7Coefs.pkl', 'Csf1Scores.pkl', 'Bzw2Coefs.pkl', 'PpihCoefs.pkl', 'Sgol1Coefs.pkl', 'Mtch1Coefs.pkl', 'Fxyd5Scores.pkl', 'BC030867Scores.pkl', 'Klhl6Scores.pkl', 'Birc5Scores.pkl', 'Tsen2Scores.pkl', 'Mrps28Scores.pkl', 'Tlr7Coefs.pkl', 'Adam19Coefs.pkl', 'Parp12Scores.pkl', 'Nap1l1Scores.pkl', 'Bub1bCoefs.pkl', 'Serpina3fCoefs.pkl', 'Grwd1Coefs.pkl', 'Sgk1Coefs.pkl', 'Usp14Scores.pkl', 'Tppp3Coefs.pkl', 'Trpm6Scores.pkl', 'LckScores.pkl', 'Rfwd3Coefs.pkl', 'Cd22Scores.pkl', 'Rfwd3Scores.pkl', 'Lgals3Coefs.pkl', 'DckCoefs.pkl', 'Smad7Scores.pkl', 'Lax1Scores.pkl', 'Herc6Coefs.pkl', 'Psmd1Scores.pkl', 'Lig1Scores.pkl', 'PISDScores.pkl', 'Tnfsf8Scores.pkl', 'Chchd6Coefs.pkl', 'Larp1Coefs.pkl', 'Pyhin1Coefs.pkl', 'Itgb1Scores.pkl', 'Tor3aScores.pkl', 'Parp1Scores.pkl', 'Nup133Coefs.pkl', 'Pmf1Coefs.pkl', 'Luc7l3Scores.pkl', 'Naf1Coefs.pkl', 'NmiCoefs.pkl', 'MetrnlScores.pkl', 'Id3Coefs.pkl', 'Id2Coefs.pkl', 'Dlgap5Coefs.pkl', 'Ube2tCoefs.pkl', 'Galnt3Coefs.pkl', 'Rilpl2Scores.pkl', 'FcgrtCoefs.pkl', 'Smyd2Coefs.pkl', 'Abcb1aScores.pkl', 'Nr4a3Coefs.pkl', 'RelScores.pkl', 'Gm26522Scores.pkl', 'Nr4a2Coefs.pkl', 'Dyrk3Coefs.pkl', 'SlaCoefs.pkl', 'Cct3Coefs.pkl', 'Hspa5Scores.pkl', 'Il1rl1Scores.pkl', 'Tmem140Coefs.pkl', 'Cct2Coefs.pkl', 'Cers4Coefs.pkl', 'RaraScores.pkl', 'ArsbScores.pkl', '2610318N02RikScores.pkl', 'Slfn5Coefs.pkl', 'CtpsCoefs.pkl', 'Pglyrp2Coefs.pkl', 'Nufip1Coefs.pkl', 'Bub1bScores.pkl', 'Tcof1Scores.pkl', 'Neurl1bScores.pkl', 'FaslCoefs.pkl', 'Il17raCoefs.pkl', 'FynCoefs.pkl', 'Ect2Scores.pkl', 'Erdr1Scores.pkl', 'Fam49aCoefs.pkl', 'Shmt1Coefs.pkl', 'Kif20aScores.pkl', 'NclCoefs.pkl', 'Cxcl10Scores.pkl', 'Uchl5Coefs.pkl', 'Crip1Scores.pkl', '1600014C10RikScores.pkl', 'Tnfrsf25Coefs.pkl', 'Rcc2Scores.pkl', 'Eif2s2Coefs.pkl', 'Lman1Coefs.pkl', 'Baz1bCoefs.pkl', 'Tmc6Coefs.pkl', 'Rasgrp2Coefs.pkl', 'Pole2Scores.pkl', 'EprsScores.pkl', 'Klf10Coefs.pkl', 'Tnfrsf25Scores.pkl', 'Ezh2Scores.pkl', 'Irf2Scores.pkl', 'Txn2Coefs.pkl', 'Prr5lCoefs.pkl', 'Gpatch4Scores.pkl', 'Ska1Scores.pkl', 'G3bp1Scores.pkl', 'Add1Scores.pkl', 'HopxScores.pkl', 'Gm42722Coefs.pkl', 'Dbf4Scores.pkl', 'Itga4Scores.pkl', 'Celf4Coefs.pkl', 'Trip13Scores.pkl', 'Gas2l3Scores.pkl', 'Wdr75Scores.pkl', 'Cd96Coefs.pkl', 'Neil3Scores.pkl', 'Cers4Scores.pkl', 'Arl5cScores.pkl', 'Pik3r5Coefs.pkl', 'Klrc1Scores.pkl', 'Gimap6Coefs.pkl', 'Nup93Scores.pkl', 'Sass6Scores.pkl', 'Mb21d1Coefs.pkl', 'Gga2Coefs.pkl', 'Cd55Scores.pkl', 'Nsg2Scores.pkl', 'Cct8Coefs.pkl', 'PecrScores.pkl', 'Tcf7Coefs.pkl', '2610318N02RikCoefs.pkl', 'MaoaCoefs.pkl', 'Calm3Scores.pkl', 'Cd200Coefs.pkl', 'AicdaCoefs.pkl', 'Nsl1Scores.pkl', 'Glrx3Scores.pkl', 'Chchd4Scores.pkl', 'Apbb1ipScores.pkl', 'Il21rCoefs.pkl', 'Ccdc18Coefs.pkl', 'Irak1bp1Scores.pkl', 'Rnf165Coefs.pkl', 'Slc7a1Coefs.pkl', 'Exo1Coefs.pkl', 'Etf1Coefs.pkl', 'Ddx27Scores.pkl', 'Rgs2Coefs.pkl', 'Rpf2Scores.pkl', 'UbcScores.pkl', 'Zbtb20Coefs.pkl', 'Enpp2Coefs.pkl', 'Chit1Coefs.pkl', 'Rbbp8Coefs.pkl', 'PpatScores.pkl', 'PolqCoefs.pkl', 'Naa25Coefs.pkl', 'CipcCoefs.pkl', 'Brca2Scores.pkl', 'Reep5Scores.pkl', 'RabggtbCoefs.pkl', 'Ybx1Scores.pkl', 'Fam83dCoefs.pkl', 'Kcnn4Scores.pkl', 'Hp1bp3Coefs.pkl', 'Pde10aScores.pkl', 'Zranb3Scores.pkl', 'Asf1bCoefs.pkl', 'Ptges3Scores.pkl', 'TymsScores.pkl', 'Pprc1Coefs.pkl', 'Spock2Scores.pkl', 'Park7Scores.pkl', 'Rfc4Scores.pkl', 'Usp10Coefs.pkl', 'Lat2Coefs.pkl', 'FynScores.pkl', 'Dhx58Coefs.pkl', 'Ccdc50Coefs.pkl', 'Ngly1Coefs.pkl', 'Psmc6Scores.pkl', 'Kif1bScores.pkl', 'Scml4Coefs.pkl', 'Zc3h12dCoefs.pkl', 'Mtfr2Coefs.pkl', 'Pdlim1Scores.pkl', 'Amica1Coefs.pkl', 'Trim27Coefs.pkl', 'Anp32aScores.pkl', 'Cmtm7Scores.pkl', 'Ndufaf4Scores.pkl', 'Nufip1Scores.pkl', 'Ddx39Coefs.pkl', 'Sass6Coefs.pkl', 'Ets1Coefs.pkl', 'Ifrd2Scores.pkl', 'Nup43Scores.pkl', 'H2-AaScores.pkl', 'Spats1Scores.pkl', 'Shmt1Scores.pkl', 'Cd3eCoefs.pkl', 'Klrg1Coefs.pkl', 'LarsCoefs.pkl', 'Sgol2aCoefs.pkl', 'Rrm2Scores.pkl', 'Rexo2Coefs.pkl', 'Rnaseh2bCoefs.pkl', 'Cd3gScores.pkl', 'Ncapg2Coefs.pkl', 'Hspa9Coefs.pkl', 'Filip1Coefs.pkl', 'Smyd2Scores.pkl', 'Il21Coefs.pkl', 'Nup107Coefs.pkl', 'Ets1Scores.pkl', 'Nek6Scores.pkl', 'KitCoefs.pkl', 'Klf3Scores.pkl', 'Cd74Scores.pkl', 'Hmgn1Coefs.pkl', 'PenkCoefs.pkl', 'Pou2f2Coefs.pkl', 'Mms22lScores.pkl', 'Acsbg1Scores.pkl', 'Rpp30Scores.pkl', 'Il21Scores.pkl', 'Vps37bScores.pkl', 'Acsbg1Coefs.pkl', 'Gm10522Scores.pkl', 'Rexo2Scores.pkl', 'AurkbCoefs.pkl', 'Phf11bScores.pkl', 'Thap3Scores.pkl', 'Lgals3Scores.pkl', 'Tspan3Coefs.pkl', 'Lrig1Scores.pkl', 'Batf3Coefs.pkl', 'Cd47Coefs.pkl', 'Rrp12Coefs.pkl', 'Agpat5Scores.pkl', 'Xaf1Coefs.pkl', 'Mbnl3Coefs.pkl', 'Padi2Coefs.pkl', 'Cdkn1aScores.pkl', 'Cdc25cScores.pkl', 'Atp1b1Coefs.pkl', 'Crmp1Coefs.pkl', 'Cdt1Scores.pkl', 'Pop1Scores.pkl', 'Cep89Scores.pkl', 'Kpna3Scores.pkl', 'Car5bScores.pkl', 'Cep83Scores.pkl', 'Eif4eCoefs.pkl', 'Pde7aCoefs.pkl', 'Cxcr6Coefs.pkl', 'Pcsk1Scores.pkl', 'Tm6sf1Coefs.pkl', 'Pmaip1Coefs.pkl', 'Skap1Scores.pkl', 'Thyn1Scores.pkl', 'PfasScores.pkl', 'DapCoefs.pkl', 'Rrp1bScores.pkl', 'Rbbp4Coefs.pkl', 'Chaf1aScores.pkl', 'Hmha1Scores.pkl', 'Smc6Scores.pkl', 'Ddx43Coefs.pkl', 'Fam213aScores.pkl', 'Cd74Coefs.pkl', 'Agfg2Coefs.pkl', 'AnlnCoefs.pkl', 'NifkScores.pkl', 'TfrcCoefs.pkl', 'E2f1Scores.pkl', 'Cd244Coefs.pkl', 'BoraScores.pkl', 'Myo19Coefs.pkl', 'Nt5eScores.pkl', 'Plk4Coefs.pkl', 'Nlrc3Scores.pkl', 'Tmc6Scores.pkl', 'Dennd1cCoefs.pkl', 'E2f8Coefs.pkl', 'CenpuScores.pkl', 'RelCoefs.pkl', 'H2-T22Coefs.pkl', 'Cdc25aCoefs.pkl', 'EomesCoefs.pkl', 'Cnn3Scores.pkl', 'LitafCoefs.pkl', 'HellsCoefs.pkl', 'Oasl2Coefs.pkl', 'HnrnpdlCoefs.pkl', 'Car2Coefs.pkl', 'Dkk3Scores.pkl', 'Gm10522Coefs.pkl', 'Cct5Coefs.pkl', 'Arl5cCoefs.pkl', 'D2Wsu81eCoefs.pkl', 'Skap1Coefs.pkl', 'FanciCoefs.pkl', 'Bhlhe40Scores.pkl', 'Hmgn1Scores.pkl', 'PalmCoefs.pkl', 'Kcnn4Coefs.pkl', 'Sgol2aScores.pkl', 'Brca1Coefs.pkl', 'Top2aScores.pkl', 'Kifc5bCoefs.pkl', 'Tbc1d4Scores.pkl', 'Kif14Scores.pkl', 'Arhgap11aScores.pkl', 'Nup205Scores.pkl', 'Atp2b4Scores.pkl', 'Ckap2lCoefs.pkl', 'Setbp1Coefs.pkl', 'Cct3Scores.pkl', 'Rsbn1Coefs.pkl', 'Irak3Scores.pkl', 'Uck2Coefs.pkl', 'Gng2Scores.pkl', 'Dapl1Coefs.pkl', 'Cd82Scores.pkl', 'Neto2Scores.pkl', 'ToxScores.pkl', 'Hirip3Coefs.pkl', 'Chit1Scores.pkl', 'CrtamCoefs.pkl', 'Ddx43Scores.pkl', 'CinpCoefs.pkl', 'Uchl3Coefs.pkl', 'Mcm7Coefs.pkl', 'Mcm6Coefs.pkl', 'Armc7Scores.pkl', 'Pcsk1Coefs.pkl', 'Mfhas1Scores.pkl', 'LockdCoefs.pkl', 'Tnfrsf4Scores.pkl', 'Park7Coefs.pkl', 'Arhgef18Scores.pkl', 'Ifit2Scores.pkl', 'Chn2Scores.pkl', 'Il7rCoefs.pkl', 'Art3Scores.pkl', 'Ifit1bl1Coefs.pkl', 'Ncaph2Scores.pkl', 'Ddx39Scores.pkl', 'Kif20aCoefs.pkl', 'Tada2aScores.pkl', 'ItgaxCoefs.pkl', 'Stk17bCoefs.pkl', 'Eef1e1Scores.pkl', 'Dscc1Scores.pkl', 'Rps6ka1Coefs.pkl', 'Npm1Coefs.pkl', 'StilScores.pkl', 'AU020206Scores.pkl', 'Gtpbp4Coefs.pkl', 'Pdcd1Scores.pkl', 'Trafd1Coefs.pkl', 'Sh2d3cCoefs.pkl', 'Pik3ip1Coefs.pkl', 'GmpsScores.pkl', 'Ehd3Scores.pkl', 'Cd6Scores.pkl', 'Klra7Scores.pkl', 'Epsti1Scores.pkl', 'Tbc1d31Scores.pkl', 'AticCoefs.pkl', 'Hspa5Coefs.pkl', 'Cdc20bScores.pkl', 'XdhScores.pkl', 'Kdm6bCoefs.pkl', 'Glipr2Coefs.pkl', 'Spdl1Coefs.pkl', 'Pde7aScores.pkl', 'Fxyd5Coefs.pkl', 'ZwilchScores.pkl', 'Adgre5Coefs.pkl', 'Rcc2Coefs.pkl', 'GartScores.pkl', 'Cd96Scores.pkl', 'Rpl7l1Coefs.pkl', 'Ddx1Coefs.pkl', 'Ehd3Coefs.pkl', 'Dapl1Scores.pkl', 'H2-Eb1Scores.pkl', 'Hspb1Coefs.pkl', 'Hsp90ab1Coefs.pkl', 'Rapgef4Scores.pkl', 'Noa1Scores.pkl', 'Gen1Coefs.pkl', 'Utp14aScores.pkl', 'Sdad1Coefs.pkl', 'Supt16Scores.pkl', 'PaskCoefs.pkl', 'Foxn3Scores.pkl', 'Il18rapCoefs.pkl', 'TtkScores.pkl', 'Ifi35Scores.pkl', 'Trim12cScores.pkl', 'Rgs2Scores.pkl', 'Neto2Coefs.pkl', 'Mfhas1Coefs.pkl', 'Ssh1Scores.pkl', 'Crim1Coefs.pkl', 'Klrd1Scores.pkl', 'Ubash3bScores.pkl', 'S1pr1Coefs.pkl', 'Cyth4Coefs.pkl', 'E2f2Coefs.pkl', 'Ppm1gScores.pkl', 'Tbc1d4Coefs.pkl', 'DekScores.pkl', 'Bcl6Coefs.pkl', 'Gramd3Scores.pkl', 'CenppCoefs.pkl', 'Atp1b3Scores.pkl', 'Gins1Coefs.pkl', 'Mad2l1Scores.pkl', 'Nop58Scores.pkl', 'Rqcd1Coefs.pkl', 'Tacc3Scores.pkl', 'Foxn3Coefs.pkl', 'Ipo7Coefs.pkl', 'Nod1Coefs.pkl', 'Mdm1Coefs.pkl', 'Pag1Scores.pkl', 'Hdac2Coefs.pkl', 'Snx5Coefs.pkl', 'Fam129bScores.pkl', 'TtkCoefs.pkl', 'Dis3Scores.pkl', 'Itih5Coefs.pkl', 'Arl6ip4Coefs.pkl', 'Mybl2Scores.pkl', 'Arl6ip5Coefs.pkl', 'Impdh2Scores.pkl', 'Trim12cCoefs.pkl', 'Eme1Scores.pkl', 'Gm4951Scores.pkl', 'Hat1Scores.pkl', 'Uhrf1Scores.pkl', 'Parp8Coefs.pkl', 'Rfc3Scores.pkl', 'Anxa2Scores.pkl', 'Zfp831Scores.pkl', 'Parp9Coefs.pkl', 'DgkaCoefs.pkl', 'Noc3lScores.pkl', 'Tmem11Scores.pkl', 'Abcb9Scores.pkl', 'G2e3Coefs.pkl', 'Ranbp1Coefs.pkl', 'Smc1aScores.pkl', 'Entpd1Scores.pkl', 'Pelp1Scores.pkl', 'Zeb2Scores.pkl', 'Ybx1Coefs.pkl', 'Ifi204Coefs.pkl', 'Ttc27Coefs.pkl', 'Cd9Coefs.pkl', 'Prmt5Scores.pkl', 'Cdkn2cScores.pkl', 'Baz1aScores.pkl', 'Cd200r1Scores.pkl', 'Pif1Scores.pkl', 'Arhgap5Scores.pkl', 'Tnfrsf9Scores.pkl', 'Scml4Scores.pkl', 'IncenpCoefs.pkl', 'DhfrCoefs.pkl', 'Lat2Scores.pkl', 'Exo1Scores.pkl', 'Actr3Scores.pkl', 'Nop56Coefs.pkl', 'Mrpl1Scores.pkl', 'Ccnb1Coefs.pkl', 'Dscc1Coefs.pkl', 'Rad54bScores.pkl', 'Rrp15Coefs.pkl', 'Gpd2Coefs.pkl', 'Mettl1Coefs.pkl', 'Myo1gCoefs.pkl', 'Vax2Coefs.pkl', 'YarsCoefs.pkl', 'Dna2Scores.pkl', 'Myo1fCoefs.pkl', 'Stat2Coefs.pkl', 'Slfn8Coefs.pkl', 'Pik3cdCoefs.pkl', 'Gna15Scores.pkl', '2310001H17RikCoefs.pkl', 'Cd2apScores.pkl', 'PpatCoefs.pkl', 'Heatr3Coefs.pkl', 'Epas1Scores.pkl', 'Bcl6Scores.pkl', 'Ska3Coefs.pkl', 'Rpl7l1Scores.pkl', 'Celf4Scores.pkl', 'Gas7Coefs.pkl', 'Lpin1Scores.pkl', 'Ska2Coefs.pkl', 'Tnfrsf1bCoefs.pkl', 'Bcat1Scores.pkl', 'FybCoefs.pkl', 'Sh2d3cScores.pkl', 'Smchd1Coefs.pkl', '1110004E09RikCoefs.pkl', 'Dtx3lCoefs.pkl', 'Asap2Coefs.pkl', 'Hdac2Scores.pkl', 'CnbpCoefs.pkl', 'Chsy1Scores.pkl', 'Eif3j1Coefs.pkl', 'Utp18Coefs.pkl', 'Cxxc5Coefs.pkl', 'Il12rb2Scores.pkl', 'Tox2Coefs.pkl', 'Gucy1a3Scores.pkl', 'Sgk1Scores.pkl', 'ItgalCoefs.pkl', 'Nip7Scores.pkl', 'Atp2b2Coefs.pkl', 'TymsCoefs.pkl', 'Fam101bCoefs.pkl', 'Slc36a1Scores.pkl', 'Tnfsf11Scores.pkl', 'NcaphCoefs.pkl', 'Lrr1Scores.pkl', 'Xrn2Coefs.pkl', 'PycardCoefs.pkl', 'Kcnip3Scores.pkl', 'Orc1Coefs.pkl', 'CarsCoefs.pkl', 'FybScores.pkl', 'Itgb7Coefs.pkl', 'Bard1Scores.pkl', 'Utp14aCoefs.pkl', 'Hsd11b1Scores.pkl', 'Mcm6Scores.pkl', 'Atp13a3Scores.pkl', 'Arhgef18Coefs.pkl', 'Hivep3Scores.pkl', 'Apbb1ipCoefs.pkl', 'Osgin1Coefs.pkl', 'Cbx5Scores.pkl', 'Utp15Scores.pkl', 'CenpfScores.pkl', 'Oas1aCoefs.pkl', 'NrgnCoefs.pkl', 'Samd3Coefs.pkl', 'HjurpScores.pkl', 'Kif4Scores.pkl', 'Il12rb2Coefs.pkl', 'Hk2Scores.pkl', 'Nod1Scores.pkl', 'Bin2Coefs.pkl', 'CitScores.pkl', 'Slc28a2Scores.pkl', 'Eif2aScores.pkl', 'Rgs16Coefs.pkl', 'PrepCoefs.pkl', 'BtlaCoefs.pkl', 'Nup205Coefs.pkl', 'Spc24Coefs.pkl', 'Poc1aCoefs.pkl', 'Rcl1Coefs.pkl', 'Gucy1a3Coefs.pkl', 'Spc25Coefs.pkl', 'Kif23Coefs.pkl', 'Golm1Coefs.pkl', 'Ptpn22Coefs.pkl', 'Mbnl1Scores.pkl', 'Kif22Coefs.pkl', 'Chd4Coefs.pkl', 'CcnfScores.pkl', 'Ppp5cCoefs.pkl', 'Bcl2l11Scores.pkl', 'Naa25Scores.pkl', 'Map1bScores.pkl', 'N4bp1Scores.pkl', 'Tomm40Scores.pkl', 'Samsn1Scores.pkl', 'E2f7Scores.pkl', 'Sorl1Coefs.pkl', 'Ifi44Scores.pkl', 'Sept4Scores.pkl', 'Pum3Scores.pkl', 'Hspb1Scores.pkl', 'Eif2b3Scores.pkl', 'Sf3b3Scores.pkl', 'Traf1Scores.pkl', 'Psma1Coefs.pkl', 'Galnt3Scores.pkl', 'EedCoefs.pkl', 'Bach2Coefs.pkl', 'Fam134bCoefs.pkl', 'St6gal1Scores.pkl', 'S100a6Scores.pkl', 'Prc1Coefs.pkl', 'Tpst2Scores.pkl', 'Mb21d1Scores.pkl', 'Rsad2Coefs.pkl', 'Galk1Scores.pkl', 'Wdr74Scores.pkl', 'Timm9Coefs.pkl', 'Cenpc1Scores.pkl', 'Depdc1bCoefs.pkl', 'Bst2Coefs.pkl', 'Iigp1Scores.pkl', 'Lrrc8cCoefs.pkl', 'Wipf3Coefs.pkl', 'Zfp36l1Coefs.pkl', 'Cd86Coefs.pkl', 'TicrrScores.pkl', 'Whsc1Coefs.pkl', 'C330027C09RikCoefs.pkl', 'Exosc1Coefs.pkl', 'Ube2cbpScores.pkl', 'H2-Ab1Coefs.pkl', 'Smc1aCoefs.pkl', 'Stip1Coefs.pkl', 'Smc4Coefs.pkl', 'Zc3h15Coefs.pkl', 'Spock2Coefs.pkl', 'Slamf6Coefs.pkl', 'Mettl1Scores.pkl', 'GmnnCoefs.pkl', 'Tpst2Coefs.pkl', 'Fam129aCoefs.pkl', 'Cct5Scores.pkl', 'Ect2Coefs.pkl', 'CenpnCoefs.pkl', 'Nup155Coefs.pkl', 'Atp2b2Scores.pkl', 'Nusap1Coefs.pkl', 'Eea1Scores.pkl', 'Xaf1Scores.pkl', 'Nsg2Coefs.pkl', 'BoraCoefs.pkl', 'Parp14Coefs.pkl', 'Iqgap2Scores.pkl', 'Stk38Scores.pkl', 'Wdr43Coefs.pkl', 'Fam81aCoefs.pkl', 'Gm4955Coefs.pkl', 'As3mtCoefs.pkl', 'DtlScores.pkl', 'Klrk1Coefs.pkl', 'Utp20Scores.pkl', 'AhnakCoefs.pkl', 'Arhgap11aCoefs.pkl', 'Gm26917Coefs.pkl', 'Nol12Coefs.pkl', '2310001H17RikScores.pkl', 'Dock2Coefs.pkl', 'Rrm1Coefs.pkl', '2700029M09RikCoefs.pkl', 'Ifit1bl1Scores.pkl', 'Wdr76Coefs.pkl', 'Top1mtScores.pkl', 'Pola1Scores.pkl', 'Kif1bCoefs.pkl', 'EedScores.pkl', 'Fam105aCoefs.pkl', 'NfkbiaScores.pkl', 'Plxdc2Scores.pkl', 'Tnfsf4Scores.pkl', 'Ckap2Scores.pkl', 'LarsScores.pkl', 'TmpoCoefs.pkl', 'Slc36a1Coefs.pkl', 'Add3Coefs.pkl', 'HmmrCoefs.pkl', 'Gtpbp4Scores.pkl', 'Smarcc1Coefs.pkl', 'Il7rScores.pkl', 'Cacna1dCoefs.pkl', 'Ccm2Scores.pkl', 'Lef1Coefs.pkl', 'Shcbp1Scores.pkl', 'Capn2Coefs.pkl', 'Eri1Coefs.pkl', 'Wdr36Scores.pkl', 'Hspa9Scores.pkl', 'TroapCoefs.pkl', 'Klra7Coefs.pkl', 'Rif1Coefs.pkl', 'HnrnpdScores.pkl', 'Rbl2Coefs.pkl', 'Fam64aCoefs.pkl', 'Actn1Coefs.pkl', 'Brix1Coefs.pkl', 'Tor3aCoefs.pkl', 'Eif1aCoefs.pkl', 'Sp100Scores.pkl', 'Kcnip3Coefs.pkl', 'Dbf4Coefs.pkl', 'Trmt6Coefs.pkl', 'Larp1Scores.pkl', '2900026A02RikCoefs.pkl', 'Ctla2aScores.pkl', 'Utp18Scores.pkl', 'CenpkScores.pkl', 'Serpinb9Coefs.pkl', 'Pdcd11Scores.pkl', 'Asap1Scores.pkl', 'Oasl2Scores.pkl', 'TimelessCoefs.pkl', 'Esm1Coefs.pkl', 'Gtf2f2Scores.pkl', 'Rrp15Scores.pkl', 'Hivep3Coefs.pkl', 'Rangap1Coefs.pkl', 'Ica1Scores.pkl', 'PecrCoefs.pkl', 'Plekhf1Coefs.pkl', 'Gpsm2Coefs.pkl', 'Ak2Scores.pkl', 'Dyrk3Scores.pkl', 'Timp2Scores.pkl', 'Ndrg1Coefs.pkl', 'Usp18Scores.pkl', 'Cpne3Scores.pkl', 'Anxa2Coefs.pkl', 'Sf3a3Coefs.pkl', 'HmmrScores.pkl', 'Ccne2Scores.pkl', 'Hn1lScores.pkl', 'AdkCoefs.pkl', 'Gas2l3Coefs.pkl', 'Ccm2Coefs.pkl', 'Bace2Coefs.pkl', 'Bst2Scores.pkl', 'Ranbp1Scores.pkl', 'Abce1Coefs.pkl', 'Dock2Scores.pkl', 'PenkScores.pkl', 'TfrcScores.pkl', 'Nt5eCoefs.pkl', 'Pglyrp2Scores.pkl', 'Phf11cScores.pkl', 'Gng12Scores.pkl', 'RabggtbScores.pkl', 'Ddx60Coefs.pkl', 'Pop5Coefs.pkl', 'Ssrp1Scores.pkl', 'Ccr6Scores.pkl', 'HellsScores.pkl', 'EmbScores.pkl', 'Eif3j1Scores.pkl', 'Zeb2Coefs.pkl', 'Actr3Coefs.pkl', 'Rfc2Coefs.pkl', 'Pum3Coefs.pkl', 'Agpat4Scores.pkl', 'Rfc3Coefs.pkl', 'IkbkeScores.pkl', 'Fam49aScores.pkl', 'MelkCoefs.pkl', 'Dus4lCoefs.pkl', 'CenpeCoefs.pkl', 'AcacaCoefs.pkl', 'Chn2Coefs.pkl', 'DscamCoefs.pkl', 'Cdca2Scores.pkl', 'EprsCoefs.pkl', '1500009L16RikScores.pkl', 'Ercc6l2Coefs.pkl', 'Cdc25bScores.pkl', 'Plk1Scores.pkl', 'Ablim1Scores.pkl', 'IncenpScores.pkl', 'Cep55Scores.pkl', 'Cct8Scores.pkl', 'Cdkn3Coefs.pkl', 'Mpp2Coefs.pkl', 'Nob1Coefs.pkl', 'AicdaScores.pkl', 'Fam81aScores.pkl', 'EomesScores.pkl', 'Desi2Coefs.pkl', 'LrpprcCoefs.pkl', 'PrkrirScores.pkl', 'Dtx3lScores.pkl', 'Cd200r4Coefs.pkl', 'TraipCoefs.pkl', 'Eif2s2Scores.pkl', 'Pelp1Coefs.pkl', 'Stmn1Scores.pkl', 'MndalCoefs.pkl', 'Ckap2Coefs.pkl', 'Cdkn2cCoefs.pkl', 'Neil3Coefs.pkl', 'Gbp7Coefs.pkl', 'Snrpd3Scores.pkl', 'Top2aCoefs.pkl', 'Irf2Coefs.pkl', 'Ccdc58Scores.pkl', 'Egr2Scores.pkl', 'Pwp1Coefs.pkl', 'E2f7Coefs.pkl', 'Dkk3Coefs.pkl', 'Gm26614Coefs.pkl', 'Id2Scores.pkl', 'Car5bCoefs.pkl', 'Stk17bScores.pkl', 'Lasp1Coefs.pkl', 'Sat1Scores.pkl', 'Rad54lScores.pkl', 'Maats1Coefs.pkl', 'Mxd3Scores.pkl', 'Timp2Coefs.pkl', 'Slc28a2Coefs.pkl', 'Epsti1Coefs.pkl', 'Dnajc2Scores.pkl', 'Kif22Scores.pkl', 'Cd244Scores.pkl', 'Usp10Scores.pkl', 'Tmem71Scores.pkl', 'Ptpn6Coefs.pkl', 'Kntc1Scores.pkl', 'PoleScores.pkl', 'Psmc6Coefs.pkl', 'Il1r2Coefs.pkl', 'Rgs10Scores.pkl', 'Ptpn22Scores.pkl', 'Rnf166Coefs.pkl', 'Eif2b3Coefs.pkl', 'Rgs1Coefs.pkl', 'MylipCoefs.pkl', 'ItgalScores.pkl', 'Gga2Scores.pkl', 'AhnakScores.pkl', 'Zfp36l1Scores.pkl', 'Padi2Scores.pkl', 'Rbbp4Scores.pkl', 'Ccne2Coefs.pkl', 'Smarcc1Scores.pkl', 'Fam213aCoefs.pkl', 'Plekhg3Coefs.pkl', 'Chd6Scores.pkl', 'Ubash3bCoefs.pkl', 'Agfg2Scores.pkl', 'Sf3a3Scores.pkl', 'Hspa14Scores.pkl', 'Arl6ip1Coefs.pkl', 'Havcr2Scores.pkl', 'Rap1gap2Coefs.pkl', 'Lig1Coefs.pkl', 'Dhx58Scores.pkl', 'NrgnScores.pkl', 'Brip1Coefs.pkl', 'Zranb3Coefs.pkl', 'Tmem163Scores.pkl', 'Sytl3Scores.pkl', '2310015A10RikScores.pkl', 'Phlda1Coefs.pkl', 'Cd48Scores.pkl', 'Mx1Scores.pkl', 'Il23rScores.pkl', 'Slamf6Scores.pkl', 'Rtp4Coefs.pkl', 'Fam65bCoefs.pkl', 'Samhd1Scores.pkl', 'Sept4Coefs.pkl', 'Cyth4Scores.pkl', 'Polr2fCoefs.pkl', 'Kntc1Coefs.pkl', 'Larp1bCoefs.pkl', 'Larp1bScores.pkl', 'Il6raScores.pkl', 'Bzw2Scores.pkl', 'Bcl2Coefs.pkl', 'Ifit1Scores.pkl', 'IkbkeCoefs.pkl', 'Fkbp5Scores.pkl', 'AunipScores.pkl', 'Gxylt1Coefs.pkl', 'CenpuCoefs.pkl', 'GemCoefs.pkl', 'Alg8Coefs.pkl', 'Igf1rCoefs.pkl', 'H2-T22Scores.pkl', 'ColqScores.pkl', 'Topbp1Coefs.pkl', 'HrasScores.pkl', 'Ssh1Coefs.pkl', 'Nedd8Coefs.pkl', 'NudcScores.pkl', 'Thap3Coefs.pkl', 'Nop56Scores.pkl', 'Ccdc50Scores.pkl', 'Akap8lScores.pkl', 'N4bp2l1Coefs.pkl', 'Wdr12Coefs.pkl', 'Naa50Coefs.pkl', 'Sp100Coefs.pkl', 'AU020206Coefs.pkl', 'Cmpk2Scores.pkl', 'Tnfsf8Coefs.pkl', 'Eif1aScores.pkl', 'Hsd11b1Coefs.pkl', 'NclScores.pkl', 'DckScores.pkl', 'Cd101Scores.pkl', 'Qtrtd1Scores.pkl', 'Naa15Scores.pkl', 'Cd3gCoefs.pkl', 'NcaphScores.pkl', 'Car12Scores.pkl', 'Ovol2Scores.pkl', 'Hmgn2Scores.pkl', 'Pitpnc1Coefs.pkl', 'Ggt1Coefs.pkl', 'Ipo7Scores.pkl', 'St3gal6Coefs.pkl', 'Tnfrsf13bScores.pkl', 'Ggt1Scores.pkl', 'Dusp5Scores.pkl', 'AurkaCoefs.pkl', 'Nr4a3Scores.pkl', 'HrasCoefs.pkl', 'CnbpScores.pkl', 'Psmd13Scores.pkl', 'Serinc3Scores.pkl', 'Hmgn2Coefs.pkl', 'GartCoefs.pkl', 'Mcm8Coefs.pkl', 'Poc1aScores.pkl', 'Psmd1Coefs.pkl', 'Tbrg4Scores.pkl', 'HnrnpdCoefs.pkl', 'Galnt6Scores.pkl', 'Mbnl1Coefs.pkl', 'Sat1Coefs.pkl', 'Ifngr1Coefs.pkl', 'YdjcCoefs.pkl', 'Hirip3Scores.pkl', 'Atp1b3Coefs.pkl', 'Cep83Coefs.pkl', 'Rsrp1Coefs.pkl', 'E2f2Scores.pkl', 'Tmem71Coefs.pkl', 'Eme1Coefs.pkl', 'Satb1Coefs.pkl', 'Cd44Coefs.pkl', 'Mnd1Coefs.pkl', 'Suz12Coefs.pkl', 'PrkcqScores.pkl', 'Pim1Coefs.pkl', 'Ddx1Scores.pkl', 'MycCoefs.pkl', 'Usp18Coefs.pkl', 'CanxScores.pkl', 'MybCoefs.pkl', 'Bcl2l11Coefs.pkl', 'Serpinb9Scores.pkl', 'TipinCoefs.pkl', 'Ccdc58Coefs.pkl', 'Plk1Coefs.pkl', 'Gas7Scores.pkl', 'Txn2Scores.pkl', 'Agpat4Coefs.pkl', 'Agpat5Coefs.pkl', 'Tnfrsf4Coefs.pkl', 'Lsp1Scores.pkl', 'Klra9Scores.pkl', 'Kpna3Coefs.pkl', 'AI662270Scores.pkl', 'Irak3Coefs.pkl', 'CenpnScores.pkl', 'Lgals1Coefs.pkl', 'Fam102aScores.pkl', 'Mcm10Coefs.pkl', 'Orc6Scores.pkl', 'SellScores.pkl', 'Serbp1Scores.pkl', 'Spag5Coefs.pkl', 'Top1mtCoefs.pkl', 'Larp4Scores.pkl', 'Esco2Coefs.pkl', 'Cela1Coefs.pkl', 'Tma16Scores.pkl', 'Uba2Coefs.pkl', 'UbcCoefs.pkl', 'Arap2Scores.pkl', 'Pdlim1Coefs.pkl', 'IarsScores.pkl', 'Lair1Coefs.pkl', 'Tcp1Coefs.pkl', 'Cd38Coefs.pkl', 'Chchd4Coefs.pkl', 'Ckap2lScores.pkl', 'Pim1Scores.pkl', 'Osbpl3Scores.pkl', 'Il6raCoefs.pkl', 'NarsScores.pkl', 'Actn1Scores.pkl', 'PalmScores.pkl', 'Mettl16Coefs.pkl', 'Spata13Scores.pkl', 'NmiScores.pkl', 'Cd200r2Scores.pkl', 'Baz1bScores.pkl', 'Pdss1Scores.pkl', 'Dapk2Coefs.pkl', 'FcgrtScores.pkl', 'Parp8Scores.pkl', 'Rsrp1Scores.pkl', 'Itgb8Scores.pkl', 'Cdk1Scores.pkl', 'Dpp4Scores.pkl', 'Polr1bCoefs.pkl', 'Rasa3Scores.pkl', 'Fancd2Scores.pkl', 'Rangap1Scores.pkl', 'Ms4a4bScores.pkl', 'Rad51ap1Scores.pkl', 'Pus7Coefs.pkl', 'Gbp8Scores.pkl', 'Suz12Scores.pkl', 'NeblScores.pkl', 'Klrc1Coefs.pkl', 'Cep89Coefs.pkl', 'Wdr12Scores.pkl', 'Sesn3Coefs.pkl', 'Luzp1Scores.pkl', 'Tmem135Scores.pkl', 'Apobec2Coefs.pkl', 'Tmem135Coefs.pkl', 'Eif2s1Coefs.pkl', 'Lsp1Coefs.pkl', 'Armc7Coefs.pkl', 'Impa2Scores.pkl', 'NcaldScores.pkl', 'Baz1aCoefs.pkl', 'Mdn1Coefs.pkl', 'Nucks1Coefs.pkl', 'Fam129aScores.pkl', 'Dennd1cScores.pkl', 'Prdm1Scores.pkl', 'Asb2Scores.pkl', 'Abcg1Scores.pkl', 'P2rx7Scores.pkl', 'Scarb1Coefs.pkl', 'Anp32eScores.pkl', 'Ube2cbpCoefs.pkl', 'Mcm10Scores.pkl', 'Eif2ak2Scores.pkl', 'EvlScores.pkl', 'Pprc1Scores.pkl', 'Klf13Coefs.pkl', 'Pop5Scores.pkl', 'Rgs1Scores.pkl', 'Cdca7Scores.pkl', 'Trmt6Scores.pkl', 'Gm26614Scores.pkl', 'Plk4Scores.pkl', 'Tspan32Coefs.pkl', 'Isg20Scores.pkl', 'Ak2Coefs.pkl', 'Myo1gScores.pkl', 'Gpatch4Coefs.pkl', 'Gng2Coefs.pkl', 'Abhd17cScores.pkl', 'Cd6Coefs.pkl', 'Smchd1Scores.pkl', 'Cdk1Coefs.pkl', 'Eif4g1Scores.pkl', 'ClspnCoefs.pkl', 'Mki67Scores.pkl', 'Tma16Coefs.pkl', 'Kif2cScores.pkl', 'Shcbp1Coefs.pkl', 'Stk24Scores.pkl', 'Nop58Coefs.pkl', 'Phactr2Coefs.pkl', 'Kif11Scores.pkl', 'Pfdn2Coefs.pkl', 'Zfp831Coefs.pkl', 'Atp2b1Scores.pkl', 'Ovol2Coefs.pkl', 'Dhrs13Coefs.pkl', 'Ikzf2Scores.pkl', 'Pdss1Coefs.pkl', 'Ifi35Coefs.pkl', 'NudcCoefs.pkl', 'Wdhd1Scores.pkl', 'AatfCoefs.pkl', 'AnlnScores.pkl', 'Klra3Coefs.pkl', 'Phf11aCoefs.pkl', 'Arhgap5Coefs.pkl', 'Ncaph2Coefs.pkl', 'Rad21Scores.pkl', 'MetrnlCoefs.pkl', 'Maats1Scores.pkl', 'Diaph3Coefs.pkl', 'Dhrs13Scores.pkl', 'Snhg12Scores.pkl', 'N4bp1Coefs.pkl', 'As3mtScores.pkl', 'Nip7Coefs.pkl', 'Ptpn11Scores.pkl', 'Impdh2Coefs.pkl', 'CenppScores.pkl', 'Cnn3Coefs.pkl', 'PrkcqCoefs.pkl', 'Anxa6Coefs.pkl', 'Ssrp1Coefs.pkl', 'Ezh2Coefs.pkl', 'Ska3Scores.pkl', 'Dclk1Coefs.pkl', 'Lef1Scores.pkl', 'PycardScores.pkl', 'Pyhin1Scores.pkl', 'Apitd1Coefs.pkl', 'AarsCoefs.pkl', 'Rasa3Coefs.pkl', 'Cdca5Coefs.pkl', 'Mtx2Scores.pkl', 'Tmem11Coefs.pkl', 'NcapgCoefs.pkl', 'Fbxo5Scores.pkl', 'Gnl3Coefs.pkl', 'MastlCoefs.pkl', 'Pa2g4Coefs.pkl', 'Pik3ip1Scores.pkl', 'Shq1Scores.pkl', 'Smpdl3bCoefs.pkl', 'AI662270Coefs.pkl', 'Add3Scores.pkl', 'Itgb8Coefs.pkl', 'Noc3lCoefs.pkl', 'Ccdc28bScores.pkl', 'PdgfbCoefs.pkl', 'Crmp1Scores.pkl', 'Lrrc8cScores.pkl', 'Mki67Coefs.pkl', 'Nedd8Scores.pkl', 'N4bp2l1Scores.pkl', 'Rgs16Scores.pkl', 'Stk4Scores.pkl', 'Nop2Coefs.pkl', 'Samsn1Coefs.pkl', 'Clec2iScores.pkl', 'Enpp2Scores.pkl', 'Serpini1Scores.pkl', 'CenpeScores.pkl', 'NsmafScores.pkl', 'Mpp6Scores.pkl', 'Arl6ip5Scores.pkl', 'Oip5Coefs.pkl', 'SellCoefs.pkl', 'Ifit1Coefs.pkl', 'Iigp1Coefs.pkl', 'Pop1Coefs.pkl', 'Fam64aScores.pkl', 'Isg20Coefs.pkl', 'AspmCoefs.pkl', 'Map4k4Coefs.pkl', 'Pole2Coefs.pkl', 'Bhlhe40Coefs.pkl', 'Pdcd4Scores.pkl', 'Exosc1Scores.pkl', 'Hn1lCoefs.pkl', 'Itgb3Scores.pkl', 'Taf1dCoefs.pkl', 'Trim5Scores.pkl', 'Glrx3Coefs.pkl', 'Il18r1Coefs.pkl', 'Gng12Coefs.pkl', 'Cd200r1Coefs.pkl', 'Timm9Scores.pkl', 'Tsen2Coefs.pkl', 'Snrpd1Coefs.pkl', 'Xrn2Scores.pkl', 'H2afvCoefs.pkl', 'Inpp4bScores.pkl', 'LockdScores.pkl', 'Ppp5cScores.pkl', 'Mtfr2Scores.pkl', 'Crip1Coefs.pkl', 'Trim27Scores.pkl', 'Spata13Coefs.pkl', 'Prex1Coefs.pkl', 'Galk1Coefs.pkl', 'Cpne3Coefs.pkl', 'Ube2hCoefs.pkl', 'Plxdc2Coefs.pkl', 'HgsnatScores.pkl', 'Epas1Coefs.pkl', 'PpihScores.pkl', 'NcaldCoefs.pkl', 'Spats1Coefs.pkl', 'Ablim1Coefs.pkl', 'Mpp6Coefs.pkl', 'Spag5Scores.pkl', 'Itgb3Coefs.pkl', 'Abcb9Coefs.pkl', 'HnrnpdlScores.pkl', 'TmpoScores.pkl', 'Ddx10Scores.pkl', 'Tbc1d31Coefs.pkl', 'Fzr1Scores.pkl', 'Trim30dScores.pkl', 'Noa1Coefs.pkl', 'Serinc3Coefs.pkl', 'Cmpk2Coefs.pkl', 'Igf1rScores.pkl', 'Srrm1Scores.pkl', 'Irak1bp1Coefs.pkl', 'PkigScores.pkl', 'Rpf2Coefs.pkl', 'DgkaScores.pkl', 'IcosScores.pkl', 'Malat1Coefs.pkl', 'Fam101bScores.pkl', 'Art3Coefs.pkl', 'Klre1Coefs.pkl', 'Eif2s1Scores.pkl', 'Lrig1Coefs.pkl', 'Neurl1bCoefs.pkl', 'Hsp90b1Scores.pkl', 'Zbtb20Scores.pkl', 'Tlcd1Coefs.pkl', 'Atad5Scores.pkl', 'Cd200Scores.pkl', 'Nup107Scores.pkl', 'Cd3eScores.pkl', 'Rilpl2Coefs.pkl', 'BlmScores.pkl', 'Chd1Coefs.pkl', 'Nolc1Scores.pkl', 'Sgol1Scores.pkl', 'Tspan3Scores.pkl', 'PtmaCoefs.pkl', 'Pif1Coefs.pkl', 'Anp32bCoefs.pkl', 'Cbx4Coefs.pkl', 'Cbx5Coefs.pkl', 'Il18r1Scores.pkl', 'Ngly1Scores.pkl', 'Impa2Coefs.pkl', 'Klf3Coefs.pkl', 'Ociad2Scores.pkl', 'Pacsin1Coefs.pkl', 'Ipcef1Coefs.pkl', 'Casp4Scores.pkl', 'Cdc25aScores.pkl', 'Klra8Coefs.pkl', 'MybScores.pkl', 'Hpcal1Coefs.pkl', 'Il17raScores.pkl', 'Klra9Coefs.pkl', 'PISDCoefs.pkl', 'Lgals1Scores.pkl', 'P2rx7Coefs.pkl', 'Lrr1Coefs.pkl', 'Phlda1Scores.pkl', 'Rps2Coefs.pkl', 'Ddx27Coefs.pkl', 'Mcm8Scores.pkl', 'XdhCoefs.pkl', 'Asap2Scores.pkl', 'Cd82Coefs.pkl', 'Samd9lCoefs.pkl', 'CenphScores.pkl', 'Cd83Coefs.pkl', 'Rcl1Scores.pkl', 'Jak1Coefs.pkl', 'Adarb1Coefs.pkl', 'Oasl1Scores.pkl', 'CrtamScores.pkl', 'Pa2g4Scores.pkl', 'Sdad1Scores.pkl', 'Kif18bScores.pkl', '1700017B05RikCoefs.pkl', 'Dtx1Coefs.pkl', 'Mrps27Scores.pkl', 'NfkbiaCoefs.pkl', 'Lair1Scores.pkl', 'NeblCoefs.pkl', 'Abi3Coefs.pkl', 'IcosCoefs.pkl', 'Eif2aCoefs.pkl', 'Pola1Coefs.pkl', 'Dnajc9Scores.pkl', 'Rab19Coefs.pkl', 'Rtp4Scores.pkl', '1110004E09RikScores.pkl', 'Prmt7Coefs.pkl', 'Mettl16Scores.pkl', 'Havcr2Coefs.pkl', 'Ildr1Scores.pkl', 'CpdCoefs.pkl', '5730508B09RikScores.pkl', 'Sf3b3Coefs.pkl', 'Chchd6Scores.pkl', 'Setbp1Scores.pkl', 'Gbp8Coefs.pkl', 'AticScores.pkl', 'Il23rCoefs.pkl', 'AunipCoefs.pkl', 'Nob1Scores.pkl', 'Polr2fScores.pkl', 'Plekha1Scores.pkl', 'Psmd11Coefs.pkl', 'Nle1Scores.pkl', 'Slc7a1Scores.pkl', 'Pik3r5Scores.pkl', 'CcnfCoefs.pkl', 'Atad5Coefs.pkl', 'Cep128Coefs.pkl', 'Pola2Scores.pkl', 'Spc25Scores.pkl', 'Kif2cCoefs.pkl', 'Ncapd3Scores.pkl', 'GmnnScores.pkl', 'Rif1Scores.pkl', 'AcacaScores.pkl', 'Gm4951Coefs.pkl', 'DaxxScores.pkl', 'Cd200r4Scores.pkl', 'Ube2tScores.pkl', 'Ybx3Scores.pkl', 'Mx1Coefs.pkl', 'MylipScores.pkl', 'Abhd17cCoefs.pkl', 'Klrg1Scores.pkl', 'Tnk2Scores.pkl', 'Dclk1Scores.pkl', 'CenpkCoefs.pkl', '2700029M09RikScores.pkl', 'Asf1bScores.pkl', 'Itpr2Scores.pkl', 'Prdx4Scores.pkl', 'Ftsj3Coefs.pkl', 'Decr1Scores.pkl', 'Atf3Scores.pkl', 'Chsy1Coefs.pkl', 'Slfn1Scores.pkl', 'G2e3Scores.pkl', 'Spire1Scores.pkl', 'Ankle1Scores.pkl', 'Add1Coefs.pkl', 'Oip5Scores.pkl', 'CtpsScores.pkl', 'PrepScores.pkl', 'AdkScores.pkl', 'Gpm6bCoefs.pkl', 'Traf1Coefs.pkl', 'Rpp30Coefs.pkl', 'Hsp90b1Coefs.pkl', 'Wdr74Coefs.pkl', 'Rrm2Coefs.pkl', 'Plekhf1Scores.pkl', 'Wdr75Coefs.pkl', 'Nrn1Scores.pkl', 'MelkScores.pkl', 'Malat1Scores.pkl', 'Sytl2Scores.pkl', 'Rbl1Coefs.pkl', 'Pfdn4Coefs.pkl', 'Ttc27Scores.pkl', 'Bcl2l1Coefs.pkl', 'DtlCoefs.pkl', 'Eif3aScores.pkl', 'PmlScores.pkl', 'Tppp3Scores.pkl', 'Sept11Scores.pkl', 'Gm26522Coefs.pkl', 'Fam65bScores.pkl', 'Smpd4Coefs.pkl', 'Mrps27Coefs.pkl', 'Map4k4Scores.pkl', 'FurinCoefs.pkl', 'Klra5Coefs.pkl', 'Gnl3Scores.pkl', 'Ifih1Scores.pkl', 'Mthfd1Coefs.pkl', 'Cse1lScores.pkl', 'LitafScores.pkl', 'Tagln2Scores.pkl', 'Slc25a13Scores.pkl', 'Trappc1Scores.pkl', 'RaraCoefs.pkl', 'Cela1Scores.pkl', 'Atp8a2Coefs.pkl', 'Klra5Scores.pkl', 'Id3Scores.pkl', '2700094K13RikScores.pkl', 'Pecam1Coefs.pkl', 'Herc6Scores.pkl', 'Bub1Coefs.pkl', 'TraipScores.pkl', 'Brip1Scores.pkl', 'Kif23Scores.pkl', 'Trip13Coefs.pkl', '2810417H13RikScores.pkl', 'Esm1Scores.pkl', 'Clec10aScores.pkl', 'Tomm70aCoefs.pkl', 'Rasgrp2Scores.pkl', 'TipinScores.pkl', 'Arhgap19Coefs.pkl', 'Cd22Coefs.pkl', 'Ccnb1Scores.pkl', 'Lpin1Coefs.pkl', 'Ndrg1Scores.pkl', 'Cdca2Coefs.pkl', 'Pwp1Scores.pkl', 'Ccnd2Coefs.pkl', 'Dkc1Coefs.pkl', 'Nek6Coefs.pkl', 'Pus7Scores.pkl', 'Fam162aCoefs.pkl', 'Stat1Scores.pkl', 'Tcerg1Coefs.pkl', 'Mms22lCoefs.pkl', 'Nr4a2Scores.pkl', 'Snx5Scores.pkl', 'Il18rapScores.pkl', 'Smc4Scores.pkl', 'Ube2kScores.pkl', 'Ndc80Scores.pkl', 'Rap1bCoefs.pkl', 'Kif14Coefs.pkl', 'Nrn1Coefs.pkl', 'Mtch1Scores.pkl', 'Cdkn3Scores.pkl', 'Zc3h15Scores.pkl', 'Stk24Coefs.pkl', 'Kif15Coefs.pkl', 'Hif1aScores.pkl', 'PrkrirCoefs.pkl', 'Tpx2Coefs.pkl', 'Itga1Scores.pkl', 'Kifc1Coefs.pkl', 'Kifc5bScores.pkl', '1500009L16RikCoefs.pkl', 'D2Wsu81eScores.pkl', 'Birc5Coefs.pkl', 'Pde10aCoefs.pkl', 'Dna2Coefs.pkl', 'NifkCoefs.pkl', 'Rad54bCoefs.pkl', 'Gimap6Scores.pkl', 'Rfc1Coefs.pkl', 'BtlaScores.pkl', 'Rsbn1Scores.pkl', 'Trpm6Coefs.pkl', 'Cd55Coefs.pkl', 'BC030867Coefs.pkl', 'Apex1Coefs.pkl', 'Crim1Scores.pkl', 'CenpfCoefs.pkl', 'Pold3Scores.pkl', 'PolqScores.pkl', 'Klf13Scores.pkl', 'ToxCoefs.pkl', 'Ddx60Scores.pkl', 'ItgaxScores.pkl', 'Atp6v0a2Scores.pkl', 'Itga1Coefs.pkl', 'Stmn1Coefs.pkl', 'CanxCoefs.pkl', 'Casp4Coefs.pkl', 'Reep5Coefs.pkl', 'Epdr1Scores.pkl', 'FanciScores.pkl', 'Prr11Scores.pkl', 'Nrp1Scores.pkl', 'Srsf2Coefs.pkl', 'Ubap2Coefs.pkl', 'Ndc1Scores.pkl', 'Entpd1Coefs.pkl', 'Rbmxl1Coefs.pkl', 'KitScores.pkl', 'Nlrc3Coefs.pkl', 'Ftsj3Scores.pkl', 'Mpzl2Coefs.pkl', 'Rapgef4Coefs.pkl', 'Cdkn2aCoefs.pkl', 'Serpina3fScores.pkl', 'Ifi44Coefs.pkl', 'CinpScores.pkl', 'Rbl2Scores.pkl', 'Pwp2Coefs.pkl', 'Ift57Scores.pkl', 'Luc7l3Coefs.pkl', 'Il21rScores.pkl', 'Hspa14Coefs.pkl', 'Naf1Scores.pkl', 'Tspan32Scores.pkl', 'Ccdc34Coefs.pkl', 'LyarCoefs.pkl', 'Ankle1Coefs.pkl', 'TimelessScores.pkl', 'Uhrf1Coefs.pkl', 'Nop2Scores.pkl', 'Lasp1Scores.pkl', 'Ifrd2Coefs.pkl', '1810011H11RikCoefs.pkl', 'Nol12Scores.pkl', 'PrkchScores.pkl', 'Asb2Coefs.pkl', 'Tcf7Scores.pkl', 'DutScores.pkl', 'Cdca8Coefs.pkl', 'Cd44Scores.pkl', 'Il3Coefs.pkl', 'Hp1bp3Scores.pkl', 'Bub1Scores.pkl', 'Rfc1Scores.pkl', 'Zbtb38Coefs.pkl', 'Asap1Coefs.pkl', 'Prpf40aScores.pkl', 'Psat1Coefs.pkl', 'Cd226Scores.pkl', 'Mis18bp1Scores.pkl', 'Espl1Scores.pkl', 'Tcof1Coefs.pkl', 'C330027C09RikScores.pkl', 'Fam83dScores.pkl', 'Mrpl1Coefs.pkl', 'Ifngr1Scores.pkl', 'Lax1Coefs.pkl', 'HopxCoefs.pkl', 'Zbp1Coefs.pkl', 'Atp2b1Coefs.pkl', 'Abce1Scores.pkl', 'Prmt7Scores.pkl', 'Dis3Coefs.pkl', 'Cdkn2aScores.pkl', 'Rnf213Coefs.pkl', 'Pag1Coefs.pkl', 'Cdv3Coefs.pkl', 'MtapCoefs.pkl', 'Ccnd2Scores.pkl', 'Parp9Scores.pkl', 'Wdr36Coefs.pkl', 'TicrrCoefs.pkl', 'Wdr95Scores.pkl', 'Dnmt1Scores.pkl', 'Pdcd11Coefs.pkl', 'Dlgap5Scores.pkl', 'GmpsCoefs.pkl', 'Gpsm2Scores.pkl', 'Uchl3Scores.pkl', 'Klra8Scores.pkl', 'CalcbScores.pkl', 'Tcp1Scores.pkl', 'Cd9Scores.pkl', 'Cxcr5Scores.pkl', 'Pdcd1Coefs.pkl', 'Rnf165Scores.pkl', 'Ddx58Scores.pkl', 'Pmf1Scores.pkl', 'Egr2Coefs.pkl', 'Chd6Coefs.pkl', 'HgsnatCoefs.pkl', 'Ddx56Coefs.pkl', 'Rbbp8Scores.pkl', 'Itpr2Coefs.pkl', 'Pydc4Scores.pkl', 'Anp32eCoefs.pkl', 'Dimt1Scores.pkl', 'Pfdn4Scores.pkl', 'Phactr2Scores.pkl', 'LyarScores.pkl', 'Gen1Scores.pkl', 'Vps37bCoefs.pkl', 'Prmt1Coefs.pkl', 'Fam162aScores.pkl', 'Alg8Scores.pkl', 'Trim12aScores.pkl', 'Depdc1bScores.pkl', 'Tshz2Scores.pkl', 'Plac8Scores.pkl', 'Cd226Coefs.pkl', 'Cmtm7Coefs.pkl', 'Gspt1Scores.pkl', 'Prdx4Coefs.pkl', 'Myo1fScores.pkl', 'Ddx21Coefs.pkl', 'Cdc6Scores.pkl', 'Ccr2Scores.pkl', 'Uba2Scores.pkl', 'Pydc4Coefs.pkl', 'Arhgap19Scores.pkl', 'Atad3aCoefs.pkl', 'AatfScores.pkl', 'CluhScores.pkl', 'Zbp1Scores.pkl', 'Racgap1Scores.pkl', 'Tlcd1Scores.pkl', 'Depdc1aCoefs.pkl', 'FaslScores.pkl', 'Bin2Scores.pkl', 'Ift57Coefs.pkl', 'Arap2Coefs.pkl', 'Luzp1Coefs.pkl', 'Amica1Scores.pkl', 'Ms4a4cScores.pkl', 'Inpp4bCoefs.pkl', 'Fam129bCoefs.pkl', 'Tk1Scores.pkl', 'H2-Ab1Scores.pkl', 'Trappc1Coefs.pkl', '2310015A10RikCoefs.pkl', 'CenplCoefs.pkl', 'Lcp2Coefs.pkl', 'Esco2Scores.pkl', 'PkigCoefs.pkl', 'Thyn1Coefs.pkl', 'PfkpCoefs.pkl', 'DutCoefs.pkl', 'Atp1b1Scores.pkl', 'DhfrScores.pkl', 'Smc6Coefs.pkl', 'Atad2Scores.pkl', 'Rps6ka1Scores.pkl', 'Gemin5Coefs.pkl', 'Nuf2Scores.pkl', 'MaoaScores.pkl', 'Slc43a3Scores.pkl', 'Tm6sf1Scores.pkl', 'Mrpl20Scores.pkl', 'Epdr1Coefs.pkl', 'Ccr6Coefs.pkl', 'Cdc45Scores.pkl', 'Map1bCoefs.pkl', 'Nol11Coefs.pkl', 'Cd101Coefs.pkl', 'Bard1Coefs.pkl', 'Atad2Coefs.pkl', 'AurkbScores.pkl', 'Efcab11Coefs.pkl', 'Xpo1Coefs.pkl', 'Dtx1Scores.pkl', 'Heatr3Scores.pkl', 'Ska2Scores.pkl', 'Cdc20Scores.pkl', 'Slc7a5Coefs.pkl', 'Ifi204Scores.pkl', 'Pecam1Scores.pkl', 'Kif18bCoefs.pkl', 'Glipr2Scores.pkl', 'Il1r2Scores.pkl', 'Cirh1aCoefs.pkl', 'Dapk2Scores.pkl', 'Wipf3Scores.pkl', 'Bace2Scores.pkl', 'Zbtb38Scores.pkl', 'Cacna1dScores.pkl', 'Cdc20Coefs.pkl', '1700017B05RikScores.pkl', 'Cxcl10Coefs.pkl', 'Kif4Coefs.pkl', 'E2f1Coefs.pkl', 'Satb1Scores.pkl', 'Smc2Scores.pkl', 'Adam19Scores.pkl', 'CipcScores.pkl', 'St3gal6Scores.pkl', 'Noc2lCoefs.pkl', 'Ociad2Coefs.pkl', 'TxkScores.pkl', 'Wdr76Scores.pkl', 'Prex1Scores.pkl', 'Srrm1Coefs.pkl', '2810417H13RikCoefs.pkl', 'S1pr1Scores.pkl', 'Ssbp2Coefs.pkl', 'Taf1dScores.pkl', 'Eef1e1Coefs.pkl', 'Nup93Coefs.pkl', 'Ssbp2Scores.pkl', 'Pinx1Coefs.pkl', 'G3bp1Coefs.pkl', 'Ikzf3Scores.pkl', 'Tnfrsf9Coefs.pkl', 'Nsl1Coefs.pkl', 'Rrp1bCoefs.pkl', 'Pou2f2Scores.pkl', 'FosbScores.pkl', 'Akap8lCoefs.pkl', 'Usp14Coefs.pkl', 'H2-AaCoefs.pkl', 'Gins1Scores.pkl', 'Tnk2Coefs.pkl', 'Dpy30Coefs.pkl', 'Sesn3Scores.pkl', 'Ola1Coefs.pkl', 'Tagln2Coefs.pkl', 'Rcc1Scores.pkl', 'PfkpScores.pkl', 'Rad51ap1Coefs.pkl', 'Ppp1r12aScores.pkl', 'Kdm6bScores.pkl', 'Brix1Scores.pkl', 'Trim12aCoefs.pkl', 'Dthd1Scores.pkl', 'Kif20bScores.pkl', 'BC035044Coefs.pkl', 'Ipo5Coefs.pkl', 'Il3Scores.pkl', 'AspmScores.pkl', 'Sorl1Scores.pkl', 'Ndc80Coefs.pkl', 'Serpini1Coefs.pkl', 'Batf3Scores.pkl', 'Tada2aCoefs.pkl', 'Dnajb1Scores.pkl', 'Ercc6l2Scores.pkl', 'Ybx3Coefs.pkl', 'Wdr43Scores.pkl', 'Pmaip1Scores.pkl', 'Atad3aScores.pkl', 'Fam160a1Scores.pkl', 'BC035044Scores.pkl', 'Ctla2aCoefs.pkl', '2810004N23RikCoefs.pkl', 'Dnmt1Coefs.pkl', 'MtapScores.pkl', 'Prc1Scores.pkl', 'Trafd1Scores.pkl', 'ClspnScores.pkl', 'Stk4Coefs.pkl', 'Npm1Scores.pkl', 'Spdl1Scores.pkl', 'Cdt1Coefs.pkl', 'Gimap8Coefs.pkl', 'Aplp2Scores.pkl', 'Cd86Scores.pkl', 'Ubap2Scores.pkl', 'Ptpn6Scores.pkl', 'Psmd7Coefs.pkl', 'Plekhg3Scores.pkl', 'Eri1Scores.pkl', 'Stat1Coefs.pkl', 'Mcm4Scores.pkl', 'NsmafCoefs.pkl', 'Arl6ip4Scores.pkl', 'Capn2Scores.pkl', 'Ccnb2Coefs.pkl', 'Abcb1aCoefs.pkl', 'Chd1Scores.pkl', 'HjurpCoefs.pkl', 'Ccdc18Scores.pkl', 'Scarb1Scores.pkl', 'Tlr7Scores.pkl', 'Klra3Scores.pkl', 'Bcat1Coefs.pkl', 'Shq1Coefs.pkl', 'Ruvbl2Coefs.pkl', 'Clec10aCoefs.pkl', '2900026A02RikScores.pkl', 'Pinx1Scores.pkl', 'Atp8a2Scores.pkl', 'Decr1Coefs.pkl', 'EvlCoefs.pkl', 'Tk1Coefs.pkl', 'Mak16Coefs.pkl', 'Dkc1Scores.pkl', 'Cmss1Scores.pkl', 'Fam105aScores.pkl', 'Samhd1Coefs.pkl', 'Prpf40aCoefs.pkl', 'Pold3Coefs.pkl', 'CarsScores.pkl', 'Ska1Coefs.pkl', 'Fbxo5Coefs.pkl', 'Mbnl3Scores.pkl', 'Pik3cdScores.pkl', 'Ccdc28bCoefs.pkl', 'Pacsin1Scores.pkl', 'Phf11aScores.pkl', 'E2f8Scores.pkl', 'Rps2Scores.pkl', 'CluhCoefs.pkl', 'Cxcr5Coefs.pkl', 'Abcg1Coefs.pkl', 'Samd3Scores.pkl', 'MycScores.pkl', 'PbkScores.pkl', 'Nup43Coefs.pkl', 'Ica1Coefs.pkl', 'Osgin1Scores.pkl', 'Rab19Scores.pkl', 'Hacd1Scores.pkl', 'Dnajb1Coefs.pkl', 'S100a6Coefs.pkl', 'Hsd17b12Scores.pkl', 'Polr1bScores.pkl', 'Ccdc34Scores.pkl', 'Tacc3Coefs.pkl', 'Nuf2Coefs.pkl', 'Snx10Coefs.pkl', 'Trim30dCoefs.pkl', 'Cd160Coefs.pkl', 'Oasl1Coefs.pkl', 'Gm4955Scores.pkl', 'Atp13a3Coefs.pkl', 'Cep128Scores.pkl', 'Espl1Coefs.pkl', 'Foxo3Scores.pkl', 'Tshz2Coefs.pkl', 'Grwd1Scores.pkl', 'Tnfrsf1bScores.pkl', '1810011H11RikScores.pkl', 'Cdc25cCoefs.pkl', 'Galnt6Coefs.pkl', 'Fancd2Coefs.pkl', 'Anp32bScores.pkl', 'Cdc25bCoefs.pkl', 'Hacd1Coefs.pkl', 'Brca2Coefs.pkl', 'Zc3h12dScores.pkl', 'Iqgap2Coefs.pkl', 'Psat1Scores.pkl', 'BC094916Coefs.pkl', 'Klre1Scores.pkl', 'Snrpd1Scores.pkl', 'Slc16a10Scores.pkl', '5730508B09RikCoefs.pkl', 'Efcab11Scores.pkl', 'Cmss1Coefs.pkl', 'Ncapd3Coefs.pkl', 'Rrm1Scores.pkl', 'Bach2Scores.pkl', 'Nucks1Scores.pkl', 'Apitd1Scores.pkl', 'Ndc1Coefs.pkl', 'Ncapd2Coefs.pkl', 'Klrd1Coefs.pkl', 'Larp4Coefs.pkl', 'Ppm1gCoefs.pkl', 'GzmkCoefs.pkl', 'Adgre5Scores.pkl', 'Ildr1Coefs.pkl', 'Cd38Scores.pkl', 'Nrp1Coefs.pkl', 'Stk38Coefs.pkl', 'Mcm4Coefs.pkl', 'Car12Coefs.pkl', 'Etf1Scores.pkl', 'Naa15Coefs.pkl', 'Ncapd2Scores.pkl', 'CpdScores.pkl', 'Brca1Scores.pkl', 'Prmt1Scores.pkl', 'Spc24Scores.pkl', 'Gm42722Scores.pkl', 'Cdk6Scores.pkl', 'Fzr1Coefs.pkl', 'Lilrb4aCoefs.pkl', 'Ikzf3Coefs.pkl', 'Ikzf2Coefs.pkl', 'PmlCoefs.pkl', 'FurinScores.pkl', 'Cse1lCoefs.pkl', 'DaxxCoefs.pkl', 'Cd48Coefs.pkl', 'Hmha1Coefs.pkl', 'Kif20bCoefs.pkl', 'Fam134bScores.pkl', 'Mdm1Scores.pkl', 'Ptges3Coefs.pkl', 'Calm3Coefs.pkl', 'Slfn1Coefs.pkl', 'MastlScores.pkl', 'Abi3Scores.pkl', 'Prss2Scores.pkl', 'Tube1Scores.pkl', 'Anxa6Scores.pkl', 'NarsCoefs.pkl', 'Orc1Scores.pkl', 'CenpiScores.pkl', 'Pfdn2Scores.pkl', 'Hpcal1Scores.pkl', 'Cdk6Coefs.pkl', 'Rqcd1Scores.pkl', 'CalcbCoefs.pkl', 'Noc2lScores.pkl', 'Gramd3Coefs.pkl', 'Nup133Scores.pkl', 'Bcl2Scores.pkl', 'Eif3aCoefs.pkl', 'Plac8Coefs.pkl', 'Cep55Coefs.pkl', 'Supt16Coefs.pkl', 'Rbmxl1Scores.pkl', 'Nusap1Scores.pkl', 'Naa50Scores.pkl', 'EmbCoefs.pkl', 'Rap1gap2Scores.pkl', 'H2-Eb1Coefs.pkl', 'Dus4lScores.pkl', 'Stip1Scores.pkl', 'Parp1Coefs.pkl', 'Il1rl1Coefs.pkl', 'Uchl5Scores.pkl', 'Cdv3Scores.pkl', 'Nle1Coefs.pkl', 'Klhl6Coefs.pkl', 'Rcc1Coefs.pkl', 'PrkchCoefs.pkl', 'Mis18bp1Coefs.pkl', 'Gxylt1Scores.pkl', 'Rnf213Scores.pkl', 'Tnfsf4Coefs.pkl', 'NaspScores.pkl', 'Ankrd12Coefs.pkl']\n"
     ]
    }
   ],
   "source": [
    "# recover files. \n",
    "path = './data/lasso_000013'\n",
    "\n",
    "scores = pd.DataFrame()\n",
    "coefs = pd.DataFrame()\n",
    "\n",
    "for (dirpath, dirnames, filenames) in os.walk(path):\n",
    "    print(filenames)\n",
    "    for name in filenames:\n",
    "        with open(path+'/'+name, 'rb') as f:\n",
    "            df = pickle.load(f)\n",
    "        # diff between score and coefs. find out. \n",
    "        if 'Scores' in name:\n",
    "            scores = pd.concat([scores, df])\n",
    "        elif 'Coefs' in name:\n",
    "            coefs = pd.concat([coefs, df])\n",
    "        else: print(name)\n",
    "\n"
   ]
  },
  {
   "cell_type": "code",
   "execution_count": 63,
   "id": "egyptian-dayton",
   "metadata": {},
   "outputs": [
    {
     "data": {
      "text/html": [
       "<div>\n",
       "<style scoped>\n",
       "    .dataframe tbody tr th:only-of-type {\n",
       "        vertical-align: middle;\n",
       "    }\n",
       "\n",
       "    .dataframe tbody tr th {\n",
       "        vertical-align: top;\n",
       "    }\n",
       "\n",
       "    .dataframe thead th {\n",
       "        text-align: right;\n",
       "    }\n",
       "</style>\n",
       "<table border=\"1\" class=\"dataframe\">\n",
       "  <thead>\n",
       "    <tr style=\"text-align: right;\">\n",
       "      <th></th>\n",
       "      <th>predictors</th>\n",
       "      <th>coefficients</th>\n",
       "      <th>target</th>\n",
       "    </tr>\n",
       "  </thead>\n",
       "  <tbody>\n",
       "    <tr>\n",
       "      <th>0</th>\n",
       "      <td>Klf2</td>\n",
       "      <td>-0.002856</td>\n",
       "      <td>Traip</td>\n",
       "    </tr>\n",
       "    <tr>\n",
       "      <th>1</th>\n",
       "      <td>Mcm3</td>\n",
       "      <td>-0.002856</td>\n",
       "      <td>Traip</td>\n",
       "    </tr>\n",
       "    <tr>\n",
       "      <th>2</th>\n",
       "      <td>Mcm5</td>\n",
       "      <td>-0.002856</td>\n",
       "      <td>Traip</td>\n",
       "    </tr>\n",
       "    <tr>\n",
       "      <th>3</th>\n",
       "      <td>Hmgb2</td>\n",
       "      <td>-0.002856</td>\n",
       "      <td>Traip</td>\n",
       "    </tr>\n",
       "    <tr>\n",
       "      <th>4</th>\n",
       "      <td>Cdk4</td>\n",
       "      <td>-0.002856</td>\n",
       "      <td>Traip</td>\n",
       "    </tr>\n",
       "    <tr>\n",
       "      <th>...</th>\n",
       "      <td>...</td>\n",
       "      <td>...</td>\n",
       "      <td>...</td>\n",
       "    </tr>\n",
       "    <tr>\n",
       "      <th>3</th>\n",
       "      <td>Hmgb2</td>\n",
       "      <td>-0.004134</td>\n",
       "      <td>Traip</td>\n",
       "    </tr>\n",
       "    <tr>\n",
       "      <th>4</th>\n",
       "      <td>Cdk4</td>\n",
       "      <td>-0.004134</td>\n",
       "      <td>Traip</td>\n",
       "    </tr>\n",
       "    <tr>\n",
       "      <th>5</th>\n",
       "      <td>Hif1a</td>\n",
       "      <td>-0.004134</td>\n",
       "      <td>Traip</td>\n",
       "    </tr>\n",
       "    <tr>\n",
       "      <th>6</th>\n",
       "      <td>Mcm6</td>\n",
       "      <td>-0.004134</td>\n",
       "      <td>Traip</td>\n",
       "    </tr>\n",
       "    <tr>\n",
       "      <th>7</th>\n",
       "      <td>Tox</td>\n",
       "      <td>-0.004134</td>\n",
       "      <td>Traip</td>\n",
       "    </tr>\n",
       "  </tbody>\n",
       "</table>\n",
       "<p>80 rows × 3 columns</p>\n",
       "</div>"
      ],
      "text/plain": [
       "   predictors  coefficients target\n",
       "0        Klf2     -0.002856  Traip\n",
       "1        Mcm3     -0.002856  Traip\n",
       "2        Mcm5     -0.002856  Traip\n",
       "3       Hmgb2     -0.002856  Traip\n",
       "4        Cdk4     -0.002856  Traip\n",
       "..        ...           ...    ...\n",
       "3       Hmgb2     -0.004134  Traip\n",
       "4        Cdk4     -0.004134  Traip\n",
       "5       Hif1a     -0.004134  Traip\n",
       "6        Mcm6     -0.004134  Traip\n",
       "7         Tox     -0.004134  Traip\n",
       "\n",
       "[80 rows x 3 columns]"
      ]
     },
     "execution_count": 63,
     "metadata": {},
     "output_type": "execute_result"
    }
   ],
   "source": [
    "with open('./data/lasso_000013/TraipCoefs.pkl', 'rb') as f:\n",
    "    df = pickle.load(f)\n",
    "df       "
   ]
  },
  {
   "cell_type": "code",
   "execution_count": 62,
   "id": "promotional-tiffany",
   "metadata": {},
   "outputs": [],
   "source": [
    "coefs.to_pickle('lasso_000013Coefs8.pkl')\n",
    "scores.to_pickle('lasso_000013Scores8.pkl')"
   ]
  },
  {
   "cell_type": "code",
   "execution_count": null,
   "id": "seasonal-posting",
   "metadata": {},
   "outputs": [],
   "source": [
    "# Dataset predicting velocity genes, with 8 coefficients from 10 fold cross validation\n",
    "predictors = ['Klf2', 'Mcm3', 'Mcm5', 'Hmgb2', 'Cdk4', 'Hif1a', 'Mcm6', 'Tox']\n",
    "targets = velocity_genes\n",
    "model = Lasso(alpha=0.000013)\n",
    "\n",
    "dd, d = generating_regressions(model, predictors, targets, 10, 'lasso000013')\n",
    "#d.to_pickle('lasso0_01Regression8.pkl')\n",
    "#dd.to_pickle('lasso0_01RegressionScores8.pkl')\n",
    "notify"
   ]
  },
  {
   "cell_type": "code",
   "execution_count": null,
   "id": "other-farming",
   "metadata": {},
   "outputs": [],
   "source": [
    "d.to_pickle('lasso0_000013Regression8.pkl')\n",
    "dd.to_pickle('lasso0_000013RegressionScores8.pkl')"
   ]
  },
  {
   "cell_type": "markdown",
   "id": "musical-budget",
   "metadata": {},
   "source": [
    "# Cross validation - Lasso regression\n",
    "Plot coefficients against alphas for example."
   ]
  },
  {
   "cell_type": "code",
   "execution_count": 18,
   "id": "arbitrary-democracy",
   "metadata": {},
   "outputs": [
    {
     "data": {
      "text/plain": [
       "(50, 8)"
      ]
     },
     "execution_count": 18,
     "metadata": {},
     "output_type": "execute_result"
    }
   ],
   "source": [
    "lasso = Lasso(max_iter=10000, normalize=True)\n",
    "alphas = 10**np.linspace(-1,-6,50)*0.5\n",
    "\n",
    "\n",
    "coefs = []\n",
    "        # target\n",
    "t = ['Rasgrp2']\n",
    "\n",
    "        # train and test set\n",
    "X, y = vdata[:, transcription8].layers['Ms'], vdata[:, t].layers['velocity']\n",
    "\n",
    "\n",
    "for a in alphas:\n",
    "    lasso.set_params(alpha=a)\n",
    "    lasso.fit(X, y)\n",
    "    coefs.append(lasso.coef_)\n",
    "    \n",
    "np.shape(coefs)"
   ]
  },
  {
   "cell_type": "code",
   "execution_count": 19,
   "id": "extraordinary-astrology",
   "metadata": {},
   "outputs": [
    {
     "data": {
      "text/plain": [
       "Text(0.5, 1.0, \"['Rasgrp2']\")"
      ]
     },
     "execution_count": 19,
     "metadata": {},
     "output_type": "execute_result"
    },
    {
     "data": {
      "image/png": "[encoded data removed]",
      "text/plain": [
       "<Figure size 432x288 with 1 Axes>"
      ]
     },
     "metadata": {
      "needs_background": "light"
     },
     "output_type": "display_data"
    }
   ],
   "source": [
    "ax = plt.gca()\n",
    "ax.plot(alphas, coefs)\n",
    "ax.set_xscale('log')\n",
    "plt.axis('tight')\n",
    "plt.xlabel('alpha')\n",
    "plt.ylabel('weights')\n",
    "ax.set_title(str(t))"
   ]
  },
  {
   "cell_type": "markdown",
   "id": "sunrise-heavy",
   "metadata": {},
   "source": [
    "### Plot coefficients against alphas for all velocity genes"
   ]
  },
  {
   "cell_type": "code",
   "execution_count": null,
   "id": "indie-twins",
   "metadata": {},
   "outputs": [],
   "source": [
    "lasso = Lasso(max_iter=10000, normalize=True)\n",
    "alphas = 10**np.linspace(-1,-6,50)*0.5\n",
    "\n",
    "targets = velocity_genes\n",
    "predictors = transcription8\n",
    "\n",
    "all_coefs = {'alpha': alphas}\n",
    "\n",
    "for g in targets:\n",
    "\n",
    "    coefs = []\n",
    "    # target\n",
    "    t = [g]\n",
    "\n",
    "    # train and test set\n",
    "    X, y = vdata[:, predictors].layers['Ms'], vdata[:, t].layers['velocity']\n",
    "\n",
    "\n",
    "    for a in alphas:\n",
    "        lasso.set_params(alpha=a)\n",
    "        lasso.fit(X, y)\n",
    "        coefs.append(lasso.coef_)\n",
    "      \n",
    "    \n",
    "    all_coefs[g]=coefs\n",
    "    #a = pd.DataFrame(np.hstack((alphas.reshape(-1,1), coefs, len(alphas)*[t])), columns=['alpha']+predictors+['target'])\n",
    "    #all_coefs = all_coefs.append([all_coefs, a])\n",
    "    \n",
    "np.shape(coefs)"
   ]
  },
  {
   "cell_type": "code",
   "execution_count": null,
   "id": "tested-nation",
   "metadata": {},
   "outputs": [],
   "source": [
    "from cycler import cycler"
   ]
  },
  {
   "cell_type": "code",
   "execution_count": null,
   "id": "bigger-creativity",
   "metadata": {},
   "outputs": [],
   "source": [
    "ax = plt.gca()\n",
    "a = all_coefs['alpha']\n",
    "#ax.set_color_cycle(['b', 'g', 'r', 'c', 'm', 'y', 'lightgreen', 'orange'])\n",
    "\n",
    "for t in targets: \n",
    "    \n",
    "    c = all_coefs[t][t]\n",
    "    \n",
    "    ax.plot(a, c)\n",
    "    ax.set_xscale('log')\n",
    "    ax.set_prop_cycle(cycler(color=['blue', 'green', 'red', 'cyan', 'magenta', 'yellow', 'black', 'purple']))\n",
    "    plt.axis('tight')\n",
    "    plt.xlabel('alpha')\n",
    "    plt.ylabel('weights')\n",
    "    ax.set_title(str(t))"
   ]
  },
  {
   "cell_type": "markdown",
   "id": "psychological-webmaster",
   "metadata": {},
   "source": [
    "# Look at finding the best alpha for ridge and lasso. Mainly lasso."
   ]
  },
  {
   "cell_type": "markdown",
   "id": "capable-editor",
   "metadata": {},
   "source": [
    "this is based on: https://www.kaggle.com/floser/aw6-the-lasso-cross-validated"
   ]
  },
  {
   "cell_type": "code",
   "execution_count": null,
   "id": "urban-plate",
   "metadata": {},
   "outputs": [],
   "source": [
    "alpha = []\n",
    "\n",
    "for t in velocity_genes:\n",
    "    \n",
    "    target= t\n",
    "    lasso = Lasso()\n",
    "\n",
    "    X, y = vdata[:, transcription8].layers['Ms'], vdata[:, target].layers['velocity']\n",
    "\n",
    "    X_train, X_test , y_train, y_test = train_test_split(X, y, test_size=0.5, random_state=1)\n",
    "\n",
    "    lassocv = LassoCV(alphas=None, cv=5, max_iter=100000, normalize=True)\n",
    "    lassocv.fit(X_train, y_train)\n",
    "    lasso.set_params(alpha=lassocv.alpha_)\n",
    "    #print(\"Alpha=\", lassocv.alpha_)\n",
    "    lasso.fit(X_train, y_train)\n",
    "    #print(\"mse = \",mean_squared_error(y_test, lasso.predict(X_test)))\n",
    "    #print(\"best model coefficients:\")\n",
    "    #pd.Series(lasso.coef_, index=X.columns)\n",
    "    alpha+= [lassocv.alpha_]"
   ]
  },
  {
   "cell_type": "code",
   "execution_count": null,
   "id": "alternative-jurisdiction",
   "metadata": {},
   "outputs": [],
   "source": [
    "pd.DataFrame(alpha).to_pickle('best_alphas_lasso.pkl')"
   ]
  },
  {
   "cell_type": "code",
   "execution_count": 5,
   "id": "auburn-photograph",
   "metadata": {},
   "outputs": [],
   "source": [
    "# since this takes forever to run, I save the ones from the last one that finally ran through\n",
    "\n",
    "open_file = open('best_alphas_lasso.pkl', \"rb\")\n",
    "alpha = pickle.load(open_file)\n",
    "open_file.close()"
   ]
  },
  {
   "cell_type": "code",
   "execution_count": 6,
   "id": "fitting-disclaimer",
   "metadata": {},
   "outputs": [
    {
     "data": {
      "text/plain": [
       "0    0.000013\n",
       "dtype: float64"
      ]
     },
     "execution_count": 6,
     "metadata": {},
     "output_type": "execute_result"
    }
   ],
   "source": [
    "np.mean(pd.DataFrame(alpha))"
   ]
  },
  {
   "cell_type": "code",
   "execution_count": 7,
   "id": "brilliant-invitation",
   "metadata": {},
   "outputs": [
    {
     "data": {
      "text/plain": [
       "(array([749., 163.,  72.,  30.,  32.,  16.,  15.,   6.,   6.,   6.,   4.,\n",
       "          4.,   0.,   0.,   2.,   0.,   1.,   0.,   1.,   0.,   1.,   0.,\n",
       "          0.,   0.,   0.,   0.,   0.,   0.,   0.,   1.]),\n",
       " array([6.78096006e-07, 1.04815060e-05, 2.02849161e-05, 3.00883261e-05,\n",
       "        3.98917362e-05, 4.96951462e-05, 5.94985562e-05, 6.93019663e-05,\n",
       "        7.91053763e-05, 8.89087863e-05, 9.87121964e-05, 1.08515606e-04,\n",
       "        1.18319016e-04, 1.28122426e-04, 1.37925837e-04, 1.47729247e-04,\n",
       "        1.57532657e-04, 1.67336067e-04, 1.77139477e-04, 1.86942887e-04,\n",
       "        1.96746297e-04, 2.06549707e-04, 2.16353117e-04, 2.26156527e-04,\n",
       "        2.35959937e-04, 2.45763347e-04, 2.55566757e-04, 2.65370167e-04,\n",
       "        2.75173577e-04, 2.84976987e-04, 2.94780397e-04]),\n",
       " <BarContainer object of 30 artists>)"
      ]
     },
     "execution_count": 7,
     "metadata": {},
     "output_type": "execute_result"
    },
    {
     "data": {
      "image/png": "[encoded data removed]",
      "text/plain": [
       "<Figure size 432x288 with 1 Axes>"
      ]
     },
     "metadata": {
      "needs_background": "light"
     },
     "output_type": "display_data"
    }
   ],
   "source": [
    "plt.hist(alpha, bins=30)"
   ]
  },
  {
   "cell_type": "markdown",
   "id": "quick-stream",
   "metadata": {},
   "source": [
    "# Cross validation - Ridge\n",
    "Cross validation with lasso regression; finding the best alpha"
   ]
  },
  {
   "cell_type": "code",
   "execution_count": null,
   "id": "useful-constraint",
   "metadata": {},
   "outputs": [],
   "source": [
    "ridge = Ridge(max_iter=10000, normalize=True)\n",
    "alphas = 10**np.linspace(5,-4,50)*0.5\n",
    "\n",
    "predictors = ['Klf2', 'Mcm3', 'Mcm5', 'Hmgb2', 'Cdk4', 'Hif1a', 'Mcm6', 'Tox']\n",
    "\n",
    "coefs = []\n",
    "        # target\n",
    "t = ['Tox']\n",
    "\n",
    "        # train and test set\n",
    "X, y = vdata[:, predictors].layers['Ms'], vdata[:, t].layers['velocity']\n",
    "\n",
    "\n",
    "for a in alphas:\n",
    "    ridge.set_params(alpha=a)\n",
    "    ridge.fit(X, y)\n",
    "    coefs.append(ridge.coef_.reshape(8,))\n",
    "    \n",
    "np.shape(coefs)"
   ]
  },
  {
   "cell_type": "code",
   "execution_count": null,
   "id": "lonely-compromise",
   "metadata": {},
   "outputs": [],
   "source": [
    "coefs[1].reshape(8,)"
   ]
  },
  {
   "cell_type": "code",
   "execution_count": null,
   "id": "derived-market",
   "metadata": {},
   "outputs": [],
   "source": [
    "np.shape(ridge.coef_.reshape(50,8))"
   ]
  },
  {
   "cell_type": "code",
   "execution_count": null,
   "id": "collectible-cache",
   "metadata": {},
   "outputs": [],
   "source": [
    "ax = plt.gca()\n",
    "ax.plot(alphas, coefs)\n",
    "ax.set_xscale('log')\n",
    "plt.axis('tight')\n",
    "plt.xlabel('alpha')\n",
    "plt.ylabel('weights')\n",
    "ax.set_title(str(t))"
   ]
  },
  {
   "cell_type": "markdown",
   "id": "broad-fitness",
   "metadata": {},
   "source": [
    "### Find best alpha for ridge regression\n",
    "This is not running through. It keeps getting killed. "
   ]
  },
  {
   "cell_type": "code",
   "execution_count": null,
   "id": "superb-blackberry",
   "metadata": {},
   "outputs": [],
   "source": [
    "alpha = []\n",
    "alphas = 10**np.linspace(5,-4,50)*0.5\n",
    "\n",
    "for t in velocity_genes:\n",
    "    \n",
    "    target= t\n",
    "    ridge = Ridge()\n",
    "\n",
    "    X, y = vdata[:, transcription8].layers['Ms'], vdata[:, target].layers['velocity']\n",
    "\n",
    "    X_train, X_test , y_train, y_test = train_test_split(X, y, test_size=0.5, random_state=1)\n",
    "\n",
    "    ridgecv = RidgeCV(alphas=alphas, cv=5, normalize=True)\n",
    "    ridgecv.fit(X_train, y_train)\n",
    "    ridge.set_params(alpha=ridgecv.alpha_)\n",
    "    #print(\"Alpha=\", ridgecv.alpha_)\n",
    "    ridge.fit(X_train, y_train)\n",
    "    #print(\"mse = \",mean_squared_error(y_test, ridge.predict(X_test)))\n",
    "    #print(\"best model coefficients:\")\n",
    "    #pd.Series(ridge.coef_, index=X.columns)\n",
    "    alpha+= [ridgecv.alpha_]"
   ]
  },
  {
   "cell_type": "code",
   "execution_count": null,
   "id": "industrial-general",
   "metadata": {},
   "outputs": [],
   "source": [
    "pd.DataFrame(alpha).to_pickle('best_alphas_ridge.pkl')"
   ]
  },
  {
   "cell_type": "code",
   "execution_count": null,
   "id": "convertible-tattoo",
   "metadata": {},
   "outputs": [],
   "source": [
    "np.mean(pd.DataFrame(alpha))"
   ]
  },
  {
   "cell_type": "markdown",
   "id": "sweet-clinic",
   "metadata": {},
   "source": [
    "# Generating regression data\n",
    "This is how i generated all the regression data saved."
   ]
  },
  {
   "cell_type": "code",
   "execution_count": null,
   "id": "alive-carol",
   "metadata": {},
   "outputs": [],
   "source": [
    "# Dataset containing first 10 velocity genes, with 160 coefficients from 10 fold cross validation\n",
    "\n",
    "predictors = transcription160\n",
    "targets = velocity_genes\n",
    "\n",
    "dd, d = generating_regressions(predictors, targets, 10)\n",
    "d.to_pickle('velocityRegression160.pkl')\n",
    "dd.to_pickle('velocityRegressionScores160.pkl')\n"
   ]
  },
  {
   "cell_type": "code",
   "execution_count": null,
   "id": "curious-manufacturer",
   "metadata": {},
   "outputs": [],
   "source": [
    "# Dataset predicting velocity genes, with 8 coefficients from 10 fold cross validation\n",
    "predictors = ['Klf2', 'Mcm3', 'Mcm5', 'Hmgb2', 'Cdk4', 'Hif1a', 'Mcm6', 'Tox']\n",
    "targets = velocity_genes\n",
    "model = LinearRegression()\n",
    "\n",
    "dd, d = generating_regressions(model, predictors, targets, 10)\n",
    "#d.to_pickle('velocityRegression8.pkl')\n",
    "#dd.to_pickle('velocityRegressionScores8.pkl')\n",
    "notify"
   ]
  },
  {
   "cell_type": "code",
   "execution_count": null,
   "id": "standing-florida",
   "metadata": {},
   "outputs": [],
   "source": [
    "d.to_pickle('velocityRegression8.pkl')\n",
    "dd.to_pickle('velocityRegressionScores8.pkl')\n"
   ]
  },
  {
   "cell_type": "code",
   "execution_count": null,
   "id": "sunrise-delicious",
   "metadata": {},
   "outputs": [],
   "source": [
    "# Dataset predicting velocity genes, with 8 coefficients from 10 fold cross validation\n",
    "predictors = ['Klf2', 'Mcm3', 'Mcm5', 'Hmgb2', 'Cdk4', 'Hif1a', 'Mcm6', 'Tox']\n",
    "targets = velocity_genes\n",
    "model = Ridge()\n",
    "\n",
    "dd, d = generating_regressions(model, predictors, targets, 10)\n",
    "#d.to_pickle('ridgeRegression8.pkl')\n",
    "#dd.to_pickle('ridgeRegressionScores8.pkl')\n",
    "notify"
   ]
  },
  {
   "cell_type": "code",
   "execution_count": null,
   "id": "bearing-saturday",
   "metadata": {},
   "outputs": [],
   "source": [
    "d.to_pickle('ridgeRegression8.pkl')\n",
    "dd.to_pickle('ridgeRegressionScores8.pkl')"
   ]
  },
  {
   "cell_type": "code",
   "execution_count": null,
   "id": "stylish-buddy",
   "metadata": {},
   "outputs": [],
   "source": [
    "# test the residual function. \n",
    "predictors = ['Klf2', 'Mcm3', 'Mcm5', 'Hmgb2', 'Cdk4', 'Hif1a', 'Mcm6', 'Tox']\n",
    "targets = velocity_genes\n",
    "model = Lasso(0.1)\n",
    "\n",
    "dd, d = generating_regressions(model, predictors, targets, 10)\n",
    "#d.to_pickle('velocityRegression8.pkl')\n",
    "#dd.to_pickle('velocityRegressionScores8.pkl')\n"
   ]
  },
  {
   "cell_type": "code",
   "execution_count": null,
   "id": "complex-characterization",
   "metadata": {},
   "outputs": [],
   "source": [
    "d.to_pickle('lassoRegression8.pkl')\n",
    "dd.to_pickle('lassoRegressionScores8.pkl')"
   ]
  },
  {
   "cell_type": "markdown",
   "id": "promising-crawford",
   "metadata": {},
   "source": [
    "## Dataset predicting velocity genes, with 8 coefficients from 10 fold cross validation\n",
    "predictors = ['Klf2', 'Mcm3', 'Mcm5', 'Hmgb2', 'Cdk4', 'Hif1a', 'Mcm6', 'Tox']\n",
    "targets = velocity_genes\n",
    "\n",
    "model = Ridge()\n",
    "\n",
    "scores, coefs = generating_regressions(model, predictors, targets, 10)\n",
    "\n",
    "coefs.to_pickle('ridgeRegression8.pkl')\n",
    "scores.to_pickle('ridgeRegressionScores8.pkl')"
   ]
  },
  {
   "cell_type": "code",
   "execution_count": null,
   "id": "small-straight",
   "metadata": {},
   "outputs": [],
   "source": []
  },
  {
   "cell_type": "markdown",
   "id": "ecological-antenna",
   "metadata": {},
   "source": [
    "irgendwas functionier hier nicht. anschienend sind die werte nicht mehr in trnascription 160 aber es läuft trotzdem nicht. so ein mist. komisch. "
   ]
  },
  {
   "cell_type": "markdown",
   "id": "confirmed-liabilities",
   "metadata": {},
   "source": [
    "####Saved Data\n",
    "\n",
    "`velocityGenes.pkl` and `velocityGenesScores.pkl` \n",
    "\n",
    "predictors: `['Klf2', 'Mcm3', 'Mcm5', 'Hmgb2', 'Cdk4', 'Hif1a', 'Mcm6', 'Tox']`\n",
    "\n",
    "targets: velocity genes\n",
    "\n",
    "\n",
    "\n",
    "`velocityGenes160.pkl` and `velocityGenesScores160.pkl` \n",
    "\n",
    "predictors: `transcription160` without `['Junb', 'mt-Nd1', 'Fgl2', 'mt-Co1', 'mt-Nd4', 'Rraga', 'mt-Nd2']`\n",
    "\n",
    "targets: velocity genes\n",
    "\n",
    "\n",
    "\n",
    "\n",
    "\n"
   ]
  },
  {
   "cell_type": "code",
   "execution_count": null,
   "id": "smart-shoot",
   "metadata": {},
   "outputs": [],
   "source": []
  },
  {
   "cell_type": "markdown",
   "id": "turned-intersection",
   "metadata": {},
   "source": [
    "Also, mit 8 faktoren ist der r2 viel kleiner"
   ]
  },
  {
   "cell_type": "code",
   "execution_count": null,
   "id": "rotary-poultry",
   "metadata": {},
   "outputs": [],
   "source": [
    "dd"
   ]
  },
  {
   "cell_type": "code",
   "execution_count": null,
   "id": "banned-michael",
   "metadata": {
    "scrolled": true
   },
   "outputs": [],
   "source": [
    "d"
   ]
  },
  {
   "cell_type": "code",
   "execution_count": null,
   "id": "strategic-sentence",
   "metadata": {
    "scrolled": false
   },
   "outputs": [],
   "source": [
    "dd.groupby('target').get_group('Mcm3')"
   ]
  },
  {
   "cell_type": "code",
   "execution_count": null,
   "id": "packed-immune",
   "metadata": {},
   "outputs": [],
   "source": [
    "grouped = dd.groupby('target')['test_r2', 'train_r2', 'test_neg_mean_squared_error', 'train_neg_mean_squared_error'].mean()\n",
    "grouped[:20]"
   ]
  },
  {
   "cell_type": "code",
   "execution_count": null,
   "id": "understanding-questionnaire",
   "metadata": {
    "scrolled": true
   },
   "outputs": [],
   "source": [
    "dd.groupby('target').get_group('Mcm3')"
   ]
  },
  {
   "cell_type": "markdown",
   "id": "offshore-priest",
   "metadata": {},
   "source": [
    "Sometimes the training error is larger than the test error. In class this was the case, since some where harder to match than others. the split is at fault."
   ]
  },
  {
   "cell_type": "code",
   "execution_count": null,
   "id": "spatial-import",
   "metadata": {},
   "outputs": [],
   "source": [
    "# r2 values accross all regressions\n",
    "plt.hist([dd.groupby('target')['test_r2'].mean(), dd.groupby('target')['train_r2'].mean()], label = ['test_r2', 'train_r2'])\n",
    "\n",
    "# plot labels\n",
    "plt.title('train and test r2 values')\n",
    "plt.xlabel('r2')\n",
    "plt.ylabel('frequency')\n",
    "plt.legend()"
   ]
  },
  {
   "cell_type": "code",
   "execution_count": null,
   "id": "selected-district",
   "metadata": {},
   "outputs": [],
   "source": [
    "dd.groupby('target').get_group('Mcm3')['estimator'][0].coef_"
   ]
  },
  {
   "cell_type": "code",
   "execution_count": null,
   "id": "internal-color",
   "metadata": {
    "scrolled": true
   },
   "outputs": [],
   "source": [
    "# this is super low. I had better scores with Rasgrp2.\n",
    "# but htis one was also the most significant of all...\n",
    "plt.hist([dd['test_score'], dd['train_score']])"
   ]
  },
  {
   "cell_type": "code",
   "execution_count": null,
   "id": "opened-campaign",
   "metadata": {
    "scrolled": true
   },
   "outputs": [],
   "source": [
    "d = pd.DataFrame()\n",
    "a = pd.DataFrame()\n",
    "\n",
    "for x in scores['estimator']:\n",
    "    a['predictors'], a['coeffecients'], a['target']= predictors, x.coef_[0], target*len(predictors)\n",
    "    d = pd.concat([a,d])\n",
    "d"
   ]
  },
  {
   "cell_type": "code",
   "execution_count": null,
   "id": "deadly-washington",
   "metadata": {},
   "outputs": [],
   "source": [
    "df = pd.DataFrame.from_dict(scores)\n",
    "df"
   ]
  }
 ],
 "metadata": {
  "kernelspec": {
   "display_name": "Python 3",
   "language": "python",
   "name": "python3"
  },
  "language_info": {
   "codemirror_mode": {
    "name": "ipython",
    "version": 3
   },
   "file_extension": ".py",
   "mimetype": "text/x-python",
   "name": "python",
   "nbconvert_exporter": "python",
   "pygments_lexer": "ipython3",
   "version": "3.8.5"
  }
 },
 "nbformat": 4,
 "nbformat_minor": 5
}
