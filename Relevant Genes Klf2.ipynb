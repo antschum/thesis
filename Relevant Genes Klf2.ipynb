{
 "cells": [
  {
   "cell_type": "code",
   "execution_count": 1,
   "id": "expanded-fiction",
   "metadata": {},
   "outputs": [],
   "source": [
    "import scvelo as scv\n",
    "import scanpy as sc\n",
    "import numpy as np\n",
    "import pandas as pd\n",
    "import random \n",
    "import matplotlib.pyplot as plt\n",
    "from scipy import stats\n",
    "from sklearn.linear_model import LinearRegression, Lasso\n",
    "from sklearn.model_selection import train_test_split\n",
    "from sklearn.metrics import explained_variance_score, mean_absolute_error, r2_score, mean_squared_error\n"
   ]
  },
  {
   "cell_type": "code",
   "execution_count": 2,
   "id": "exposed-curtis",
   "metadata": {},
   "outputs": [],
   "source": [
    "##### I should do some filtering... Originally: 13960 cells 8009 genes\n",
    "\n",
    "# Load dataset, with velocity values\n",
    "    # these values are all normalized by scvelo\n",
    "vdata = sc.read_h5ad(\"velocity_adata.h5ad\")\n"
   ]
  },
  {
   "cell_type": "code",
   "execution_count": 3,
   "id": "identical-stand",
   "metadata": {},
   "outputs": [],
   "source": [
    "# Scale Ms and velocity layer, with mean=0 and unit variance \n",
    "    # sc.pp.scale adds mean and std to var, although this relfects only last scaling\n",
    "    # here we add the velocity scaling to the spliced counts scaling\n",
    "\n",
    "sc.pp.scale(vdata, layer='Ms')\n",
    "sc.pp.scale(vdata, layer='velocity')"
   ]
  },
  {
   "cell_type": "code",
   "execution_count": 4,
   "id": "roman-arrest",
   "metadata": {},
   "outputs": [],
   "source": [
    "##### Split data into train and test\n",
    "    # watch out for time-ordering, randomly choose cells\n",
    "\n",
    "test, train = train_test_split(vdata, test_size=0.5)"
   ]
  },
  {
   "cell_type": "code",
   "execution_count": 5,
   "id": "satisfied-revolution",
   "metadata": {},
   "outputs": [
    {
     "name": "stdout",
     "output_type": "stream",
     "text": [
      "Average R^2 Score:  0.9472485867104841 \n",
      "\n",
      "            Genes  Count  Coef Mean  \\\n",
      "24          Cep44      1   0.021900   \n",
      "11           Mul1      1   0.021959   \n",
      "58         Acsbg1      1   0.022623   \n",
      "51         Fip1l1      1  -0.022932   \n",
      "37          Arl8a      1  -0.022953   \n",
      "47          Srek1      1   0.023019   \n",
      "15           Pigk      1   0.023045   \n",
      "17          Smad2      1   0.023092   \n",
      "38        Krtcap3      2   0.024064   \n",
      "6             Nf1      1  -0.024178   \n",
      "39          Klhl6      2   0.024407   \n",
      "34         Klhdc1      1   0.024729   \n",
      "1           Tceb3      1   0.024857   \n",
      "35           Emp1      9   0.024858   \n",
      "13         Sec61b      1  -0.024919   \n",
      "53           Fli1      1  -0.024945   \n",
      "19          Sike1      2  -0.025102   \n",
      "43           Clpx      1   0.025145   \n",
      "32          Tubb3      3   0.025183   \n",
      "20           Lag3      2   0.025347   \n",
      "16           Flna      3  -0.025426   \n",
      "5          Prdm11      1  -0.025484   \n",
      "29         Pik3r5      1   0.025946   \n",
      "49       Trappc13      2   0.025990   \n",
      "33           Adar      1  -0.026338   \n",
      "25          Acss1      2   0.026516   \n",
      "52       Fam160b1      1  -0.026632   \n",
      "22  2210016F16Rik      1   0.026850   \n",
      "44          Dock2      1   0.027535   \n",
      "57          Fbxl2      1   0.027652   \n",
      "54           Mavs      1  -0.027672   \n",
      "59          Gcfc2      1  -0.027735   \n",
      "28          Ttc28      1  -0.028196   \n",
      "31           Gas7      3   0.028336   \n",
      "40  3110082I17Rik      1   0.028427   \n",
      "18           Pld3      1   0.028734   \n",
      "48           Ugcg      1   0.028881   \n",
      "42  1700025G04Rik      2   0.029466   \n",
      "27       Arhgef18      1   0.029560   \n",
      "14        Izumo1r      3  -0.029692   \n",
      "0            Nptn      1   0.030107   \n",
      "45  A430078G23Rik      1   0.030520   \n",
      "4          S100a4      1  -0.030824   \n",
      "3            Klf2     14  -0.030905   \n",
      "41      Tnfaip8l2      1  -0.031238   \n",
      "23            Fry      5   0.031328   \n",
      "2          Baiap3      2  -0.031526   \n",
      "55         Selplg      2  -0.032073   \n",
      "56       Rap1gap2      1   0.032223   \n",
      "30           Rgcc      4   0.032554   \n",
      "21           Atf3      1   0.033272   \n",
      "8           Pde2a     10   0.034197   \n",
      "10           Pvt1      1  -0.034446   \n",
      "12         Slc9a7      3   0.034838   \n",
      "36  2010111I01Rik      1  -0.037277   \n",
      "9            Ccl5     23   0.047419   \n",
      "50          Hsph1      1  -0.053182   \n",
      "26        Tbc1d32      1  -0.056193   \n",
      "7         Rasgrp2     22  -0.073133   \n",
      "46       Hsp90aa1      2  -0.090443   \n",
      "\n",
      "                                         Coefficients  \n",
      "24                                           [0.0219]  \n",
      "11                                         [0.021959]  \n",
      "58                                         [0.022623]  \n",
      "51                                        [-0.022932]  \n",
      "37                                        [-0.022953]  \n",
      "47                                         [0.023019]  \n",
      "15                                         [0.023045]  \n",
      "17                                         [0.023092]  \n",
      "38                               [0.024549, 0.023579]  \n",
      "6                                         [-0.024178]  \n",
      "39                               [0.025507, 0.023307]  \n",
      "34                                         [0.024729]  \n",
      "1                                          [0.024857]  \n",
      "35  [0.023788, 0.025376, 0.024043, 0.025936, 0.023...  \n",
      "13                                        [-0.024919]  \n",
      "53                                        [-0.024945]  \n",
      "19                             [-0.023052, -0.027153]  \n",
      "43                                         [0.025145]  \n",
      "32                     [0.025701, 0.024596, 0.025252]  \n",
      "20                               [0.026135, 0.024559]  \n",
      "16                   [-0.024797, -0.023451, -0.02803]  \n",
      "5                                         [-0.025484]  \n",
      "29                                         [0.025946]  \n",
      "49                               [0.024388, 0.027592]  \n",
      "33                                        [-0.026338]  \n",
      "25                                [0.027382, 0.02565]  \n",
      "52                                        [-0.026632]  \n",
      "22                                          [0.02685]  \n",
      "44                                         [0.027535]  \n",
      "57                                         [0.027652]  \n",
      "54                                        [-0.027672]  \n",
      "59                                        [-0.027735]  \n",
      "28                                        [-0.028196]  \n",
      "31                     [0.027755, 0.029804, 0.027448]  \n",
      "40                                         [0.028427]  \n",
      "18                                         [0.028734]  \n",
      "48                                         [0.028881]  \n",
      "42                               [0.028917, 0.030016]  \n",
      "27                                          [0.02956]  \n",
      "14                  [-0.030357, -0.028678, -0.030041]  \n",
      "0                                          [0.030107]  \n",
      "45                                          [0.03052]  \n",
      "4                                         [-0.030824]  \n",
      "3   [-0.030017, -0.027329, -0.036768, -0.029554, -...  \n",
      "41                                        [-0.031238]  \n",
      "23  [0.030779, 0.031739, 0.030342, 0.03177, 0.032009]  \n",
      "2                               [-0.028783, -0.03427]  \n",
      "55                             [-0.035447, -0.028698]  \n",
      "56                                         [0.032223]  \n",
      "30           [0.032361, 0.030756, 0.030227, 0.036872]  \n",
      "21                                         [0.033272]  \n",
      "8   [0.027631, 0.032931, 0.039841, 0.034977, 0.029...  \n",
      "10                                        [-0.034446]  \n",
      "12                     [0.034906, 0.036993, 0.032615]  \n",
      "36                                        [-0.037277]  \n",
      "9   [0.047383, 0.048793, 0.047158, 0.05453, 0.0462...  \n",
      "50                                        [-0.053182]  \n",
      "26                                        [-0.056193]  \n",
      "7   [-0.074789, -0.069872, -0.073429, -0.072098, -...  \n",
      "46                             [-0.095109, -0.085778]  \n"
     ]
    }
   ],
   "source": [
    "##### p-value for Klf2 Regression with 4000 genes at a time. \n",
    "# Run this a couple of times and keep the top 100 or so genes each time to compare. \n",
    "\n",
    "# data\n",
    "\n",
    "# Update here.\n",
    "genes_each_round = 4000\n",
    "\n",
    "top = {}\n",
    "num_added = []\n",
    "r2_scores = []\n",
    "\n",
    "\n",
    "for x in range(50):\n",
    "\n",
    "    tf = 'Klf2'\n",
    "    # starting at 7000, p-values are NaNs\n",
    "    genes = random.sample(list(vdata.var_names), genes_each_round)\n",
    "\n",
    "    X_train = train[:,genes].layers['velocity']\n",
    "    y_train = train[:, tf].layers['Ms']\n",
    "\n",
    "    X_test = test[:, genes].layers['velocity']\n",
    "    y_test = test[:, tf].layers['Ms']\n",
    "\n",
    "    #regression\n",
    "    lin = LinearRegression()\n",
    "    lin.fit(X_train, y_train)\n",
    "    params = np.append(lin.intercept_,lin.coef_)\n",
    "    y_pred = lin.predict(X_test)\n",
    "\n",
    "\n",
    "    # print R^2 value of current regression\n",
    "    r2_scores += [r2_score(y_test, y_pred)]\n",
    "    \n",
    "    delta_y = y_test - y_pred\n",
    "\n",
    "\n",
    "    # Here we append, why though? appending (6847, 1) and (6847, 6000) on axis= 1, then we get (6847, 6001). Is this necessary? \n",
    "    # We are adding one column of 1 infront of everything? Why?\n",
    "    newX = np.append(np.ones((len(X_test),1)), X_test, axis=1)\n",
    "    MSE = (sum((delta_y**2)))/(len(newX)-len(newX[0]))\n",
    "    #print(MSE)\n",
    "\n",
    "    var_b = MSE*(np.linalg.inv(np.dot(newX.T,newX)).diagonal())\n",
    "    sd_b = np.sqrt(var_b)\n",
    "    ts_b = params/ sd_b\n",
    "\n",
    "    p_values =[2*(1-stats.t.cdf(np.abs(i),(len(newX)-len(newX[0])))) for i in ts_b]\n",
    "\n",
    "    sd_b = np.round(sd_b,5)\n",
    "    ts_b = np.round(ts_b,5)\n",
    "    p_values = np.round(p_values,5)\n",
    "    params = np.round(params,6)\n",
    "\n",
    "    # I am not sure if this is right. Why do we need a column of 1s?\n",
    "    names = ['1'] + genes\n",
    "\n",
    "    myDF3 = pd.DataFrame()\n",
    "    myDF3['Genes'],myDF3[\"Coefficients\"],myDF3[\"Standard Errors\"],myDF3[\"t values\"],myDF3[\"Probabilities\"] = [names, params,sd_b,ts_b,p_values]\n",
    "    sortedDF = myDF3.sort_values(by=['Probabilities']).copy()\n",
    "    \n",
    "    #print(sortedDF)\n",
    "    \n",
    "    # so I want to keep a list of top 100 genes with p-value smaller than 0.05\n",
    "    # I want to keep track of their coefficients -> should I save all of the coefficients? Or only focus on the coef. of genes always relevant? \n",
    "    # I want to plot the mean coef value of those genes. maybe along with how often it came up? color scale? \n",
    "    # i want to keep track of how often that gene has been under 0.05\n",
    "    \n",
    "    # and sortedDF['Genes'][:50] to limit to top 50... have to see how many there are like this. \n",
    "    \n",
    "    num_added += [len(sortedDF['Genes'][sortedDF.index[sortedDF['Probabilities']<0.05]].tolist())]\n",
    "    \n",
    "    for g in sortedDF['Genes'][sortedDF.index[sortedDF['Probabilities']<0.05]].tolist():    \n",
    "        if g in top:\n",
    "            top[g] += [myDF3.at[myDF3.index[myDF3['Genes']==g].item(), 'Coefficients']]\n",
    "        else:\n",
    "            top[g] = [myDF3.at[myDF3.index[myDF3['Genes']==g].item(), 'Coefficients']]\n",
    "        \n",
    "            \n",
    "print('Average R^2 Score: ', sum(r2_scores)/len(r2_scores), '\\n')\n",
    "names = np.array(list(top.items()))[:, 0]\n",
    "count = np.array([len(top[g]) for g in top.keys()])\n",
    "coef = np.array(list(top.values()))\n",
    "coefmean = np.array([sum(top[g]) / len(top[g]) for g in top.keys()])\n",
    "\n",
    "\n",
    "\n",
    "\n",
    "df = pd.DataFrame()\n",
    "df['Genes'], df['Count'], df['Coef Mean'], df['Coefficients'] = [names, count, coefmean, coef]\n",
    "\n",
    "# Update here.\n",
    "sdf4 = df.reindex(df['Coef Mean'].abs().sort_values().index).copy()\n",
    "num_added4 = num_added\n",
    "print(sdf4)\n"
   ]
  },
  {
   "cell_type": "code",
   "execution_count": 6,
   "id": "honest-reality",
   "metadata": {},
   "outputs": [
    {
     "name": "stdout",
     "output_type": "stream",
     "text": [
      "Average R^2 Score:  0.941617158600596 \n",
      "\n",
      "         Genes  Count  Coef Mean  \\\n",
      "1185     Tpgs1      2   0.000743   \n",
      "2245     Atp5o      2   0.004627   \n",
      "1341     Fcgrt      1   0.012196   \n",
      "2051    Timm8b      1  -0.012291   \n",
      "1239  AA467197      2  -0.012342   \n",
      "...        ...    ...        ...   \n",
      "286      Hsph1     13  -0.046866   \n",
      "280     S100a6     15  -0.051965   \n",
      "1         Ccl5     19   0.060993   \n",
      "1269   Rasgrp2      9  -0.107280   \n",
      "153   Hsp90aa1     18  -0.116568   \n",
      "\n",
      "                                           Coefficients  \n",
      "1185                              [-0.013502, 0.014987]  \n",
      "2245                              [-0.016624, 0.025878]  \n",
      "1341                                         [0.012196]  \n",
      "2051                                        [-0.012291]  \n",
      "1239                             [-0.012136, -0.012548]  \n",
      "...                                                 ...  \n",
      "286   [-0.04641, -0.037673, -0.054045, -0.045974, -0...  \n",
      "280   [-0.064616, -0.043454, -0.061551, -0.054325, -...  \n",
      "1     [0.063855, 0.050617, 0.06434, 0.058505, 0.0895...  \n",
      "1269  [-0.104608, -0.104546, -0.109973, -0.092367, -...  \n",
      "153   [-0.143212, -0.113929, -0.118933, -0.134615, -...  \n",
      "\n",
      "[2718 rows x 4 columns]\n"
     ]
    }
   ],
   "source": [
    "##### p-value for Klf2 Regression with 1000 genes at a time. \n",
    "# Run this a couple of times and keep the top 100 or so genes each time to compare. \n",
    "\n",
    "# data\n",
    "\n",
    "# Update here.\n",
    "genes_each_round = 2500\n",
    "\n",
    "top = {}\n",
    "num_added = []\n",
    "r2_scores = []\n",
    "\n",
    "for x in range(50):\n",
    "    \n",
    "    tf = 'Klf2'\n",
    "    # starting at 7000, p-values are NaNs\n",
    "    genes = random.sample(list(vdata.var_names), genes_each_round)\n",
    "\n",
    "    X_train = train[:,genes].layers['velocity']\n",
    "    y_train = train[:, tf].layers['Ms']\n",
    "\n",
    "    X_test = test[:, genes].layers['velocity']\n",
    "    y_test = test[:, tf].layers['Ms']\n",
    "\n",
    "    #regression\n",
    "    lin = LinearRegression()\n",
    "    lin.fit(X_train, y_train)\n",
    "    params = np.append(lin.intercept_,lin.coef_)\n",
    "    y_pred = lin.predict(X_test)\n",
    "\n",
    "    # print R^2 value of current regression\n",
    "    r2_scores += [r2_score(y_test, y_pred)]\n",
    "    \n",
    "    \n",
    "\n",
    "    delta_y = y_test - y_pred\n",
    "\n",
    "\n",
    "    # Here we append, why though? appending (6847, 1) and (6847, 6000) on axis= 1, then we get (6847, 6001). Is this necessary? \n",
    "    # We are adding one column of 1 infront of everything? Why?\n",
    "    newX = np.append(np.ones((len(X_test),1)), X_test, axis=1)\n",
    "    MSE = (sum((delta_y**2)))/(len(newX)-len(newX[0]))\n",
    "    #print(MSE)\n",
    "\n",
    "    var_b = MSE*(np.linalg.inv(np.dot(newX.T,newX)).diagonal())\n",
    "    sd_b = np.sqrt(var_b)\n",
    "    ts_b = params/ sd_b\n",
    "\n",
    "    p_values =[2*(1-stats.t.cdf(np.abs(i),(len(newX)-len(newX[0])))) for i in ts_b]\n",
    "\n",
    "    sd_b = np.round(sd_b,5)\n",
    "    ts_b = np.round(ts_b,5)\n",
    "    p_values = np.round(p_values,5)\n",
    "    params = np.round(params,6)\n",
    "\n",
    "    # I am not sure if this is right. Why do we need a column of 1s?\n",
    "    names = ['1'] + genes\n",
    "\n",
    "    myDF3 = pd.DataFrame()\n",
    "    myDF3['Genes'],myDF3[\"Coefficients\"],myDF3[\"Standard Errors\"],myDF3[\"t values\"],myDF3[\"Probabilities\"] = [names, params,sd_b,ts_b,p_values]\n",
    "    sortedDF = myDF3.sort_values(by=['Probabilities']).copy()\n",
    "    \n",
    "    #print(sortedDF)\n",
    "    \n",
    "    # so I want to keep a list of top 100 genes with p-value smaller than 0.05\n",
    "    # I want to keep track of their coefficients -> should I save all of the coefficients? Or only focus on the coef. of genes always relevant? \n",
    "    # I want to plot the mean coef value of those genes. maybe along with how often it came up? color scale? \n",
    "    # i want to keep track of how often that gene has been under 0.05\n",
    "    \n",
    "    # and sortedDF['Genes'][:50] to limit to top 50... have to see how many there are like this. \n",
    "    \n",
    "    num_added += [len(sortedDF['Genes'][sortedDF.index[sortedDF['Probabilities']<0.05]].tolist())]\n",
    "    \n",
    "    for g in sortedDF['Genes'][sortedDF.index[sortedDF['Probabilities']<0.05]].tolist():    \n",
    "        if g in top:\n",
    "            top[g] += [myDF3.at[myDF3.index[myDF3['Genes']==g].item(), 'Coefficients']]\n",
    "        else:\n",
    "            top[g] = [myDF3.at[myDF3.index[myDF3['Genes']==g].item(), 'Coefficients']]\n",
    "        \n",
    "  \n",
    "print('Average R^2 Score: ', sum(r2_scores)/len(r2_scores), '\\n')   \n",
    "names = np.array(list(top.items()))[:, 0]\n",
    "count = np.array([len(top[g]) for g in top.keys()])\n",
    "coef = np.array(list(top.values()))\n",
    "coefmean = np.array([sum(top[g]) / len(top[g]) for g in top.keys()])\n",
    "\n",
    "\n",
    "df = pd.DataFrame()\n",
    "df['Genes'], df['Count'], df['Coef Mean'], df['Coefficients'] = [names, count, coefmean, coef]\n",
    "\n",
    "# Update here.\n",
    "# Sorted by absolute mean coefficeint values\n",
    "sdf25 = df.reindex(df['Coef Mean'].abs().sort_values().index).copy()\n",
    "num_added25 = num_added\n",
    "print(sdf25)\n",
    "\n",
    "\n",
    "\n",
    "\n",
    "\n"
   ]
  },
  {
   "cell_type": "code",
   "execution_count": 7,
   "id": "independent-mercy",
   "metadata": {},
   "outputs": [
    {
     "name": "stdout",
     "output_type": "stream",
     "text": [
      "Average R^2 Score:  0.8931002187428762 \n",
      "\n",
      "         Genes  Count  Coef Mean  \\\n",
      "4995     Ppcdc      2   0.000003   \n",
      "5176     Stx5a      2   0.000010   \n",
      "3988      Ogfr      2   0.000011   \n",
      "1605    Pde10a      2  -0.000012   \n",
      "4440      Eaf1      2  -0.000024   \n",
      "...        ...    ...        ...   \n",
      "32        Rgcc      4   0.092029   \n",
      "1200      Ccl5      7   0.094553   \n",
      "3011    Slc9a7      9   0.110173   \n",
      "2845   Rasgrp2      5  -0.213822   \n",
      "17    Hsp90aa1      8  -0.222680   \n",
      "\n",
      "                                           Coefficients  \n",
      "4995                              [0.012426, -0.012419]  \n",
      "5176                              [0.012726, -0.012706]  \n",
      "3988                              [0.011524, -0.011501]  \n",
      "1605                              [0.014898, -0.014923]  \n",
      "4440                               [0.013123, -0.01317]  \n",
      "...                                                 ...  \n",
      "32               [0.085907, 0.103416, 0.090194, 0.0886]  \n",
      "1200  [0.082462, 0.086432, 0.105193, 0.099683, 0.088...  \n",
      "3011  [0.102054, 0.111882, 0.132668, 0.106081, 0.119...  \n",
      "2845  [-0.249042, -0.227994, -0.173589, -0.202709, -...  \n",
      "17    [-0.220661, -0.212435, -0.226397, -0.230242, -...  \n",
      "\n",
      "[5880 rows x 4 columns]\n"
     ]
    }
   ],
   "source": [
    "##### p-value for Klf2 Regression with 1000 genes at a time. \n",
    "# Run this a couple of times and keep the top 100 or so genes each time to compare. \n",
    "\n",
    "# data\n",
    "\n",
    "# Update here.\n",
    "genes_each_round = 1000\n",
    "\n",
    "top = {}\n",
    "num_added = []\n",
    "r2_scores = []\n",
    "\n",
    "for x in range(50):\n",
    "    \n",
    "    tf = 'Klf2'\n",
    "    # starting at 7000, p-values are NaNs\n",
    "    genes = random.sample(list(vdata.var_names), genes_each_round)\n",
    "\n",
    "    X_train = train[:,genes].layers['velocity']\n",
    "    y_train = train[:, tf].layers['Ms']\n",
    "\n",
    "    X_test = test[:, genes].layers['velocity']\n",
    "    y_test = test[:, tf].layers['Ms']\n",
    "\n",
    "    #regression\n",
    "    lin = LinearRegression()\n",
    "    lin.fit(X_train, y_train)\n",
    "    params = np.append(lin.intercept_,lin.coef_)\n",
    "    y_pred = lin.predict(X_test)\n",
    "\n",
    "    # print R^2 value of current regression\n",
    "    r2_scores += [r2_score(y_test, y_pred)]\n",
    "    \n",
    "    \n",
    "\n",
    "    delta_y = y_test - y_pred\n",
    "\n",
    "\n",
    "    # Here we append, why though? appending (6847, 1) and (6847, 6000) on axis= 1, then we get (6847, 6001). Is this necessary? \n",
    "    # We are adding one column of 1 infront of everything? Why?\n",
    "    newX = np.append(np.ones((len(X_test),1)), X_test, axis=1)\n",
    "    MSE = (sum((delta_y**2)))/(len(newX)-len(newX[0]))\n",
    "    #print(MSE)\n",
    "\n",
    "    var_b = MSE*(np.linalg.inv(np.dot(newX.T,newX)).diagonal())\n",
    "    sd_b = np.sqrt(var_b)\n",
    "    ts_b = params/ sd_b\n",
    "\n",
    "    p_values =[2*(1-stats.t.cdf(np.abs(i),(len(newX)-len(newX[0])))) for i in ts_b]\n",
    "\n",
    "    sd_b = np.round(sd_b,5)\n",
    "    ts_b = np.round(ts_b,5)\n",
    "    p_values = np.round(p_values,5)\n",
    "    params = np.round(params,6)\n",
    "\n",
    "    # I am not sure if this is right. Why do we need a column of 1s?\n",
    "    names = ['1'] + genes\n",
    "\n",
    "    myDF3 = pd.DataFrame()\n",
    "    myDF3['Genes'],myDF3[\"Coefficients\"],myDF3[\"Standard Errors\"],myDF3[\"t values\"],myDF3[\"Probabilities\"] = [names, params,sd_b,ts_b,p_values]\n",
    "    sortedDF = myDF3.sort_values(by=['Probabilities']).copy()\n",
    "    \n",
    "    #print(sortedDF)\n",
    "    \n",
    "    # so I want to keep a list of top 100 genes with p-value smaller than 0.05\n",
    "    # I want to keep track of their coefficients -> should I save all of the coefficients? Or only focus on the coef. of genes always relevant? \n",
    "    # I want to plot the mean coef value of those genes. maybe along with how often it came up? color scale? \n",
    "    # i want to keep track of how often that gene has been under 0.05\n",
    "    \n",
    "    # and sortedDF['Genes'][:50] to limit to top 50... have to see how many there are like this. \n",
    "    \n",
    "    num_added += [len(sortedDF['Genes'][sortedDF.index[sortedDF['Probabilities']<0.05]].tolist())]\n",
    "    \n",
    "    for g in sortedDF['Genes'][sortedDF.index[sortedDF['Probabilities']<0.05]].tolist():    \n",
    "        if g in top:\n",
    "            top[g] += [myDF3.at[myDF3.index[myDF3['Genes']==g].item(), 'Coefficients']]\n",
    "        else:\n",
    "            top[g] = [myDF3.at[myDF3.index[myDF3['Genes']==g].item(), 'Coefficients']]\n",
    "        \n",
    "  \n",
    "print('Average R^2 Score: ', sum(r2_scores)/len(r2_scores), '\\n')   \n",
    "names = np.array(list(top.items()))[:, 0]\n",
    "count = np.array([len(top[g]) for g in top.keys()])\n",
    "coef = np.array(list(top.values()))\n",
    "coefmean = np.array([sum(top[g]) / len(top[g]) for g in top.keys()])\n",
    "\n",
    "\n",
    "df = pd.DataFrame()\n",
    "df['Genes'], df['Count'], df['Coef Mean'], df['Coefficients'] = [names, count, coefmean, coef]\n",
    "\n",
    "# Update here.\n",
    "sdf1 = df.reindex(df['Coef Mean'].abs().sort_values().index).copy()\n",
    "num_added1 = num_added\n",
    "print(sdf1)\n",
    "\n",
    "\n",
    "\n",
    "\n"
   ]
  },
  {
   "cell_type": "code",
   "execution_count": 8,
   "id": "sweet-disposition",
   "metadata": {},
   "outputs": [
    {
     "name": "stdout",
     "output_type": "stream",
     "text": [
      "            Genes  Count  Coef Mean  \\\n",
      "21           Atf3      1   0.033272   \n",
      "8           Pde2a     10   0.034197   \n",
      "10           Pvt1      1  -0.034446   \n",
      "12         Slc9a7      3   0.034838   \n",
      "36  2010111I01Rik      1  -0.037277   \n",
      "9            Ccl5     23   0.047419   \n",
      "50          Hsph1      1  -0.053182   \n",
      "26        Tbc1d32      1  -0.056193   \n",
      "7         Rasgrp2     22  -0.073133   \n",
      "46       Hsp90aa1      2  -0.090443   \n",
      "\n",
      "                                         Coefficients  \n",
      "21                                         [0.033272]  \n",
      "8   [0.027631, 0.032931, 0.039841, 0.034977, 0.029...  \n",
      "10                                        [-0.034446]  \n",
      "12                     [0.034906, 0.036993, 0.032615]  \n",
      "36                                        [-0.037277]  \n",
      "9   [0.047383, 0.048793, 0.047158, 0.05453, 0.0462...  \n",
      "50                                        [-0.053182]  \n",
      "26                                        [-0.056193]  \n",
      "7   [-0.074789, -0.069872, -0.073429, -0.072098, -...  \n",
      "46                             [-0.095109, -0.085778]  \n"
     ]
    }
   ],
   "source": [
    "print(sdf4[-10:])"
   ]
  },
  {
   "cell_type": "code",
   "execution_count": 9,
   "id": "disabled-discretion",
   "metadata": {},
   "outputs": [
    {
     "name": "stdout",
     "output_type": "stream",
     "text": [
      "         Genes  Count  Coef Mean  \\\n",
      "317        Erg     11  -0.039939   \n",
      "0        Pde2a     13   0.040404   \n",
      "1395   Tbc1d32      8  -0.040596   \n",
      "1817  Cacna2d2      1  -0.043823   \n",
      "151     Slc9a7     18   0.044112   \n",
      "286      Hsph1     13  -0.046866   \n",
      "280     S100a6     15  -0.051965   \n",
      "1         Ccl5     19   0.060993   \n",
      "1269   Rasgrp2      9  -0.107280   \n",
      "153   Hsp90aa1     18  -0.116568   \n",
      "\n",
      "                                           Coefficients  \n",
      "317   [-0.040576, -0.035056, -0.033373, -0.039798, -...  \n",
      "0     [0.041805, 0.037979, 0.035205, 0.037543, 0.039...  \n",
      "1395  [-0.051356, -0.030878, -0.04101, -0.038263, -0...  \n",
      "1817                                        [-0.043823]  \n",
      "151   [0.045476, 0.046562, 0.043041, 0.044832, 0.045...  \n",
      "286   [-0.04641, -0.037673, -0.054045, -0.045974, -0...  \n",
      "280   [-0.064616, -0.043454, -0.061551, -0.054325, -...  \n",
      "1     [0.063855, 0.050617, 0.06434, 0.058505, 0.0895...  \n",
      "1269  [-0.104608, -0.104546, -0.109973, -0.092367, -...  \n",
      "153   [-0.143212, -0.113929, -0.118933, -0.134615, -...  \n"
     ]
    }
   ],
   "source": [
    "print(sdf25[-10:])"
   ]
  },
  {
   "cell_type": "code",
   "execution_count": 10,
   "id": "failing-bottom",
   "metadata": {},
   "outputs": [
    {
     "name": "stdout",
     "output_type": "stream",
     "text": [
      "              Genes  Count  Coef Mean  \\\n",
      "956   3110082I17Rik      4   0.080841   \n",
      "1674         Pycard      3  -0.085224   \n",
      "4642          Pde2a      5   0.086238   \n",
      "3151           Vmp1      5   0.087625   \n",
      "1920         S100a6      9  -0.092025   \n",
      "32             Rgcc      4   0.092029   \n",
      "1200           Ccl5      7   0.094553   \n",
      "3011         Slc9a7      9   0.110173   \n",
      "2845        Rasgrp2      5  -0.213822   \n",
      "17         Hsp90aa1      8  -0.222680   \n",
      "\n",
      "                                           Coefficients  \n",
      "956            [0.063503, 0.086394, 0.088399, 0.085067]  \n",
      "1674                  [-0.078621, -0.094521, -0.082531]  \n",
      "4642  [0.092195, 0.078792, 0.099345, 0.076239, 0.08462]  \n",
      "3151  [0.109231, 0.087278, 0.065102, 0.089481, 0.087...  \n",
      "1920  [-0.066044, -0.070687, -0.098804, -0.12199, -0...  \n",
      "32               [0.085907, 0.103416, 0.090194, 0.0886]  \n",
      "1200  [0.082462, 0.086432, 0.105193, 0.099683, 0.088...  \n",
      "3011  [0.102054, 0.111882, 0.132668, 0.106081, 0.119...  \n",
      "2845  [-0.249042, -0.227994, -0.173589, -0.202709, -...  \n",
      "17    [-0.220661, -0.212435, -0.226397, -0.230242, -...  \n"
     ]
    }
   ],
   "source": [
    "print(sdf1[-10:])"
   ]
  },
  {
   "cell_type": "code",
   "execution_count": 11,
   "id": "regular-inside",
   "metadata": {},
   "outputs": [
    {
     "data": {
      "text/plain": [
       "(array([ 1.,  0.,  0.,  0.,  0.,  1.,  0.,  0.,  0.,  1.,  1.,  0.,  0.,\n",
       "         0.,  0.,  1.,  2.,  5.,  8.,  5.,  0.,  0.,  0.,  0.,  0.,  0.,\n",
       "         0.,  0.,  0.,  0.,  0.,  0.,  6., 11., 10.,  5.,  2.,  0.,  0.,\n",
       "         1.]),\n",
       " array([-0.0904435 , -0.08699695, -0.08355039, -0.08010384, -0.07665728,\n",
       "        -0.07321073, -0.06976418, -0.06631762, -0.06287107, -0.05942452,\n",
       "        -0.05597796, -0.05253141, -0.04908485, -0.0456383 , -0.04219175,\n",
       "        -0.03874519, -0.03529864, -0.03185209, -0.02840553, -0.02495898,\n",
       "        -0.02151242, -0.01806587, -0.01461932, -0.01117276, -0.00772621,\n",
       "        -0.00427965, -0.0008331 ,  0.00261345,  0.00606001,  0.00950656,\n",
       "         0.01295311,  0.01639967,  0.01984622,  0.02329278,  0.02673933,\n",
       "         0.03018588,  0.03363244,  0.03707899,  0.04052554,  0.0439721 ,\n",
       "         0.04741865]),\n",
       " <BarContainer object of 40 artists>)"
      ]
     },
     "execution_count": 11,
     "metadata": {},
     "output_type": "execute_result"
    },
    {
     "data": {
      "image/png": "[encoded data removed]",
      "text/plain": [
       "<Figure size 432x288 with 1 Axes>"
      ]
     },
     "metadata": {
      "needs_background": "light"
     },
     "output_type": "display_data"
    }
   ],
   "source": [
    "plt.hist(sdf4['Coef Mean'], bins=40)"
   ]
  },
  {
   "cell_type": "code",
   "execution_count": 12,
   "id": "furnished-adams",
   "metadata": {},
   "outputs": [
    {
     "data": {
      "text/plain": [
       "(array([  1.,   0.,   1.,   0.,   0.,   0.,   0.,   0.,   0.,   0.,   0.,\n",
       "          0.,   0.,   0.,   1.,   1.,   1.,   3.,   6.,   8.,  33., 150.,\n",
       "        876., 257.,   0.,   0.,   1.,   1.,   0., 817., 471.,  60.,  16.,\n",
       "          8.,   3.,   1.,   1.,   0.,   0.,   1.]),\n",
       " array([-0.11656756, -0.11212855, -0.10768954, -0.10325053, -0.09881152,\n",
       "        -0.09437251, -0.08993351, -0.0854945 , -0.08105549, -0.07661648,\n",
       "        -0.07217747, -0.06773846, -0.06329945, -0.05886044, -0.05442144,\n",
       "        -0.04998243, -0.04554342, -0.04110441, -0.0366654 , -0.03222639,\n",
       "        -0.02778738, -0.02334838, -0.01890937, -0.01447036, -0.01003135,\n",
       "        -0.00559234, -0.00115333,  0.00328568,  0.00772469,  0.01216369,\n",
       "         0.0166027 ,  0.02104171,  0.02548072,  0.02991973,  0.03435874,\n",
       "         0.03879775,  0.04323675,  0.04767576,  0.05211477,  0.05655378,\n",
       "         0.06099279]),\n",
       " <BarContainer object of 40 artists>)"
      ]
     },
     "execution_count": 12,
     "metadata": {},
     "output_type": "execute_result"
    },
    {
     "data": {
      "image/png": "[encoded data removed]",
      "text/plain": [
       "<Figure size 432x288 with 1 Axes>"
      ]
     },
     "metadata": {
      "needs_background": "light"
     },
     "output_type": "display_data"
    }
   ],
   "source": [
    "plt.hist(sdf25['Coef Mean'], bins=40)"
   ]
  },
  {
   "cell_type": "code",
   "execution_count": 13,
   "id": "incident-tiffany",
   "metadata": {},
   "outputs": [
    {
     "data": {
      "text/plain": [
       "(array([1.000e+00, 1.000e+00, 0.000e+00, 0.000e+00, 0.000e+00, 0.000e+00,\n",
       "        0.000e+00, 0.000e+00, 0.000e+00, 0.000e+00, 0.000e+00, 0.000e+00,\n",
       "        0.000e+00, 0.000e+00, 0.000e+00, 1.000e+00, 1.000e+00, 0.000e+00,\n",
       "        1.000e+00, 7.000e+00, 6.000e+00, 1.700e+01, 4.700e+01, 2.530e+02,\n",
       "        1.646e+03, 8.320e+02, 1.270e+02, 5.000e+01, 1.959e+03, 7.740e+02,\n",
       "        9.100e+01, 3.800e+01, 1.000e+01, 4.000e+00, 5.000e+00, 2.000e+00,\n",
       "        2.000e+00, 3.000e+00, 1.000e+00, 1.000e+00]),\n",
       " array([-0.22267962, -0.21435831, -0.206037  , -0.19771569, -0.18939438,\n",
       "        -0.18107307, -0.17275176, -0.16443045, -0.15610914, -0.14778783,\n",
       "        -0.13946652, -0.13114521, -0.1228239 , -0.11450259, -0.10618128,\n",
       "        -0.09785997, -0.08953866, -0.08121735, -0.07289604, -0.06457473,\n",
       "        -0.05625342, -0.04793211, -0.0396108 , -0.03128949, -0.02296818,\n",
       "        -0.01464687, -0.00632556,  0.00199575,  0.01031706,  0.01863837,\n",
       "         0.02695968,  0.03528099,  0.0436023 ,  0.05192361,  0.06024492,\n",
       "         0.06856623,  0.07688754,  0.08520885,  0.09353016,  0.10185147,\n",
       "         0.11017278]),\n",
       " <BarContainer object of 40 artists>)"
      ]
     },
     "execution_count": 13,
     "metadata": {},
     "output_type": "execute_result"
    },
    {
     "data": {
      "image/png": "[encoded data removed]",
      "text/plain": [
       "<Figure size 432x288 with 1 Axes>"
      ]
     },
     "metadata": {
      "needs_background": "light"
     },
     "output_type": "display_data"
    }
   ],
   "source": [
    "plt.hist(sdf1['Coef Mean'], bins=40)"
   ]
  },
  {
   "cell_type": "code",
   "execution_count": 14,
   "id": "systematic-gasoline",
   "metadata": {},
   "outputs": [
    {
     "data": {
      "text/plain": [
       "(array([ 5., 15.,  0.,  9.,  0., 11.,  7.,  0.,  2.,  1.]),\n",
       " array([1. , 1.6, 2.2, 2.8, 3.4, 4. , 4.6, 5.2, 5.8, 6.4, 7. ]),\n",
       " <BarContainer object of 10 artists>)"
      ]
     },
     "execution_count": 14,
     "metadata": {},
     "output_type": "execute_result"
    },
    {
     "data": {
      "image/png": "[encoded data removed]",
      "text/plain": [
       "<Figure size 432x288 with 1 Axes>"
      ]
     },
     "metadata": {
      "needs_background": "light"
     },
     "output_type": "display_data"
    }
   ],
   "source": [
    "# verteilung wie viele gene pro lauf hinzugefügt wurden\n",
    "plt.hist(num_added4)"
   ]
  },
  {
   "cell_type": "code",
   "execution_count": 15,
   "id": "religious-bible",
   "metadata": {},
   "outputs": [
    {
     "data": {
      "text/plain": [
       "(array([ 2.,  2.,  2.,  6.,  9., 11.,  8.,  6.,  2.,  2.]),\n",
       " array([113. , 118.6, 124.2, 129.8, 135.4, 141. , 146.6, 152.2, 157.8,\n",
       "        163.4, 169. ]),\n",
       " <BarContainer object of 10 artists>)"
      ]
     },
     "execution_count": 15,
     "metadata": {},
     "output_type": "execute_result"
    },
    {
     "data": {
      "image/png": "[encoded data removed]",
      "text/plain": [
       "<Figure size 432x288 with 1 Axes>"
      ]
     },
     "metadata": {
      "needs_background": "light"
     },
     "output_type": "display_data"
    }
   ],
   "source": [
    "# how many genes were added in each run\n",
    "plt.hist(num_added25)"
   ]
  },
  {
   "cell_type": "code",
   "execution_count": 16,
   "id": "agreed-minutes",
   "metadata": {},
   "outputs": [
    {
     "data": {
      "text/plain": [
       "(array([ 2.,  3.,  2.,  4.,  7., 14., 10.,  3.,  4.,  1.]),\n",
       " array([296. , 302.6, 309.2, 315.8, 322.4, 329. , 335.6, 342.2, 348.8,\n",
       "        355.4, 362. ]),\n",
       " <BarContainer object of 10 artists>)"
      ]
     },
     "execution_count": 16,
     "metadata": {},
     "output_type": "execute_result"
    },
    {
     "data": {
      "image/png": "[encoded data removed]",
      "text/plain": [
       "<Figure size 432x288 with 1 Axes>"
      ]
     },
     "metadata": {
      "needs_background": "light"
     },
     "output_type": "display_data"
    }
   ],
   "source": [
    "# how many genes were added in each run\n",
    "plt.hist(num_added1)"
   ]
  },
  {
   "cell_type": "code",
   "execution_count": 17,
   "id": "canadian-introduction",
   "metadata": {},
   "outputs": [
    {
     "name": "stdout",
     "output_type": "stream",
     "text": [
      "These are the 10 genes with highest coefficients: \n",
      "            Genes  Count  Coef Mean\n",
      "21           Atf3      1   0.033272\n",
      "8           Pde2a     10   0.034197\n",
      "10           Pvt1      1  -0.034446\n",
      "12         Slc9a7      3   0.034838\n",
      "36  2010111I01Rik      1  -0.037277\n",
      "9            Ccl5     23   0.047419\n",
      "50          Hsph1      1  -0.053182\n",
      "26        Tbc1d32      1  -0.056193\n",
      "7         Rasgrp2     22  -0.073133\n",
      "46       Hsp90aa1      2  -0.090443\n",
      "\n",
      "These are the 10 most frequent genes: \n",
      "      Genes  Count  Coef Mean\n",
      "32    Tubb3      3   0.025183\n",
      "14  Izumo1r      3  -0.029692\n",
      "31     Gas7      3   0.028336\n",
      "30     Rgcc      4   0.032554\n",
      "23      Fry      5   0.031328\n",
      "35     Emp1      9   0.024858\n",
      "8     Pde2a     10   0.034197\n",
      "3      Klf2     14  -0.030905\n",
      "7   Rasgrp2     22  -0.073133\n",
      "9      Ccl5     23   0.047419\n"
     ]
    },
    {
     "data": {
      "image/png": "[encoded data removed]",
      "text/plain": [
       "<Figure size 432x288 with 1 Axes>"
      ]
     },
     "metadata": {
      "needs_background": "light"
     },
     "output_type": "display_data"
    }
   ],
   "source": [
    "##### scatter of mean coeficient against how often gene was counted\n",
    "\n",
    "df = sdf4\n",
    "\n",
    "# plot points\n",
    "plt.scatter(df['Coef Mean'], df['Count'])\n",
    "\n",
    "# plot labels\n",
    "plt.title('Mean Coefficient Value and Frequency')\n",
    "plt.xlabel('Mean Coefficient Value')\n",
    "plt.ylabel('Frequency')\n",
    "\n",
    "# zip joins x and y coordinates in pairs\n",
    "for x,y,g in zip(df['Coef Mean'][-10:], df['Count'][-10:], df['Genes'][-10:]):\n",
    "\n",
    "    label = g\n",
    "\n",
    "    plt.annotate(label, # this is the text\n",
    "                 (x,y), # this is the point to label\n",
    "                 textcoords=\"offset points\", # how to position the text\n",
    "                 xytext=(0,10), # distance from text to points (x,y)\n",
    "                 ha='center') # horizontal alignment can be left, right or center\n",
    "\n",
    "print('These are the 10 genes with highest coefficients: ')\n",
    "print(df[['Genes', 'Count', 'Coef Mean']][-10:])\n",
    "print()\n",
    "print('These are the 10 most frequent genes: ')\n",
    "print(df.sort_values(by=['Count'])[['Genes', 'Count', 'Coef Mean']][-10:])\n",
    "\n",
    "\n",
    "# ein anderer lauf.. schon etwas variation, vorallem bei Klf2\n",
    "\n",
    "#10    Slc9a7      6   0.032609   \n",
    "#2       Rgcc      7   0.033383   \n",
    "#9       Ccl5     11   0.046270   \n",
    "#19      Klf2     15  -0.027694   \n",
    "#0    Rasgrp2     27  -0.073179   "
   ]
  },
  {
   "cell_type": "code",
   "execution_count": 18,
   "id": "ranging-ethics",
   "metadata": {},
   "outputs": [
    {
     "name": "stdout",
     "output_type": "stream",
     "text": [
      "These are the 10 genes with highest coefficients: \n",
      "         Genes  Count  Coef Mean\n",
      "317        Erg     11  -0.039939\n",
      "0        Pde2a     13   0.040404\n",
      "1395   Tbc1d32      8  -0.040596\n",
      "1817  Cacna2d2      1  -0.043823\n",
      "151     Slc9a7     18   0.044112\n",
      "286      Hsph1     13  -0.046866\n",
      "280     S100a6     15  -0.051965\n",
      "1         Ccl5     19   0.060993\n",
      "1269   Rasgrp2      9  -0.107280\n",
      "153   Hsp90aa1     18  -0.116568\n",
      "\n",
      "These are the 10 most frequent genes: \n",
      "              Genes  Count  Coef Mean\n",
      "1164           Arf4     17   0.029752\n",
      "829          Nfkbia     17   0.032344\n",
      "298          S100a4     17  -0.024847\n",
      "16            Tubb3     18   0.027526\n",
      "151          Slc9a7     18   0.044112\n",
      "153        Hsp90aa1     18  -0.116568\n",
      "1              Ccl5     19   0.060993\n",
      "759          Slc7a5     19   0.029633\n",
      "432           Raph1     20   0.026981\n",
      "281   3110082I17Rik     22   0.034242\n"
     ]
    },
    {
     "data": {
      "image/png": "[encoded data removed]",
      "text/plain": [
       "<Figure size 432x288 with 1 Axes>"
      ]
     },
     "metadata": {
      "needs_background": "light"
     },
     "output_type": "display_data"
    }
   ],
   "source": [
    "##### scatter of mean coeficient against how often gene was counted\n",
    "\n",
    "df = sdf25\n",
    "\n",
    "# plot points\n",
    "plt.scatter(df['Coef Mean'], df['Count'])\n",
    "\n",
    "# plot labels\n",
    "plt.title('Mean Coefficient Value and Frequency')\n",
    "plt.xlabel('Mean Coefficient Value')\n",
    "plt.ylabel('Frequency')\n",
    "\n",
    "# zip joins x and y coordinates in pairs\n",
    "for x,y,g in zip(df['Coef Mean'][-10:], df['Count'][-10:], df['Genes'][-10:]):\n",
    "\n",
    "    label = g\n",
    "\n",
    "    plt.annotate(label, # this is the text\n",
    "                 (x,y), # this is the point to label\n",
    "                 textcoords=\"offset points\", # how to position the text\n",
    "                 xytext=(0,10), # distance from text to points (x,y)\n",
    "                 ha='center') # horizontal alignment can be left, right or center\n",
    "\n",
    "print('These are the 10 genes with highest coefficients: ')\n",
    "print(df[['Genes', 'Count', 'Coef Mean']][-10:])\n",
    "print()\n",
    "print('These are the 10 most frequent genes: ')\n",
    "print(df.sort_values(by=['Count'])[['Genes', 'Count', 'Coef Mean']][-10:])"
   ]
  },
  {
   "cell_type": "code",
   "execution_count": 19,
   "id": "soviet-malaysia",
   "metadata": {},
   "outputs": [
    {
     "name": "stdout",
     "output_type": "stream",
     "text": [
      "These are the 10 genes with highest coefficients: \n",
      "              Genes  Count  Coef Mean\n",
      "956   3110082I17Rik      4   0.080841\n",
      "1674         Pycard      3  -0.085224\n",
      "4642          Pde2a      5   0.086238\n",
      "3151           Vmp1      5   0.087625\n",
      "1920         S100a6      9  -0.092025\n",
      "32             Rgcc      4   0.092029\n",
      "1200           Ccl5      7   0.094553\n",
      "3011         Slc9a7      9   0.110173\n",
      "2845        Rasgrp2      5  -0.213822\n",
      "17         Hsp90aa1      8  -0.222680\n",
      "\n",
      "These are the 10 most frequent genes: \n",
      "        Genes  Count  Coef Mean\n",
      "1233   Setbp1     11  -0.027507\n",
      "745   Ppp2r2d     12   0.025707\n",
      "405     Arl8a     12  -0.026443\n",
      "2147    Zmat2     12   0.019192\n",
      "694    Zbtb37     12  -0.022271\n",
      "451   Cables1     12  -0.022912\n",
      "971     Zmiz1     12   0.023259\n",
      "1088     Atg7     12   0.025228\n",
      "2117     Cd83     13   0.037371\n",
      "1456     Nptn     16   0.055279\n"
     ]
    },
    {
     "data": {
      "image/png": "[encoded data removed]",
      "text/plain": [
       "<Figure size 432x288 with 1 Axes>"
      ]
     },
     "metadata": {
      "needs_background": "light"
     },
     "output_type": "display_data"
    }
   ],
   "source": [
    "##### scatter of mean coeficient against how often gene was counted\n",
    "\n",
    "df = sdf1\n",
    "\n",
    "# plot points\n",
    "plt.scatter(df['Coef Mean'], df['Count'])\n",
    "\n",
    "# plot labels\n",
    "plt.title('Mean Coefficient Value and Frequency')\n",
    "plt.xlabel('Mean Coefficient Value')\n",
    "plt.ylabel('Frequency')\n",
    "\n",
    "# zip joins x and y coordinates in pairs\n",
    "for x,y,g in zip(df['Coef Mean'][-10:], df['Count'][-10:], df['Genes'][-10:]):\n",
    "\n",
    "    label = g\n",
    "\n",
    "    plt.annotate(label, # this is the text\n",
    "                 (x,y), # this is the point to label\n",
    "                 textcoords=\"offset points\", # how to position the text\n",
    "                 xytext=(0,10), # distance from text to points (x,y)\n",
    "                 ha='center') # horizontal alignment can be left, right or center\n",
    "\n",
    "print('These are the 10 genes with highest coefficients: ')\n",
    "print(df[['Genes', 'Count', 'Coef Mean']][-10:])\n",
    "print()\n",
    "print('These are the 10 most frequent genes: ')\n",
    "print(df.sort_values(by=['Count'])[['Genes', 'Count', 'Coef Mean']][-10:])"
   ]
  },
  {
   "cell_type": "code",
   "execution_count": 20,
   "id": "cardiac-hydrogen",
   "metadata": {},
   "outputs": [
    {
     "data": {
      "text/plain": [
       "['a']"
      ]
     },
     "execution_count": 20,
     "metadata": {},
     "output_type": "execute_result"
    }
   ],
   "source": [
    "df = pd.DataFrame()\n",
    "df['Names'], df['Numbers'] = [['a', 'b', 'c', 'd'], [1, 2, 3, 4]]\n",
    "[x for x in df['Names'][:1]]\n",
    "\n"
   ]
  }
 ],
 "metadata": {
  "kernelspec": {
   "display_name": "Python 3",
   "language": "python",
   "name": "python3"
  },
  "language_info": {
   "codemirror_mode": {
    "name": "ipython",
    "version": 3
   },
   "file_extension": ".py",
   "mimetype": "text/x-python",
   "name": "python",
   "nbconvert_exporter": "python",
   "pygments_lexer": "ipython3",
   "version": "3.8.5"
  }
 },
 "nbformat": 4,
 "nbformat_minor": 5
}
