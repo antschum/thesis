{
 "cells": [
  {
   "cell_type": "markdown",
   "id": "specialized-pattern",
   "metadata": {},
   "source": [
    "# Results"
   ]
  },
  {
   "cell_type": "markdown",
   "id": "organic-tackle",
   "metadata": {},
   "source": [
    "Permutations"
   ]
  },
  {
   "cell_type": "markdown",
   "id": "sapphire-prague",
   "metadata": {},
   "source": [
    "Need: tuned Model, reference database of regulatory pairs, \n",
    "Steps: \n",
    "1. Fit regressions (10-fold cross validation)\n",
    "2. Permutation test (null distribution based on 1000 random matches)\n",
    "3. Compare predicted matches against null distribution"
   ]
  }
 ],
 "metadata": {
  "kernelspec": {
   "display_name": "Python 3",
   "language": "python",
   "name": "python3"
  },
  "language_info": {
   "codemirror_mode": {
    "name": "ipython",
    "version": 3
   },
   "file_extension": ".py",
   "mimetype": "text/x-python",
   "name": "python",
   "nbconvert_exporter": "python",
   "pygments_lexer": "ipython3",
   "version": "3.8.5"
  }
 },
 "nbformat": 4,
 "nbformat_minor": 5
}
