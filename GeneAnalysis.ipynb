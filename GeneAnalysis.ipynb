{
 "cells": [
  {
   "cell_type": "markdown",
   "id": "rural-assumption",
   "metadata": {},
   "source": [
    "# Does the linear regression make sense?"
   ]
  },
  {
   "cell_type": "code",
   "execution_count": 1,
   "id": "genuine-luxembourg",
   "metadata": {},
   "outputs": [],
   "source": [
    "import pandas as pd\n",
    "import numpy as np\n",
    "import matplotlib as plt\n",
    "import seaborn as sns\n",
    "import functions as f\n",
    "import random"
   ]
  },
  {
   "cell_type": "code",
   "execution_count": 52,
   "id": "white-scout",
   "metadata": {
    "scrolled": true
   },
   "outputs": [],
   "source": [
    "import scipy.stats as st\n",
    "\n",
    "def get_pvalue(count, permut):\n",
    "    # calculating p-value\n",
    "    z_score = (np.array(pca_count160['matches'])-np.array(pca_permut160['mean']))/np.array(pca_permut160['std'])\n",
    "\n",
    "\n",
    "    #cumulative distribution function\n",
    "    # --> not sure if I should take 1- ? for righttailed test? i imagine? \n",
    "    p_values = 1-st.norm.cdf(z_score)\n",
    "\n",
    "\n",
    "    # significance 5%\n",
    "    top = st.norm.ppf(.975)\n",
    "    bottom = st.norm.ppf(.025)\n",
    "    \n",
    "    return (p_values, z_score)"
   ]
  },
  {
   "cell_type": "markdown",
   "id": "fresh-healthcare",
   "metadata": {},
   "source": [
    "# PCA permutations"
   ]
  },
  {
   "cell_type": "code",
   "execution_count": 28,
   "id": "tested-hometown",
   "metadata": {},
   "outputs": [],
   "source": [
    "# import permutation scores\n",
    "percentages = list(np.arange(0, 1.02, 0.02))\n",
    "# acutally counts. of the evaluated permutations\n",
    "pca_permut160 = pd.read_pickle('pca/permutations.pkl')\n",
    "\n",
    "\n",
    "pca_count160 = pd.DataFrame(pd.read_pickle('pca/count.pkl'), columns = ['matches'])\n",
    "pca_permut160['percentages'], pca_count160['percentages']=percentages, percentages"
   ]
  },
  {
   "cell_type": "code",
   "execution_count": 53,
   "id": "framed-marriage",
   "metadata": {
    "scrolled": false
   },
   "outputs": [
    {
     "name": "stderr",
     "output_type": "stream",
     "text": [
      "<ipython-input-52-294d9cb244ce>:5: RuntimeWarning: invalid value encountered in true_divide\n",
      "  z_score = (np.array(pca_count160['matches'])-np.array(pca_permut160['mean']))/np.array(pca_permut160['std'])\n"
     ]
    }
   ],
   "source": [
    "p_values, z_scores = get_pvalue(count = pca_count160, permut = pca_permut160)"
   ]
  },
  {
   "cell_type": "code",
   "execution_count": 54,
   "id": "threaded-tourist",
   "metadata": {
    "scrolled": false
   },
   "outputs": [
    {
     "name": "stderr",
     "output_type": "stream",
     "text": [
      "/home/ubuntu/miniconda3/lib/python3.8/site-packages/seaborn/_decorators.py:36: FutureWarning: Pass the following variables as keyword args: x, y. From version 0.12, the only valid positional argument will be `data`, and passing other arguments without an explicit keyword will result in an error or misinterpretation.\n",
      "  warnings.warn(\n"
     ]
    },
    {
     "data": {
      "text/plain": [
       "<matplotlib.legend.Legend at 0x7fc3115ccfd0>"
      ]
     },
     "execution_count": 54,
     "metadata": {},
     "output_type": "execute_result"
    },
    {
     "data": {
      "image/png": "[encoded data removed]",
      "text/plain": [
       "<Figure size 432x288 with 1 Axes>"
      ]
     },
     "metadata": {
      "needs_background": "light"
     },
     "output_type": "display_data"
    }
   ],
   "source": [
    "ax = sns.lineplot(percentages, p_values)\n",
    "ax.axhline(0.05, ls = '--', c='orange', label = '0.05 Significance')\n",
    "ax.legend()"
   ]
  },
  {
   "cell_type": "markdown",
   "id": "chemical-frost",
   "metadata": {},
   "source": [
    "Is this normal that it only goes to 0.5? "
   ]
  },
  {
   "cell_type": "code",
   "execution_count": 62,
   "id": "lonely-confusion",
   "metadata": {},
   "outputs": [
    {
     "data": {
      "text/html": [
       "<div>\n",
       "<style scoped>\n",
       "    .dataframe tbody tr th:only-of-type {\n",
       "        vertical-align: middle;\n",
       "    }\n",
       "\n",
       "    .dataframe tbody tr th {\n",
       "        vertical-align: top;\n",
       "    }\n",
       "\n",
       "    .dataframe thead th {\n",
       "        text-align: right;\n",
       "    }\n",
       "</style>\n",
       "<table border=\"1\" class=\"dataframe\">\n",
       "  <thead>\n",
       "    <tr style=\"text-align: right;\">\n",
       "      <th></th>\n",
       "      <th>matches</th>\n",
       "      <th>percentages</th>\n",
       "    </tr>\n",
       "  </thead>\n",
       "  <tbody>\n",
       "    <tr>\n",
       "      <th>0</th>\n",
       "      <td>0</td>\n",
       "      <td>0.00</td>\n",
       "    </tr>\n",
       "    <tr>\n",
       "      <th>1</th>\n",
       "      <td>6</td>\n",
       "      <td>0.02</td>\n",
       "    </tr>\n",
       "    <tr>\n",
       "      <th>2</th>\n",
       "      <td>8</td>\n",
       "      <td>0.04</td>\n",
       "    </tr>\n",
       "    <tr>\n",
       "      <th>3</th>\n",
       "      <td>8</td>\n",
       "      <td>0.06</td>\n",
       "    </tr>\n",
       "    <tr>\n",
       "      <th>4</th>\n",
       "      <td>11</td>\n",
       "      <td>0.08</td>\n",
       "    </tr>\n",
       "    <tr>\n",
       "      <th>5</th>\n",
       "      <td>15</td>\n",
       "      <td>0.10</td>\n",
       "    </tr>\n",
       "    <tr>\n",
       "      <th>6</th>\n",
       "      <td>18</td>\n",
       "      <td>0.12</td>\n",
       "    </tr>\n",
       "    <tr>\n",
       "      <th>7</th>\n",
       "      <td>19</td>\n",
       "      <td>0.14</td>\n",
       "    </tr>\n",
       "    <tr>\n",
       "      <th>8</th>\n",
       "      <td>22</td>\n",
       "      <td>0.16</td>\n",
       "    </tr>\n",
       "    <tr>\n",
       "      <th>9</th>\n",
       "      <td>25</td>\n",
       "      <td>0.18</td>\n",
       "    </tr>\n",
       "    <tr>\n",
       "      <th>10</th>\n",
       "      <td>28</td>\n",
       "      <td>0.20</td>\n",
       "    </tr>\n",
       "    <tr>\n",
       "      <th>11</th>\n",
       "      <td>29</td>\n",
       "      <td>0.22</td>\n",
       "    </tr>\n",
       "    <tr>\n",
       "      <th>12</th>\n",
       "      <td>31</td>\n",
       "      <td>0.24</td>\n",
       "    </tr>\n",
       "    <tr>\n",
       "      <th>13</th>\n",
       "      <td>33</td>\n",
       "      <td>0.26</td>\n",
       "    </tr>\n",
       "    <tr>\n",
       "      <th>14</th>\n",
       "      <td>34</td>\n",
       "      <td>0.28</td>\n",
       "    </tr>\n",
       "    <tr>\n",
       "      <th>15</th>\n",
       "      <td>35</td>\n",
       "      <td>0.30</td>\n",
       "    </tr>\n",
       "    <tr>\n",
       "      <th>16</th>\n",
       "      <td>37</td>\n",
       "      <td>0.32</td>\n",
       "    </tr>\n",
       "    <tr>\n",
       "      <th>17</th>\n",
       "      <td>38</td>\n",
       "      <td>0.34</td>\n",
       "    </tr>\n",
       "    <tr>\n",
       "      <th>18</th>\n",
       "      <td>39</td>\n",
       "      <td>0.36</td>\n",
       "    </tr>\n",
       "    <tr>\n",
       "      <th>19</th>\n",
       "      <td>41</td>\n",
       "      <td>0.38</td>\n",
       "    </tr>\n",
       "    <tr>\n",
       "      <th>20</th>\n",
       "      <td>43</td>\n",
       "      <td>0.40</td>\n",
       "    </tr>\n",
       "    <tr>\n",
       "      <th>21</th>\n",
       "      <td>46</td>\n",
       "      <td>0.42</td>\n",
       "    </tr>\n",
       "    <tr>\n",
       "      <th>22</th>\n",
       "      <td>49</td>\n",
       "      <td>0.44</td>\n",
       "    </tr>\n",
       "    <tr>\n",
       "      <th>23</th>\n",
       "      <td>49</td>\n",
       "      <td>0.46</td>\n",
       "    </tr>\n",
       "    <tr>\n",
       "      <th>24</th>\n",
       "      <td>49</td>\n",
       "      <td>0.48</td>\n",
       "    </tr>\n",
       "    <tr>\n",
       "      <th>25</th>\n",
       "      <td>54</td>\n",
       "      <td>0.50</td>\n",
       "    </tr>\n",
       "    <tr>\n",
       "      <th>26</th>\n",
       "      <td>56</td>\n",
       "      <td>0.52</td>\n",
       "    </tr>\n",
       "    <tr>\n",
       "      <th>27</th>\n",
       "      <td>56</td>\n",
       "      <td>0.54</td>\n",
       "    </tr>\n",
       "    <tr>\n",
       "      <th>28</th>\n",
       "      <td>58</td>\n",
       "      <td>0.56</td>\n",
       "    </tr>\n",
       "    <tr>\n",
       "      <th>29</th>\n",
       "      <td>58</td>\n",
       "      <td>0.58</td>\n",
       "    </tr>\n",
       "    <tr>\n",
       "      <th>30</th>\n",
       "      <td>61</td>\n",
       "      <td>0.60</td>\n",
       "    </tr>\n",
       "    <tr>\n",
       "      <th>31</th>\n",
       "      <td>61</td>\n",
       "      <td>0.62</td>\n",
       "    </tr>\n",
       "    <tr>\n",
       "      <th>32</th>\n",
       "      <td>65</td>\n",
       "      <td>0.64</td>\n",
       "    </tr>\n",
       "    <tr>\n",
       "      <th>33</th>\n",
       "      <td>65</td>\n",
       "      <td>0.66</td>\n",
       "    </tr>\n",
       "    <tr>\n",
       "      <th>34</th>\n",
       "      <td>68</td>\n",
       "      <td>0.68</td>\n",
       "    </tr>\n",
       "    <tr>\n",
       "      <th>35</th>\n",
       "      <td>70</td>\n",
       "      <td>0.70</td>\n",
       "    </tr>\n",
       "    <tr>\n",
       "      <th>36</th>\n",
       "      <td>71</td>\n",
       "      <td>0.72</td>\n",
       "    </tr>\n",
       "    <tr>\n",
       "      <th>37</th>\n",
       "      <td>72</td>\n",
       "      <td>0.74</td>\n",
       "    </tr>\n",
       "    <tr>\n",
       "      <th>38</th>\n",
       "      <td>74</td>\n",
       "      <td>0.76</td>\n",
       "    </tr>\n",
       "    <tr>\n",
       "      <th>39</th>\n",
       "      <td>75</td>\n",
       "      <td>0.78</td>\n",
       "    </tr>\n",
       "    <tr>\n",
       "      <th>40</th>\n",
       "      <td>76</td>\n",
       "      <td>0.80</td>\n",
       "    </tr>\n",
       "    <tr>\n",
       "      <th>41</th>\n",
       "      <td>77</td>\n",
       "      <td>0.82</td>\n",
       "    </tr>\n",
       "    <tr>\n",
       "      <th>42</th>\n",
       "      <td>80</td>\n",
       "      <td>0.84</td>\n",
       "    </tr>\n",
       "    <tr>\n",
       "      <th>43</th>\n",
       "      <td>84</td>\n",
       "      <td>0.86</td>\n",
       "    </tr>\n",
       "    <tr>\n",
       "      <th>44</th>\n",
       "      <td>88</td>\n",
       "      <td>0.88</td>\n",
       "    </tr>\n",
       "    <tr>\n",
       "      <th>45</th>\n",
       "      <td>90</td>\n",
       "      <td>0.90</td>\n",
       "    </tr>\n",
       "    <tr>\n",
       "      <th>46</th>\n",
       "      <td>90</td>\n",
       "      <td>0.92</td>\n",
       "    </tr>\n",
       "    <tr>\n",
       "      <th>47</th>\n",
       "      <td>92</td>\n",
       "      <td>0.94</td>\n",
       "    </tr>\n",
       "    <tr>\n",
       "      <th>48</th>\n",
       "      <td>92</td>\n",
       "      <td>0.96</td>\n",
       "    </tr>\n",
       "    <tr>\n",
       "      <th>49</th>\n",
       "      <td>92</td>\n",
       "      <td>0.98</td>\n",
       "    </tr>\n",
       "    <tr>\n",
       "      <th>50</th>\n",
       "      <td>92</td>\n",
       "      <td>1.00</td>\n",
       "    </tr>\n",
       "  </tbody>\n",
       "</table>\n",
       "</div>"
      ],
      "text/plain": [
       "    matches  percentages\n",
       "0         0         0.00\n",
       "1         6         0.02\n",
       "2         8         0.04\n",
       "3         8         0.06\n",
       "4        11         0.08\n",
       "5        15         0.10\n",
       "6        18         0.12\n",
       "7        19         0.14\n",
       "8        22         0.16\n",
       "9        25         0.18\n",
       "10       28         0.20\n",
       "11       29         0.22\n",
       "12       31         0.24\n",
       "13       33         0.26\n",
       "14       34         0.28\n",
       "15       35         0.30\n",
       "16       37         0.32\n",
       "17       38         0.34\n",
       "18       39         0.36\n",
       "19       41         0.38\n",
       "20       43         0.40\n",
       "21       46         0.42\n",
       "22       49         0.44\n",
       "23       49         0.46\n",
       "24       49         0.48\n",
       "25       54         0.50\n",
       "26       56         0.52\n",
       "27       56         0.54\n",
       "28       58         0.56\n",
       "29       58         0.58\n",
       "30       61         0.60\n",
       "31       61         0.62\n",
       "32       65         0.64\n",
       "33       65         0.66\n",
       "34       68         0.68\n",
       "35       70         0.70\n",
       "36       71         0.72\n",
       "37       72         0.74\n",
       "38       74         0.76\n",
       "39       75         0.78\n",
       "40       76         0.80\n",
       "41       77         0.82\n",
       "42       80         0.84\n",
       "43       84         0.86\n",
       "44       88         0.88\n",
       "45       90         0.90\n",
       "46       90         0.92\n",
       "47       92         0.94\n",
       "48       92         0.96\n",
       "49       92         0.98\n",
       "50       92         1.00"
      ]
     },
     "execution_count": 62,
     "metadata": {},
     "output_type": "execute_result"
    }
   ],
   "source": [
    "pca_count160"
   ]
  },
  {
   "cell_type": "code",
   "execution_count": 59,
   "id": "egyptian-singles",
   "metadata": {},
   "outputs": [],
   "source": [
    "pls_count160 = pd.DataFrame(pd.read_pickle('pls/count.pkl'), columns = ['matches'])\n",
    "pls_count160['percentages']=percentages"
   ]
  },
  {
   "cell_type": "code",
   "execution_count": 61,
   "id": "english-valentine",
   "metadata": {
    "scrolled": false
   },
   "outputs": [
    {
     "data": {
      "text/plain": [
       "<matplotlib.legend.Legend at 0x7fc312be3760>"
      ]
     },
     "execution_count": 61,
     "metadata": {},
     "output_type": "execute_result"
    },
    {
     "data": {
      "image/png": "[encoded data removed]",
      "text/plain": [
       "<Figure size 432x288 with 1 Axes>"
      ]
     },
     "metadata": {
      "needs_background": "light"
     },
     "output_type": "display_data"
    }
   ],
   "source": [
    "ax = sns.lineplot(data = pca_count160, x='percentages', y = 'matches',label='predicted')\n",
    "ax = sns.lineplot(data = pls_count160, x='percentages', y = 'matches',label='pls')\n",
    "ax = sns.lineplot(data = pca_permut160, x ='percentages', y = 'mean', label='control')\n",
    "ax.errorbar(pca_permut160['percentages'], pca_permut160['mean'], yerr=pca_permut160['std'], fmt=' ', zorder=-1)\n",
    "ax.legend()\n"
   ]
  },
  {
   "cell_type": "markdown",
   "id": "purple-history",
   "metadata": {},
   "source": [
    "#### There are 416 matches from the RegNet database for the 160 relevant genes, looking at predictors and targets. Of those, 91 are also represented in our set of 1109*152=167,459 pairs. "
   ]
  },
  {
   "cell_type": "markdown",
   "id": "thirty-judges",
   "metadata": {},
   "source": [
    "# Linear - Permutations"
   ]
  },
  {
   "cell_type": "code",
   "execution_count": 28,
   "id": "junior-bible",
   "metadata": {},
   "outputs": [],
   "source": [
    "# import permutation scores\n",
    "percentages = list(np.arange(0, 1.02, 0.02))\n",
    "# acutally counts. of the evaluated permutations\n",
    "linear_permut160 = pd.read_pickle('linear/permutations.pkl')\n",
    "\n",
    "\n",
    "linear_count160 = pd.DataFrame(pd.read_pickle('linear/count.pkl'), columns = ['matches'])\n",
    "linear_permut160['percentages'], linear_count160['percentages']=percentages, percentages"
   ]
  },
  {
   "cell_type": "code",
   "execution_count": 53,
   "id": "enormous-video",
   "metadata": {
    "scrolled": false
   },
   "outputs": [
    {
     "name": "stderr",
     "output_type": "stream",
     "text": [
      "<ipython-input-52-294d9cb244ce>:5: RuntimeWarning: invalid value encountered in true_divide\n",
      "  z_score = (np.array(pca_count160['matches'])-np.array(pca_permut160['mean']))/np.array(pca_permut160['std'])\n"
     ]
    }
   ],
   "source": [
    "p_values, z_scores = get_pvalue(count = linear_count160, permut = linear_permut160)"
   ]
  },
  {
   "cell_type": "code",
   "execution_count": 54,
   "id": "processed-projector",
   "metadata": {
    "scrolled": false
   },
   "outputs": [
    {
     "name": "stderr",
     "output_type": "stream",
     "text": [
      "/home/ubuntu/miniconda3/lib/python3.8/site-packages/seaborn/_decorators.py:36: FutureWarning: Pass the following variables as keyword args: x, y. From version 0.12, the only valid positional argument will be `data`, and passing other arguments without an explicit keyword will result in an error or misinterpretation.\n",
      "  warnings.warn(\n"
     ]
    },
    {
     "data": {
      "text/plain": [
       "<matplotlib.legend.Legend at 0x7fc3115ccfd0>"
      ]
     },
     "execution_count": 54,
     "metadata": {},
     "output_type": "execute_result"
    },
    {
     "data": {
      "image/png": "[encoded data removed]",
      "text/plain": [
       "<Figure size 432x288 with 1 Axes>"
      ]
     },
     "metadata": {
      "needs_background": "light"
     },
     "output_type": "display_data"
    }
   ],
   "source": [
    "ax = sns.lineplot(percentages, p_values)\n",
    "ax.axhline(0.05, ls = '--', c='orange', label = '0.05 Significance')\n",
    "ax.legend()"
   ]
  },
  {
   "cell_type": "markdown",
   "id": "enclosed-spanish",
   "metadata": {},
   "source": [
    "Is this normal that it only goes to 0.5? "
   ]
  },
  {
   "cell_type": "code",
   "execution_count": 55,
   "id": "increasing-ethics",
   "metadata": {
    "scrolled": true
   },
   "outputs": [
    {
     "data": {
      "text/plain": [
       "<matplotlib.legend.Legend at 0x7fc31159c0a0>"
      ]
     },
     "execution_count": 55,
     "metadata": {},
     "output_type": "execute_result"
    },
    {
     "data": {
      "image/png": "[encoded data removed]",
      "text/plain": [
       "<Figure size 432x288 with 1 Axes>"
      ]
     },
     "metadata": {
      "needs_background": "light"
     },
     "output_type": "display_data"
    }
   ],
   "source": [
    "ax = sns.lineplot(data = linear_count160, x='percentages', y = 'matches',label='predicted')\n",
    "ax = sns.lineplot(data = linear_permut160, x ='percentages', y = 'mean', label='control')\n",
    "ax.errorbar(linear_permut160['percentages'], linear_permut160['mean'], yerr=linear_permut160['std'], fmt=' ', zorder=-1)\n",
    "ax.legend()\n"
   ]
  },
  {
   "cell_type": "code",
   "execution_count": 28,
   "id": "outer-treat",
   "metadata": {},
   "outputs": [],
   "source": [
    "# import permutation scores\n",
    "percentages = list(np.arange(0, 1.02, 0.02))\n",
    "# acutally counts. of the evaluated permutations\n",
    "pca_permut160 = pd.read_pickle('pca/permutations.pkl')\n",
    "\n",
    "\n",
    "pca_count160 = pd.DataFrame(pd.read_pickle('pca/count.pkl'), columns = ['matches'])\n",
    "pca_permut160['percentages'], pca_count160['percentages']=percentages, percentages"
   ]
  },
  {
   "cell_type": "code",
   "execution_count": 53,
   "id": "practical-gospel",
   "metadata": {
    "scrolled": false
   },
   "outputs": [
    {
     "name": "stderr",
     "output_type": "stream",
     "text": [
      "<ipython-input-52-294d9cb244ce>:5: RuntimeWarning: invalid value encountered in true_divide\n",
      "  z_score = (np.array(pca_count160['matches'])-np.array(pca_permut160['mean']))/np.array(pca_permut160['std'])\n"
     ]
    }
   ],
   "source": [
    "p_values, z_scores = get_pvalue(count = pca_count160, permut = pca_permut160)"
   ]
  },
  {
   "cell_type": "code",
   "execution_count": 54,
   "id": "equivalent-tribute",
   "metadata": {
    "scrolled": false
   },
   "outputs": [
    {
     "name": "stderr",
     "output_type": "stream",
     "text": [
      "/home/ubuntu/miniconda3/lib/python3.8/site-packages/seaborn/_decorators.py:36: FutureWarning: Pass the following variables as keyword args: x, y. From version 0.12, the only valid positional argument will be `data`, and passing other arguments without an explicit keyword will result in an error or misinterpretation.\n",
      "  warnings.warn(\n"
     ]
    },
    {
     "data": {
      "text/plain": [
       "<matplotlib.legend.Legend at 0x7fc3115ccfd0>"
      ]
     },
     "execution_count": 54,
     "metadata": {},
     "output_type": "execute_result"
    },
    {
     "data": {
      "image/png": "[encoded data removed]",
      "text/plain": [
       "<Figure size 432x288 with 1 Axes>"
      ]
     },
     "metadata": {
      "needs_background": "light"
     },
     "output_type": "display_data"
    }
   ],
   "source": [
    "ax = sns.lineplot(percentages, p_values)\n",
    "ax.axhline(0.05, ls = '--', c='orange', label = '0.05 Significance')\n",
    "ax.legend()"
   ]
  },
  {
   "cell_type": "markdown",
   "id": "manufactured-software",
   "metadata": {},
   "source": [
    "Is this normal that it only goes to 0.5? "
   ]
  },
  {
   "cell_type": "code",
   "execution_count": 55,
   "id": "mechanical-picnic",
   "metadata": {
    "scrolled": false
   },
   "outputs": [
    {
     "data": {
      "text/plain": [
       "<matplotlib.legend.Legend at 0x7fc31159c0a0>"
      ]
     },
     "execution_count": 55,
     "metadata": {},
     "output_type": "execute_result"
    },
    {
     "data": {
      "image/png": "[encoded data removed]",
      "text/plain": [
       "<Figure size 432x288 with 1 Axes>"
      ]
     },
     "metadata": {
      "needs_background": "light"
     },
     "output_type": "display_data"
    }
   ],
   "source": [
    "ax = sns.lineplot(data = pca_count160, x='percentages', y = 'matches',label='predicted')\n",
    "ax = sns.lineplot(data = pca_permut160, x ='percentages', y = 'mean', label='control')\n",
    "ax.errorbar(pca_permut160['percentages'], pca_permut160['mean'], yerr=pca_permut160['std'], fmt=' ', zorder=-1)\n",
    "ax.legend()\n"
   ]
  }
 ],
 "metadata": {
  "kernelspec": {
   "display_name": "Python 3",
   "language": "python",
   "name": "python3"
  },
  "language_info": {
   "codemirror_mode": {
    "name": "ipython",
    "version": 3
   },
   "file_extension": ".py",
   "mimetype": "text/x-python",
   "name": "python",
   "nbconvert_exporter": "python",
   "pygments_lexer": "ipython3",
   "version": "3.8.5"
  }
 },
 "nbformat": 4,
 "nbformat_minor": 5
}
