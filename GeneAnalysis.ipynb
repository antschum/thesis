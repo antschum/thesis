{
 "cells": [
  {
   "cell_type": "markdown",
   "id": "rural-assumption",
   "metadata": {},
   "source": [
    "# Does the linear regression make sense?"
   ]
  },
  {
   "cell_type": "code",
   "execution_count": 1,
   "id": "genuine-luxembourg",
   "metadata": {},
   "outputs": [],
   "source": [
    "import pandas as pd\n",
    "import numpy as np\n",
    "import matplotlib as plt\n",
    "import seaborn as sns"
   ]
  },
  {
   "cell_type": "markdown",
   "id": "administrative-picking",
   "metadata": {},
   "source": [
    "## RegNetWeb"
   ]
  },
  {
   "cell_type": "code",
   "execution_count": 142,
   "id": "paperback-asian",
   "metadata": {},
   "outputs": [],
   "source": [
    "# import datasets\n",
    "regnet_regulators = pd.read_csv('regnetworkweb_all8tf.csv')\n",
    "regnet_targets = pd.read_csv('regnet_targets.csv')\n",
    "regnet_all = pd.concat([regnet_regulators, regnet_targets], axis=0)\n",
    "\n",
    "# greater than 100\n",
    "smaller = pd.read_pickle('test_data.pkl')\n",
    "\n",
    "# greater than 50\n",
    "#data = pd.read_pickle('larger_data.pkl')\n",
    "data = pd.read_pickle('p_values.pkl')\n",
    "\n"
   ]
  },
  {
   "cell_type": "code",
   "execution_count": 143,
   "id": "cooperative-frequency",
   "metadata": {},
   "outputs": [
    {
     "data": {
      "text/html": [
       "<div>\n",
       "<style scoped>\n",
       "    .dataframe tbody tr th:only-of-type {\n",
       "        vertical-align: middle;\n",
       "    }\n",
       "\n",
       "    .dataframe tbody tr th {\n",
       "        vertical-align: top;\n",
       "    }\n",
       "\n",
       "    .dataframe thead th {\n",
       "        text-align: right;\n",
       "    }\n",
       "</style>\n",
       "<table border=\"1\" class=\"dataframe\">\n",
       "  <thead>\n",
       "    <tr style=\"text-align: right;\">\n",
       "      <th></th>\n",
       "      <th>regulator_symbol</th>\n",
       "      <th>regulator_id</th>\n",
       "      <th>target_symbol</th>\n",
       "      <th>target_id</th>\n",
       "      <th>database</th>\n",
       "      <th>evidence</th>\n",
       "      <th>confidence</th>\n",
       "    </tr>\n",
       "  </thead>\n",
       "  <tbody>\n",
       "    <tr>\n",
       "      <th>0</th>\n",
       "      <td>HIF1A</td>\n",
       "      <td>3091</td>\n",
       "      <td>VHL</td>\n",
       "      <td>7428</td>\n",
       "      <td>hprd,kegg</td>\n",
       "      <td>Experimental</td>\n",
       "      <td>High</td>\n",
       "    </tr>\n",
       "    <tr>\n",
       "      <th>1</th>\n",
       "      <td>HIF1A</td>\n",
       "      <td>3091</td>\n",
       "      <td>TGFB3</td>\n",
       "      <td>7043</td>\n",
       "      <td>tred,kegg</td>\n",
       "      <td>Experimental</td>\n",
       "      <td>High</td>\n",
       "    </tr>\n",
       "    <tr>\n",
       "      <th>2</th>\n",
       "      <td>HIF1A</td>\n",
       "      <td>3091</td>\n",
       "      <td>SLC2A1</td>\n",
       "      <td>6513</td>\n",
       "      <td>tred,kegg</td>\n",
       "      <td>Experimental</td>\n",
       "      <td>High</td>\n",
       "    </tr>\n",
       "    <tr>\n",
       "      <th>3</th>\n",
       "      <td>HIF1A</td>\n",
       "      <td>3091</td>\n",
       "      <td>FIGF</td>\n",
       "      <td>2277</td>\n",
       "      <td>tred,kegg</td>\n",
       "      <td>Experimental</td>\n",
       "      <td>High</td>\n",
       "    </tr>\n",
       "    <tr>\n",
       "      <th>4</th>\n",
       "      <td>HIF1A</td>\n",
       "      <td>3091</td>\n",
       "      <td>VHL</td>\n",
       "      <td>7428</td>\n",
       "      <td>tred</td>\n",
       "      <td>Experimental</td>\n",
       "      <td>High</td>\n",
       "    </tr>\n",
       "    <tr>\n",
       "      <th>...</th>\n",
       "      <td>...</td>\n",
       "      <td>...</td>\n",
       "      <td>...</td>\n",
       "      <td>...</td>\n",
       "      <td>...</td>\n",
       "      <td>...</td>\n",
       "      <td>...</td>\n",
       "    </tr>\n",
       "    <tr>\n",
       "      <th>27</th>\n",
       "      <td>ETS1</td>\n",
       "      <td>2113</td>\n",
       "      <td>CDK4</td>\n",
       "      <td>1019</td>\n",
       "      <td>kegg</td>\n",
       "      <td>Experimental</td>\n",
       "      <td>High</td>\n",
       "    </tr>\n",
       "    <tr>\n",
       "      <th>28</th>\n",
       "      <td>CSDA</td>\n",
       "      <td>8531</td>\n",
       "      <td>CDK4</td>\n",
       "      <td>1019</td>\n",
       "      <td>kegg</td>\n",
       "      <td>Experimental</td>\n",
       "      <td>High</td>\n",
       "    </tr>\n",
       "    <tr>\n",
       "      <th>29</th>\n",
       "      <td>RB1</td>\n",
       "      <td>5925</td>\n",
       "      <td>CDK4</td>\n",
       "      <td>1019</td>\n",
       "      <td>hprd,kegg</td>\n",
       "      <td>Experimental</td>\n",
       "      <td>High</td>\n",
       "    </tr>\n",
       "    <tr>\n",
       "      <th>30</th>\n",
       "      <td>RBL1</td>\n",
       "      <td>5933</td>\n",
       "      <td>CDK4</td>\n",
       "      <td>1019</td>\n",
       "      <td>hprd,kegg</td>\n",
       "      <td>Experimental</td>\n",
       "      <td>High</td>\n",
       "    </tr>\n",
       "    <tr>\n",
       "      <th>31</th>\n",
       "      <td>RBL2</td>\n",
       "      <td>5934</td>\n",
       "      <td>CDK4</td>\n",
       "      <td>1019</td>\n",
       "      <td>kegg</td>\n",
       "      <td>Experimental</td>\n",
       "      <td>High</td>\n",
       "    </tr>\n",
       "  </tbody>\n",
       "</table>\n",
       "<p>171 rows × 7 columns</p>\n",
       "</div>"
      ],
      "text/plain": [
       "   regulator_symbol  regulator_id target_symbol target_id   database  \\\n",
       "0             HIF1A          3091           VHL      7428  hprd,kegg   \n",
       "1             HIF1A          3091         TGFB3      7043  tred,kegg   \n",
       "2             HIF1A          3091        SLC2A1      6513  tred,kegg   \n",
       "3             HIF1A          3091          FIGF      2277  tred,kegg   \n",
       "4             HIF1A          3091           VHL      7428       tred   \n",
       "..              ...           ...           ...       ...        ...   \n",
       "27             ETS1          2113          CDK4      1019       kegg   \n",
       "28             CSDA          8531          CDK4      1019       kegg   \n",
       "29              RB1          5925          CDK4      1019  hprd,kegg   \n",
       "30             RBL1          5933          CDK4      1019  hprd,kegg   \n",
       "31             RBL2          5934          CDK4      1019       kegg   \n",
       "\n",
       "        evidence confidence  \n",
       "0   Experimental       High  \n",
       "1   Experimental       High  \n",
       "2   Experimental       High  \n",
       "3   Experimental       High  \n",
       "4   Experimental       High  \n",
       "..           ...        ...  \n",
       "27  Experimental       High  \n",
       "28  Experimental       High  \n",
       "29  Experimental       High  \n",
       "30  Experimental       High  \n",
       "31  Experimental       High  \n",
       "\n",
       "[171 rows x 7 columns]"
      ]
     },
     "execution_count": 143,
     "metadata": {},
     "output_type": "execute_result"
    }
   ],
   "source": [
    "regnet_all"
   ]
  },
  {
   "cell_type": "code",
   "execution_count": 144,
   "id": "indirect-shelf",
   "metadata": {},
   "outputs": [],
   "source": [
    "# capitalize first letter\n",
    "regnet_all['regulator_symbol'] = [x.capitalize() for x in regnet_all['regulator_symbol']]\n",
    "regnet_all['target_symbol'] = [x.capitalize() for x in regnet_all['target_symbol']]"
   ]
  },
  {
   "cell_type": "code",
   "execution_count": 145,
   "id": "colored-count",
   "metadata": {},
   "outputs": [
    {
     "data": {
      "text/html": [
       "<div>\n",
       "<style scoped>\n",
       "    .dataframe tbody tr th:only-of-type {\n",
       "        vertical-align: middle;\n",
       "    }\n",
       "\n",
       "    .dataframe tbody tr th {\n",
       "        vertical-align: top;\n",
       "    }\n",
       "\n",
       "    .dataframe thead th {\n",
       "        text-align: right;\n",
       "    }\n",
       "</style>\n",
       "<table border=\"1\" class=\"dataframe\">\n",
       "  <thead>\n",
       "    <tr style=\"text-align: right;\">\n",
       "      <th></th>\n",
       "      <th>predictors</th>\n",
       "      <th>coefficients</th>\n",
       "      <th>target</th>\n",
       "      <th>p_values</th>\n",
       "    </tr>\n",
       "  </thead>\n",
       "  <tbody>\n",
       "    <tr>\n",
       "      <th>42</th>\n",
       "      <td>Mcm3</td>\n",
       "      <td>0.024322</td>\n",
       "      <td>1110004E09Rik</td>\n",
       "      <td>0.037800</td>\n",
       "    </tr>\n",
       "    <tr>\n",
       "      <th>61</th>\n",
       "      <td>Mcm6</td>\n",
       "      <td>0.190814</td>\n",
       "      <td>1110004E09Rik</td>\n",
       "      <td>0.035029</td>\n",
       "    </tr>\n",
       "    <tr>\n",
       "      <th>81</th>\n",
       "      <td>Cdk4</td>\n",
       "      <td>-0.029327</td>\n",
       "      <td>1500009L16Rik</td>\n",
       "      <td>0.047847</td>\n",
       "    </tr>\n",
       "    <tr>\n",
       "      <th>159</th>\n",
       "      <td>Tox</td>\n",
       "      <td>0.059393</td>\n",
       "      <td>1500009L16Rik</td>\n",
       "      <td>0.046285</td>\n",
       "    </tr>\n",
       "    <tr>\n",
       "      <th>202</th>\n",
       "      <td>Mcm3</td>\n",
       "      <td>0.077020</td>\n",
       "      <td>1600014C10Rik</td>\n",
       "      <td>0.020605</td>\n",
       "    </tr>\n",
       "    <tr>\n",
       "      <th>...</th>\n",
       "      <td>...</td>\n",
       "      <td>...</td>\n",
       "      <td>...</td>\n",
       "      <td>...</td>\n",
       "    </tr>\n",
       "    <tr>\n",
       "      <th>88590</th>\n",
       "      <td>Klf2</td>\n",
       "      <td>0.006186</td>\n",
       "      <td>Zranb3</td>\n",
       "      <td>0.015451</td>\n",
       "    </tr>\n",
       "    <tr>\n",
       "      <th>88601</th>\n",
       "      <td>Mcm3</td>\n",
       "      <td>0.465177</td>\n",
       "      <td>Zranb3</td>\n",
       "      <td>0.018412</td>\n",
       "    </tr>\n",
       "    <tr>\n",
       "      <th>88618</th>\n",
       "      <td>Mcm5</td>\n",
       "      <td>0.149638</td>\n",
       "      <td>Zranb3</td>\n",
       "      <td>0.019094</td>\n",
       "    </tr>\n",
       "    <tr>\n",
       "      <th>88660</th>\n",
       "      <td>Hmgb2</td>\n",
       "      <td>-0.088547</td>\n",
       "      <td>Zwilch</td>\n",
       "      <td>0.023983</td>\n",
       "    </tr>\n",
       "    <tr>\n",
       "      <th>88693</th>\n",
       "      <td>Mcm5</td>\n",
       "      <td>0.390497</td>\n",
       "      <td>Zwilch</td>\n",
       "      <td>0.041261</td>\n",
       "    </tr>\n",
       "  </tbody>\n",
       "</table>\n",
       "<p>1906 rows × 4 columns</p>\n",
       "</div>"
      ],
      "text/plain": [
       "      predictors  coefficients         target  p_values\n",
       "42          Mcm3      0.024322  1110004E09Rik  0.037800\n",
       "61          Mcm6      0.190814  1110004E09Rik  0.035029\n",
       "81          Cdk4     -0.029327  1500009L16Rik  0.047847\n",
       "159          Tox      0.059393  1500009L16Rik  0.046285\n",
       "202         Mcm3      0.077020  1600014C10Rik  0.020605\n",
       "...          ...           ...            ...       ...\n",
       "88590       Klf2      0.006186         Zranb3  0.015451\n",
       "88601       Mcm3      0.465177         Zranb3  0.018412\n",
       "88618       Mcm5      0.149638         Zranb3  0.019094\n",
       "88660      Hmgb2     -0.088547         Zwilch  0.023983\n",
       "88693       Mcm5      0.390497         Zwilch  0.041261\n",
       "\n",
       "[1906 rows x 4 columns]"
      ]
     },
     "execution_count": 145,
     "metadata": {},
     "output_type": "execute_result"
    }
   ],
   "source": [
    "data"
   ]
  },
  {
   "cell_type": "code",
   "execution_count": 147,
   "id": "elementary-sense",
   "metadata": {},
   "outputs": [],
   "source": [
    "# to work with data\n",
    "data = data.reset_index()"
   ]
  },
  {
   "cell_type": "code",
   "execution_count": 159,
   "id": "configured-usage",
   "metadata": {},
   "outputs": [],
   "source": [
    "# Curate Data for the percentiles...\n",
    "linearCoefs8 = pd.read_pickle('linearCoefs8.pkl')\n",
    "linearScores8 = pd.read_pickle('linearScores8.pkl')\n",
    "\n",
    "mean_coefficients8 = linearCoefs8.pivot_table(index=\"predictors\", columns=\"target\", values=\"coefficients\", aggfunc = np.mean)\n",
    "std_coefficients8 = linearCoefs8.pivot_table(index=\"predictors\", columns=\"target\", values=\"coefficients\", aggfunc = np.std)\n",
    "\n",
    "msl = pd.DataFrame()\n",
    "msl['mean'] = linearCoefs8.groupby(['predictors', 'target']).coefficients.mean()\n",
    "msl['sd'] = linearCoefs8.groupby(['predictors', 'target']).coefficients.std()\n",
    "msl['mean/sd'] = msl['mean']/msl['sd']\n"
   ]
  },
  {
   "cell_type": "code",
   "execution_count": 180,
   "id": "ancient-bahamas",
   "metadata": {},
   "outputs": [],
   "source": [
    "msl = msl.reset_index(col_fill =['predictors', 'target', 'mean', 'sd', 'mean/sd'])\n"
   ]
  },
  {
   "cell_type": "code",
   "execution_count": 181,
   "id": "computational-series",
   "metadata": {},
   "outputs": [
    {
     "data": {
      "text/html": [
       "<div>\n",
       "<style scoped>\n",
       "    .dataframe tbody tr th:only-of-type {\n",
       "        vertical-align: middle;\n",
       "    }\n",
       "\n",
       "    .dataframe tbody tr th {\n",
       "        vertical-align: top;\n",
       "    }\n",
       "\n",
       "    .dataframe thead th {\n",
       "        text-align: right;\n",
       "    }\n",
       "</style>\n",
       "<table border=\"1\" class=\"dataframe\">\n",
       "  <thead>\n",
       "    <tr style=\"text-align: right;\">\n",
       "      <th></th>\n",
       "      <th>predictors</th>\n",
       "      <th>target</th>\n",
       "      <th>mean</th>\n",
       "      <th>sd</th>\n",
       "      <th>mean/sd</th>\n",
       "    </tr>\n",
       "  </thead>\n",
       "  <tbody>\n",
       "    <tr>\n",
       "      <th>0</th>\n",
       "      <td>Cdk4</td>\n",
       "      <td>1110004E09Rik</td>\n",
       "      <td>-0.156868</td>\n",
       "      <td>0.007278</td>\n",
       "      <td>-21.554673</td>\n",
       "    </tr>\n",
       "    <tr>\n",
       "      <th>1</th>\n",
       "      <td>Cdk4</td>\n",
       "      <td>1500009L16Rik</td>\n",
       "      <td>-0.043698</td>\n",
       "      <td>0.007656</td>\n",
       "      <td>-5.707916</td>\n",
       "    </tr>\n",
       "    <tr>\n",
       "      <th>2</th>\n",
       "      <td>Cdk4</td>\n",
       "      <td>1600014C10Rik</td>\n",
       "      <td>0.065108</td>\n",
       "      <td>0.006708</td>\n",
       "      <td>9.705507</td>\n",
       "    </tr>\n",
       "    <tr>\n",
       "      <th>3</th>\n",
       "      <td>Cdk4</td>\n",
       "      <td>1700017B05Rik</td>\n",
       "      <td>-0.192072</td>\n",
       "      <td>0.005155</td>\n",
       "      <td>-37.261133</td>\n",
       "    </tr>\n",
       "    <tr>\n",
       "      <th>4</th>\n",
       "      <td>Cdk4</td>\n",
       "      <td>1700019D03Rik</td>\n",
       "      <td>-0.019391</td>\n",
       "      <td>0.007689</td>\n",
       "      <td>-2.521931</td>\n",
       "    </tr>\n",
       "    <tr>\n",
       "      <th>...</th>\n",
       "      <td>...</td>\n",
       "      <td>...</td>\n",
       "      <td>...</td>\n",
       "      <td>...</td>\n",
       "      <td>...</td>\n",
       "    </tr>\n",
       "    <tr>\n",
       "      <th>8867</th>\n",
       "      <td>Tox</td>\n",
       "      <td>Zeb2</td>\n",
       "      <td>0.011206</td>\n",
       "      <td>0.007584</td>\n",
       "      <td>1.477595</td>\n",
       "    </tr>\n",
       "    <tr>\n",
       "      <th>8868</th>\n",
       "      <td>Tox</td>\n",
       "      <td>Zfp36l1</td>\n",
       "      <td>-0.013702</td>\n",
       "      <td>0.007655</td>\n",
       "      <td>-1.789928</td>\n",
       "    </tr>\n",
       "    <tr>\n",
       "      <th>8869</th>\n",
       "      <td>Tox</td>\n",
       "      <td>Zfp831</td>\n",
       "      <td>0.195498</td>\n",
       "      <td>0.007195</td>\n",
       "      <td>27.172273</td>\n",
       "    </tr>\n",
       "    <tr>\n",
       "      <th>8870</th>\n",
       "      <td>Tox</td>\n",
       "      <td>Zranb3</td>\n",
       "      <td>-0.126703</td>\n",
       "      <td>0.002787</td>\n",
       "      <td>-45.469235</td>\n",
       "    </tr>\n",
       "    <tr>\n",
       "      <th>8871</th>\n",
       "      <td>Tox</td>\n",
       "      <td>Zwilch</td>\n",
       "      <td>-0.037118</td>\n",
       "      <td>0.005696</td>\n",
       "      <td>-6.516031</td>\n",
       "    </tr>\n",
       "  </tbody>\n",
       "</table>\n",
       "<p>8872 rows × 5 columns</p>\n",
       "</div>"
      ],
      "text/plain": [
       "     predictors         target      mean        sd    mean/sd\n",
       "0          Cdk4  1110004E09Rik -0.156868  0.007278 -21.554673\n",
       "1          Cdk4  1500009L16Rik -0.043698  0.007656  -5.707916\n",
       "2          Cdk4  1600014C10Rik  0.065108  0.006708   9.705507\n",
       "3          Cdk4  1700017B05Rik -0.192072  0.005155 -37.261133\n",
       "4          Cdk4  1700019D03Rik -0.019391  0.007689  -2.521931\n",
       "...         ...            ...       ...       ...        ...\n",
       "8867        Tox           Zeb2  0.011206  0.007584   1.477595\n",
       "8868        Tox        Zfp36l1 -0.013702  0.007655  -1.789928\n",
       "8869        Tox         Zfp831  0.195498  0.007195  27.172273\n",
       "8870        Tox         Zranb3 -0.126703  0.002787 -45.469235\n",
       "8871        Tox         Zwilch -0.037118  0.005696  -6.516031\n",
       "\n",
       "[8872 rows x 5 columns]"
      ]
     },
     "execution_count": 181,
     "metadata": {},
     "output_type": "execute_result"
    }
   ],
   "source": [
    "msl"
   ]
  },
  {
   "cell_type": "code",
   "execution_count": 190,
   "id": "small-beauty",
   "metadata": {},
   "outputs": [],
   "source": [
    "# Maximum, using all the data:\n",
    "data = msl\n",
    "\n",
    "summary = {}\n",
    "predictors = data['predictors'].drop_duplicates().tolist()\n",
    "\n",
    "\n",
    "for x in predictors:\n",
    "    t = regnet_all[regnet_all['regulator_symbol']==x]['target_symbol'].tolist()\n",
    "    d = data[data['predictors']==x]['target'].tolist()\n",
    "    #print(x)\n",
    "    #print('This is regnet_all', t)\n",
    "    #print('This is model', d)\n",
    "    s = list(set(t) & set(d))\n",
    "    summary[x]={'total': len(t), 'matchP': s}\n",
    "\n",
    "for x in predictors:\n",
    "    t = regnet_all[regnet_all['target_symbol']==x]['regulator_symbol'].tolist()\n",
    "    d = data[data['predictors']==x]['target'].tolist()\n",
    "    #print(x)\n",
    "    #print('This is regnet_all', t)\n",
    "    #print('This is model', d)\n",
    "    s = list(set(t) & set(d))\n",
    "    summary[x]['total']+= len(t)\n",
    "    summary[x]['matchT']= s"
   ]
  },
  {
   "cell_type": "code",
   "execution_count": 191,
   "id": "automated-demographic",
   "metadata": {},
   "outputs": [
    {
     "data": {
      "text/plain": [
       "{'Cdk4': {'total': 11,\n",
       "  'matchP': [],\n",
       "  'matchT': ['Rbl1', 'Ets1', 'Rbl2', 'Myc']},\n",
       " 'Hif1a': {'total': 118,\n",
       "  'matchP': ['Fam162a',\n",
       "   'Id2',\n",
       "   'Hk2',\n",
       "   'Bhlhe40',\n",
       "   'Pdgfb',\n",
       "   'Cdkn1a',\n",
       "   'Nt5e',\n",
       "   'Tfrc'],\n",
       "  'matchT': ['Myc']},\n",
       " 'Hmgb2': {'total': 1, 'matchP': [], 'matchT': ['Myb']},\n",
       " 'Klf2': {'total': 3, 'matchP': [], 'matchT': []},\n",
       " 'Mcm3': {'total': 14,\n",
       "  'matchP': ['Dbf4', 'Orc1', 'Orc6', 'Cdc45'],\n",
       "  'matchT': ['Myc', 'E2f1', 'Myb']},\n",
       " 'Mcm5': {'total': 13,\n",
       "  'matchP': ['Dbf4', 'Orc1', 'Orc6', 'Cdc45'],\n",
       "  'matchT': ['Myc', 'E2f1']},\n",
       " 'Mcm6': {'total': 11,\n",
       "  'matchP': ['Dbf4', 'Orc1', 'Orc6', 'Cdc45'],\n",
       "  'matchT': []},\n",
       " 'Tox': {'total': 0, 'matchP': [], 'matchT': []}}"
      ]
     },
     "execution_count": 191,
     "metadata": {},
     "output_type": "execute_result"
    }
   ],
   "source": [
    "summary"
   ]
  },
  {
   "cell_type": "code",
   "execution_count": 271,
   "id": "finnish-selection",
   "metadata": {
    "scrolled": false
   },
   "outputs": [
    {
     "name": "stdout",
     "output_type": "stream",
     "text": [
      "This is the number of values used:  88\n",
      "This is the number of values used:  177\n",
      "This is the number of values used:  266\n",
      "This is the number of values used:  354\n",
      "This is the number of values used:  443\n",
      "This is the number of values used:  532\n",
      "This is the number of values used:  621\n",
      "This is the number of values used:  709\n",
      "This is the number of values used:  798\n",
      "This is the number of values used:  887\n",
      "This is the number of values used:  975\n",
      "This is the number of values used:  1064\n",
      "This is the number of values used:  1153\n",
      "This is the number of values used:  1242\n",
      "This is the number of values used:  1330\n",
      "This is the number of values used:  1419\n",
      "This is the number of values used:  1508\n",
      "This is the number of values used:  1596\n",
      "This is the number of values used:  1685\n",
      "This is the number of values used:  1774\n",
      "This is the number of values used:  1863\n",
      "This is the number of values used:  1951\n",
      "This is the number of values used:  2040\n",
      "This is the number of values used:  2129\n",
      "This is the number of values used:  2218\n",
      "This is the number of values used:  2306\n",
      "This is the number of values used:  2395\n",
      "This is the number of values used:  2484\n",
      "This is the number of values used:  2572\n",
      "This is the number of values used:  2661\n",
      "This is the number of values used:  2750\n",
      "This is the number of values used:  2839\n",
      "This is the number of values used:  2927\n",
      "This is the number of values used:  3016\n",
      "This is the number of values used:  3105\n",
      "This is the number of values used:  3193\n",
      "This is the number of values used:  3282\n",
      "This is the number of values used:  3371\n",
      "This is the number of values used:  3460\n",
      "This is the number of values used:  3548\n",
      "This is the number of values used:  3637\n",
      "This is the number of values used:  3726\n",
      "This is the number of values used:  3814\n",
      "This is the number of values used:  3903\n",
      "This is the number of values used:  3992\n",
      "This is the number of values used:  4081\n",
      "This is the number of values used:  4169\n",
      "This is the number of values used:  4258\n",
      "This is the number of values used:  4347\n"
     ]
    }
   ],
   "source": [
    "data = pd.DataFrame()\n",
    "\n",
    "\n",
    "summary = {}\n",
    "#percentages = [0.01, 0.05, 0.1, 0.15, 0.2, 0.25, 0.3, 0.35, 0.4, 0.5]\n",
    "percentages = list(np.arange(0.01, 0.5, 0.01))\n",
    "\n",
    "\n",
    "for i in percentages:\n",
    "    n = int(len(msl)*i)\n",
    "    print('This is the number of values used: ', n)\n",
    "    smallest = msl.nsmallest(columns='mean/sd', n=n)\n",
    "    largest = msl.nlargest(columns='mean/sd', n=n)\n",
    "    data = pd.concat([smallest, largest], axis=0)\n",
    "    # Comparing Data from RegNetWeb\n",
    "\n",
    "    predictors = data['predictors'].drop_duplicates().tolist()\n",
    "\n",
    "    for x in predictors:\n",
    "        t = regnet_all[regnet_all['regulator_symbol']==x]['target_symbol'].tolist()\n",
    "        d = data[data['predictors']==x]['target'].tolist()\n",
    "        #print(x)\n",
    "        #print('This is regnet_all', t)\n",
    "        #print('This is model', d)\n",
    "        s = list(set(t) & set(d))\n",
    "        summary.setdefault(str(i), {})[x]={'total': len(t), 'matchP': s}\n",
    "\n",
    "    for x in predictors:\n",
    "        t = regnet_all[regnet_all['target_symbol']==x]['regulator_symbol'].tolist()\n",
    "        d = data[data['predictors']==x]['target'].tolist()\n",
    "        #print(x)\n",
    "        #print('This is regnet_all', t)\n",
    "        #print('This is model', d)\n",
    "        s = list(set(t) & set(d))\n",
    "        summary[str(i)][x]['total']+= len(t)\n",
    "        summary[str(i)][x]['matchT']= s"
   ]
  },
  {
   "cell_type": "code",
   "execution_count": 251,
   "id": "funky-drill",
   "metadata": {
    "scrolled": true
   },
   "outputs": [
    {
     "data": {
      "text/plain": [
       "{'0.01': {'Klf2': {'total': 3, 'matchP': [], 'matchT': []},\n",
       "  'Mcm6': {'total': 11, 'matchP': [], 'matchT': []},\n",
       "  'Hmgb2': {'total': 1, 'matchP': [], 'matchT': []},\n",
       "  'Hif1a': {'total': 118, 'matchP': [], 'matchT': []},\n",
       "  'Tox': {'total': 0, 'matchP': [], 'matchT': []},\n",
       "  'Mcm5': {'total': 13, 'matchP': [], 'matchT': []},\n",
       "  'Cdk4': {'total': 11, 'matchP': [], 'matchT': []},\n",
       "  'Mcm3': {'total': 14, 'matchP': [], 'matchT': []}},\n",
       " '0.05': {'Klf2': {'total': 3, 'matchP': [], 'matchT': []},\n",
       "  'Mcm6': {'total': 11, 'matchP': [], 'matchT': []},\n",
       "  'Hmgb2': {'total': 1, 'matchP': [], 'matchT': []},\n",
       "  'Hif1a': {'total': 118, 'matchP': ['Pdgfb'], 'matchT': []},\n",
       "  'Tox': {'total': 0, 'matchP': [], 'matchT': []},\n",
       "  'Mcm5': {'total': 13, 'matchP': [], 'matchT': []},\n",
       "  'Cdk4': {'total': 11, 'matchP': [], 'matchT': []},\n",
       "  'Mcm3': {'total': 14, 'matchP': [], 'matchT': []}},\n",
       " '0.1': {'Klf2': {'total': 3, 'matchP': [], 'matchT': []},\n",
       "  'Mcm6': {'total': 11, 'matchP': [], 'matchT': []},\n",
       "  'Hmgb2': {'total': 1, 'matchP': [], 'matchT': []},\n",
       "  'Hif1a': {'total': 118, 'matchP': ['Pdgfb', 'Id2'], 'matchT': []},\n",
       "  'Tox': {'total': 0, 'matchP': [], 'matchT': []},\n",
       "  'Mcm5': {'total': 13, 'matchP': [], 'matchT': ['Myc']},\n",
       "  'Cdk4': {'total': 11, 'matchP': [], 'matchT': []},\n",
       "  'Mcm3': {'total': 14, 'matchP': [], 'matchT': []}},\n",
       " '0.15': {'Klf2': {'total': 3, 'matchP': [], 'matchT': []},\n",
       "  'Mcm6': {'total': 11, 'matchP': ['Orc6'], 'matchT': []},\n",
       "  'Hmgb2': {'total': 1, 'matchP': [], 'matchT': []},\n",
       "  'Hif1a': {'total': 118, 'matchP': ['Pdgfb', 'Id2'], 'matchT': []},\n",
       "  'Tox': {'total': 0, 'matchP': [], 'matchT': []},\n",
       "  'Mcm5': {'total': 13, 'matchP': ['Orc6'], 'matchT': ['Myc']},\n",
       "  'Cdk4': {'total': 11, 'matchP': [], 'matchT': []},\n",
       "  'Mcm3': {'total': 14, 'matchP': ['Orc6'], 'matchT': []}},\n",
       " '0.2': {'Klf2': {'total': 3, 'matchP': [], 'matchT': []},\n",
       "  'Mcm6': {'total': 11, 'matchP': ['Orc6'], 'matchT': []},\n",
       "  'Hmgb2': {'total': 1, 'matchP': [], 'matchT': []},\n",
       "  'Hif1a': {'total': 118, 'matchP': ['Pdgfb', 'Id2'], 'matchT': []},\n",
       "  'Tox': {'total': 0, 'matchP': [], 'matchT': []},\n",
       "  'Mcm5': {'total': 13, 'matchP': ['Orc6', 'Cdc45'], 'matchT': ['Myc']},\n",
       "  'Cdk4': {'total': 11, 'matchP': [], 'matchT': []},\n",
       "  'Mcm3': {'total': 14, 'matchP': ['Orc6', 'Cdc45'], 'matchT': []}},\n",
       " '0.3': {'Klf2': {'total': 3, 'matchP': [], 'matchT': []},\n",
       "  'Mcm6': {'total': 11, 'matchP': ['Dbf4', 'Orc1', 'Orc6'], 'matchT': []},\n",
       "  'Hmgb2': {'total': 1, 'matchP': [], 'matchT': ['Myb']},\n",
       "  'Hif1a': {'total': 118,\n",
       "   'matchP': ['Id2', 'Bhlhe40', 'Pdgfb', 'Cdkn1a', 'Nt5e'],\n",
       "   'matchT': []},\n",
       "  'Tox': {'total': 0, 'matchP': [], 'matchT': []},\n",
       "  'Mcm5': {'total': 13,\n",
       "   'matchP': ['Orc6', 'Cdc45'],\n",
       "   'matchT': ['Myc', 'E2f1']},\n",
       "  'Cdk4': {'total': 11, 'matchP': [], 'matchT': ['Ets1', 'Myc']},\n",
       "  'Mcm3': {'total': 14, 'matchP': ['Orc6', 'Cdc45'], 'matchT': []}},\n",
       " '0.4': {'Klf2': {'total': 3, 'matchP': [], 'matchT': []},\n",
       "  'Mcm6': {'total': 11,\n",
       "   'matchP': ['Dbf4', 'Orc1', 'Orc6', 'Cdc45'],\n",
       "   'matchT': []},\n",
       "  'Hmgb2': {'total': 1, 'matchP': [], 'matchT': ['Myb']},\n",
       "  'Hif1a': {'total': 118,\n",
       "   'matchP': ['Id2', 'Bhlhe40', 'Pdgfb', 'Cdkn1a', 'Nt5e'],\n",
       "   'matchT': []},\n",
       "  'Tox': {'total': 0, 'matchP': [], 'matchT': []},\n",
       "  'Mcm5': {'total': 13,\n",
       "   'matchP': ['Dbf4', 'Orc6', 'Cdc45'],\n",
       "   'matchT': ['Myc', 'E2f1']},\n",
       "  'Cdk4': {'total': 11, 'matchP': [], 'matchT': ['Ets1', 'Rbl2', 'Myc']},\n",
       "  'Mcm3': {'total': 14,\n",
       "   'matchP': ['Dbf4', 'Orc1', 'Orc6', 'Cdc45'],\n",
       "   'matchT': ['E2f1', 'Myb']}},\n",
       " '0.5': {'Klf2': {'total': 3, 'matchP': [], 'matchT': []},\n",
       "  'Mcm6': {'total': 11,\n",
       "   'matchP': ['Dbf4', 'Orc1', 'Orc6', 'Cdc45'],\n",
       "   'matchT': []},\n",
       "  'Hmgb2': {'total': 1, 'matchP': [], 'matchT': ['Myb']},\n",
       "  'Hif1a': {'total': 118,\n",
       "   'matchP': ['Fam162a',\n",
       "    'Id2',\n",
       "    'Hk2',\n",
       "    'Bhlhe40',\n",
       "    'Pdgfb',\n",
       "    'Cdkn1a',\n",
       "    'Nt5e',\n",
       "    'Tfrc'],\n",
       "   'matchT': ['Myc']},\n",
       "  'Tox': {'total': 0, 'matchP': [], 'matchT': []},\n",
       "  'Mcm5': {'total': 13,\n",
       "   'matchP': ['Dbf4', 'Orc1', 'Orc6', 'Cdc45'],\n",
       "   'matchT': ['Myc', 'E2f1']},\n",
       "  'Cdk4': {'total': 11,\n",
       "   'matchP': [],\n",
       "   'matchT': ['Rbl1', 'Ets1', 'Rbl2', 'Myc']},\n",
       "  'Mcm3': {'total': 14,\n",
       "   'matchP': ['Dbf4', 'Orc1', 'Orc6', 'Cdc45'],\n",
       "   'matchT': ['Myc', 'E2f1', 'Myb']}}}"
      ]
     },
     "execution_count": 251,
     "metadata": {},
     "output_type": "execute_result"
    }
   ],
   "source": [
    "summary\n"
   ]
  },
  {
   "cell_type": "code",
   "execution_count": 272,
   "id": "associate-spray",
   "metadata": {},
   "outputs": [
    {
     "name": "stderr",
     "output_type": "stream",
     "text": [
      "/home/ubuntu/miniconda3/lib/python3.8/site-packages/seaborn/_decorators.py:36: FutureWarning: Pass the following variables as keyword args: x, y. From version 0.12, the only valid positional argument will be `data`, and passing other arguments without an explicit keyword will result in an error or misinterpretation.\n",
      "  warnings.warn(\n",
      "/home/ubuntu/miniconda3/lib/python3.8/site-packages/seaborn/_decorators.py:36: FutureWarning: Pass the following variables as keyword args: x, y. From version 0.12, the only valid positional argument will be `data`, and passing other arguments without an explicit keyword will result in an error or misinterpretation.\n",
      "  warnings.warn(\n"
     ]
    },
    {
     "data": {
      "text/plain": [
       "<AxesSubplot:>"
      ]
     },
     "execution_count": 272,
     "metadata": {},
     "output_type": "execute_result"
    },
    {
     "data": {
      "image/png": "[encoded data removed]",
      "text/plain": [
       "<Figure size 432x288 with 1 Axes>"
      ]
     },
     "metadata": {
      "needs_background": "light"
     },
     "output_type": "display_data"
    }
   ],
   "source": [
    "# Plot all precentages:\n",
    "count = []\n",
    "for p,i in zip(percentages, list(range(0, len(percentages)))):\n",
    "               count+=[sum([len(l['matchP'])+len(l['matchT']) for l in summary[str(p)].values()])]\n",
    "               \n",
    "sns.lineplot(percentages, count)\n",
    "sns.lineplot(percentages, np.array([len(data)]*len(percentages))*np.array(percentages))"
   ]
  },
  {
   "cell_type": "markdown",
   "id": "coated-habitat",
   "metadata": {},
   "source": [
    "Well, this does not look very good. The dimensions are just too great, and the matches too few. Looking only at the increase in matches, it does look promising."
   ]
  },
  {
   "cell_type": "code",
   "execution_count": 273,
   "id": "english-valentine",
   "metadata": {},
   "outputs": [
    {
     "name": "stderr",
     "output_type": "stream",
     "text": [
      "/home/ubuntu/miniconda3/lib/python3.8/site-packages/seaborn/_decorators.py:36: FutureWarning: Pass the following variables as keyword args: x, y. From version 0.12, the only valid positional argument will be `data`, and passing other arguments without an explicit keyword will result in an error or misinterpretation.\n",
      "  warnings.warn(\n"
     ]
    },
    {
     "data": {
      "text/plain": [
       "<AxesSubplot:>"
      ]
     },
     "execution_count": 273,
     "metadata": {},
     "output_type": "execute_result"
    },
    {
     "data": {
      "image/png": "[encoded data removed]",
      "text/plain": [
       "<Figure size 432x288 with 1 Axes>"
      ]
     },
     "metadata": {
      "needs_background": "light"
     },
     "output_type": "display_data"
    }
   ],
   "source": [
    "sns.lineplot(percentages, count)"
   ]
  },
  {
   "cell_type": "code",
   "execution_count": 156,
   "id": "unsigned-audio",
   "metadata": {
    "scrolled": true
   },
   "outputs": [],
   "source": [
    "# Comparing Data from RegNetWeb\n",
    "\n",
    "predictors = data['predictors'].drop_duplicates().tolist()\n",
    "\n",
    "summary = {}\n",
    "\n",
    "for x in predictors:\n",
    "    t = regnet_all[regnet_all['regulator_symbol']==x]['target_symbol'].tolist()\n",
    "    d = data[data['predictors']==x]['target'].tolist()\n",
    "    #print(x)\n",
    "    #print('This is regnet_all', t)\n",
    "    #print('This is model', d)\n",
    "    s = list(set(t) & set(d))\n",
    "    summary[x]={'total': len(t), 'matchP': s}\n",
    "    \n",
    "for x in predictors:\n",
    "    t = regnet_all[regnet_all['target_symbol']==x]['regulator_symbol'].tolist()\n",
    "    d = data[data['predictors']==x]['target'].tolist()\n",
    "    #print(x)\n",
    "    #print('This is regnet_all', t)\n",
    "    #print('This is model', d)\n",
    "    s = list(set(t) & set(d))\n",
    "    summary[x]['total']+= len(t)\n",
    "    summary[x]['matchT']= s"
   ]
  },
  {
   "cell_type": "code",
   "execution_count": 157,
   "id": "working-boundary",
   "metadata": {},
   "outputs": [
    {
     "data": {
      "text/plain": [
       "{'Mcm3': {'total': 14, 'matchP': ['Cdc45'], 'matchT': []},\n",
       " 'Mcm6': {'total': 11, 'matchP': [], 'matchT': []},\n",
       " 'Cdk4': {'total': 11, 'matchP': [], 'matchT': ['Ets1', 'Myc']},\n",
       " 'Tox': {'total': 0, 'matchP': [], 'matchT': []},\n",
       " 'Mcm5': {'total': 13, 'matchP': ['Cdc45'], 'matchT': []},\n",
       " 'Hmgb2': {'total': 1, 'matchP': [], 'matchT': []},\n",
       " 'Klf2': {'total': 3, 'matchP': [], 'matchT': []},\n",
       " 'Hif1a': {'total': 118, 'matchP': ['Hk2', 'Nt5e'], 'matchT': []}}"
      ]
     },
     "execution_count": 157,
     "metadata": {},
     "output_type": "execute_result"
    }
   ],
   "source": [
    "summary"
   ]
  },
  {
   "cell_type": "markdown",
   "id": "considered-military",
   "metadata": {},
   "source": [
    "There are a couple matches.. Out of 139 target genes found for ['Cdk4', 'Hif1a', 'Hmgb2', 'Klf2', 'Mcm3', 'Mcm5', 'Mcm6', 'Tox'] there where 4 matches.."
   ]
  },
  {
   "cell_type": "markdown",
   "id": "hazardous-knight",
   "metadata": {},
   "source": [
    "The following was the one match looking at the ratio. The p-value of this is pretty high though. "
   ]
  },
  {
   "cell_type": "markdown",
   "id": "improving-italic",
   "metadata": {},
   "source": [
    "Looking at about 700 genes with mean/sd values > 50, there is one match, Pdgfb, with a ratio of -61.66."
   ]
  },
  {
   "cell_type": "code",
   "execution_count": 110,
   "id": "former-wichita",
   "metadata": {
    "scrolled": true
   },
   "outputs": [
    {
     "data": {
      "text/html": [
       "<div>\n",
       "<style scoped>\n",
       "    .dataframe tbody tr th:only-of-type {\n",
       "        vertical-align: middle;\n",
       "    }\n",
       "\n",
       "    .dataframe tbody tr th {\n",
       "        vertical-align: top;\n",
       "    }\n",
       "\n",
       "    .dataframe thead th {\n",
       "        text-align: right;\n",
       "    }\n",
       "</style>\n",
       "<table border=\"1\" class=\"dataframe\">\n",
       "  <thead>\n",
       "    <tr style=\"text-align: right;\">\n",
       "      <th></th>\n",
       "      <th>predictors</th>\n",
       "      <th>target</th>\n",
       "      <th>coefficients</th>\n",
       "    </tr>\n",
       "  </thead>\n",
       "  <tbody>\n",
       "    <tr>\n",
       "      <th>183</th>\n",
       "      <td>Hif1a</td>\n",
       "      <td>Pdgfb</td>\n",
       "      <td>-61.660615</td>\n",
       "    </tr>\n",
       "    <tr>\n",
       "      <th>594</th>\n",
       "      <td>Mcm6</td>\n",
       "      <td>Pdgfb</td>\n",
       "      <td>-70.004292</td>\n",
       "    </tr>\n",
       "  </tbody>\n",
       "</table>\n",
       "</div>"
      ],
      "text/plain": [
       "    predictors target  coefficients\n",
       "183      Hif1a  Pdgfb    -61.660615\n",
       "594       Mcm6  Pdgfb    -70.004292"
      ]
     },
     "execution_count": 110,
     "metadata": {},
     "output_type": "execute_result"
    }
   ],
   "source": [
    "data[data['target']=='Pdgfb']"
   ]
  },
  {
   "cell_type": "markdown",
   "id": "spread-cancer",
   "metadata": {},
   "source": [
    "check coefficients without dividing by the variation -> look at absolutely high variation coefficients\n",
    "final list of avarage coefficients: divide all values by average coefficient -> higher and lower rank..\n",
    "treat coefficients as score to calculate z-scores and get pvalues -> threshold can be significance. "
   ]
  },
  {
   "cell_type": "markdown",
   "id": "variable-stations",
   "metadata": {},
   "source": [
    "# GSEA"
   ]
  },
  {
   "cell_type": "code",
   "execution_count": 113,
   "id": "residential-bahamas",
   "metadata": {},
   "outputs": [],
   "source": [
    "smaller = data.reset_index()"
   ]
  },
  {
   "cell_type": "code",
   "execution_count": 121,
   "id": "greatest-leather",
   "metadata": {},
   "outputs": [],
   "source": [
    "smaller['target'] = [x.upper() for x in smaller['target']]"
   ]
  },
  {
   "cell_type": "code",
   "execution_count": 122,
   "id": "understood-farmer",
   "metadata": {},
   "outputs": [],
   "source": [
    "smaller[['target', 'coefficients']].to_csv('greater50.csv')"
   ]
  },
  {
   "cell_type": "markdown",
   "id": "broad-pacific",
   "metadata": {},
   "source": []
  },
  {
   "cell_type": "markdown",
   "id": "constitutional-glance",
   "metadata": {},
   "source": [
    "# Over representation Analysis ORA"
   ]
  }
 ],
 "metadata": {
  "kernelspec": {
   "display_name": "Python 3",
   "language": "python",
   "name": "python3"
  },
  "language_info": {
   "codemirror_mode": {
    "name": "ipython",
    "version": 3
   },
   "file_extension": ".py",
   "mimetype": "text/x-python",
   "name": "python",
   "nbconvert_exporter": "python",
   "pygments_lexer": "ipython3",
   "version": "3.8.5"
  }
 },
 "nbformat": 4,
 "nbformat_minor": 5
}
