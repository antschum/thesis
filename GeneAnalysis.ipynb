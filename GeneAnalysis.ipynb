{
 "cells": [
  {
   "cell_type": "markdown",
   "id": "rural-assumption",
   "metadata": {},
   "source": [
    "# Does the linear regression make sense?"
   ]
  },
  {
   "cell_type": "code",
   "execution_count": 1,
   "id": "genuine-luxembourg",
   "metadata": {},
   "outputs": [],
   "source": [
    "import pandas as pd\n",
    "import numpy as np\n",
    "import matplotlib as plt\n",
    "import seaborn as sns"
   ]
  },
  {
   "cell_type": "markdown",
   "id": "administrative-picking",
   "metadata": {},
   "source": [
    "## RegNetWeb"
   ]
  },
  {
   "cell_type": "code",
   "execution_count": 123,
   "id": "paperback-asian",
   "metadata": {},
   "outputs": [],
   "source": [
    "# import datasets\n",
    "test = pd.read_csv('regnetworkweb_all8tf.csv')\n",
    "\n",
    "# greater than 100\n",
    "smaller = pd.read_pickle('test_data.pkl')\n",
    "\n",
    "# greater than 50\n",
    "data = pd.read_pickle('larger_data.pkl')\n"
   ]
  },
  {
   "cell_type": "code",
   "execution_count": 87,
   "id": "indirect-shelf",
   "metadata": {},
   "outputs": [],
   "source": [
    "# capitalize first letter\n",
    "test['regulator_symbol'] = [x.capitalize() for x in test['regulator_symbol']]\n",
    "test['target_symbol'] = [x.capitalize() for x in test['target_symbol']]"
   ]
  },
  {
   "cell_type": "code",
   "execution_count": 124,
   "id": "colored-count",
   "metadata": {},
   "outputs": [
    {
     "data": {
      "text/plain": [
       "predictors  target\n",
       "Cdk4        Aars      -67.940078\n",
       "            Abce1     -59.373681\n",
       "            Adarb1     75.145700\n",
       "            Adk        59.045460\n",
       "            Agpat4   -134.814693\n",
       "                         ...    \n",
       "Tox         Ssrp1     -52.792687\n",
       "            Suz12     -52.047600\n",
       "            Tox      -159.187696\n",
       "            Tspan3    -54.590385\n",
       "            Uba2      -51.438388\n",
       "Name: coefficients, Length: 714, dtype: float64"
      ]
     },
     "execution_count": 124,
     "metadata": {},
     "output_type": "execute_result"
    }
   ],
   "source": [
    "data"
   ]
  },
  {
   "cell_type": "code",
   "execution_count": 128,
   "id": "elementary-sense",
   "metadata": {},
   "outputs": [],
   "source": [
    "# to work with data\n",
    "data = data.reset_index()"
   ]
  },
  {
   "cell_type": "code",
   "execution_count": 106,
   "id": "unsigned-audio",
   "metadata": {
    "scrolled": true
   },
   "outputs": [
    {
     "name": "stdout",
     "output_type": "stream",
     "text": [
      "Cdk4\n",
      "This is test []\n",
      "This is model ['Aars', 'Abce1', 'Adarb1', 'Adk', 'Agpat4', 'Agpat5', 'Anxa2', 'Apex1', 'Atad3a', 'Aunip', 'Aurka', 'Bard1', 'Baz1a', 'Brix1', 'Bzw2', 'Cbx5', 'Ccdc50', 'Cct8', 'Cd3e', 'Cd3g', 'Cdc6', 'Cdk1', 'Cdt1', 'Cenpi', 'Cenpp', 'Chchd4', 'Cmtm7', 'Cnbp', 'Dbf4', 'Desi2', 'Dimt1', 'Dnajb1', 'Dnajc2', 'Dtl', 'Dut', 'E2f1', 'Eed', 'Entpd1', 'Ezh2', 'Ftsj3', 'Glipr2', 'Gm26917', 'Gng2', 'Gspt1', 'Hif1a', 'Hnrnpdl', 'Hp1bp3', 'Hspa9', 'Icos', 'Impdh2', 'Irf2', 'Itga4', 'Itgb7', 'Kpna3', 'Lgals1', 'Lgals3', 'Lig1', 'Map1b', 'Mbnl1', 'Mcm4', 'Mpp6', 'Mrpl1', 'Naa50', 'Nebl', 'Nfkbia', 'Nop2', 'Npm1', 'Nsl1', 'Nucks1', 'Nufip1', 'Orc6', 'Pde10a', 'Pitpnc1', 'Pole', 'Prc1', 'Prim2', 'Prkch', 'Psmd7', 'Ranbp1', 'Rangap1', 'Rap1gap2', 'Rbbp8', 'Rcc2', 'Rcl1', 'Rev1', 'Rexo2', 'Rilpl2', 'Rpf2', 'Rpp30', 'Rrp1b', 'Rsbn1', 'Satb1', 'Sgk1', 'Skap1', 'Sla', 'Snrpd1', 'Spats1', 'Spire1', 'Srrm1', 'Stk17b', 'Stk24', 'Tagln2', 'Timm9', 'Tipin', 'Tmem11', 'Tmem71', 'Tnfrsf4', 'Tnfrsf9', 'Tnfsf11', 'Tomm40', 'Tox', 'Tpx2', 'Trip13', 'Trmt6', 'Ube2k', 'Uck2', 'Utp14a', 'Wdr12', 'Whsc1', 'Ybx3', 'Ydjc']\n",
      "Hif1a\n",
      "This is test ['Vhl', 'Tgfb3', 'Slc2a1', 'Figf', 'Vhl', 'Vegfc', 'Vegfb', 'Tuft1', 'Tp53', 'Timp1', 'Tgfb2', 'Tgfb1', 'Tgfa', 'Tfrc', 'Tff3', 'Tf', 'Tert', 'Tac4', 'Socs1', 'Serpine1', 'Rora', 'Psen2', 'Ppt1', 'Plscr4', 'Plin2', 'Pgk1', 'Pgf', 'Pfkl', 'Pfkfb4', 'Pfkfb3', 'Pfkfb2', 'Pfkfb1', 'Pdgfb', 'P4htm', 'Nt5e', 'Nr4a1', 'Nr3c1', 'Nos2', 'Mdk', 'Map4k2', 'Loc339524', 'Lep', 'Ldha', 'Kif2a', 'Kdr', 'Kcna5', 'Kcna4', 'Itgb2', 'Igfbp1', 'Id2', 'Hook2', 'Hook1', 'Hmox1', 'Hk2', 'Hk1', 'Higd1ap1', 'Gpx3', 'Gck', 'Gbe1', 'Gapdh', 'Flt1', 'Fam162a', 'F3', 'Esr1', 'Errfi1', 'Epx', 'Epo', 'Ep300', 'Eno1', 'Egln3', 'Egln1', 'Edn2', 'Edn1', 'Ddit4l', 'Cyp2b6', 'Cxcl12', 'Crebbp', 'Cdkn1b', 'Cdkn1a', 'Cdh13', 'Ccnd1', 'Ccl16', 'Ca9', 'Bnip3', 'Bhlhe41', 'Bhlhe40', 'Bax', 'B4galt1', 'Aldoa', 'Alas2', 'Adm', 'Abcb1', 'Arnt', 'Arnt2', 'Crebbp', 'Cul2', 'Egln1', 'Egln2', 'Egln3', 'Ep300', 'Mtor', 'Rbx1', 'Tceb1', 'Tceb2', 'Vegfa', 'Hsa-mir-424', 'Hsa-mir-373', 'Hsa-mir-372', 'Hsa-mir-210']\n",
      "This is model ['AU020206', 'Abcb1a', 'Adgrg1', 'Aff3', 'Ankrd12', 'Anp32b', 'Anp32e', 'Armc7', 'Arsb', 'Atad2', 'Atp13a3', 'Atp8a2', 'Cd101', 'Cd226', 'Cd244', 'Cd3g', 'Chn2', 'Ctla2a', 'Cxcr6', 'Dck', 'Dnajc15', 'Dock2', 'Dscam', 'Dthd1', 'Eif2b3', 'Entpd1', 'Fam134b', 'Filip1', 'Foxn3', 'Foxo3', 'Galk1', 'Gbp8', 'Hif1a', 'Hmgn1', 'Hsp90ab1', 'Hspa5', 'Icos', 'Id3', 'Ifngr1', 'Igf1r', 'Il23r', 'Itga1', 'Itgb8', 'Kdm6b', 'Kif11', 'Kif23', 'Klhl6', 'Lcp2', 'Litaf', 'Lrig1', 'Malat1', 'Mbnl1', 'Mdn1', 'Nars', 'Ncapd3', 'Nfkbia', 'Nr4a2', 'Osbpl3', 'P2rx7', 'Padi2', 'Parp8', 'Pdcd1', 'Pdgfb', 'Pim1', 'Pitpnc1', 'Plxdc2', 'Pmaip1', 'Ppm1g', 'Prc1', 'Prkch', 'Psma1', 'Ptges3', 'Pycard', 'Rbl2', 'Rps2', 'Samsn1', 'Sat1', 'Setbp1', 'Skap1', 'Slc16a10', 'Sorl1', 'Stk17b', 'Sytl2', 'Timm9', 'Tlr7', 'Tmem135', 'Tmem163', 'Tnfrsf1b', 'Tox', 'Trim5', 'Trmt6', 'Txk', 'Vps37b']\n",
      "Hmgb2\n",
      "This is test []\n",
      "This is model ['2700094K13Rik', '2810417H13Rik', 'Aatf', 'Actr3', 'Aff3', 'Anp32b', 'Anp32e', 'Arhgap11a', 'Atad5', 'Aurkb', 'Baiap3', 'Bcat1', 'Birc5', 'Bub1', 'Bub1b', 'Ccdc34', 'Ccdc50', 'Ccnd2', 'Cd160', 'Cd82', 'Cdca5', 'Cdca7', 'Cenpe', 'Cenph', 'Cenpp', 'Crim1', 'Crtam', 'Cse1l', 'Cxcr6', 'Ddx39', 'Dek', 'Depdc1b', 'Diaph3', 'Dnajb1', 'Dus4l', 'Dut', 'Eif2a', 'Erdr1', 'Ezh2', 'Fbxo5', 'Fxyd5', 'Gimap6', 'Gng2', 'H2afv', 'Hsd11b1', 'Id3', 'Ikzf2', 'Il21r', 'Impa2', 'Itgb7', 'Kif15', 'Kif20b', 'Klra3', 'Mad2l1', 'Malat1', 'Mb21d1', 'Mbnl3', 'Mdn1', 'Mki67', 'Mndal', 'Mrps28', 'Mybl1', 'Nap1l1', 'Nasp', 'Ncapd2', 'Ncapg', 'Ncaph2', 'Nebl', 'Nfkbia', 'Nob1', 'Nuf2', 'Ociad2', 'Osbpl3', 'Pdss1', 'Pglyrp2', 'Pitpnc1', 'Pmf1', 'Pola1', 'Ppih', 'Prc1', 'Prim2', 'Prkch', 'Prkrir', 'Psmd7', 'Ptma', 'Rab19', 'Racgap1', 'Rad21', 'Rangap1', 'Rap1b', 'Rap1gap2', 'Rbbp8', 'Rcc1', 'Rps2', 'Rrm1', 'Rrm2', 'Rrp15', 'S100a6', 'Selplg', 'Serbp1', 'Ska1', 'Slfn1', 'Smap1', 'Smc1a', 'Smc2', 'Smc4', 'Snrpd1', 'Spag5', 'Spc24', 'Spdl1', 'Srsf2', 'Stmn1', 'Tfrc', 'Tk1', 'Tmpo', 'Top2a', 'Trim12c', 'Tyms', 'Uchl5', 'Wdr95']\n",
      "Klf2\n",
      "This is test ['Hsa-mir-126', 'Hsa-mir-143', 'Hsa-mir-145']\n",
      "This is model ['1500009L16Rik', 'Ankrd12', 'Arhgap19', 'Arhgef18', 'Atf3', 'Atp8a2', 'Baiap3', 'Baz1b', 'Cbx4', 'Ccnb2', 'Cd101', 'Cd244', 'Cd3g', 'Cnbp', 'Ctla2a', 'Depdc1b', 'Dis3', 'E2f2', 'Eea1', 'Etf1', 'Foxn3', 'Fxyd5', 'Gas7', 'Gimap8', 'Gm26917', 'Gzmk', 'Hat1', 'Id2', 'Ifit2', 'Ikzf3', 'Ipo5', 'Irak1bp1', 'Itga4', 'Kif23', 'Klhl6', 'Lck', 'Mad2l1', 'Myo1g', 'Nab1', 'Nebl', 'Nfkbia', 'Nrp1', 'Pdcd1', 'Pik3cd', 'Pim1', 'Pinx1', 'Pitpnc1', 'Pmaip1', 'Prkch', 'Ptma', 'Pycard', 'Rap1gap2', 'Rasa3', 'Rasgrp2', 'S100a6', 'Satb1', 'Setbp1', 'Sidt1', 'Skap1', 'Slc7a5', 'Smc6', 'Smchd1', 'Snx5', 'Tmem140', 'Tomm70a', 'Tox', 'Traf1', 'Uck2', 'Wdr43']\n",
      "Mcm3\n",
      "This is test ['Orc5', 'Orc6', 'Orc2', 'Orc3', 'Orc4', 'Cdc45', 'Cdc7', 'Dbf4', 'Orc1']\n",
      "This is model ['2810417H13Rik', 'Ankrd12', 'Arhgap19', 'Arl6ip4', 'Art3', 'Bcat1', 'Brip1', 'Canx', 'Cct5', 'Cnbp', 'D2Wsu81e', 'Desi2', 'Eif2a', 'Hat1', 'Hnrnpd', 'Hnrnpdl', 'Hsd17b12', 'Hsp90ab1', 'Ipo7', 'Knstrn', 'Malat1', 'Mcm6', 'Mpp6', 'Mrpl20', 'Mrps27', 'Mrps28', 'Nap1l1', 'Ncapg', 'Ndc1', 'Nol12', 'Nop58', 'Nucks1', 'Nup93', 'Pa2g4', 'Park7', 'Pdss1', 'Pitpnc1', 'Pop5', 'Ppat', 'Prim2', 'Psma1', 'Psmd7', 'Rcc1', 'Rcl1', 'Rel', 'Sf3b3', 'Skap1', 'Snrpd3', 'Snx10', 'Snx5', 'Srrm1', 'Stat1', 'Stk17b', 'Tacc3', 'Tcp1', 'Trip13', 'Txn2', 'Tyms', 'Uba2']\n",
      "Mcm5\n",
      "This is test ['Orc5', 'Orc6', 'Dbf4', 'Cdc7', 'Cdc45', 'Orc1', 'Orc2', 'Orc3', 'Orc4']\n",
      "This is model ['2810417H13Rik', 'Arhgap19', 'Arl6ip1', 'Arl6ip4', 'Baiap3', 'Bcat1', 'Bora', 'Brca1', 'Brix1', 'C330027C09Rik', 'Canx', 'Ccnb2', 'Cd244', 'Cd3g', 'Cenpe', 'Cep55', 'Cirh1a', 'Cit', 'Ckap5', 'Ctps', 'Dap', 'Depdc1b', 'Diaph3', 'Ect2', 'H2afv', 'Hat1', 'Hmmr', 'Hsp90ab1', 'Ipo5', 'Ipo7', 'Kif15', 'Kif23', 'Klrd1', 'Lockd', 'Mki67', 'Mpp6', 'Mrpl20', 'Mrps27', 'Mrps28', 'Naa25', 'Nap1l1', 'Nop58', 'Nucks1', 'Nup93', 'Ociad2', 'Pa2g4', 'Pdss1', 'Phactr2', 'Pop5', 'Ppat', 'Prkrir', 'Prmt7', 'Prpf40a', 'Rcc1', 'Rcl1', 'Rfc2', 'Rrm2', 'Scarb1', 'Selplg', 'Serinc3', 'Serpinb9', 'Sf3b3', 'Spc25', 'Ssrp1', 'Tacc3', 'Tcp1', 'Tipin', 'Tpx2', 'Trip13', 'Utp18']\n",
      "Mcm6\n",
      "This is test ['Orc5', 'Orc6', 'Cdc45', 'Cdc7', 'Dbf4', 'Orc1', 'Orc2', 'Orc3', 'Orc4']\n",
      "This is model ['2700094K13Rik', 'Acaca', 'Actr3', 'Adgre5', 'Ankrd12', 'Arhgef18', 'Arsb', 'Baiap3', 'Bcl6', 'Calm3', 'Cbx5', 'Ccm2', 'Ccnb2', 'Cd244', 'Cd3e', 'Cd48', 'Cd86', 'Cdca2', 'Cdca8', 'Cdt1', 'Cenpe', 'Cep55', 'Cnbp', 'Crip1', 'Ctla2a', 'Dap', 'Ddx39', 'Dennd1c', 'Depdc1a', 'Depdc1b', 'Diaph3', 'Dlgap5', 'Dnajb1', 'Dtl', 'Eif2a', 'Emb', 'Epsti1', 'Ets1', 'Fam105a', 'Fxyd5', 'Fyb', 'H2afv', 'Havcr2', 'Hnrnpd', 'Hsd17b12', 'Kif23', 'Lgals1', 'Lsp1', 'Malat1', 'Mcm4', 'Mcm6', 'Mpp6', 'Nasp', 'Nmi', 'Nol12', 'Nup133', 'Ociad2', 'Park7', 'Parp12', 'Parp9', 'Parpbp', 'Pdcd1', 'Pdgfb', 'Pitpnc1', 'Pmvk', 'Prex1', 'Prr11', 'Ptges3', 'Pydc4', 'Rgs1', 'Rgs16', 'Rnf213', 'Rsbn1', 'S100a6', 'Serbp1', 'Serinc3', 'Setbp1', 'Skap1', 'Sla', 'Smyd2', 'Snx5', 'Spata13', 'Srrm1', 'Tox', 'Trappc1', 'Txn2', 'Ubap2']\n",
      "Tox\n",
      "This is test []\n",
      "This is model ['Add3', 'Adgre5', 'Agpat4', 'Ankrd12', 'Anxa6', 'Arap2', 'Asap1', 'Atp1b3', 'Baz1a', 'Bcl2l11', 'Bzw2', 'Canx', 'Ccnb2', 'Cd47', 'Cd48', 'Cdc25b', 'Cdkn3', 'Cenpe', 'Cenpp', 'Clec2i', 'Cmah', 'Ctla2a', 'Dap', 'Dek', 'Desi2', 'Eed', 'Ezh2', 'Fxyd5', 'Fyb', 'Galnt3', 'Gas7', 'Gimap8', 'Glipr2', 'Gna15', 'Gspt1', 'H2afv', 'Hells', 'Hjurp', 'Hopx', 'Hsp90ab1', 'Ifi35', 'Ifngr1', 'Il2ra', 'Incenp', 'Irf2', 'Itga1', 'Lgals1', 'Lgals3', 'Litaf', 'Maoa', 'Mcm3', 'Mrps28', 'Mx1', 'Naa15', 'Naa50', 'Nfkbia', 'Nuf2', 'Oas1a', 'Pdcd1', 'Pecam1', 'Phf11b', 'Pim1', 'Pitpnc1', 'Plac8', 'Polr2f', 'Ppp1r12a', 'Prdx4', 'Prim1', 'Prpf40a', 'Rap1gap2', 'Rbbp8', 'Rcc1', 'Rcl1', 'Rel', 'Rexo2', 'Rif1', 'Rilpl2', 'Rpp30', 'Rps2', 'Rtp4', 'S100a6', 'Selplg', 'Serpinb9', 'Sf3b3', 'Sgk1', 'Sidt1', 'Skap1', 'Smchd1', 'Smpdl3b', 'Snx5', 'Ssrp1', 'Suz12', 'Tox', 'Tspan3', 'Uba2']\n"
     ]
    }
   ],
   "source": [
    "# Comparing Data from RegNetWeb\n",
    "\n",
    "predictors = data['predictors'].drop_duplicates().tolist()\n",
    "\n",
    "summary = {}\n",
    "\n",
    "for x in predictors:\n",
    "    t = test[test['regulator_symbol']==x]['target_symbol'].tolist()\n",
    "    d = data[data['predictors']==x]['target'].tolist()\n",
    "    #print(x)\n",
    "    #print('This is test', t)\n",
    "    #print('This is model', d)\n",
    "    s = list(set(t) & set(d))\n",
    "    summary[x]={'total': len(t), 'match': s}"
   ]
  },
  {
   "cell_type": "code",
   "execution_count": 108,
   "id": "working-boundary",
   "metadata": {},
   "outputs": [
    {
     "data": {
      "text/plain": [
       "{'Cdk4': {'total': 0, 'match': []},\n",
       " 'Hif1a': {'total': 109, 'match': ['Pdgfb']},\n",
       " 'Hmgb2': {'total': 0, 'match': []},\n",
       " 'Klf2': {'total': 3, 'match': []},\n",
       " 'Mcm3': {'total': 9, 'match': []},\n",
       " 'Mcm5': {'total': 9, 'match': []},\n",
       " 'Mcm6': {'total': 9, 'match': []},\n",
       " 'Tox': {'total': 0, 'match': []}}"
      ]
     },
     "execution_count": 108,
     "metadata": {},
     "output_type": "execute_result"
    }
   ],
   "source": [
    "summary"
   ]
  },
  {
   "cell_type": "markdown",
   "id": "considered-military",
   "metadata": {},
   "source": [
    "There are no matches. Out of 139 target genes found for ['Cdk4', 'Hif1a', 'Hmgb2', 'Klf2', 'Mcm3', 'Mcm5', 'Mcm6', 'Tox'] there where no matches. "
   ]
  },
  {
   "cell_type": "markdown",
   "id": "improving-italic",
   "metadata": {},
   "source": [
    "Looking at about 700 genes with mean/sd values > 50, there is one match, Pdgfb, with a ratio of -61.66."
   ]
  },
  {
   "cell_type": "code",
   "execution_count": 110,
   "id": "former-wichita",
   "metadata": {
    "scrolled": true
   },
   "outputs": [
    {
     "data": {
      "text/html": [
       "<div>\n",
       "<style scoped>\n",
       "    .dataframe tbody tr th:only-of-type {\n",
       "        vertical-align: middle;\n",
       "    }\n",
       "\n",
       "    .dataframe tbody tr th {\n",
       "        vertical-align: top;\n",
       "    }\n",
       "\n",
       "    .dataframe thead th {\n",
       "        text-align: right;\n",
       "    }\n",
       "</style>\n",
       "<table border=\"1\" class=\"dataframe\">\n",
       "  <thead>\n",
       "    <tr style=\"text-align: right;\">\n",
       "      <th></th>\n",
       "      <th>predictors</th>\n",
       "      <th>target</th>\n",
       "      <th>coefficients</th>\n",
       "    </tr>\n",
       "  </thead>\n",
       "  <tbody>\n",
       "    <tr>\n",
       "      <th>183</th>\n",
       "      <td>Hif1a</td>\n",
       "      <td>Pdgfb</td>\n",
       "      <td>-61.660615</td>\n",
       "    </tr>\n",
       "    <tr>\n",
       "      <th>594</th>\n",
       "      <td>Mcm6</td>\n",
       "      <td>Pdgfb</td>\n",
       "      <td>-70.004292</td>\n",
       "    </tr>\n",
       "  </tbody>\n",
       "</table>\n",
       "</div>"
      ],
      "text/plain": [
       "    predictors target  coefficients\n",
       "183      Hif1a  Pdgfb    -61.660615\n",
       "594       Mcm6  Pdgfb    -70.004292"
      ]
     },
     "execution_count": 110,
     "metadata": {},
     "output_type": "execute_result"
    }
   ],
   "source": [
    "data[data['target']=='Pdgfb']"
   ]
  },
  {
   "cell_type": "markdown",
   "id": "spread-cancer",
   "metadata": {},
   "source": [
    "check coefficients without dividing by the variation -> look at absolutely high variation coefficients\n",
    "final list of avarage coefficients: divide all values by average coefficient -> higher and lower rank..\n",
    "treat coefficients as score to calculate z-scores and get pvalues -> threshold can be significance. "
   ]
  },
  {
   "cell_type": "markdown",
   "id": "variable-stations",
   "metadata": {},
   "source": [
    "# GSEA"
   ]
  },
  {
   "cell_type": "code",
   "execution_count": 113,
   "id": "residential-bahamas",
   "metadata": {},
   "outputs": [],
   "source": [
    "smaller = data.reset_index()"
   ]
  },
  {
   "cell_type": "code",
   "execution_count": 121,
   "id": "greatest-leather",
   "metadata": {},
   "outputs": [],
   "source": [
    "smaller['target'] = [x.upper() for x in smaller['target']]"
   ]
  },
  {
   "cell_type": "code",
   "execution_count": 122,
   "id": "understood-farmer",
   "metadata": {},
   "outputs": [],
   "source": [
    "smaller[['target', 'coefficients']].to_csv('greater50.csv')"
   ]
  },
  {
   "cell_type": "markdown",
   "id": "broad-pacific",
   "metadata": {},
   "source": []
  },
  {
   "cell_type": "markdown",
   "id": "constitutional-glance",
   "metadata": {},
   "source": [
    "# Over representation Analysis ORA"
   ]
  }
 ],
 "metadata": {
  "kernelspec": {
   "display_name": "Python 3",
   "language": "python",
   "name": "python3"
  },
  "language_info": {
   "codemirror_mode": {
    "name": "ipython",
    "version": 3
   },
   "file_extension": ".py",
   "mimetype": "text/x-python",
   "name": "python",
   "nbconvert_exporter": "python",
   "pygments_lexer": "ipython3",
   "version": "3.8.5"
  }
 },
 "nbformat": 4,
 "nbformat_minor": 5
}
