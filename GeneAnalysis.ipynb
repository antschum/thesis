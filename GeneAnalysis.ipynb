{
 "cells": [
  {
   "cell_type": "markdown",
   "id": "rural-assumption",
   "metadata": {},
   "source": [
    "# Does the linear regression make sense?"
   ]
  },
  {
   "cell_type": "code",
   "execution_count": 1,
   "id": "genuine-luxembourg",
   "metadata": {},
   "outputs": [],
   "source": [
    "import pandas as pd\n",
    "import numpy as np\n",
    "import matplotlib as plt\n",
    "import seaborn as sns"
   ]
  },
  {
   "cell_type": "markdown",
   "id": "administrative-picking",
   "metadata": {},
   "source": [
    "## RegNetWeb"
   ]
  },
  {
   "cell_type": "code",
   "execution_count": 142,
   "id": "paperback-asian",
   "metadata": {},
   "outputs": [],
   "source": [
    "# import datasets\n",
    "regnet_regulators = pd.read_csv('regnetworkweb_all8tf.csv')\n",
    "regnet_targets = pd.read_csv('regnet_targets.csv')\n",
    "regnet_all = pd.concat([regnet_regulators, regnet_targets], axis=0)\n",
    "\n",
    "# greater than 100\n",
    "smaller = pd.read_pickle('test_data.pkl')\n",
    "\n",
    "# greater than 50\n",
    "#data = pd.read_pickle('larger_data.pkl')\n",
    "data = pd.read_pickle('p_values.pkl')\n",
    "\n"
   ]
  },
  {
   "cell_type": "code",
   "execution_count": 143,
   "id": "outdoor-country",
   "metadata": {},
   "outputs": [
    {
     "data": {
      "text/html": [
       "<div>\n",
       "<style scoped>\n",
       "    .dataframe tbody tr th:only-of-type {\n",
       "        vertical-align: middle;\n",
       "    }\n",
       "\n",
       "    .dataframe tbody tr th {\n",
       "        vertical-align: top;\n",
       "    }\n",
       "\n",
       "    .dataframe thead th {\n",
       "        text-align: right;\n",
       "    }\n",
       "</style>\n",
       "<table border=\"1\" class=\"dataframe\">\n",
       "  <thead>\n",
       "    <tr style=\"text-align: right;\">\n",
       "      <th></th>\n",
       "      <th>regulator_symbol</th>\n",
       "      <th>regulator_id</th>\n",
       "      <th>target_symbol</th>\n",
       "      <th>target_id</th>\n",
       "      <th>database</th>\n",
       "      <th>evidence</th>\n",
       "      <th>confidence</th>\n",
       "    </tr>\n",
       "  </thead>\n",
       "  <tbody>\n",
       "    <tr>\n",
       "      <th>0</th>\n",
       "      <td>HIF1A</td>\n",
       "      <td>3091</td>\n",
       "      <td>VHL</td>\n",
       "      <td>7428</td>\n",
       "      <td>hprd,kegg</td>\n",
       "      <td>Experimental</td>\n",
       "      <td>High</td>\n",
       "    </tr>\n",
       "    <tr>\n",
       "      <th>1</th>\n",
       "      <td>HIF1A</td>\n",
       "      <td>3091</td>\n",
       "      <td>TGFB3</td>\n",
       "      <td>7043</td>\n",
       "      <td>tred,kegg</td>\n",
       "      <td>Experimental</td>\n",
       "      <td>High</td>\n",
       "    </tr>\n",
       "    <tr>\n",
       "      <th>2</th>\n",
       "      <td>HIF1A</td>\n",
       "      <td>3091</td>\n",
       "      <td>SLC2A1</td>\n",
       "      <td>6513</td>\n",
       "      <td>tred,kegg</td>\n",
       "      <td>Experimental</td>\n",
       "      <td>High</td>\n",
       "    </tr>\n",
       "    <tr>\n",
       "      <th>3</th>\n",
       "      <td>HIF1A</td>\n",
       "      <td>3091</td>\n",
       "      <td>FIGF</td>\n",
       "      <td>2277</td>\n",
       "      <td>tred,kegg</td>\n",
       "      <td>Experimental</td>\n",
       "      <td>High</td>\n",
       "    </tr>\n",
       "    <tr>\n",
       "      <th>4</th>\n",
       "      <td>HIF1A</td>\n",
       "      <td>3091</td>\n",
       "      <td>VHL</td>\n",
       "      <td>7428</td>\n",
       "      <td>tred</td>\n",
       "      <td>Experimental</td>\n",
       "      <td>High</td>\n",
       "    </tr>\n",
       "    <tr>\n",
       "      <th>...</th>\n",
       "      <td>...</td>\n",
       "      <td>...</td>\n",
       "      <td>...</td>\n",
       "      <td>...</td>\n",
       "      <td>...</td>\n",
       "      <td>...</td>\n",
       "      <td>...</td>\n",
       "    </tr>\n",
       "    <tr>\n",
       "      <th>27</th>\n",
       "      <td>ETS1</td>\n",
       "      <td>2113</td>\n",
       "      <td>CDK4</td>\n",
       "      <td>1019</td>\n",
       "      <td>kegg</td>\n",
       "      <td>Experimental</td>\n",
       "      <td>High</td>\n",
       "    </tr>\n",
       "    <tr>\n",
       "      <th>28</th>\n",
       "      <td>CSDA</td>\n",
       "      <td>8531</td>\n",
       "      <td>CDK4</td>\n",
       "      <td>1019</td>\n",
       "      <td>kegg</td>\n",
       "      <td>Experimental</td>\n",
       "      <td>High</td>\n",
       "    </tr>\n",
       "    <tr>\n",
       "      <th>29</th>\n",
       "      <td>RB1</td>\n",
       "      <td>5925</td>\n",
       "      <td>CDK4</td>\n",
       "      <td>1019</td>\n",
       "      <td>hprd,kegg</td>\n",
       "      <td>Experimental</td>\n",
       "      <td>High</td>\n",
       "    </tr>\n",
       "    <tr>\n",
       "      <th>30</th>\n",
       "      <td>RBL1</td>\n",
       "      <td>5933</td>\n",
       "      <td>CDK4</td>\n",
       "      <td>1019</td>\n",
       "      <td>hprd,kegg</td>\n",
       "      <td>Experimental</td>\n",
       "      <td>High</td>\n",
       "    </tr>\n",
       "    <tr>\n",
       "      <th>31</th>\n",
       "      <td>RBL2</td>\n",
       "      <td>5934</td>\n",
       "      <td>CDK4</td>\n",
       "      <td>1019</td>\n",
       "      <td>kegg</td>\n",
       "      <td>Experimental</td>\n",
       "      <td>High</td>\n",
       "    </tr>\n",
       "  </tbody>\n",
       "</table>\n",
       "<p>171 rows × 7 columns</p>\n",
       "</div>"
      ],
      "text/plain": [
       "   regulator_symbol  regulator_id target_symbol target_id   database  \\\n",
       "0             HIF1A          3091           VHL      7428  hprd,kegg   \n",
       "1             HIF1A          3091         TGFB3      7043  tred,kegg   \n",
       "2             HIF1A          3091        SLC2A1      6513  tred,kegg   \n",
       "3             HIF1A          3091          FIGF      2277  tred,kegg   \n",
       "4             HIF1A          3091           VHL      7428       tred   \n",
       "..              ...           ...           ...       ...        ...   \n",
       "27             ETS1          2113          CDK4      1019       kegg   \n",
       "28             CSDA          8531          CDK4      1019       kegg   \n",
       "29              RB1          5925          CDK4      1019  hprd,kegg   \n",
       "30             RBL1          5933          CDK4      1019  hprd,kegg   \n",
       "31             RBL2          5934          CDK4      1019       kegg   \n",
       "\n",
       "        evidence confidence  \n",
       "0   Experimental       High  \n",
       "1   Experimental       High  \n",
       "2   Experimental       High  \n",
       "3   Experimental       High  \n",
       "4   Experimental       High  \n",
       "..           ...        ...  \n",
       "27  Experimental       High  \n",
       "28  Experimental       High  \n",
       "29  Experimental       High  \n",
       "30  Experimental       High  \n",
       "31  Experimental       High  \n",
       "\n",
       "[171 rows x 7 columns]"
      ]
     },
     "execution_count": 143,
     "metadata": {},
     "output_type": "execute_result"
    }
   ],
   "source": [
    "regnet_all"
   ]
  },
  {
   "cell_type": "code",
   "execution_count": 144,
   "id": "indirect-shelf",
   "metadata": {},
   "outputs": [],
   "source": [
    "# capitalize first letter\n",
    "regnet_all['regulator_symbol'] = [x.capitalize() for x in regnet_all['regulator_symbol']]\n",
    "regnet_all['target_symbol'] = [x.capitalize() for x in regnet_all['target_symbol']]"
   ]
  },
  {
   "cell_type": "code",
   "execution_count": 145,
   "id": "colored-count",
   "metadata": {},
   "outputs": [
    {
     "data": {
      "text/html": [
       "<div>\n",
       "<style scoped>\n",
       "    .dataframe tbody tr th:only-of-type {\n",
       "        vertical-align: middle;\n",
       "    }\n",
       "\n",
       "    .dataframe tbody tr th {\n",
       "        vertical-align: top;\n",
       "    }\n",
       "\n",
       "    .dataframe thead th {\n",
       "        text-align: right;\n",
       "    }\n",
       "</style>\n",
       "<table border=\"1\" class=\"dataframe\">\n",
       "  <thead>\n",
       "    <tr style=\"text-align: right;\">\n",
       "      <th></th>\n",
       "      <th>predictors</th>\n",
       "      <th>coefficients</th>\n",
       "      <th>target</th>\n",
       "      <th>p_values</th>\n",
       "    </tr>\n",
       "  </thead>\n",
       "  <tbody>\n",
       "    <tr>\n",
       "      <th>42</th>\n",
       "      <td>Mcm3</td>\n",
       "      <td>0.024322</td>\n",
       "      <td>1110004E09Rik</td>\n",
       "      <td>0.037800</td>\n",
       "    </tr>\n",
       "    <tr>\n",
       "      <th>61</th>\n",
       "      <td>Mcm6</td>\n",
       "      <td>0.190814</td>\n",
       "      <td>1110004E09Rik</td>\n",
       "      <td>0.035029</td>\n",
       "    </tr>\n",
       "    <tr>\n",
       "      <th>81</th>\n",
       "      <td>Cdk4</td>\n",
       "      <td>-0.029327</td>\n",
       "      <td>1500009L16Rik</td>\n",
       "      <td>0.047847</td>\n",
       "    </tr>\n",
       "    <tr>\n",
       "      <th>159</th>\n",
       "      <td>Tox</td>\n",
       "      <td>0.059393</td>\n",
       "      <td>1500009L16Rik</td>\n",
       "      <td>0.046285</td>\n",
       "    </tr>\n",
       "    <tr>\n",
       "      <th>202</th>\n",
       "      <td>Mcm3</td>\n",
       "      <td>0.077020</td>\n",
       "      <td>1600014C10Rik</td>\n",
       "      <td>0.020605</td>\n",
       "    </tr>\n",
       "    <tr>\n",
       "      <th>...</th>\n",
       "      <td>...</td>\n",
       "      <td>...</td>\n",
       "      <td>...</td>\n",
       "      <td>...</td>\n",
       "    </tr>\n",
       "    <tr>\n",
       "      <th>88590</th>\n",
       "      <td>Klf2</td>\n",
       "      <td>0.006186</td>\n",
       "      <td>Zranb3</td>\n",
       "      <td>0.015451</td>\n",
       "    </tr>\n",
       "    <tr>\n",
       "      <th>88601</th>\n",
       "      <td>Mcm3</td>\n",
       "      <td>0.465177</td>\n",
       "      <td>Zranb3</td>\n",
       "      <td>0.018412</td>\n",
       "    </tr>\n",
       "    <tr>\n",
       "      <th>88618</th>\n",
       "      <td>Mcm5</td>\n",
       "      <td>0.149638</td>\n",
       "      <td>Zranb3</td>\n",
       "      <td>0.019094</td>\n",
       "    </tr>\n",
       "    <tr>\n",
       "      <th>88660</th>\n",
       "      <td>Hmgb2</td>\n",
       "      <td>-0.088547</td>\n",
       "      <td>Zwilch</td>\n",
       "      <td>0.023983</td>\n",
       "    </tr>\n",
       "    <tr>\n",
       "      <th>88693</th>\n",
       "      <td>Mcm5</td>\n",
       "      <td>0.390497</td>\n",
       "      <td>Zwilch</td>\n",
       "      <td>0.041261</td>\n",
       "    </tr>\n",
       "  </tbody>\n",
       "</table>\n",
       "<p>1906 rows × 4 columns</p>\n",
       "</div>"
      ],
      "text/plain": [
       "      predictors  coefficients         target  p_values\n",
       "42          Mcm3      0.024322  1110004E09Rik  0.037800\n",
       "61          Mcm6      0.190814  1110004E09Rik  0.035029\n",
       "81          Cdk4     -0.029327  1500009L16Rik  0.047847\n",
       "159          Tox      0.059393  1500009L16Rik  0.046285\n",
       "202         Mcm3      0.077020  1600014C10Rik  0.020605\n",
       "...          ...           ...            ...       ...\n",
       "88590       Klf2      0.006186         Zranb3  0.015451\n",
       "88601       Mcm3      0.465177         Zranb3  0.018412\n",
       "88618       Mcm5      0.149638         Zranb3  0.019094\n",
       "88660      Hmgb2     -0.088547         Zwilch  0.023983\n",
       "88693       Mcm5      0.390497         Zwilch  0.041261\n",
       "\n",
       "[1906 rows x 4 columns]"
      ]
     },
     "execution_count": 145,
     "metadata": {},
     "output_type": "execute_result"
    }
   ],
   "source": [
    "data"
   ]
  },
  {
   "cell_type": "code",
   "execution_count": 147,
   "id": "elementary-sense",
   "metadata": {},
   "outputs": [],
   "source": [
    "# to work with data\n",
    "data = data.reset_index()"
   ]
  },
  {
   "cell_type": "code",
   "execution_count": null,
   "id": "discrete-nelson",
   "metadata": {},
   "outputs": [],
   "source": [
    "# Curate Data"
   ]
  },
  {
   "cell_type": "code",
   "execution_count": 156,
   "id": "unsigned-audio",
   "metadata": {
    "scrolled": true
   },
   "outputs": [],
   "source": [
    "# Comparing Data from RegNetWeb\n",
    "\n",
    "predictors = data['predictors'].drop_duplicates().tolist()\n",
    "\n",
    "summary = {}\n",
    "\n",
    "for x in predictors:\n",
    "    t = regnet_all[regnet_all['regulator_symbol']==x]['target_symbol'].tolist()\n",
    "    d = data[data['predictors']==x]['target'].tolist()\n",
    "    #print(x)\n",
    "    #print('This is regnet_all', t)\n",
    "    #print('This is model', d)\n",
    "    s = list(set(t) & set(d))\n",
    "    summary[x]={'total': len(t), 'matchP': s}\n",
    "    \n",
    "for x in predictors:\n",
    "    t = regnet_all[regnet_all['target_symbol']==x]['regulator_symbol'].tolist()\n",
    "    d = data[data['predictors']==x]['target'].tolist()\n",
    "    #print(x)\n",
    "    #print('This is regnet_all', t)\n",
    "    #print('This is model', d)\n",
    "    s = list(set(t) & set(d))\n",
    "    summary[x]['total']+= len(t)\n",
    "    summary[x]['matchT']= s"
   ]
  },
  {
   "cell_type": "code",
   "execution_count": 157,
   "id": "working-boundary",
   "metadata": {},
   "outputs": [
    {
     "data": {
      "text/plain": [
       "{'Mcm3': {'total': 14, 'matchP': ['Cdc45'], 'matchT': []},\n",
       " 'Mcm6': {'total': 11, 'matchP': [], 'matchT': []},\n",
       " 'Cdk4': {'total': 11, 'matchP': [], 'matchT': ['Ets1', 'Myc']},\n",
       " 'Tox': {'total': 0, 'matchP': [], 'matchT': []},\n",
       " 'Mcm5': {'total': 13, 'matchP': ['Cdc45'], 'matchT': []},\n",
       " 'Hmgb2': {'total': 1, 'matchP': [], 'matchT': []},\n",
       " 'Klf2': {'total': 3, 'matchP': [], 'matchT': []},\n",
       " 'Hif1a': {'total': 118, 'matchP': ['Hk2', 'Nt5e'], 'matchT': []}}"
      ]
     },
     "execution_count": 157,
     "metadata": {},
     "output_type": "execute_result"
    }
   ],
   "source": [
    "summary"
   ]
  },
  {
   "cell_type": "markdown",
   "id": "considered-military",
   "metadata": {},
   "source": [
    "There are a couple matches.. Out of 139 target genes found for ['Cdk4', 'Hif1a', 'Hmgb2', 'Klf2', 'Mcm3', 'Mcm5', 'Mcm6', 'Tox'] there where 4 matches.."
   ]
  },
  {
   "cell_type": "markdown",
   "id": "appreciated-mother",
   "metadata": {},
   "source": [
    "The following was the one match looking at the ratio. The p-value of this is pretty high though. "
   ]
  },
  {
   "cell_type": "markdown",
   "id": "improving-italic",
   "metadata": {},
   "source": [
    "Looking at about 700 genes with mean/sd values > 50, there is one match, Pdgfb, with a ratio of -61.66."
   ]
  },
  {
   "cell_type": "code",
   "execution_count": 110,
   "id": "former-wichita",
   "metadata": {
    "scrolled": true
   },
   "outputs": [
    {
     "data": {
      "text/html": [
       "<div>\n",
       "<style scoped>\n",
       "    .dataframe tbody tr th:only-of-type {\n",
       "        vertical-align: middle;\n",
       "    }\n",
       "\n",
       "    .dataframe tbody tr th {\n",
       "        vertical-align: top;\n",
       "    }\n",
       "\n",
       "    .dataframe thead th {\n",
       "        text-align: right;\n",
       "    }\n",
       "</style>\n",
       "<table border=\"1\" class=\"dataframe\">\n",
       "  <thead>\n",
       "    <tr style=\"text-align: right;\">\n",
       "      <th></th>\n",
       "      <th>predictors</th>\n",
       "      <th>target</th>\n",
       "      <th>coefficients</th>\n",
       "    </tr>\n",
       "  </thead>\n",
       "  <tbody>\n",
       "    <tr>\n",
       "      <th>183</th>\n",
       "      <td>Hif1a</td>\n",
       "      <td>Pdgfb</td>\n",
       "      <td>-61.660615</td>\n",
       "    </tr>\n",
       "    <tr>\n",
       "      <th>594</th>\n",
       "      <td>Mcm6</td>\n",
       "      <td>Pdgfb</td>\n",
       "      <td>-70.004292</td>\n",
       "    </tr>\n",
       "  </tbody>\n",
       "</table>\n",
       "</div>"
      ],
      "text/plain": [
       "    predictors target  coefficients\n",
       "183      Hif1a  Pdgfb    -61.660615\n",
       "594       Mcm6  Pdgfb    -70.004292"
      ]
     },
     "execution_count": 110,
     "metadata": {},
     "output_type": "execute_result"
    }
   ],
   "source": [
    "data[data['target']=='Pdgfb']"
   ]
  },
  {
   "cell_type": "markdown",
   "id": "spread-cancer",
   "metadata": {},
   "source": [
    "check coefficients without dividing by the variation -> look at absolutely high variation coefficients\n",
    "final list of avarage coefficients: divide all values by average coefficient -> higher and lower rank..\n",
    "treat coefficients as score to calculate z-scores and get pvalues -> threshold can be significance. "
   ]
  },
  {
   "cell_type": "markdown",
   "id": "variable-stations",
   "metadata": {},
   "source": [
    "# GSEA"
   ]
  },
  {
   "cell_type": "code",
   "execution_count": 113,
   "id": "residential-bahamas",
   "metadata": {},
   "outputs": [],
   "source": [
    "smaller = data.reset_index()"
   ]
  },
  {
   "cell_type": "code",
   "execution_count": 121,
   "id": "greatest-leather",
   "metadata": {},
   "outputs": [],
   "source": [
    "smaller['target'] = [x.upper() for x in smaller['target']]"
   ]
  },
  {
   "cell_type": "code",
   "execution_count": 122,
   "id": "understood-farmer",
   "metadata": {},
   "outputs": [],
   "source": [
    "smaller[['target', 'coefficients']].to_csv('greater50.csv')"
   ]
  },
  {
   "cell_type": "markdown",
   "id": "broad-pacific",
   "metadata": {},
   "source": []
  },
  {
   "cell_type": "markdown",
   "id": "constitutional-glance",
   "metadata": {},
   "source": [
    "# Over representation Analysis ORA"
   ]
  }
 ],
 "metadata": {
  "kernelspec": {
   "display_name": "Python 3",
   "language": "python",
   "name": "python3"
  },
  "language_info": {
   "codemirror_mode": {
    "name": "ipython",
    "version": 3
   },
   "file_extension": ".py",
   "mimetype": "text/x-python",
   "name": "python",
   "nbconvert_exporter": "python",
   "pygments_lexer": "ipython3",
   "version": "3.8.5"
  }
 },
 "nbformat": 4,
 "nbformat_minor": 5
}
