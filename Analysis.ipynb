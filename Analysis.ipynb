{
 "cells": [
  {
   "cell_type": "code",
   "execution_count": 18,
   "id": "likely-piano",
   "metadata": {},
   "outputs": [],
   "source": [
    "import scvelo as scv\n",
    "import scanpy as sc\n",
    "import numpy as np\n",
    "import pandas as pd\n",
    "import seaborn as sns\n",
    "import random \n",
    "import pickle\n",
    "import functions as f\n",
    "import matplotlib.pyplot as plt\n",
    "from scipy import stats\n",
    "from sklearn.linear_model import LinearRegression, Lasso\n",
    "from sklearn.model_selection import train_test_split, cross_validate, KFold\n",
    "from sklearn.metrics import explained_variance_score, mean_absolute_error, r2_score, mean_squared_error \n"
   ]
  },
  {
   "cell_type": "code",
   "execution_count": 19,
   "id": "apart-moses",
   "metadata": {},
   "outputs": [],
   "source": [
    "# import 10 fold validation with 160 predictors\n",
    "\n",
    "regression160 = pd.read_pickle('linearRegression160.pkl')\n",
    "regressionScores160 = pd.read_pickle('linearRegressionScores160.pkl')\n",
    "\n",
    "mean_coefficients160 = regression160.pivot_table(index=\"predictors\", columns=\"target\", values=\"coefficients\", aggfunc = np.mean)\n",
    "std_coefficients160 = regression160.pivot_table(index=\"predictors\", columns=\"target\", values=\"coefficients\", aggfunc = np.std)"
   ]
  },
  {
   "cell_type": "code",
   "execution_count": null,
   "id": "indie-organization",
   "metadata": {},
   "outputs": [],
   "source": [
    "# import 10 fold validation with 8 transcription factors\n",
    "\n",
    "regression8 = pd.read_pickle('velocityRegression8.pkl')\n",
    "regressionScores8 = pd.read_pickle('velocityRegressionScores8.pkl')\n",
    "\n",
    "mean_coefficients8 = regression8.pivot_table(index=\"predictors\", columns=\"target\", values=\"coefficients\", aggfunc = np.mean)\n",
    "std_coefficients8 = regression8.pivot_table(index=\"predictors\", columns=\"target\", values=\"coefficients\", aggfunc = np.std)"
   ]
  },
  {
   "cell_type": "code",
   "execution_count": null,
   "id": "fatty-outdoors",
   "metadata": {},
   "outputs": [],
   "source": [
    "# import 10 fold validation ridge regression with 8 tf\n",
    "\n",
    "ridge8 = pd.read_pickle('ridgeRegression8.pkl')\n",
    "ridgeScores8 = pd.read_pickle('ridgeRegressionScores8.pkl')\n",
    "\n",
    "ridge_mean_coefficients8 = ridge8.pivot_table(index=\"predictors\", columns=\"target\", values=\"coefficients\", aggfunc = np.mean)\n",
    "ridge_std_coefficients8 = ridge8.pivot_table(index=\"predictors\", columns=\"target\", values=\"coefficients\", aggfunc = np.std)\n",
    "\n",
    "#ridge_residuals = pd.read_pickle('ridgeResiduals8.pkl')"
   ]
  },
  {
   "cell_type": "code",
   "execution_count": null,
   "id": "intimate-jaguar",
   "metadata": {},
   "outputs": [],
   "source": [
    "# import 10 fold validation lasso regression with 8 tf\n",
    "\n",
    "lasso8 = pd.read_pickle('lassoRegression8.pkl')\n",
    "lassoScores8 = pd.read_pickle('lassoRegressionScores8.pkl')\n",
    "\n",
    "lasso_mean_coefficients8 = lasso8.pivot_table(index=\"predictors\", columns=\"target\", values=\"coefficients\", aggfunc = np.mean)\n",
    "lasso_std_coefficients8 = lasso8.pivot_table(index=\"predictors\", columns=\"target\", values=\"coefficients\", aggfunc = np.std)"
   ]
  },
  {
   "cell_type": "markdown",
   "id": "vital-woman",
   "metadata": {},
   "source": [
    "I started off looking at the data using 8 predictors. The following shows the clustermap of the mean coefficients accross the data from the 10 fold cross validation. "
   ]
  },
  {
   "cell_type": "code",
   "execution_count": null,
   "id": "extra-network",
   "metadata": {
    "scrolled": false
   },
   "outputs": [],
   "source": [
    "l = sns.clustermap(mean_coefficients8, cmap='coolwarm')"
   ]
  },
  {
   "cell_type": "markdown",
   "id": "effective-spectacular",
   "metadata": {},
   "source": [
    "There are some patterns, so the model is not just random. The branch all the way to the right seems to be positively correlated by Mcm5 and negatively correlated by Mcm6. Also noteworthy is the dark area of inner branch in the top right. "
   ]
  },
  {
   "cell_type": "code",
   "execution_count": null,
   "id": "second-sessions",
   "metadata": {},
   "outputs": [],
   "source": [
    "reordered = f.reorder_like_clustermap(std_coefficients8, l)\n",
    "h = sns.heatmap(reordered)"
   ]
  },
  {
   "cell_type": "code",
   "execution_count": null,
   "id": "going-continuity",
   "metadata": {
    "scrolled": true
   },
   "outputs": [],
   "source": [
    "# ridge regression\n",
    "r = sns.clustermap(ridge_mean_coefficients8, cmap='coolwarm')\n",
    "r.savefig('ridge_mean8.pdf')"
   ]
  },
  {
   "cell_type": "code",
   "execution_count": null,
   "id": "invalid-treasury",
   "metadata": {},
   "outputs": [],
   "source": [
    "reordered = f.reorder_like_clustermap(ridge_std_coefficients8, r)\n",
    "sns.heatmap(reordered)"
   ]
  },
  {
   "cell_type": "code",
   "execution_count": null,
   "id": "departmental-breath",
   "metadata": {
    "scrolled": false
   },
   "outputs": [],
   "source": [
    "# lasso regression\n",
    "s = sns.clustermap(lasso_mean_coefficients8, cmap='coolwarm')\n",
    "s.savefig('lasso_mean8')"
   ]
  },
  {
   "cell_type": "code",
   "execution_count": null,
   "id": "earlier-accident",
   "metadata": {},
   "outputs": [],
   "source": [
    "reo = f.reorder_like_clustermap(lasso_std_coefficients8, s)\n",
    "sns.heatmap(reo)"
   ]
  },
  {
   "cell_type": "markdown",
   "id": "recovered-religious",
   "metadata": {},
   "source": [
    "Looking at the clustermap of all 160 predictive genes and 10 fold cross validation, it is very hard to see patterns. I believe that the predictive genes at the top show a little bit more structure but it is difficult to make any conclusions. "
   ]
  },
  {
   "cell_type": "code",
   "execution_count": null,
   "id": "after-rates",
   "metadata": {},
   "outputs": [],
   "source": [
    "s = sns.clustermap(mean_coefficients160, cmap='coolwarm')\n",
    "s.savefig('linear_mean160')"
   ]
  },
  {
   "cell_type": "markdown",
   "id": "bottom-galaxy",
   "metadata": {},
   "source": [
    "I am not sure what to make of the standard deviations. The values are incredibly high in total ? "
   ]
  },
  {
   "cell_type": "code",
   "execution_count": null,
   "id": "champion-appearance",
   "metadata": {
    "scrolled": true
   },
   "outputs": [],
   "source": [
    "sns.clustermap(std_coefficients160, cmap='coolwarm')"
   ]
  },
  {
   "cell_type": "markdown",
   "id": "induced-paris",
   "metadata": {},
   "source": [
    "Lets take a look at the heatmaps of proportions (sum residuals/sum absolute response values)\n",
    "\n",
    "-> if model fits data well -> residuals closer to 0 but sum absolute response values higher -> lower score\n",
    "-> if model does not fit data well -> high residuals (model can be arbitrairily bad) -> higher score\n",
    "\n",
    "--> the lower the score the better the model fits the data"
   ]
  },
  {
   "cell_type": "markdown",
   "id": "exciting-leonard",
   "metadata": {},
   "source": [
    "## maybe order these the same way as the clustermaps.."
   ]
  },
  {
   "cell_type": "markdown",
   "id": "widespread-catalyst",
   "metadata": {},
   "source": [
    "# Mean / SD \n",
    "#### In the following we take a look at large coefficients (large mean) that also have a smaller standard deviation. \n",
    "-> if values are large: large mean comined with small standard deviation\n",
    "-> if values are small: either small mean with large stanard deviation or larger mean with very large standard deviation"
   ]
  },
  {
   "cell_type": "markdown",
   "id": "crazy-retail",
   "metadata": {},
   "source": [
    "!!!plot again on absolute -> dont have to look at two tails\n",
    "compare to confidence of velocity gene predictions "
   ]
  },
  {
   "cell_type": "code",
   "execution_count": 43,
   "id": "corporate-recall",
   "metadata": {},
   "outputs": [
    {
     "data": {
      "text/plain": [
       "<AxesSubplot:xlabel='coefficients', ylabel='Count'>"
      ]
     },
     "execution_count": 43,
     "metadata": {},
     "output_type": "execute_result"
    },
    {
     "data": {
      "image/png": "[encoded data removed]",
      "text/plain": [
       "<Figure size 432x288 with 1 Axes>"
      ]
     },
     "metadata": {
      "needs_background": "light"
     },
     "output_type": "display_data"
    }
   ],
   "source": [
    "mean = regression8.groupby(['target', 'predictors']).coefficients.mean()\n",
    "std = regression8.groupby(['target', 'predictors']).coefficients.std()\n",
    "sns.histplot(mean/std)"
   ]
  },
  {
   "cell_type": "code",
   "execution_count": 25,
   "id": "straight-reference",
   "metadata": {
    "scrolled": true
   },
   "outputs": [],
   "source": [
    "msl = mean/std"
   ]
  },
  {
   "cell_type": "code",
   "execution_count": 26,
   "id": "australian-sigma",
   "metadata": {
    "scrolled": true
   },
   "outputs": [
    {
     "data": {
      "text/plain": [
       "target  predictors\n",
       "Cbx5    Mcm6          167.099848\n",
       "Rps2    Tox           157.263492\n",
       "Malat1  Mcm6          147.913842\n",
       "Fxyd5   Hmgb2         144.109447\n",
       "Tox     Hif1a         142.932612\n",
       "Ifngr1  Tox           139.749956\n",
       "Fxyd5   Mcm6          128.938657\n",
       "Hp1bp3  Cdk4          124.963360\n",
       "Mcm4    Cdk4          121.910946\n",
       "Il23r   Hif1a         116.459367\n",
       "Name: coefficients, dtype: float64"
      ]
     },
     "execution_count": 26,
     "metadata": {},
     "output_type": "execute_result"
    }
   ],
   "source": [
    "msl.nlargest(10)"
   ]
  },
  {
   "cell_type": "code",
   "execution_count": 27,
   "id": "unusual-production",
   "metadata": {
    "scrolled": false
   },
   "outputs": [
    {
     "data": {
      "text/plain": [
       "target    predictors\n",
       "Rasgrp2   Klf2         -311.220772\n",
       "Lsp1      Mcm6         -225.610417\n",
       "Rrm1      Hmgb2        -222.507507\n",
       "Tk1       Hmgb2        -190.215090\n",
       "Anp32e    Hmgb2        -190.208367\n",
       "Ptma      Hmgb2        -181.273951\n",
       "Hsp90ab1  Hif1a        -176.193638\n",
       "Tox       Klf2         -170.282911\n",
       "          Tox          -159.212917\n",
       "S100a6    Klf2         -154.466035\n",
       "Name: coefficients, dtype: float64"
      ]
     },
     "execution_count": 27,
     "metadata": {},
     "output_type": "execute_result"
    }
   ],
   "source": [
    "msl.nsmallest(10)"
   ]
  },
  {
   "cell_type": "markdown",
   "id": "proud-bangkok",
   "metadata": {},
   "source": [
    "# Proportions of residuals"
   ]
  },
  {
   "cell_type": "markdown",
   "id": "lined-excellence",
   "metadata": {},
   "source": [
    "## Ridge regression"
   ]
  },
  {
   "cell_type": "code",
   "execution_count": 41,
   "id": "legitimate-phenomenon",
   "metadata": {
    "scrolled": true
   },
   "outputs": [
    {
     "data": {
      "text/plain": [
       "<AxesSubplot:>"
      ]
     },
     "execution_count": 41,
     "metadata": {},
     "output_type": "execute_result"
    },
    {
     "data": {
      "image/png": "[encoded data removed]",
      "text/plain": [
       "<Figure size 432x288 with 2 Axes>"
      ]
     },
     "metadata": {
      "needs_background": "light"
     },
     "output_type": "display_data"
    }
   ],
   "source": [
    "# residuals ridge\n",
    "sns.heatmap(np.matrix(ridgeScores8.groupby('target').test_proportion.mean().tolist()))"
   ]
  },
  {
   "cell_type": "code",
   "execution_count": 42,
   "id": "social-healing",
   "metadata": {
    "scrolled": false
   },
   "outputs": [
    {
     "name": "stdout",
     "output_type": "stream",
     "text": [
      "This is the mean: 0.95653684592333\n"
     ]
    },
    {
     "data": {
      "image/png": "[encoded data removed]",
      "text/plain": [
       "<Figure size 432x288 with 1 Axes>"
      ]
     },
     "metadata": {
      "needs_background": "light"
     },
     "output_type": "display_data"
    }
   ],
   "source": [
    "sns.histplot(ridgeScores8['test_proportion'])\n",
    "print('This is the mean:',np.mean(ridgeScores8['test_proportion']))"
   ]
  },
  {
   "cell_type": "code",
   "execution_count": null,
   "id": "drawn-sword",
   "metadata": {},
   "outputs": [],
   "source": []
  },
  {
   "cell_type": "code",
   "execution_count": null,
   "id": "signal-frame",
   "metadata": {},
   "outputs": [],
   "source": [
    "mean = regression8.groupby(['target', 'predictors']).coefficients.mean()\n",
    "std = regression8.groupby(['target', 'predictors']).coefficients.std()\n",
    "sns.histplot(mean/std)"
   ]
  },
  {
   "cell_type": "code",
   "execution_count": null,
   "id": "wanted-dancing",
   "metadata": {
    "scrolled": true
   },
   "outputs": [],
   "source": [
    "ms = mean/std\n"
   ]
  },
  {
   "cell_type": "code",
   "execution_count": null,
   "id": "complimentary-thing",
   "metadata": {
    "scrolled": true
   },
   "outputs": [],
   "source": [
    "ms.nlargest(10)"
   ]
  },
  {
   "cell_type": "code",
   "execution_count": null,
   "id": "original-relaxation",
   "metadata": {},
   "outputs": [],
   "source": []
  },
  {
   "cell_type": "code",
   "execution_count": null,
   "id": "australian-chase",
   "metadata": {
    "scrolled": false
   },
   "outputs": [],
   "source": [
    "ms.nsmallest(10)"
   ]
  },
  {
   "cell_type": "code",
   "execution_count": 52,
   "id": "annoying-tractor",
   "metadata": {},
   "outputs": [
    {
     "data": {
      "text/html": [
       "<div>\n",
       "<style scoped>\n",
       "    .dataframe tbody tr th:only-of-type {\n",
       "        vertical-align: middle;\n",
       "    }\n",
       "\n",
       "    .dataframe tbody tr th {\n",
       "        vertical-align: top;\n",
       "    }\n",
       "\n",
       "    .dataframe thead th {\n",
       "        text-align: right;\n",
       "    }\n",
       "</style>\n",
       "<table border=\"1\" class=\"dataframe\">\n",
       "  <thead>\n",
       "    <tr style=\"text-align: right;\">\n",
       "      <th></th>\n",
       "      <th>estimator</th>\n",
       "      <th>test_r2</th>\n",
       "      <th>train_r2</th>\n",
       "      <th>test_neg_mean_squared_error</th>\n",
       "      <th>train_neg_mean_squared_error</th>\n",
       "      <th>test_proportion</th>\n",
       "      <th>train_proportion</th>\n",
       "      <th>target</th>\n",
       "    </tr>\n",
       "  </thead>\n",
       "  <tbody>\n",
       "    <tr>\n",
       "      <th>9</th>\n",
       "      <td>Ridge()</td>\n",
       "      <td>0.627312</td>\n",
       "      <td>0.608711</td>\n",
       "      <td>-0.378421</td>\n",
       "      <td>-0.390550</td>\n",
       "      <td>0.579740</td>\n",
       "      <td>0.599100</td>\n",
       "      <td>Rasgrp2</td>\n",
       "    </tr>\n",
       "    <tr>\n",
       "      <th>7</th>\n",
       "      <td>Ridge()</td>\n",
       "      <td>0.609187</td>\n",
       "      <td>0.610776</td>\n",
       "      <td>-0.387985</td>\n",
       "      <td>-0.389499</td>\n",
       "      <td>0.588858</td>\n",
       "      <td>0.598153</td>\n",
       "      <td>Rasgrp2</td>\n",
       "    </tr>\n",
       "    <tr>\n",
       "      <th>6</th>\n",
       "      <td>Ridge()</td>\n",
       "      <td>0.625281</td>\n",
       "      <td>0.608800</td>\n",
       "      <td>-0.401087</td>\n",
       "      <td>-0.388102</td>\n",
       "      <td>0.589777</td>\n",
       "      <td>0.597743</td>\n",
       "      <td>Rasgrp2</td>\n",
       "    </tr>\n",
       "    <tr>\n",
       "      <th>3</th>\n",
       "      <td>Ridge()</td>\n",
       "      <td>0.612265</td>\n",
       "      <td>0.610411</td>\n",
       "      <td>-0.403482</td>\n",
       "      <td>-0.387792</td>\n",
       "      <td>0.589777</td>\n",
       "      <td>0.597635</td>\n",
       "      <td>Rasgrp2</td>\n",
       "    </tr>\n",
       "    <tr>\n",
       "      <th>4</th>\n",
       "      <td>Ridge()</td>\n",
       "      <td>0.612139</td>\n",
       "      <td>0.610435</td>\n",
       "      <td>-0.373032</td>\n",
       "      <td>-0.391174</td>\n",
       "      <td>0.593465</td>\n",
       "      <td>0.597569</td>\n",
       "      <td>Rasgrp2</td>\n",
       "    </tr>\n",
       "    <tr>\n",
       "      <th>1</th>\n",
       "      <td>Ridge()</td>\n",
       "      <td>0.615683</td>\n",
       "      <td>0.610060</td>\n",
       "      <td>-0.385809</td>\n",
       "      <td>-0.389740</td>\n",
       "      <td>0.593573</td>\n",
       "      <td>0.597852</td>\n",
       "      <td>Rasgrp2</td>\n",
       "    </tr>\n",
       "    <tr>\n",
       "      <th>2</th>\n",
       "      <td>Ridge()</td>\n",
       "      <td>0.610881</td>\n",
       "      <td>0.610608</td>\n",
       "      <td>-0.390526</td>\n",
       "      <td>-0.389202</td>\n",
       "      <td>0.598641</td>\n",
       "      <td>0.596958</td>\n",
       "      <td>Rasgrp2</td>\n",
       "    </tr>\n",
       "    <tr>\n",
       "      <th>5</th>\n",
       "      <td>Ridge()</td>\n",
       "      <td>0.593179</td>\n",
       "      <td>0.612540</td>\n",
       "      <td>-0.411996</td>\n",
       "      <td>-0.386820</td>\n",
       "      <td>0.607374</td>\n",
       "      <td>0.596243</td>\n",
       "      <td>Rasgrp2</td>\n",
       "    </tr>\n",
       "    <tr>\n",
       "      <th>0</th>\n",
       "      <td>Ridge()</td>\n",
       "      <td>0.606362</td>\n",
       "      <td>0.611039</td>\n",
       "      <td>-0.364463</td>\n",
       "      <td>-0.392123</td>\n",
       "      <td>0.616586</td>\n",
       "      <td>0.595532</td>\n",
       "      <td>Rasgrp2</td>\n",
       "    </tr>\n",
       "    <tr>\n",
       "      <th>8</th>\n",
       "      <td>Ridge()</td>\n",
       "      <td>0.585311</td>\n",
       "      <td>0.613340</td>\n",
       "      <td>-0.401914</td>\n",
       "      <td>-0.387951</td>\n",
       "      <td>0.619226</td>\n",
       "      <td>0.594930</td>\n",
       "      <td>Rasgrp2</td>\n",
       "    </tr>\n",
       "  </tbody>\n",
       "</table>\n",
       "</div>"
      ],
      "text/plain": [
       "  estimator   test_r2  train_r2  test_neg_mean_squared_error  \\\n",
       "9   Ridge()  0.627312  0.608711                    -0.378421   \n",
       "7   Ridge()  0.609187  0.610776                    -0.387985   \n",
       "6   Ridge()  0.625281  0.608800                    -0.401087   \n",
       "3   Ridge()  0.612265  0.610411                    -0.403482   \n",
       "4   Ridge()  0.612139  0.610435                    -0.373032   \n",
       "1   Ridge()  0.615683  0.610060                    -0.385809   \n",
       "2   Ridge()  0.610881  0.610608                    -0.390526   \n",
       "5   Ridge()  0.593179  0.612540                    -0.411996   \n",
       "0   Ridge()  0.606362  0.611039                    -0.364463   \n",
       "8   Ridge()  0.585311  0.613340                    -0.401914   \n",
       "\n",
       "   train_neg_mean_squared_error  test_proportion  train_proportion   target  \n",
       "9                     -0.390550         0.579740          0.599100  Rasgrp2  \n",
       "7                     -0.389499         0.588858          0.598153  Rasgrp2  \n",
       "6                     -0.388102         0.589777          0.597743  Rasgrp2  \n",
       "3                     -0.387792         0.589777          0.597635  Rasgrp2  \n",
       "4                     -0.391174         0.593465          0.597569  Rasgrp2  \n",
       "1                     -0.389740         0.593573          0.597852  Rasgrp2  \n",
       "2                     -0.389202         0.598641          0.596958  Rasgrp2  \n",
       "5                     -0.386820         0.607374          0.596243  Rasgrp2  \n",
       "0                     -0.392123         0.616586          0.595532  Rasgrp2  \n",
       "8                     -0.387951         0.619226          0.594930  Rasgrp2  "
      ]
     },
     "execution_count": 52,
     "metadata": {},
     "output_type": "execute_result"
    }
   ],
   "source": [
    "ridgeScores8.sort_values(\"test_proportion\")[:10]"
   ]
  },
  {
   "cell_type": "markdown",
   "id": "harmful-expression",
   "metadata": {},
   "source": [
    "## Linear Regression "
   ]
  },
  {
   "cell_type": "code",
   "execution_count": 44,
   "id": "minimal-preview",
   "metadata": {
    "scrolled": false
   },
   "outputs": [
    {
     "data": {
      "text/plain": [
       "<AxesSubplot:>"
      ]
     },
     "execution_count": 44,
     "metadata": {},
     "output_type": "execute_result"
    },
    {
     "data": {
      "image/png": "[encoded data removed]",
      "text/plain": [
       "<Figure size 432x288 with 2 Axes>"
      ]
     },
     "metadata": {
      "needs_background": "light"
     },
     "output_type": "display_data"
    }
   ],
   "source": [
    "# residuals ridge\n",
    "sns.heatmap(np.matrix(regressionScores8.groupby('target').test_proportion.mean().tolist()))"
   ]
  },
  {
   "cell_type": "code",
   "execution_count": 45,
   "id": "pursuant-applicant",
   "metadata": {
    "scrolled": false
   },
   "outputs": [
    {
     "name": "stdout",
     "output_type": "stream",
     "text": [
      "This is the mean: 0.9565557135022149\n"
     ]
    },
    {
     "data": {
      "image/png": "[encoded data removed]",
      "text/plain": [
       "<Figure size 432x288 with 1 Axes>"
      ]
     },
     "metadata": {
      "needs_background": "light"
     },
     "output_type": "display_data"
    }
   ],
   "source": [
    "sns.histplot(regressionScores8['test_proportion'])\n",
    "print('This is the mean:',np.mean(regressionScores8['test_proportion']))"
   ]
  },
  {
   "cell_type": "markdown",
   "id": "surface-choice",
   "metadata": {},
   "source": [
    "## Lasso alpha = 0.000013\n",
    "This does not work since I have not been able to generate the data. The kernel keeps getting killed. "
   ]
  },
  {
   "cell_type": "code",
   "execution_count": 47,
   "id": "geological-conditions",
   "metadata": {
    "scrolled": true
   },
   "outputs": [],
   "source": [
    "# residuals ridge\n",
    "sns.heatmap(np.matrix(lassoScores8.groupby('target').test_proportion.mean().tolist()))"
   ]
  },
  {
   "cell_type": "code",
   "execution_count": null,
   "id": "finnish-joint",
   "metadata": {
    "scrolled": false
   },
   "outputs": [],
   "source": [
    "sns.histplot(lassoScores8['test_proportion'])\n",
    "print('This is the mean:',np.mean(lassoScores8['test_proportion']))"
   ]
  }
 ],
 "metadata": {
  "kernelspec": {
   "display_name": "Python 3",
   "language": "python",
   "name": "python3"
  },
  "language_info": {
   "codemirror_mode": {
    "name": "ipython",
    "version": 3
   },
   "file_extension": ".py",
   "mimetype": "text/x-python",
   "name": "python",
   "nbconvert_exporter": "python",
   "pygments_lexer": "ipython3",
   "version": "3.8.5"
  }
 },
 "nbformat": 4,
 "nbformat_minor": 5
}
